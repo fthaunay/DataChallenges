{
 "cells": [
  {
   "cell_type": "code",
   "execution_count": 3,
   "metadata": {
    "collapsed": false
   },
   "outputs": [],
   "source": [
    "text = \"\"\"\n",
    "Étrange paradoxe, qui fait l'aumône ? Donnant leur véritable prix aux choses ; et dans une même volière ; cette circonstance doit,d'après tes écrits, que ce rival n'est pas normal, dit-il pensivement. Tais-toi donc, mauvaise gale ! Personne, par hasard ; l'implacabilité de ce visage rayonnant et loyal, ce n'étaient que de bons désirs de les reconnaître, ainsi changés... Procès-verbal de gens de mon âge. Outrecuidance qui lui vaudrait la bastonnade, si vous savez, celle que j'éprouvais en ce moment des ennuis, consentit à consacrer exclusivement son temps et ramassait ses forces. Misères que tout cela veut dire qu'on prie en société de pensées avec quelqu'un, mais quand il connut cet accroissement du service d'ordre, mais je parle des anciennes frairies, ce n'est la sensibilité. Venger un crime est toujours une ennemie de moins. \n",
    "Frappée par la foudre, elle demeura là, sourd à la voix ambiguë, et pour en faire quatre autres bien faites, et cela vous ferait trop de peine. Sensations : de grande beauté, et le major commença à espérer que, pour rendre la chute inévitable. Instantanément elle avait rejeté la race de ces créatures. Presque au même instant ce quelque chose a été faite l'assiette de petits gâteaux circulaient familièrement. Paralysé de terreur, gardait son parfum d'amour monstrueux, sa douceur vicieuse de fleur blonde. Lui-même faisait des pronostics et, si j'eusse été sa fille ; et de là vient que les bêtes. Danger de mort, ciselées dans de l'eau avait à la fois une lance, une hache au côté droit de l'administrer, mais il résista à toutes les femmes de sa cour. Souhaitez-vous l'entendre en parlant à la nuit, et déclara qu'elle y aurait été fait à la pauvre fille !\"\n",
    "\n",
    "\"\"\" "
   ]
  },
  {
   "cell_type": "code",
   "execution_count": 4,
   "metadata": {
    "collapsed": false
   },
   "outputs": [
    {
     "name": "stdout",
     "output_type": "stream",
     "text": [
      "\n",
      "Étrange paradoxe, qui fait l'aumône ? Donnant leur véritable prix aux choses ; et dans une même volière ; cette circonstance doit,d'après tes écrits, que ce rival n'est pas normal, dit-il pensivement. Tais-toi donc, mauvaise gale ! Personne, par hasard ; l'implacabilité de ce visage rayonnant et loyal, ce n'étaient que de bons désirs de les reconnaître, ainsi changés... Procès-verbal de gens de mon âge. Outrecuidance qui lui vaudrait la bastonnade, si vous savez, celle que j'éprouvais en ce moment des ennuis, consentit à consacrer exclusivement son temps et ramassait ses forces. Misères que tout cela veut dire qu'on prie en société de pensées avec quelqu'un, mais quand il connut cet accroissement du service d'ordre, mais je parle des anciennes frairies, ce n'est la sensibilité. Venger un crime est toujours une ennemie de moins. \n",
      "Frappée par la foudre, elle demeura là, sourd à la voix ambiguë, et pour en faire quatre autres bien faites, et cela vous ferait trop de peine. Sensations : de grande beauté, et le major commença à espérer que, pour rendre la chute inévitable. Instantanément elle avait rejeté la race de ces créatures. Presque au même instant ce quelque chose a été faite l'assiette de petits gâteaux circulaient familièrement. Paralysé de terreur, gardait son parfum d'amour monstrueux, sa douceur vicieuse de fleur blonde. Lui-même faisait des pronostics et, si j'eusse été sa fille ; et de là vient que les bêtes. Danger de mort, ciselées dans de l'eau avait à la fois une lance, une hache au côté droit de l'administrer, mais il résista à toutes les femmes de sa cour. Souhaitez-vous l'entendre en parlant à la nuit, et déclara qu'elle y aurait été fait à la pauvre fille !\"\n",
      "\n",
      "\n"
     ]
    }
   ],
   "source": [
    "print text"
   ]
  },
  {
   "cell_type": "code",
   "execution_count": 5,
   "metadata": {
    "collapsed": false
   },
   "outputs": [
    {
     "name": "stdout",
     "output_type": "stream",
     "text": [
      "{'confidence': 0.99, 'encoding': 'utf-8'}\n"
     ]
    }
   ],
   "source": [
    "import chardet\n",
    "print chardet.detect(text)"
   ]
  },
  {
   "cell_type": "code",
   "execution_count": 6,
   "metadata": {
    "collapsed": false
   },
   "outputs": [
    {
     "data": {
      "text/plain": [
       "u'\\nEtrange paradoxe, qui fait l\\'aumone ? Donnant leur veritable prix aux choses ; et dans une meme voliere ; cette circonstance doit,d\\'apres tes ecrits, que ce rival n\\'est pas normal, dit-il pensivement. Tais-toi donc, mauvaise gale ! Personne, par hasard ; l\\'implacabilite de ce visage rayonnant et loyal, ce n\\'etaient que de bons desirs de les reconnaitre, ainsi changes... Proces-verbal de gens de mon age. Outrecuidance qui lui vaudrait la bastonnade, si vous savez, celle que j\\'eprouvais en ce moment des ennuis, consentit a consacrer exclusivement son temps et ramassait ses forces. Miseres que tout cela veut dire qu\\'on prie en societe de pensees avec quelqu\\'un, mais quand il connut cet accroissement du service d\\'ordre, mais je parle des anciennes frairies, ce n\\'est la sensibilite. Venger un crime est toujours une ennemie de moins. \\nFrappee par la foudre, elle demeura la, sourd a la voix ambigue, et pour en faire quatre autres bien faites, et cela vous ferait trop de peine. Sensations : de grande beaute, et le major commenca a esperer que, pour rendre la chute inevitable. Instantanement elle avait rejete la race de ces creatures. Presque au meme instant ce quelque chose a ete faite l\\'assiette de petits gateaux circulaient familierement. Paralyse de terreur, gardait son parfum d\\'amour monstrueux, sa douceur vicieuse de fleur blonde. Lui-meme faisait des pronostics et, si j\\'eusse ete sa fille ; et de la vient que les betes. Danger de mort, ciselees dans de l\\'eau avait a la fois une lance, une hache au cote droit de l\\'administrer, mais il resista a toutes les femmes de sa cour. Souhaitez-vous l\\'entendre en parlant a la nuit, et declara qu\\'elle y aurait ete fait a la pauvre fille !\"\\n\\n'"
      ]
     },
     "execution_count": 6,
     "metadata": {},
     "output_type": "execute_result"
    }
   ],
   "source": [
    "import unicodedata\n",
    "# on decode le texte de UTF-8 vers unicode, puis on le réencode en ASCII (le \"É\" est transformé en \"E\" ),\n",
    "# et enfin on redécode vers unicode\n",
    "text = unicodedata.normalize(\"NFKD\", text.decode(\"UTF-8\")).encode(\"ASCII\", 'ignore').decode(\"ASCII\")\n",
    "text"
   ]
  },
  {
   "cell_type": "code",
   "execution_count": 7,
   "metadata": {
    "collapsed": false
   },
   "outputs": [],
   "source": [
    "text = text.lower()"
   ]
  },
  {
   "cell_type": "code",
   "execution_count": 8,
   "metadata": {
    "collapsed": false
   },
   "outputs": [
    {
     "name": "stdout",
     "output_type": "stream",
     "text": [
      "rr  )  \n"
     ]
    }
   ],
   "source": [
    "str = u\"rr..) ?\";\n",
    "for symbol in str :\n",
    "    if unicodedata.category(symbol) in [\"Po\",\"Zs\"]:\n",
    "        str = str.encode('UTF-8').replace(symbol, \" \")\n",
    "print str "
   ]
  },
  {
   "cell_type": "markdown",
   "metadata": {},
   "source": [
    "[Cc]\tOther, Control\n",
    "[Cf]\tOther, Format\n",
    "[Cn]\tOther, Not Assigned (no characters in the file have this property)\n",
    "[Co]\tOther, Private Use\n",
    "[Cs]\tOther, Surrogate\n",
    "[LC]\tLetter, Cased\n",
    "[Ll]\tLetter, Lowercase\n",
    "[Lm]\tLetter, Modifier\n",
    "[Lo]\tLetter, Other\n",
    "[Lt]\tLetter, Titlecase\n",
    "[Lu]\tLetter, Uppercase\n",
    "[Mc]\tMark, Spacing Combining\n",
    "[Me]\tMark, Enclosing\n",
    "[Mn]\tMark, Nonspacing\n",
    "[Nd]\tNumber, Decimal Digit\n",
    "[Nl]\tNumber, Letter\n",
    "[No]\tNumber, Other\n",
    "[Pc]\tPunctuation, Connector\n",
    "[Pd]\tPunctuation, Dash\n",
    "[Pe]\tPunctuation, Close\n",
    "[Pf]\tPunctuation, Final quote (may behave like Ps or Pe depending on usage)\n",
    "[Pi]\tPunctuation, Initial quote (may behave like Ps or Pe depending on usage)\n",
    "[Po]\tPunctuation, Other\n",
    "[Ps]\tPunctuation, Open\n",
    "[Sc]\tSymbol, Currency\n",
    "[Sk]\tSymbol, Modifier\n",
    "[Sm]\tSymbol, Math\n",
    "[So]\tSymbol, Other\n",
    "[Zl]\tSeparator, Line\n",
    "[Zp]\tSeparator, Paragraph\n",
    "[Zs]\tSeparator, Space"
   ]
  },
  {
   "cell_type": "code",
   "execution_count": 54,
   "metadata": {
    "collapsed": false
   },
   "outputs": [
    {
     "data": {
      "text/plain": [
       "u' etrange paradoxe  qui fait l aumone   donnant leur veritable prix aux choses   et dans une meme voliere   cette circonstance doit d apres tes ecrits  que ce rival n est pas normal  dit il pensivement  tais toi donc  mauvaise gale   personne  par hasard   l implacabilite de ce visage rayonnant et loyal  ce n etaient que de bons desirs de les reconnaitre  ainsi changes    proces verbal de gens de mon age  outrecuidance qui lui vaudrait la bastonnade  si vous savez  celle que j eprouvais en ce moment des ennuis  consentit a consacrer exclusivement son temps et ramassait ses forces  miseres que tout cela veut dire qu on prie en societe de pensees avec quelqu un  mais quand il connut cet accroissement du service d ordre  mais je parle des anciennes frairies  ce n est la sensibilite  venger un crime est toujours une ennemie de moins   frappee par la foudre  elle demeura la  sourd a la voix ambigue  et pour en faire quatre autres bien faites  et cela vous ferait trop de peine  sensations   de grande beaute  et le major commenca a esperer que  pour rendre la chute inevitable  instantanement elle avait rejete la race de ces creatures  presque au meme instant ce quelque chose a ete faite l assiette de petits gateaux circulaient familierement  paralyse de terreur  gardait son parfum d amour monstrueux  sa douceur vicieuse de fleur blonde  lui meme faisait des pronostics et  si j eusse ete sa fille   et de la vient que les betes  danger de mort  ciselees dans de l eau avait a la fois une lance  une hache au cote droit de l administrer  mais il resista a toutes les femmes de sa cour  souhaitez vous l entendre en parlant a la nuit  et declara qu elle y aurait ete fait a la pauvre fille     '"
      ]
     },
     "execution_count": 54,
     "metadata": {},
     "output_type": "execute_result"
    }
   ],
   "source": [
    "# Remplacer toutes les ponctuations par des espaces\n",
    "liste = []\n",
    "for symbol in text :\n",
    "#    liste.append(unicodedata.category(symbol))\n",
    "    if unicodedata.category(symbol) in [\"Cc\",\"Cf\",\"Cn\",\"Co\",\"Cs\",\"Mc\",\"Me\",\"Mn\", \\\n",
    "            \"Pc\",\"Pd\",\"Pe\",\"Pf\",\"Pi\",\"Po\",\"Ps\",\"Sc\",\"Sk\",\"Sm\",\"So\",\"Zl\",\"Zp\",\"Zs\"]:\n",
    "         text = text.encode('UTF-8').replace(symbol, \" \")\n",
    "text"
   ]
  },
  {
   "cell_type": "code",
   "execution_count": 67,
   "metadata": {
    "collapsed": false
   },
   "outputs": [
    {
     "name": "stdout",
     "output_type": "stream",
     "text": [
      "[u'', u'etrange', u'paradoxe', u'', u'qui', u'fait', u'l', u'aumone', u'', u'', u'donnant', u'leur', u'veritable', u'prix', u'aux', u'choses', u'', u'', u'et', u'dans', u'une', u'meme', u'voliere', u'', u'', u'cette', u'circonstance', u'doit', u'd', u'apres', u'tes', u'ecrits', u'', u'que', u'ce', u'rival', u'n', u'est', u'pas', u'normal', u'', u'dit', u'il', u'pensivement', u'', u'tais', u'toi', u'donc', u'', u'mauvaise', u'gale', u'', u'', u'personne', u'', u'par', u'hasard', u'', u'', u'l', u'implacabilite', u'de', u'ce', u'visage', u'rayonnant', u'et', u'loyal', u'', u'ce', u'n', u'etaient', u'que', u'de', u'bons', u'desirs', u'de', u'les', u'reconnaitre', u'', u'ainsi', u'changes', u'', u'', u'', u'proces', u'verbal', u'de', u'gens', u'de', u'mon', u'age', u'', u'outrecuidance', u'qui', u'lui', u'vaudrait', u'la', u'bastonnade', u'', u'si', u'vous', u'savez', u'', u'celle', u'que', u'j', u'eprouvais', u'en', u'ce', u'moment', u'des', u'ennuis', u'', u'consentit', u'a', u'consacrer', u'exclusivement', u'son', u'temps', u'et', u'ramassait', u'ses', u'forces', u'', u'miseres', u'que', u'tout', u'cela', u'veut', u'dire', u'qu', u'on', u'prie', u'en', u'societe', u'de', u'pensees', u'avec', u'quelqu', u'un', u'', u'mais', u'quand', u'il', u'connut', u'cet', u'accroissement', u'du', u'service', u'd', u'ordre', u'', u'mais', u'je', u'parle', u'des', u'anciennes', u'frairies', u'', u'ce', u'n', u'est', u'la', u'sensibilite', u'', u'venger', u'un', u'crime', u'est', u'toujours', u'une', u'ennemie', u'de', u'moins', u'', u'', u'frappee', u'par', u'la', u'foudre', u'', u'elle', u'demeura', u'la', u'', u'sourd', u'a', u'la', u'voix', u'ambigue', u'', u'et', u'pour', u'en', u'faire', u'quatre', u'autres', u'bien', u'faites', u'', u'et', u'cela', u'vous', u'ferait', u'trop', u'de', u'peine', u'', u'sensations', u'', u'', u'de', u'grande', u'beaute', u'', u'et', u'le', u'major', u'commenca', u'a', u'esperer', u'que', u'', u'pour', u'rendre', u'la', u'chute', u'inevitable', u'', u'instantanement', u'elle', u'avait', u'rejete', u'la', u'race', u'de', u'ces', u'creatures', u'', u'presque', u'au', u'meme', u'instant', u'ce', u'quelque', u'chose', u'a', u'ete', u'faite', u'l', u'assiette', u'de', u'petits', u'gateaux', u'circulaient', u'familierement', u'', u'paralyse', u'de', u'terreur', u'', u'gardait', u'son', u'parfum', u'd', u'amour', u'monstrueux', u'', u'sa', u'douceur', u'vicieuse', u'de', u'fleur', u'blonde', u'', u'lui', u'meme', u'faisait', u'des', u'pronostics', u'et', u'', u'si', u'j', u'eusse', u'ete', u'sa', u'fille', u'', u'', u'et', u'de', u'la', u'vient', u'que', u'les', u'betes', u'', u'danger', u'de', u'mort', u'', u'ciselees', u'dans', u'de', u'l', u'eau', u'avait', u'a', u'la', u'fois', u'une', u'lance', u'', u'une', u'hache', u'au', u'cote', u'droit', u'de', u'l', u'administrer', u'', u'mais', u'il', u'resista', u'a', u'toutes', u'les', u'femmes', u'de', u'sa', u'cour', u'', u'souhaitez', u'vous', u'l', u'entendre', u'en', u'parlant', u'a', u'la', u'nuit', u'', u'et', u'declara', u'qu', u'elle', u'y', u'aurait', u'ete', u'fait', u'a', u'la', u'pauvre', u'fille', u'', u'', u'', u'', u'']\n"
     ]
    }
   ],
   "source": [
    "textToList = text.split(\" \")\n",
    "print textToList"
   ]
  },
  {
   "cell_type": "code",
   "execution_count": 74,
   "metadata": {
    "collapsed": false
   },
   "outputs": [
    {
     "name": "stdout",
     "output_type": "stream",
     "text": [
      "[u'a', u'alors', u'au', u'aucuns', u'aussi', u'autre', u'avant', u'avec', u'avoir', u'bon', u'car', u'ce', u'cela', u'ces', u'ceux', u'chaque', u'ci', u'comme', u'comment', u'dans', u'de', u'des', u'du', u'dedans', u'dehors', u'depuis', u'devrait', u'doit', u'donc', u'dos', u'debut', u'elle', u'elles', u'en', u'encore', u'essai', u'est', u'et', u'eu', u'fait', u'faites', u'fois', u'font', u'hors', u'ici', u'il', u'ils', u'je', u'juste', u'l', u'la', u'le', u'les', u'leur', u'la', u'ma', u'maintenant', u'mais', u'mes', u'mine', u'moins', u'mon', u'mot', u'meme', u'ni', u'nommes', u'notre', u'nous', u'ou', u'ou', u'par', u'parce', u'pas', u'peut', u'peu', u'plupart', u'pour', u'pourquoi', u'quand', u'que', u'quel', u'quelle', u'quelles', u'quels', u'qui', u'sa', u'sans', u'ses', u'seulement', u'si', u'sien', u'son', u'sont', u'sous', u'soyez', u'sujet', u'sur', u'ta', u'tandis', u'tellement', u'tels', u'tes', u'ton', u'tous', u'tout', u'trop', u'tres', u'tu', u'voient', u'vont', u'votre', u'vous', u'vu', u'ca', u'etaient', u'etat', u'etions', u'ete', u'etre']\n"
     ]
    }
   ],
   "source": [
    "# Eliminer les stopWords\n",
    "\n",
    "frenchStopWords = [\"a\",\"alors\",\"au\",\"aucuns\",\"aussi\",\"autre\",\"avant\",\"avec\",\"avoir\",\"bon\",\"car\",\"ce\",\"cela\",\"ces\",\"ceux\",\n",
    "    \"chaque\",\"ci\",\"comme\",\"comment\",\"dans\",\"de\",\"des\",\"du\",\"dedans\",\"dehors\",\"depuis\",\"devrait\",\"doit\",\"donc\",\"dos\",\"début\",\"elle\",\n",
    "    \"elles\",\"en\",\"encore\",\"essai\",\"est\",\"et\",\"eu\",\"fait\",\"faites\",\"fois\",\"font\",\"hors\",\"ici\",\"il\",\"ils\",\"je\",\"juste\",\"l\",\"la\",\"le\",\n",
    "    \"les\",\"leur\",\"là\",\"ma\",\"maintenant\",\"mais\",\"mes\",\"mine\",\"moins\",\"mon\",\"mot\",\"même\",\"ni\",\"nommés\",\"notre\",\"nous\",\"ou\",\"où\",\n",
    "    \"par\",\"parce\",\"pas\",\"peut\",\"peu\",\"plupart\",\"pour\",\"pourquoi\",\"quand\",\"que\",\"quel\",\"quelle\",\"quelles\",\"quels\",\"qui\",\"sa\",\n",
    "    \"sans\",\"ses\",\"seulement\",\"si\",\"sien\",\"son\",\"sont\",\"sous\",\"soyez\",\"sujet\",\"sur\",\"ta\",\"tandis\",\"tellement\",\"tels\",\"tes\",\"ton\",\n",
    "    \"tous\",\"tout\",\"trop\",\"très\",\"tu\",\"voient\",\"vont\",\"votre\",\"vous\",\"vu\",\"ca\",\"etaient\",\"etat\",\"etions\",\"ete\",\"etre\"]\n",
    "\n",
    "englishStopWords = [\"a\",\"about\",\"above\",\"after\",\"again\",\"against\",\"all\",\"am\",\"an\",\"and\",\"any\",\"are\",\"aren't\",\"as\",\"at\",\"be\",\n",
    "    \"because\",\"been\",\"before\",\"being\",\"below\",\"between\",\"both\",\"but\",\"by\",\"can't\",\"cannot\",\"could\",\"couldn't\",\"did\",\"didn't\",\n",
    "    \"do\",\"does\",\"doesn't\",\"doing\",\"don't\",\"down\",\"during\",\"each\",\"few\",\"for\",\"from\",\"further\",\"had\",\"hadn't\",\"has\",\"hasn't\",\n",
    "    \"have\",\"haven't\",\"having\",\"he\",\"he'd\",\"he'll\",\"he's\",\"her\",\"here\",\"here's\",\"hers\",\"herself\",\"him\",\"himself\",\"his\",\"how\",\n",
    "    \"how's\",\"i\",\"i'd\",\"i'll\",\"i'm\",\"i've\",\"if\",\"in\",\"into\",\"is\",\"isn't\",\"it\",\"it's\",\"its\",\"itself\",\"let's\",\"me\",\"more\",\"most\",\n",
    "    \"mustn't\",\"my\",\"myself\",\"no\",\"nor\",\"not\",\"of\",\"off\",\"on\",\"once\",\"only\",\"or\",\"other\",\"ought\",\"our\",\"ours\tourselves\",\"out\",\n",
    "    \"over\",\"own\",\"same\",\"shan't\",\"she\",\"she'd\",\"she'll\",\"she's\",\"should\",\"shouldn't\",\"so\",\"some\",\"such\",\"than\",\"that\",\"that's\",\n",
    "    \"the\",\"their\",\"theirs\",\"them\",\"themselves\",\"then\",\"there\",\"there's\",\"these\",\"they\",\"they'd\",\"they'll\",\"they're\",\"they've\",\n",
    "    \"this\",\"those\",\"through\",\"to\",\"too\",\"under\",\"until\",\"up\",\"very\",\"was\",\"wasn't\",\"we\",\"we'd\",\"we'll\",\"we're\",\"we've\",\"were\",\n",
    "    \"weren't\",\"what\",\"what's\",\"when\",\"when's\",\"where\",\"where's\",\"which\",\"while\",\"who\",\"who's\",\"whom\",\"why\",\"why's\",\"with\",\n",
    "    \"won't\",\"would\",\"wouldn't\",\"you\",\"you'd\",\"you'll\",\"you're\",\"you've\",\"your\",\"yours\",\"yourself\",\"yourselves\"]\n",
    "\n",
    "temp = \" \".join(frenchStopWords)\n",
    "encodage = chardet.detect(temp)\n",
    "temp = unicodedata.normalize(\"NFKD\", temp.decode(encodage[\"encoding\"])).encode(\"ASCII\", 'ignore').decode(\"ASCII\")\n",
    "frenchStopWords = temp.split(\" \")   \n",
    "print frenchStopWords\n",
    "\n"
   ]
  },
  {
   "cell_type": "code",
   "execution_count": 75,
   "metadata": {
    "collapsed": false,
    "scrolled": false
   },
   "outputs": [
    {
     "name": "stdout",
     "output_type": "stream",
     "text": [
      "[u'etrange', u'paradoxe', u'qui', u'fait', u'l', u'aumone', u'donnant', u'leur', u'veritable', u'prix', u'aux', u'choses', u'et', u'dans', u'une', u'meme', u'voliere', u'cette', u'circonstance', u'doit', u'd', u'apres', u'tes', u'ecrits', u'que', u'ce', u'rival', u'n', u'est', u'pas', u'normal', u'dit', u'il', u'pensivement', u'tais', u'toi', u'donc', u'mauvaise', u'gale', u'personne', u'par', u'hasard', u'l', u'implacabilite', u'de', u'ce', u'visage', u'rayonnant', u'et', u'loyal', u'ce', u'n', u'etaient', u'que', u'de', u'bons', u'desirs', u'de', u'les', u'reconnaitre', u'ainsi', u'changes', u'proces', u'verbal', u'de', u'gens', u'de', u'mon', u'age', u'outrecuidance', u'qui', u'lui', u'vaudrait', u'la', u'bastonnade', u'si', u'vous', u'savez', u'celle', u'que', u'j', u'eprouvais', u'en', u'ce', u'moment', u'des', u'ennuis', u'consentit', u'a', u'consacrer', u'exclusivement', u'son', u'temps', u'et', u'ramassait', u'ses', u'forces', u'miseres', u'que', u'tout', u'cela', u'veut', u'dire', u'qu', u'on', u'prie', u'en', u'societe', u'de', u'pensees', u'avec', u'quelqu', u'un', u'mais', u'quand', u'il', u'connut', u'cet', u'accroissement', u'du', u'service', u'd', u'ordre', u'mais', u'je', u'parle', u'des', u'anciennes', u'frairies', u'ce', u'n', u'est', u'la', u'sensibilite', u'venger', u'un', u'crime', u'est', u'toujours', u'une', u'ennemie', u'de', u'moins', u'frappee', u'par', u'la', u'foudre', u'elle', u'demeura', u'la', u'sourd', u'a', u'la', u'voix', u'ambigue', u'et', u'pour', u'en', u'faire', u'quatre', u'autres', u'bien', u'faites', u'et', u'cela', u'vous', u'ferait', u'trop', u'de', u'peine', u'sensations', u'de', u'grande', u'beaute', u'et', u'le', u'major', u'commenca', u'a', u'esperer', u'que', u'pour', u'rendre', u'la', u'chute', u'inevitable', u'instantanement', u'elle', u'avait', u'rejete', u'la', u'race', u'de', u'ces', u'creatures', u'presque', u'au', u'meme', u'instant', u'ce', u'quelque', u'chose', u'a', u'ete', u'faite', u'l', u'assiette', u'de', u'petits', u'gateaux', u'circulaient', u'familierement', u'paralyse', u'de', u'terreur', u'gardait', u'son', u'parfum', u'd', u'amour', u'monstrueux', u'sa', u'douceur', u'vicieuse', u'de', u'fleur', u'blonde', u'lui', u'meme', u'faisait', u'des', u'pronostics', u'et', u'si', u'j', u'eusse', u'ete', u'sa', u'fille', u'et', u'de', u'la', u'vient', u'que', u'les', u'betes', u'danger', u'de', u'mort', u'ciselees', u'dans', u'de', u'l', u'eau', u'avait', u'a', u'la', u'fois', u'une', u'lance', u'une', u'hache', u'au', u'cote', u'droit', u'de', u'l', u'administrer', u'mais', u'il', u'resista', u'a', u'toutes', u'les', u'femmes', u'de', u'sa', u'cour', u'souhaitez', u'vous', u'l', u'entendre', u'en', u'parlant', u'a', u'la', u'nuit', u'et', u'declara', u'qu', u'elle', u'y', u'aurait', u'ete', u'fait', u'a', u'la', u'pauvre', u'fille']\n"
     ]
    }
   ],
   "source": [
    "filtText = []\n",
    "for mot in textToList:\n",
    "    if mot not in [frenchStopWords, u\"\"]:\n",
    "        filtText.append(mot)\n",
    "    else:\n",
    "        pass\n",
    "\n",
    "print filtText\n"
   ]
  },
  {
   "cell_type": "code",
   "execution_count": 77,
   "metadata": {
    "collapsed": false
   },
   "outputs": [
    {
     "name": "stdout",
     "output_type": "stream",
     "text": [
      "164\n"
     ]
    }
   ],
   "source": [
    "filtText = []\n",
    "for mot in textToList:\n",
    "    valide = True\n",
    "    if mot == u\"\":\n",
    "        valide = False    \n",
    "    for motInterdit in frenchStopWords:\n",
    "        if  (mot == motInterdit):\n",
    "            valide = False\n",
    "    if valide :\n",
    "        filtText.append(mot)\n",
    "print len(filtText)        \n",
    "       \n",
    "\n"
   ]
  },
  {
   "cell_type": "code",
   "execution_count": 11,
   "metadata": {
    "collapsed": false
   },
   "outputs": [
    {
     "name": "stdout",
     "output_type": "stream",
     "text": [
      "matchObj.group() :  Ca\n",
      "matchObj.group(1) :  Ca\n"
     ]
    }
   ],
   "source": [
    "import re\n",
    "\n",
    "line = \"Cats are smarter than dogs\"\n",
    "\n",
    "#matchObj = re.match( r'(^Ca) are (.*?) .*', line, re.M|re.I)\n",
    "word = r'(^Ca)'\n",
    "matchObj = re.match(word, line)\n",
    "if matchObj:\n",
    "    print \"matchObj.group() : \", matchObj.group()\n",
    "    print \"matchObj.group(1) : \", matchObj.group(1)\n",
    "#    print \"matchObj.group(2) : \", matchObj.group(2)\n",
    "else:\n",
    "    print \"No match!!\""
   ]
  },
  {
   "cell_type": "code",
   "execution_count": null,
   "metadata": {
    "collapsed": true
   },
   "outputs": [],
   "source": []
  }
 ],
 "metadata": {
  "kernelspec": {
   "display_name": "Python 2",
   "language": "python",
   "name": "python2"
  },
  "language_info": {
   "codemirror_mode": {
    "name": "ipython",
    "version": 2
   },
   "file_extension": ".py",
   "mimetype": "text/x-python",
   "name": "python",
   "nbconvert_exporter": "python",
   "pygments_lexer": "ipython2",
   "version": "2.7.13"
  }
 },
 "nbformat": 4,
 "nbformat_minor": 2
}
