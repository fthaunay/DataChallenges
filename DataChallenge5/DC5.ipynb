{
 "cells": [
  {
   "cell_type": "markdown",
   "metadata": {
    "collapsed": false,
    "slideshow": {
     "slide_type": "slide"
    }
   },
   "source": [
    " # Quelle langue parlent les protéines ?\n",
    "----------------------------------------------------------------\n",
    "----------------------------------------------------------------\n",
    "\n",
    "## Objectif :\n",
    "----------------\n",
    "1. Générer les dictionnaires de plusieurs langues (à partir des livres du projet Gutenberg)\n",
    "2. Mettre en forme les séquences des protéines ( .fasta de uniprot)\n",
    "3. Identifier le maximum de mots différents pour chaque langue / Conclure \n",
    "4. Visualisation nuages de mots\n"
   ]
  },
  {
   "cell_type": "markdown",
   "metadata": {
    "slideshow": {
     "slide_type": "subslide"
    }
   },
   "source": [
    "## Etape 1 : Générer des dictionnaires"
   ]
  },
  {
   "cell_type": "code",
   "execution_count": 1,
   "metadata": {
    "collapsed": false,
    "slideshow": {
     "slide_type": "fragment"
    }
   },
   "outputs": [],
   "source": [
    "import nltk # text mining\n",
    "import re # regex\n",
    "import chardet # détection encodage\n",
    "import unicodedata # conversion à partir unicode\n",
    "\n",
    "\n",
    "def tokenize_only(text):\n",
    "    \"\"\"\n",
    "    Extrait une liste de mots d'un texte\n",
    "    Ne conserve que les mots composés uniquement de lettres codantes \n",
    "    Retourne une liste\n",
    "    \"\"\"\n",
    "    # genere une liste de mots à partir d'un texte\n",
    "    tokens = [word for sent in nltk.sent_tokenize(text) for word in nltk.word_tokenize(sent)]\n",
    "    filtered_tokens = []\n",
    "    # elimine la ponctuation, les caractères numériques ...\n",
    "    for token in tokens:\n",
    "        token = re.sub(r'[-_.\\']', '', token)\n",
    "\n",
    "        # seules les lettres [\"a\",\"c\",\"d\",\"e\",\"f\",\"g\",\"h\",\"i\",\"k\",\"l\",\"m\",\"n\",\"p\",\"q\",\"r\",\"s\",\"t\",\"v\",\"w\",\"y\",] sont codantes \n",
    "        # (20 acides aminés)\n",
    "        #Donc on peut éliminer du dictionnaire les mots contenant une des 6 lettres restantes [\"b\",\"j\",\"o\",\"u\",\"x\",\"z\"]\n",
    "        m = re.search('[a-zA-Z]', token)\n",
    "        p = re.match(r\"[bjouxz]\", token)\n",
    "        q = re.search('[0-9]', token)\n",
    "        if m and not p and not q:\n",
    "            filtered_tokens.append(token)\n",
    "            \n",
    "    # On retire les mots de - de 3 lettres\n",
    "    filtered_tokens = [item for item in filtered_tokens if len(item)>2]        \n",
    "    \n",
    "    return filtered_tokens\n",
    "\n",
    "\n",
    "\n",
    "#Fonction de nettoyage \n",
    "def clean(line):\n",
    "    \"\"\"\n",
    "    Retire les accents \n",
    "    Retourne la ligne en minuscules \n",
    "    \"\"\"\n",
    "\n",
    "    # élimine les accents, passe en minuscule\n",
    "    try :\n",
    "        # détecte l'encodage de la ligne\n",
    "        encoding =  chardet.detect(line)\n",
    "        line = unicodedata.normalize(\"NFKD\", line.decode(encoding[\"encoding\"])).encode(\"ASCII\", 'ignore').lower()\n",
    "    except :\n",
    "        try :\n",
    "            line = line.encode(\"ASCII\", 'ignore').lower()\n",
    "        except :\n",
    "            pass\n",
    "    return line"
   ]
  },
  {
   "cell_type": "markdown",
   "metadata": {
    "slideshow": {
     "slide_type": "skip"
    }
   },
   "source": [
    "###  De nombreux livres du domaine public sont disponibles sur project [Guntenberg](https://www.gutenberg.org/catalog/).\n",
    "* soit télécharger des livres puis les importer au format texte \n",
    "* soit utiliser les textes disponibles via nltk\n"
   ]
  },
  {
   "cell_type": "code",
   "execution_count": 2,
   "metadata": {
    "collapsed": true,
    "slideshow": {
     "slide_type": "notes"
    }
   },
   "outputs": [],
   "source": [
    "from nltk.corpus import gutenberg"
   ]
  },
  {
   "cell_type": "markdown",
   "metadata": {
    "slideshow": {
     "slide_type": "slide"
    }
   },
   "source": [
    "La plupart des textes sont en anglais"
   ]
  },
  {
   "cell_type": "code",
   "execution_count": 3,
   "metadata": {
    "collapsed": false,
    "slideshow": {
     "slide_type": "slide"
    }
   },
   "outputs": [
    {
     "data": {
      "text/plain": [
       "['austen-emma.txt',\n",
       " 'austen-persuasion.txt',\n",
       " 'austen-sense.txt',\n",
       " 'bible-kjv.txt',\n",
       " 'blake-poems.txt',\n",
       " 'bryant-stories.txt',\n",
       " 'burgess-busterbrown.txt',\n",
       " 'carroll-alice.txt',\n",
       " 'chesterton-ball.txt',\n",
       " 'chesterton-brown.txt',\n",
       " 'chesterton-thursday.txt',\n",
       " 'edgeworth-parents.txt',\n",
       " 'melville-moby_dick.txt',\n",
       " 'milton-paradise.txt',\n",
       " 'shakespeare-caesar.txt',\n",
       " 'shakespeare-hamlet.txt',\n",
       " 'shakespeare-macbeth.txt',\n",
       " 'whitman-leaves.txt']"
      ]
     },
     "execution_count": 3,
     "metadata": {},
     "output_type": "execute_result"
    }
   ],
   "source": [
    "gutenberg.fileids()"
   ]
  },
  {
   "cell_type": "markdown",
   "metadata": {
    "slideshow": {
     "slide_type": "notes"
    }
   },
   "source": [
    "La déclaration universelle des droits de l'homme est traduite dans plus de 300 langues"
   ]
  },
  {
   "cell_type": "code",
   "execution_count": 4,
   "metadata": {
    "collapsed": true,
    "slideshow": {
     "slide_type": "slide"
    }
   },
   "outputs": [],
   "source": [
    "from nltk.corpus import udhr"
   ]
  },
  {
   "cell_type": "code",
   "execution_count": 5,
   "metadata": {
    "collapsed": false
   },
   "outputs": [
    {
     "data": {
      "text/plain": [
       "['Amahuaca',\n",
       " 'Amahuaca-Latin1',\n",
       " 'Amarakaeri-Latin1',\n",
       " 'Amharic-Afenegus6..60375',\n",
       " 'Amuesha-Yanesha-UTF8',\n",
       " 'Arabela-Latin1',\n",
       " 'Arabic_Alarabia-Arabic',\n",
       " 'Armenian-DallakHelv',\n",
       " 'Asante-UTF8',\n",
       " 'Ashaninca-Latin1']"
      ]
     },
     "execution_count": 5,
     "metadata": {},
     "output_type": "execute_result"
    }
   ],
   "source": [
    "nltk.corpus.udhr.fileids()[10:20]"
   ]
  },
  {
   "cell_type": "code",
   "execution_count": 6,
   "metadata": {
    "collapsed": false
   },
   "outputs": [
    {
     "name": "stdout",
     "output_type": "stream",
     "text": [
      "Déclaration universelle des droits de l ' homme Préambule Considérant que la reconnaissance de la dignité inhérente à tous les membres de la famille humaine et de leurs droits égaux et inaliénables constitue le fondement de la liberté , de la justice et de la paix dans le monde , Considérant que la méconnaissance et le mépris des droits de l ' homme ont conduit à des actes de barbarie qui révoltent la conscience de l ' humanité et que l ' avènement d ' un monde où les êtres humains seront libres de parler et de croire , libérés de la terreur et de la misère , a été proclamé comme la plus haute aspiration de l ' homme , Considérant qu ' il est essentiel que les droits de l ' homme soient protégés par un régime de droit pour que l ' homme ne soit pas contraint , en suprême recours , à la révolte contre la tyrannie et l ' oppression , Considérant qu ' il est essentiel d ' encourager le développement de relations amicales entre nations , Considérant que dans la Charte les peuples des Nations\n"
     ]
    }
   ],
   "source": [
    "declaration =\"\"\n",
    "for word in nltk.corpus.udhr.words('French_Francais-Latin1'):\n",
    "    declaration += word+\" \" \n",
    "print declaration[:1002]"
   ]
  },
  {
   "cell_type": "markdown",
   "metadata": {},
   "source": [
    "> Plus de 300 langues différentes => Filtres des langues utilisables.\n"
   ]
  },
  {
   "cell_type": "code",
   "execution_count": 7,
   "metadata": {
    "collapsed": false
   },
   "outputs": [],
   "source": [
    "dicos = []\n",
    "errorLangages = []\n",
    "for langage in nltk.corpus.udhr.fileids() :\n",
    "    try :\n",
    "        dico = set(tokenize_only(clean((\" \").join((nltk.corpus.udhr.words(langage))))))\n",
    "        if len(dico)>50 :\n",
    "            dicos.append(dico)\n",
    "        else :\n",
    "            errorLangages.append(langage)\n",
    "            \n",
    "    except :\n",
    "#        print \"encoding error for langage \"+ langage\n",
    "        errorLangages.append(langage)\n",
    "\n",
    "langages = [lang for lang in nltk.corpus.udhr.fileids() if lang not in errorLangages]"
   ]
  },
  {
   "cell_type": "code",
   "execution_count": 8,
   "metadata": {
    "collapsed": false
   },
   "outputs": [
    {
     "name": "stdout",
     "output_type": "stream",
     "text": [
      "282 dictionnaires restants :\n",
      "\n",
      "    * maxSize :644 different words in Latin_Latina-v2-Latin1 dictionary.\n",
      "    * minSize :56 different words in Macedonian-UTF8 dictionary.\n"
     ]
    }
   ],
   "source": [
    "dicoLengths = [len(dico) for dico in dicos]\n",
    "minDicoLength, maxDicoLength  = min(dicoLengths),  max(dicoLengths)\n",
    "\n",
    "print str(len(dicoLengths)) + \" dictionnaires restants :\\n\" \n",
    "for i in range(len(dicos)) :\n",
    "    if len(dicos[i]) == minDicoLength : \n",
    "        print \"    * minSize :\" + str(len(dicos[i])) + \" different words in \" + langages[i] + \" dictionary.\"\n",
    "    if len(dicos[i]) == maxDicoLength : \n",
    "        print \"    * maxSize :\" + str(len(dicos[i])) + \" different words in \" + langages[i] + \" dictionary.\"    \n",
    "\n"
   ]
  },
  {
   "cell_type": "code",
   "execution_count": 9,
   "metadata": {
    "collapsed": false
   },
   "outputs": [
    {
     "name": "stdout",
     "output_type": "stream",
     "text": [
      "644 differents words in Latin_Latina-v2-Latin1 dictionary.\n",
      "615 differents words in Latin_Latina-Latin1 dictionary.\n",
      "598 differents words in Siswati-Latin1 dictionary.\n",
      "590 differents words in Estonian_Eesti-Latin1 dictionary.\n",
      "579 differents words in Lithuanian_Lietuviskai-Baltic dictionary.\n",
      "574 differents words in Turkish_Turkce-Turkish dictionary.\n",
      "562 differents words in Latvian-Latin1 dictionary.\n",
      "558 differents words in Shona-Latin1 dictionary.\n",
      "558 differents words in Finnish_Suomi-Latin1 dictionary.\n",
      "542 differents words in Turkish_Turkce-UTF8 dictionary.\n"
     ]
    }
   ],
   "source": [
    "# Reordonne les listes en fonction de la taille du dictionnaire\n",
    "\n",
    "langages = [x for (y,x) in sorted(zip(dicoLengths,langages), reverse=True)]\n",
    "dicos = [x for (y,x) in sorted(zip(dicoLengths,dicos), reverse=True)]\n",
    "dicoLengths = [y for (y,x) in sorted(zip(dicoLengths,dicos), reverse=True)]\n",
    "\n",
    "\n",
    "for i in range(10) :\n",
    "    print str(dicoLengths[i]) + \" differents words in \" + langages[i] + \" dictionary.\"\n",
    "\n"
   ]
  },
  {
   "cell_type": "markdown",
   "metadata": {},
   "source": [
    "## Etape 2 : les séquences des protéines"
   ]
  },
  {
   "cell_type": "markdown",
   "metadata": {},
   "source": [
    "### Format : un en-tête suivi d'une séquence d'acides aminés"
   ]
  },
  {
   "cell_type": "code",
   "execution_count": 10,
   "metadata": {
    "collapsed": false
   },
   "outputs": [
    {
     "name": "stdout",
     "output_type": "stream",
     "text": [
      ">sp|P27361|MK03_HUMAN Mitogen-activated protein kinase 3 OS=Homo sapiens GN=MAPK3 PE=1 SV=4\n",
      "\n",
      "MAAAAAQGGGGGEPRRTEGVGPGVPGEVEMVKGQPFDVGPRYTQLQYIGEGAYGMVSSAY\n",
      "\n",
      "DHVRKTRVAIKKISPFEHQTYCQRTLREIQILLRFRHENVIGIRDILRASTLEAMRDVYI\n",
      "\n",
      "VQDLMETDLYKLLKSQQLSNDHICYFLYQILRGLKYIHSANVLHRDLKPSNLLINTTCDL\n",
      "\n",
      "KICDFGLARIADPEHDHTGFLTEYVATRWYRAPEIMLNSKGYTKSIDIWSVGCILAEMLS\n",
      "\n"
     ]
    }
   ],
   "source": [
    "# Fichier de test\n",
    "protFilename = \"C:/Users/thaunayf/Documents/Formation_Python/DataChallenge5/miniProt.fasta\"\n",
    "\n",
    "i=0\n",
    "with open(protFilename) as f:\n",
    "    for line in f:\n",
    "        if i in range(5):\n",
    "            print line\n",
    "            i += 1"
   ]
  },
  {
   "cell_type": "markdown",
   "metadata": {},
   "source": [
    "Il existe des modules (Bio, Biopython ...) pour parser les fichiers .fasta\n"
   ]
  },
  {
   "cell_type": "code",
   "execution_count": 11,
   "metadata": {
    "collapsed": false
   },
   "outputs": [],
   "source": [
    "def importSeqProt(filename):\n",
    "    \"\"\"\n",
    "    importe le fichier\n",
    "    sépare les headers et les séquences d'acides aminés\n",
    "    renvoie un tuple    \n",
    "    \"\"\"\n",
    "    with open(protFilename) as f:\n",
    "        seq, seqs, headers = [], [], []\n",
    "        header = True\n",
    "        for line in f.readlines():\n",
    "            line = re.sub('\\n', '', line)\n",
    "            if line.startswith(\">sp\"):\n",
    "                # header : à parser\n",
    "                header = True\n",
    "                headers.append(line)\n",
    "            else :\n",
    "                if header and seq : \n",
    "                    chain = \"\".join(seq)\n",
    "                    seqs.append(chain)\n",
    "                    seq[:] = []\n",
    "                    seq.append(line)\n",
    "                    # nouvelle sequence\n",
    "                else :\n",
    "                    # on continue la séquence précédente\n",
    "                    seq.append(line)\n",
    "                header = False     \n",
    "        chain = \"\".join(seq)     \n",
    "        seqs.append(chain)\n",
    "    return headers, seqs\n",
    "                \n",
    "                \n"
   ]
  },
  {
   "cell_type": "code",
   "execution_count": 12,
   "metadata": {
    "collapsed": false
   },
   "outputs": [
    {
     "name": "stdout",
     "output_type": "stream",
     "text": [
      "['>sp|P27361|MK03_HUMAN Mitogen-activated protein kinase 3 OS=Homo sapiens GN=MAPK3 PE=1 SV=4', '>sp|P27361-2|MK03_HUMAN Isoform 2 of Mitogen-activated protein kinase 3 OS=Homo sapiens GN=MAPK3', '>sp|P27361-3|MK03_HUMAN Isoform 3 of Mitogen-activated protein kinase 3 OS=Homo sapiens GN=MAPK3', '>sp|P53779|MK10_HUMAN Mitogen-activated protein kinase 10 OS=Homo sapiens GN=MAPK10 PE=1 SV=2']\n"
     ]
    }
   ],
   "source": [
    "protFilename = \"C:/Users/thaunayf/Documents/Formation_Python/DataChallenge5/miniProt.fasta\"\n",
    "headers, seqs = importSeqProt(protFilename)\n",
    "\n",
    "print headers"
   ]
  },
  {
   "cell_type": "code",
   "execution_count": 13,
   "metadata": {
    "collapsed": false
   },
   "outputs": [
    {
     "name": "stdout",
     "output_type": "stream",
     "text": [
      "['MAAAAAQGGGGGEPRRTEGVGPGVPGEVEMVKGQPFDVGPRYTQLQYIGEGAYGMVSSAYDHVRKTRVAIKKISPFEHQTYCQRTLREIQILLRFRHENVIGIRDILRASTLEAMRDVYIVQDLMETDLYKLLKSQQLSNDHICYFLYQILRGLKYIHSANVLHRDLKPSNLLINTTCDLKICDFGLARIADPEHDHTGFLTEYVATRWYRAPEIMLNSKGYTKSIDIWSVGCILAEMLSNRPIFPGKHYLDQLNHILGILGSPSQEDLNCIINMKARNYLQSLPSKTKVAWAKLFPKSDSKALDLLDRMLTFNPNKRITVEEALAHPYLEQYYDPTDEPVAEEPFTFAMELDDLPKERLKELIFQETARFQPGVLEAP', 'MAAAAAQGGGGGEPRRTEGVGPGVPGEVEMVKGQPFDVGPRYTQLQYIGEGAYGMVSSAYDHVRKTRVAIKKISPFEHQTYCQRTLREIQILLRFRHENVIGIRDILRASTLEAMRDVYIVQDLMETDLYKLLKSQQLSNDHICYFLYQILRGLKYIHSANVLHRDLKPSNLLINTTCDLKICDFGLARIADPEHDHTGFLTEYVATRWYRAPEIMLNSKGYTKSIDIWSVGCILAEMLSNRPIFPGKHYLDQLNHILALDLLDRMLTFNPNKRITVEEALAHPYLEQYYDPTDEPVAEEPFTFAMELDDLPKERLKELIFQETARFQPGVLEAP', 'MAAAAAQGGGGGEPRRTEGVGPGVPGEVEMVKGQPFDVGPRYTQLQYIGEGAYGMVSSAYDHVRKTRVAIKKISPFEHQTYCQRTLREIQILLRFRHENVIGIRDILRASTLEAMRDVYIVQDLMETDLYKLLKSQQLSNDHICYFLYQILRGLKYIHSANVLHRDLKPSNLLINTTCDLKICDFGLARIADPEHDHTGFLTEYVATRWYRAPEIMLNSKGYTKSIDIWSVGCILAEMLSNRPIFPGKHYLDQLNHILGILGSPSQEDLNCIINMKARNYLQSLPSKTKVAWAKLFPKSDSKALDLLDRMLTFNPNKRITVEEALAHPYLEQYYDPTDEVGQSPAAVGLGAGEQGGT', 'MSLHFLYYCSEPTLDVKIAFCQGFDKQVDVSYIAKHYNMSKSKVDNQFYSVEVGDSTFTVLKRYQNLKPIGSGAQGIVCAAYDAVLDRNVAIKKLSRPFQNQTHAKRAYRELVLMKCVNHKNIISLLNVFTPQKTLEEFQDVYLVMELMDANLCQVIQMELDHERMSYLLYQMLCGIKHLHSAGIIHRDLKPSNIVVKSDCTLKILDFGLARTAGTSFMMTPYVVTRYYRAPEVILGMGYKENVDIWSVGCIMGEMVRHKILFPGRDYIDQWNKVIEQLGTPCPEFMKKLQPTVRNYVENRPKYAGLTFPKLFPDSLFPADSEHNKLKASQARDLLSKMLVIDPAKRISVDDALQHPYINVWYDPAEVEAPPPQIYDKQLDEREHTIEEWKELIYKEVMNSEEKTKNGVVKGQPSPSGAAVNSSESLPPSSSVNDISSMSTDQTLASDTDSSLEASAGPLGCCR']\n"
     ]
    }
   ],
   "source": [
    "print seqs"
   ]
  },
  {
   "cell_type": "code",
   "execution_count": 14,
   "metadata": {
    "collapsed": false
   },
   "outputs": [],
   "source": [
    "# Parser les headers\n",
    "\n",
    "def parserHeaders(headers):\n",
    "    code = []\n",
    "    proteineName = []\n",
    "    os = []\n",
    "    gn = []\n",
    "    pe = []\n",
    "    sv = []\n",
    "\n",
    "    for header in headers:\n",
    "        h = header.split('|')\n",
    "        code.append(h[1])\n",
    "        i = h[2].split('OS=')\n",
    "        proteineName.append(i[0])\n",
    "        if len(i)>1:\n",
    "            j = i[1].split('GN=')\n",
    "            os.append(j[0])\n",
    "            if len(j)>1:\n",
    "                k = j[1].split('PE=')\n",
    "                gn.append(k[0])\n",
    "                if len(k)>1:\n",
    "                    l = k[1].split('SV=')\n",
    "                    pe.append(l[0])\n",
    "                    sv.append(l[1])   \n",
    "                else :\n",
    "                    pe.append(0)\n",
    "                    sv.append(0)\n",
    "            else :\n",
    "                gn.append(0); pe.append(0); sv.append(0)\n",
    "        else :\n",
    "            os.append(0); gn.append(0); pe.append(0); sv.append(0)\n",
    "                \n",
    "    return code, proteineName, os, gn, pe, sv \n",
    "    "
   ]
  },
  {
   "cell_type": "markdown",
   "metadata": {
    "collapsed": false
   },
   "source": [
    "### Séquences dans une DataFrame"
   ]
  },
  {
   "cell_type": "code",
   "execution_count": 15,
   "metadata": {
    "collapsed": false
   },
   "outputs": [],
   "source": [
    "import pandas as pd\n",
    "data = pd.DataFrame()\n",
    "\n",
    "code, proteineName, os, gn, pe, sv  = parserHeaders(headers)\n",
    "\n",
    "data[\"code\"] = code\n",
    "data[\"proteineName\"] = proteineName\n",
    "data[\"os\"] = os\n",
    "data[\"gn\"] = gn\n",
    "data[\"pe\"] = pe\n",
    "data[\"sv\"] = sv\n",
    "data[\"sequence\"] = seqs"
   ]
  },
  {
   "cell_type": "code",
   "execution_count": 16,
   "metadata": {
    "collapsed": false
   },
   "outputs": [
    {
     "data": {
      "text/html": [
       "<div>\n",
       "<table border=\"1\" class=\"dataframe\">\n",
       "  <thead>\n",
       "    <tr style=\"text-align: right;\">\n",
       "      <th></th>\n",
       "      <th>code</th>\n",
       "      <th>proteineName</th>\n",
       "      <th>os</th>\n",
       "      <th>gn</th>\n",
       "      <th>pe</th>\n",
       "      <th>sv</th>\n",
       "      <th>sequence</th>\n",
       "    </tr>\n",
       "  </thead>\n",
       "  <tbody>\n",
       "    <tr>\n",
       "      <th>0</th>\n",
       "      <td>P27361</td>\n",
       "      <td>MK03_HUMAN Mitogen-activated protein kinase 3</td>\n",
       "      <td>Homo sapiens</td>\n",
       "      <td>MAPK3</td>\n",
       "      <td>1</td>\n",
       "      <td>4</td>\n",
       "      <td>MAAAAAQGGGGGEPRRTEGVGPGVPGEVEMVKGQPFDVGPRYTQLQ...</td>\n",
       "    </tr>\n",
       "    <tr>\n",
       "      <th>1</th>\n",
       "      <td>P27361-2</td>\n",
       "      <td>MK03_HUMAN Isoform 2 of Mitogen-activated prot...</td>\n",
       "      <td>Homo sapiens</td>\n",
       "      <td>MAPK3</td>\n",
       "      <td>0</td>\n",
       "      <td>0</td>\n",
       "      <td>MAAAAAQGGGGGEPRRTEGVGPGVPGEVEMVKGQPFDVGPRYTQLQ...</td>\n",
       "    </tr>\n",
       "    <tr>\n",
       "      <th>2</th>\n",
       "      <td>P27361-3</td>\n",
       "      <td>MK03_HUMAN Isoform 3 of Mitogen-activated prot...</td>\n",
       "      <td>Homo sapiens</td>\n",
       "      <td>MAPK3</td>\n",
       "      <td>0</td>\n",
       "      <td>0</td>\n",
       "      <td>MAAAAAQGGGGGEPRRTEGVGPGVPGEVEMVKGQPFDVGPRYTQLQ...</td>\n",
       "    </tr>\n",
       "    <tr>\n",
       "      <th>3</th>\n",
       "      <td>P53779</td>\n",
       "      <td>MK10_HUMAN Mitogen-activated protein kinase 10</td>\n",
       "      <td>Homo sapiens</td>\n",
       "      <td>MAPK10</td>\n",
       "      <td>1</td>\n",
       "      <td>2</td>\n",
       "      <td>MSLHFLYYCSEPTLDVKIAFCQGFDKQVDVSYIAKHYNMSKSKVDN...</td>\n",
       "    </tr>\n",
       "  </tbody>\n",
       "</table>\n",
       "</div>"
      ],
      "text/plain": [
       "       code                                       proteineName             os  \\\n",
       "0    P27361     MK03_HUMAN Mitogen-activated protein kinase 3   Homo sapiens    \n",
       "1  P27361-2  MK03_HUMAN Isoform 2 of Mitogen-activated prot...  Homo sapiens    \n",
       "2  P27361-3  MK03_HUMAN Isoform 3 of Mitogen-activated prot...  Homo sapiens    \n",
       "3    P53779    MK10_HUMAN Mitogen-activated protein kinase 10   Homo sapiens    \n",
       "\n",
       "        gn  pe sv                                           sequence  \n",
       "0   MAPK3   1   4  MAAAAAQGGGGGEPRRTEGVGPGVPGEVEMVKGQPFDVGPRYTQLQ...  \n",
       "1    MAPK3   0  0  MAAAAAQGGGGGEPRRTEGVGPGVPGEVEMVKGQPFDVGPRYTQLQ...  \n",
       "2    MAPK3   0  0  MAAAAAQGGGGGEPRRTEGVGPGVPGEVEMVKGQPFDVGPRYTQLQ...  \n",
       "3  MAPK10   1   2  MSLHFLYYCSEPTLDVKIAFCQGFDKQVDVSYIAKHYNMSKSKVDN...  "
      ]
     },
     "execution_count": 16,
     "metadata": {},
     "output_type": "execute_result"
    }
   ],
   "source": [
    "data.head()"
   ]
  },
  {
   "cell_type": "markdown",
   "metadata": {},
   "source": [
    "### Pour le fichier complet"
   ]
  },
  {
   "cell_type": "code",
   "execution_count": 17,
   "metadata": {
    "collapsed": true
   },
   "outputs": [],
   "source": [
    "protFilename = \"C:/Users/thaunayf/Documents/Formation_Python/DataChallenge5/uniprot-proteome%3AUP000005640.fasta\"\n",
    "\n",
    "headers, seqs = importSeqProt(protFilename)\n",
    "              "
   ]
  },
  {
   "cell_type": "code",
   "execution_count": 18,
   "metadata": {
    "collapsed": false
   },
   "outputs": [
    {
     "data": {
      "text/html": [
       "<div>\n",
       "<table border=\"1\" class=\"dataframe\">\n",
       "  <thead>\n",
       "    <tr style=\"text-align: right;\">\n",
       "      <th></th>\n",
       "      <th>code</th>\n",
       "      <th>proteineName</th>\n",
       "      <th>os</th>\n",
       "      <th>gn</th>\n",
       "      <th>pe</th>\n",
       "      <th>sv</th>\n",
       "      <th>sequence</th>\n",
       "    </tr>\n",
       "  </thead>\n",
       "  <tbody>\n",
       "    <tr>\n",
       "      <th>0</th>\n",
       "      <td>P27361</td>\n",
       "      <td>MK03_HUMAN Mitogen-activated protein kinase 3</td>\n",
       "      <td>Homo sapiens</td>\n",
       "      <td>MAPK3</td>\n",
       "      <td>1</td>\n",
       "      <td>4</td>\n",
       "      <td>MAAAAAQGGGGGEPRRTEGVGPGVPGEVEMVKGQPFDVGPRYTQLQ...</td>\n",
       "    </tr>\n",
       "    <tr>\n",
       "      <th>1</th>\n",
       "      <td>P27361-2</td>\n",
       "      <td>MK03_HUMAN Isoform 2 of Mitogen-activated prot...</td>\n",
       "      <td>Homo sapiens</td>\n",
       "      <td>MAPK3</td>\n",
       "      <td>0</td>\n",
       "      <td>0</td>\n",
       "      <td>MAAAAAQGGGGGEPRRTEGVGPGVPGEVEMVKGQPFDVGPRYTQLQ...</td>\n",
       "    </tr>\n",
       "    <tr>\n",
       "      <th>2</th>\n",
       "      <td>P27361-3</td>\n",
       "      <td>MK03_HUMAN Isoform 3 of Mitogen-activated prot...</td>\n",
       "      <td>Homo sapiens</td>\n",
       "      <td>MAPK3</td>\n",
       "      <td>0</td>\n",
       "      <td>0</td>\n",
       "      <td>MAAAAAQGGGGGEPRRTEGVGPGVPGEVEMVKGQPFDVGPRYTQLQ...</td>\n",
       "    </tr>\n",
       "    <tr>\n",
       "      <th>3</th>\n",
       "      <td>P53779</td>\n",
       "      <td>MK10_HUMAN Mitogen-activated protein kinase 10</td>\n",
       "      <td>Homo sapiens</td>\n",
       "      <td>MAPK10</td>\n",
       "      <td>1</td>\n",
       "      <td>2</td>\n",
       "      <td>MSLHFLYYCSEPTLDVKIAFCQGFDKQVDVSYIAKHYNMSKSKVDN...</td>\n",
       "    </tr>\n",
       "    <tr>\n",
       "      <th>4</th>\n",
       "      <td>P53779-2</td>\n",
       "      <td>MK10_HUMAN Isoform Alpha-1 of Mitogen-activate...</td>\n",
       "      <td>Homo sapiens</td>\n",
       "      <td>MAPK10</td>\n",
       "      <td>0</td>\n",
       "      <td>0</td>\n",
       "      <td>MSLHFLYYCSEPTLDVKIAFCQGFDKQVDVSYIAKHYNMSKSKVDN...</td>\n",
       "    </tr>\n",
       "  </tbody>\n",
       "</table>\n",
       "</div>"
      ],
      "text/plain": [
       "       code                                       proteineName             os  \\\n",
       "0    P27361     MK03_HUMAN Mitogen-activated protein kinase 3   Homo sapiens    \n",
       "1  P27361-2  MK03_HUMAN Isoform 2 of Mitogen-activated prot...  Homo sapiens    \n",
       "2  P27361-3  MK03_HUMAN Isoform 3 of Mitogen-activated prot...  Homo sapiens    \n",
       "3    P53779    MK10_HUMAN Mitogen-activated protein kinase 10   Homo sapiens    \n",
       "4  P53779-2  MK10_HUMAN Isoform Alpha-1 of Mitogen-activate...  Homo sapiens    \n",
       "\n",
       "        gn  pe sv                                           sequence  \n",
       "0   MAPK3   1   4  MAAAAAQGGGGGEPRRTEGVGPGVPGEVEMVKGQPFDVGPRYTQLQ...  \n",
       "1    MAPK3   0  0  MAAAAAQGGGGGEPRRTEGVGPGVPGEVEMVKGQPFDVGPRYTQLQ...  \n",
       "2    MAPK3   0  0  MAAAAAQGGGGGEPRRTEGVGPGVPGEVEMVKGQPFDVGPRYTQLQ...  \n",
       "3  MAPK10   1   2  MSLHFLYYCSEPTLDVKIAFCQGFDKQVDVSYIAKHYNMSKSKVDN...  \n",
       "4   MAPK10   0  0  MSLHFLYYCSEPTLDVKIAFCQGFDKQVDVSYIAKHYNMSKSKVDN...  "
      ]
     },
     "execution_count": 18,
     "metadata": {},
     "output_type": "execute_result"
    }
   ],
   "source": [
    "data = pd.DataFrame()\n",
    "\n",
    "code, proteineName, os, gn, pe, sv  = parserHeaders(headers)\n",
    "\n",
    "data[\"code\"] = code\n",
    "data[\"proteineName\"] = proteineName\n",
    "data[\"os\"] = os\n",
    "data[\"gn\"] = gn\n",
    "data[\"pe\"] = pe\n",
    "data[\"sv\"] = sv\n",
    "data[\"sequence\"] = seqs\n",
    "\n",
    "data.head()"
   ]
  },
  {
   "cell_type": "code",
   "execution_count": 19,
   "metadata": {
    "collapsed": false
   },
   "outputs": [
    {
     "name": "stdout",
     "output_type": "stream",
     "text": [
      "Nb de lignes: 42098\n"
     ]
    }
   ],
   "source": [
    "print \"Nb de lignes: \" + str(len(data))"
   ]
  },
  {
   "cell_type": "markdown",
   "metadata": {},
   "source": [
    "## Etape 3: Identification des mots de chaque langue"
   ]
  },
  {
   "cell_type": "code",
   "execution_count": 20,
   "metadata": {
    "collapsed": false
   },
   "outputs": [
    {
     "name": "stdout",
     "output_type": "stream",
     "text": [
      "Dans l'ensemble des séquences de protéines, on dénombre :\n",
      "        *49 mots Latin_Latina-v2-Latin1 différents\n",
      "        *53 mots Latin_Latina-Latin1 différents\n",
      "        *10 mots Siswati-Latin1 différents\n",
      "        *20 mots Estonian_Eesti-Latin1 différents\n",
      "        *24 mots Lithuanian_Lietuviskai-Baltic différents\n",
      "        *23 mots Turkish_Turkce-Turkish différents\n",
      "        *23 mots Latvian-Latin1 différents\n",
      "        *13 mots Shona-Latin1 différents\n",
      "        *16 mots Finnish_Suomi-Latin1 différents\n",
      "        *26 mots Turkish_Turkce-UTF8 différents\n",
      "        *25 mots Mikmaq_Micmac-Mikmaq-Latin1 différents\n",
      "        *40 mots Icelandic_Yslenska-Latin1 différents\n",
      "        *17 mots Aguaruna-Latin1 différents\n",
      "        *35 mots Esperanto-T61 différents\n",
      "        *60 mots Sorbian-Latin2 différents\n",
      "        *34 mots Faroese-Latin1 différents\n",
      "        *38 mots Slovenian_Slovenscina-Latin2 différents\n",
      "        *51 mots Esperanto-UTF8 différents\n",
      "        *6 mots Zulu-Latin1 différents\n",
      "        *15 mots Hungarian_Magyar-Latin2 différents\n",
      "        *15 mots Hungarian_Magyar-Latin1 différents\n",
      "        *10 mots Quechua-Latin1 différents\n",
      "        *21 mots Somali-Latin1 différents\n",
      "        *39 mots Uzbek-Latin1 différents\n",
      "        *34 mots Bosnian_Bosanski-Latin2 différents\n",
      "        *10 mots Umbundu-Latin1 différents\n",
      "        *15 mots Luvale-Latin1 différents\n",
      "        *10 mots Xhosa-Latin1 différents\n",
      "        *32 mots Hrvatski_Croatian-Latin2 différents\n",
      "        *45 mots Czech-Latin2-err différents\n",
      "        *32 mots Croatian_Hrvatski-Latin2 différents\n",
      "        *49 mots Serbian_Srpski-Latin2 différents\n",
      "        *50 mots Romanian_Romana-Latin2 différents\n",
      "        *50 mots Romanian-Latin2 différents\n",
      "        *35 mots Slovak_Slovencina-Latin2 différents\n",
      "        *47 mots Slovak-Latin2 différents\n",
      "        *47 mots Achehnese-Latin1 différents\n",
      "        *25 mots Pulaar-UTF8 différents\n",
      "        *25 mots Peuhl-UTF8 différents\n",
      "        *39 mots Portuguese_Portugues-Latin1 différents\n",
      "        *23 mots Albanian_Shqip-Latin1 différents\n",
      "        *7 mots Ngangela_Nyemba-Latin1 différents\n",
      "        *17 mots Rukonzo_Konjo-Latin1 différents\n",
      "        *47 mots Welsh_Cymraeg-Latin1 différents\n",
      "        *29 mots Asturian_Bable-Latin1 différents\n",
      "        *13 mots Zhuang-Latin1 différents\n",
      "        *43 mots Italian_Italiano-Latin1 différents\n",
      "        *43 mots Italian-Latin1 différents\n",
      "        *40 mots Czech_Cesky-Latin2 différents\n",
      "        *40 mots Czech-Latin2 différents\n",
      "        *13 mots Oshiwambo_Ndonga-Latin1 différents\n",
      "        *56 mots Rhaeto-Romance_Rumantsch-Latin1 différents\n",
      "        *13 mots IrishGaelic_Gaeilge-Latin1 différents\n",
      "        *28 mots Bemba-Latin1 différents\n",
      "        *41 mots Aymara-Latin1 différents\n",
      "        *22 mots Uighur_Uyghur-Latin1 différents\n",
      "        *47 mots French_Francais-Latin1 différents\n",
      "        *22 mots Yao-Latin1 différents\n",
      "        *26 mots Malagasy-Latin1 différents\n",
      "        *20 mots Gagauz_Gagauzi-UTF8 différents\n",
      "        *15 mots Ido-Latin1 différents\n",
      "        *41 mots Hungarian_Magyar-UTF8 différents\n",
      "        *46 mots Galician_Galego-Latin1 différents\n",
      "        *46 mots OccitanLanguedocien-Latin1 différents\n",
      "        *22 mots Uighur_Uyghur-UTF8 différents\n",
      "        *49 mots Breton-Latin1 différents\n",
      "        *49 mots Vlach-Latin1 différents\n",
      "        *43 mots Polish_Polski-Latin2 différents\n",
      "        *17 mots Polish-Latin2 différents\n",
      "        *17 mots OccitanAuvergnat-Latin1 différents\n",
      "        *45 mots Norwegian_Norsk-Nynorsk-Latin1 différents\n",
      "        *7 mots Tonga-Latin1 différents\n",
      "        *45 mots Swedish_Svenska-Latin1 différents\n",
      "        *51 mots Catalan-Latin1 différents\n",
      "        *19 mots Javanese-Latin1 différents\n",
      "        *19 mots Basque_Euskara-Latin1 différents\n",
      "        *15 mots Candoshi-Shapra-Latin1 différents\n",
      "        *8 mots Yagua-Latin1 différents\n",
      "        *5 mots Ndebele-Latin1 différents\n",
      "        *50 mots Catalan_Catala-Latin1 différents\n",
      "        *53 mots Romani-Latin1 différents\n",
      "        *57 mots Picard-Latin1 différents\n",
      "        *22 mots Luxembourgish_Letzebuergeusch-Latin1 différents\n",
      "        *39 mots German_Deutsch-Latin1 différents\n",
      "        *15 mots Bora-Latin1 différents\n",
      "        *47 mots Paez-Latin1 différents\n",
      "        *32 mots Yapese-Latin1 différents\n",
      "        *47 mots Sammarinese-Latin1 différents\n",
      "        *64 mots Czech-UTF8 différents\n",
      "        *12 mots Lunda_Chokwe-lunda-Latin1 différents\n",
      "        *14 mots Friulian_Friulano-Latin1 différents\n",
      "        *49 mots Balinese-Latin1 différents\n",
      "        *18 mots Sharanahua-Latin1 différents\n",
      "        *16 mots Madurese-Latin1 différents\n",
      "        *21 mots Cokwe-Latin1 différents\n",
      "        *42 mots Quichua-Latin1 différents\n",
      "        *11 mots Norwegian-Latin1 différents\n",
      "        *34 mots Romani-UTF8 différents\n",
      "        *45 mots Waray-Latin1 différents\n",
      "        *41 mots Spanish_Espanol-Latin1 différents\n",
      "        *31 mots Spanish-Latin1 différents\n",
      "        *31 mots Norwegian_Norsk-Bokmal-Latin1 différents\n",
      "        *38 mots Danish_Dansk-Latin1 différents\n",
      "        *8 mots Oromiffa_AfaanOromo-Latin1 différents\n",
      "        *8 mots Afaan_Oromo_Oromiffa-Latin1 différents\n",
      "        *21 mots Sundanese-Latin1 différents\n",
      "        *8 mots Totonaco-Latin1 différents\n",
      "        *29 mots Burmese_Myanmar-WinResearcher différents\n",
      "        *22 mots Walloon_Wallon-Latin1 différents\n",
      "        *55 mots Garifuna_Garifuna-Latin1 différents\n",
      "        *33 mots Kapampangan-Latin1 différents\n",
      "        *52 mots HaitianCreole_Kreyol-Latin1 différents\n",
      "        *20 mots Jola-Fogny_Diola-UTF8 différents\n",
      "        *15 mots Runyankore-rukiga_Nkore-kiga-Latin1 différents\n",
      "        *14 mots Mazateco-Latin1 différents\n",
      "        *81 mots Mende-UTF8 différents\n",
      "        *33 mots English-Latin1 différents\n",
      "        *12 mots Inuktikut_Greenlandic-Latin1 différents\n",
      "        *2 mots Greenlandic_Inuktikut-Latin1 différents\n",
      "        *2 mots Bugisnese-Latin1 différents\n",
      "        *34 mots Hani-Latin1 différents\n",
      "        *41 mots Kimbundu_Mbundu-Latin1 différents\n",
      "        *14 mots Corsican-Latin1 différents\n",
      "        *52 mots ScottishGaelic_GaidhligAlbanach-Latin1 différents\n",
      "        *45 mots Interlingua-Latin1 différents\n",
      "        *47 mots Maltese-UTF8 différents\n",
      "        *28 mots Frisian-Latin1 différents\n",
      "        *17 mots Rundi_Kirundi-Latin1 différents\n",
      "        *18 mots Kinyarwanda-Latin1 différents\n",
      "        *30 mots Chamorro-Latin1 différents\n",
      "        *21 mots Wayuu-Latin1 différents\n",
      "        *19 mots Iloko_Ilocano-Latin1 différents\n",
      "        *21 mots Wolof-Latin1 différents\n",
      "        *29 mots Swahili_Kiswahili-Latin1 différents\n",
      "        *15 mots Swaheli-Latin1 différents\n",
      "        *15 mots Sardinian-Latin1 différents\n",
      "        *45 mots Indonesian-Latin1 différents\n",
      "        *15 mots Kurdish-UTF8 différents\n",
      "        *43 mots Filipino_Tagalog-Latin1 différents\n",
      "        *23 mots Chayahuita-Latin1 différents\n",
      "        *27 mots Minangkabau-Latin1 différents\n",
      "        *13 mots Nyanja_Chechewa-Latin1 différents\n",
      "        *13 mots Chechewa_Nyanja-Latin1 différents\n",
      "        *7 mots Caquinte-Latin1 différents\n",
      "        *20 mots Bhojpuri-Agra différents\n",
      "        *17 mots Sami_Lappish-UTF8 différents\n",
      "        *27 mots Ponapean-Latin1 différents\n",
      "        *14 mots Cebuano-Latin1 différents\n",
      "        *41 mots Dagbani-UTF8 différents\n",
      "        *51 mots Adja-UTF8 différents\n",
      "        *14 mots Malay_BahasaMelayu-Latin1 différents\n",
      "        *31 mots Guarani-Latin1 différents\n",
      "        *12 mots Amahuaca-Latin1 différents\n",
      "        *7 mots Achuar-Shiwiar-Latin1 différents\n",
      "        *7 mots Hausa_Haoussa-Latin1 différents\n",
      "        *4 mots Amharic-Afenegus6..60375 différents\n",
      "        *45 mots Amahuaca différents\n",
      "        *40 mots Guen_Mina-UTF8 différents\n",
      "        *13 mots Magahi-Agra différents\n",
      "        *20 mots Dutch_Nederlands-Latin1 différents\n",
      "        *10 mots Luba-Kasai_Tshiluba-Latin1 différents\n",
      "        *18 mots Bikol_Bicolano-Latin1 différents\n",
      "        *26 mots SouthernSotho_Sotho-Sesotho-Sutu-Sesutu-Latin1 différents\n",
      "        *16 mots Afrikaans-Latin1 différents\n",
      "        *43 mots Ditammari-UTF8 différents\n",
      "        *17 mots Sussu_Soussou-Sosso-Soso-Susu-UTF8 différents\n",
      "        *41 mots Sukuma-Latin1 différents\n",
      "        *18 mots Makonde-Latin1 différents\n",
      "        *24 mots Seereer-UTF8 différents\n",
      "        *34 mots Hiligaynon-Latin1 différents\n",
      "        *48 mots Ewe_Eve-UTF8 différents\n",
      "        *12 mots Nyanja_Chinyanja-Latin1 différents\n",
      "        *20 mots Luganda_Ganda-Latin1 différents\n",
      "        *52 mots Batonu_Bariba-UTF8 différents\n",
      "        *11 mots Nahuatl-Latin1 différents\n",
      "        *49 mots HaitianCreole_Popular-Latin1 différents\n",
      "        *44 mots Ga-UTF8 différents\n",
      "        *12 mots Mapudungun_Mapuzgun-Latin1 différents\n",
      "        *15 mots NorthernSotho_Pedi-Sepedi-Latin1 différents\n",
      "        *26 mots Kinyamwezi_Nyamwezi-Latin1 différents\n",
      "        *37 mots Tzotzil-Latin1 différents\n",
      "        *14 mots WesternSotho_Tswana-Setswana-Latin1 différents\n",
      "        *24 mots Miskito_Miskito-Latin1 différents\n",
      "        *7 mots Mam-Latin1 différents\n",
      "        *25 mots Ashaninca-Latin1 différents\n",
      "        *11 mots Urarina-Latin1 différents\n",
      "        *14 mots Mapudungun_Mapuzgun-UTF8 différents\n",
      "        *52 mots Asante-UTF8 différents\n",
      "        *19 mots Pipil-Latin1 différents\n",
      "        *20 mots Limba-UTF8 différents\n",
      "        *43 mots Trukese_Chuuk-Latin1 différents\n",
      "        *10 mots Nomatsiguenga-Latin1 différents\n",
      "        *43 mots Chuuk_Trukese-Latin1 différents\n",
      "        *51 mots Hmong_Miao-Sichuan-Guizhou-Yunnan-Latin1 différents\n",
      "        *38 mots Kpelewo-UTF8 différents\n",
      "        *7 mots Asheninca-Latin1 différents\n",
      "        *29 mots Fijian-Latin1 différents\n",
      "        *43 mots Tetum-Latin1 différents\n",
      "        *40 mots Amuesha-Yanesha-UTF8 différents\n",
      "        *28 mots Toba-UTF8 différents\n",
      "        *25 mots Soninke_Soninkanxaane-UTF8 différents\n",
      "        *7 mots Kicongo-Latin1 différents\n",
      "        *22 mots Bambara-UTF8 différents\n",
      "        *8 mots Arabela-Latin1 différents\n",
      "        *54 mots Tiv-Latin1 différents\n",
      "        *19 mots Matses-Latin1 différents\n",
      "        *15 mots Shipibo-Conibo-Latin1 différents\n",
      "        *7 mots Kituba-Latin1 différents\n",
      "        *22 mots Samoan-Latin1 différents\n",
      "        *29 mots Tojol-abal-Latin1 différents\n",
      "        *34 mots Lozi-Latin1 différents\n",
      "        *41 mots Ibibio_Efik-Latin1 différents\n",
      "        *42 mots Themne_Temne-UTF8 différents\n",
      "        *41 mots Maori-Latin1 différents\n",
      "        *49 mots Moore_More-UTF8 différents\n",
      "        *7 mots Tzeltal-Latin1 différents\n",
      "        *41 mots Mayan_Yucateco-Latin1 différents\n",
      "        *33 mots Azeri_Azerbaijani_Cyrillic-Az.Times.Cyr.Normal0117 différents\n",
      "        *28 mots Cashibo-Cacataibo-Latin1 différents\n",
      "        *22 mots Palauan-Latin1 différents\n",
      "        *23 mots Huitoto_Murui-Latin1 différents\n",
      "        *50 mots Hmong_Miao-SouthernEast-Guizhou-Latin1 différents\n",
      "        *57 mots Kaonde-Latin1 différents\n",
      "        *7 mots Igbo-UTF8 différents\n",
      "        *33 mots Bichelamar-Latin1 différents\n",
      "        *44 mots Edo-Latin1 différents\n",
      "        *37 mots Tongan_Tonga-Latin1 différents\n",
      "        *9 mots Purhepecha-UTF8 différents\n",
      "        *31 mots Huasteco-Latin1 différents\n",
      "        *53 mots Krio-UTF8 différents\n",
      "        *59 mots Beti-UTF8 différents\n",
      "        *25 mots SolomonsPidgin_Pijin-Latin1 différents\n",
      "        *32 mots Fante-UTF8 différents\n",
      "        *31 mots Kiche_Quiche-Latin1 différents\n",
      "        *45 mots Hmong_Miao_Northern-East-Guizhou-Latin1 différents\n",
      "        *37 mots Gonja-UTF8 différents\n",
      "        *35 mots Zapoteco-SanLucasQuiavini-Latin1 différents\n",
      "        *35 mots Dendi-UTF8 différents\n",
      "        *22 mots Akuapem_Twi-UTF8 différents\n",
      "        *9 mots Chickasaw-Latin1 différents\n",
      "        *11 mots Qechi_Kekchi-Latin1 différents\n",
      "        *30 mots Lingala-Latin1 différents\n",
      "        *25 mots Cakchiquel-Latin1 différents\n",
      "        *29 mots Kabye-UTF8 différents\n",
      "        *26 mots Amarakaeri-Latin1 différents\n",
      "        *27 mots Maninka-UTF8 différents\n",
      "        *30 mots Nzema-UTF8 différents\n",
      "        *33 mots Vietnamese-TCVN différents\n",
      "        *92 mots TokPisin-Latin1 différents\n",
      "        *49 mots Tahitian-UTF8 différents\n",
      "        *34 mots Kasem-UTF8 différents\n",
      "        *27 mots Marshallese-Latin1 différents\n",
      "        *37 mots Fon-UTF8 différents\n",
      "        *59 mots Chinanteco-UTF8 différents\n",
      "        *69 mots Rarotongan_MaoriCookIslands-Latin1 différents\n",
      "        *27 mots NigerianPidginEnglish-Latin1 différents\n",
      "        *36 mots Dagaare-UTF8 différents\n",
      "        *19 mots Mixteco-Latin1 différents\n",
      "        *22 mots Tenek_Huasteco-Latin1 différents\n",
      "        *37 mots Baoule-UTF8 différents\n",
      "        *28 mots Sango_Sangho-Latin1 différents\n",
      "        *16 mots Wama-UTF8 différents\n",
      "        *29 mots Mazahua_Jnatrjo-UTF8 différents\n",
      "        *25 mots Dangme-UTF8 différents\n",
      "        *46 mots Zapoteco-Latin1 différents\n",
      "        *36 mots Lamnso_Lam-nso-UTF8 différents\n",
      "        *30 mots Hawaiian-UTF8 différents\n",
      "        *15 mots Cashinahua-Latin1 différents\n",
      "        *15 mots Campa_Pajonalino-Latin1 différents\n",
      "        *9 mots Navaho_Dine-Navajo-Navaho-font différents\n",
      "        *11 mots Otomi_Nahnu-Latin1 différents\n",
      "        *24 mots Bosnian_Bosanski-Cyrillic différents\n",
      "        *10 mots Bosnian_Bosanski-UTF8 différents\n",
      "        *7 mots Tigrinya_Tigrigna-VG2Main différents\n",
      "        *45 mots Vietnamese-UTF8 différents\n",
      "        *43 mots Vietnamese-VPS différents\n",
      "        *43 mots Vietnamese-VIQR différents\n",
      "        *12 mots Yoruba-UTF8 différents\n",
      "        *35 mots Vietnamese-ALRN-UTF8 différents\n",
      "        *16 mots Chinanteco-Ajitlan-Latin1 différents\n",
      "        *1 mots Serbian_Srpski-UTF8 différents\n",
      "        *2 mots Macedonian-UTF8 différents\n"
     ]
    }
   ],
   "source": [
    "# Besoin d'optimisation de la recherche d'un mot dans une string\n",
    "# Le module esmre a une très grande scalabilité \n",
    "import esm\n",
    "\n",
    "totalWords = []\n",
    "\n",
    "print \"Dans l'ensemble des séquences de protéines, on dénombre :\"  \n",
    "for i in range(len(dicos)):\n",
    "    # Creer et remplir l'index\n",
    "    index = esm.Index()\n",
    "    try :\n",
    "        for word in dicos[i]:\n",
    "            index.enter(word)\n",
    "        index.fix()\n",
    "\n",
    "        words = []\n",
    "        for sequence in data.sequence:\n",
    "            words.extend(index.query(sequence))\n",
    "            # esmre fournit une liste de tuple(indexDebut,indexFin), motTrouvé \n",
    "            words = list(set([item[1] for item in words]))  \n",
    "    #        words = [word for word in dictionaries[i] if word in sequence]\n",
    "        totalWords.append(words)\n",
    "        print \"        *\"+str(len(set(totalWords[i]))) +\" mots \"+langages[i]+ \" différents\"  \n",
    "    except : \n",
    "        print \"caracteres non décodes langage \"+ langages[i]\n",
    "        \n",
    "    \n"
   ]
  },
  {
   "cell_type": "code",
   "execution_count": 21,
   "metadata": {
    "collapsed": false
   },
   "outputs": [
    {
     "name": "stdout",
     "output_type": "stream",
     "text": [
      "Le nombre max de mots : 92\n"
     ]
    }
   ],
   "source": [
    "wordsInProt = [len(words) for words in totalWords]\n",
    "maxWordsInProt  = max(wordsInProt)\n",
    "print \"Le nombre max de mots : \" + str(maxWordsInProt)"
   ]
  },
  {
   "cell_type": "code",
   "execution_count": 22,
   "metadata": {
    "collapsed": false
   },
   "outputs": [],
   "source": [
    "# Reordonne les listes en en fonction du nombre max de mots\n",
    "langages = [x for (y,x) in sorted(zip(wordsInProt,langages), reverse=True)]\n",
    "totalWords = [x for (y,x) in sorted(zip(wordsInProt,totalWords), reverse=True)]\n",
    "wordsInProt = [y for (y,x) in sorted(zip(wordsInProt,langages), reverse =True)]"
   ]
  },
  {
   "cell_type": "code",
   "execution_count": 23,
   "metadata": {
    "collapsed": false
   },
   "outputs": [
    {
     "name": "stdout",
     "output_type": "stream",
     "text": [
      "TokPisin-Latin1 : 92 mots différents\n",
      "Mende-UTF8 : 81 mots différents\n",
      "Rarotongan_MaoriCookIslands-Latin1 : 69 mots différents\n",
      "Czech-UTF8 : 64 mots différents\n",
      "Sorbian-Latin2 : 60 mots différents\n"
     ]
    }
   ],
   "source": [
    "for i in range(5):\n",
    "    print langages[i] + \" : \"+ str(wordsInProt[i]) + \" mots différents\""
   ]
  },
  {
   "cell_type": "markdown",
   "metadata": {},
   "source": [
    "### Comme attendu, la langue parlée par les protéines est le \"tok pisin\", ou néo-mélanésien,  un créole à base lexicale anglaise ..."
   ]
  },
  {
   "cell_type": "code",
   "execution_count": 24,
   "metadata": {
    "collapsed": false
   },
   "outputs": [
    {
     "name": "stdout",
     "output_type": "stream",
     "text": [
      "Le mot le plus long est determination (13 lettres), en langage Mende-UTF8\n",
      "Le mot le plus long est determination (13 lettres), en langage Czech-Latin2-err\n"
     ]
    }
   ],
   "source": [
    "longestWords = []\n",
    "maxLength = 0\n",
    "for lang in totalWords:\n",
    "    lengths = [ len(word) for word in lang]\n",
    "    maxLength = max(maxLength,max(lengths))\n",
    "    longestWord = [word for word in lang if len(word) == max(lengths)]\n",
    "    longestWords.append(longestWord)\n",
    "    \n",
    "    \n",
    "for i in range(len(longestWords)):\n",
    "    for word in longestWords[i] :\n",
    "        if len(word) == maxLength :\n",
    "            print \"Le mot le plus long est \" + word + \" (\"+str(maxLength)+\" lettres)\"+ \", en langage \" + langages[i] "
   ]
  },
  {
   "cell_type": "markdown",
   "metadata": {},
   "source": [
    "La base lexicale anglaise est bien représentée et les corpus faciles d'accès. En se basant sur l'Anglais ...\n",
    "\n",
    "## Etape 4:  Visualisation \n"
   ]
  },
  {
   "cell_type": "markdown",
   "metadata": {},
   "source": [
    "Quelques uns des textes les plus connus de la littérature - en Anglais"
   ]
  },
  {
   "cell_type": "code",
   "execution_count": 25,
   "metadata": {
    "collapsed": false
   },
   "outputs": [
    {
     "data": {
      "text/plain": [
       "['austen-emma.txt',\n",
       " 'austen-persuasion.txt',\n",
       " 'austen-sense.txt',\n",
       " 'bible-kjv.txt',\n",
       " 'blake-poems.txt',\n",
       " 'bryant-stories.txt',\n",
       " 'burgess-busterbrown.txt',\n",
       " 'carroll-alice.txt',\n",
       " 'chesterton-ball.txt',\n",
       " 'chesterton-brown.txt',\n",
       " 'chesterton-thursday.txt',\n",
       " 'edgeworth-parents.txt',\n",
       " 'melville-moby_dick.txt',\n",
       " 'milton-paradise.txt',\n",
       " 'shakespeare-caesar.txt',\n",
       " 'shakespeare-hamlet.txt',\n",
       " 'shakespeare-macbeth.txt',\n",
       " 'whitman-leaves.txt']"
      ]
     },
     "execution_count": 25,
     "metadata": {},
     "output_type": "execute_result"
    }
   ],
   "source": [
    "from nltk.corpus import gutenberg\n",
    "gutenberg.fileids()"
   ]
  },
  {
   "cell_type": "code",
   "execution_count": 26,
   "metadata": {
    "collapsed": false
   },
   "outputs": [
    {
     "name": "stdout",
     "output_type": "stream",
     "text": [
      "2621613\n"
     ]
    }
   ],
   "source": [
    "corpus =[]\n",
    "for name in gutenberg.fileids():\n",
    "    corpus.extend(nltk.corpus.gutenberg.words(name))\n",
    "\n",
    "print len(corpus)"
   ]
  },
  {
   "cell_type": "code",
   "execution_count": 27,
   "metadata": {
    "collapsed": true
   },
   "outputs": [],
   "source": [
    "# Pas de racination pour rendre plus joli le nuage de mots\n",
    "dico = list(set(tokenize_only(clean((\" \").join(corpus)))))"
   ]
  },
  {
   "cell_type": "code",
   "execution_count": 28,
   "metadata": {
    "collapsed": false
   },
   "outputs": [
    {
     "name": "stdout",
     "output_type": "stream",
     "text": [
      "Dans l'ensemble des séquences de protéines, on dénombre :\n",
      "1742 mots distincts en Anglais.\n"
     ]
    }
   ],
   "source": [
    "totalWords = []\n",
    "\n",
    "print \"Dans l'ensemble des séquences de protéines, on dénombre :\"  \n",
    "index = esm.Index()\n",
    "for word in dico:\n",
    "    index.enter(word)\n",
    "index.fix()\n",
    "\n",
    "words = []\n",
    "for sequence in data.sequence:\n",
    "    words.extend(index.query(sequence))\n",
    "    words = list(set([item[1] for item in words]))  \n",
    "    totalWords.extend(words)\n",
    "\n",
    "    \n",
    "print str(len(totalWords)) + \" mots distincts en Anglais.\"   \n"
   ]
  },
  {
   "cell_type": "markdown",
   "metadata": {},
   "source": [
    "### Nuages de mots"
   ]
  },
  {
   "cell_type": "code",
   "execution_count": 29,
   "metadata": {
    "collapsed": false
   },
   "outputs": [],
   "source": [
    "from wordcloud import WordCloud, STOPWORDS\n",
    "import matplotlib.pyplot as plt\n",
    "wordcloud = WordCloud(background_color='white',\n",
    "                          width=1200,\n",
    "                          height=1000\n",
    "                         ).generate(\" \".join(totalWords))\n"
   ]
  },
  {
   "cell_type": "code",
   "execution_count": 30,
   "metadata": {
    "collapsed": false
   },
   "outputs": [
    {
     "data": {
      "image/png": "[encoded data removed]",
      "text/plain": [
       "<matplotlib.figure.Figure at 0x22e591d0>"
      ]
     },
     "metadata": {},
     "output_type": "display_data"
    }
   ],
   "source": [
    "plt.figure(figsize=(8, 6))\n",
    "\n",
    "\n",
    "# English\n",
    "plt.title('English')\n",
    "plt.axis('off')\n",
    "plt.imshow(wordcloud)\n",
    "plt.show()"
   ]
  },
  {
   "cell_type": "markdown",
   "metadata": {},
   "source": [
    "<tr>\n",
    "    <th>[Wordsift](https://wordsift.org)</th>\n",
    "    <th>[WordItOut](https://worditout.com/word-cloud/create)</th> \n",
    "    <th>[abcya](http://www.abcya.com/word_clouds.htm)</th>\n",
    "</tr>\n",
    "<tr>\n",
    "    <td> <img src=\"files/wordShift.png\" alt=\"Drawing\" style=\"width: 300px;\"/> </td>\n",
    "    <td> <img src=\"files/WordItout.png\" alt=\"Drawing\" style=\"width: 300px;\"/> </td>\n",
    "    <td> <img src=\"files/abcya.png\" alt=\"Drawing\" style=\"width: 300px;\"/> </td>\n",
    "</tr>\n",
    "\n"
   ]
  },
  {
   "cell_type": "code",
   "execution_count": null,
   "metadata": {
    "collapsed": true
   },
   "outputs": [],
   "source": []
  }
 ],
 "metadata": {
  "celltoolbar": "Slideshow",
  "kernelspec": {
   "display_name": "Python 2",
   "language": "python",
   "name": "python2"
  },
  "language_info": {
   "codemirror_mode": {
    "name": "ipython",
    "version": 2
   },
   "file_extension": ".py",
   "mimetype": "text/x-python",
   "name": "python",
   "nbconvert_exporter": "python",
   "pygments_lexer": "ipython2",
   "version": "2.7.13"
  }
 },
 "nbformat": 4,
 "nbformat_minor": 2
}
