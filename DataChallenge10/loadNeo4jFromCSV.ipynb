{
 "cells": [
  {
   "cell_type": "code",
   "execution_count": 15,
   "metadata": {
    "collapsed": true
   },
   "outputs": [],
   "source": [
    "import pandas as pd"
   ]
  },
  {
   "cell_type": "code",
   "execution_count": 16,
   "metadata": {
    "collapsed": false
   },
   "outputs": [],
   "source": [
    "from py2neo import Graph, authenticate, Relationship"
   ]
  },
  {
   "cell_type": "code",
   "execution_count": 17,
   "metadata": {
    "collapsed": false
   },
   "outputs": [],
   "source": [
    "graph = Graph(user=\"neo4j\", password=\"admin\")"
   ]
  },
  {
   "cell_type": "code",
   "execution_count": 18,
   "metadata": {
    "collapsed": false
   },
   "outputs": [
    {
     "data": {
      "text/plain": [
       "<py2neo.database.Cursor at 0xad9ccc0>"
      ]
     },
     "execution_count": 18,
     "metadata": {},
     "output_type": "execute_result"
    }
   ],
   "source": [
    "#erase db\n",
    "graph.run('''\n",
    "MATCH (n)\n",
    "DETACH DELETE n\n",
    "''')"
   ]
  },
  {
   "cell_type": "code",
   "execution_count": 19,
   "metadata": {
    "collapsed": true
   },
   "outputs": [],
   "source": [
    "df = pd.DataFrame.from_csv(\"C:\\\\Users\\\\thaunayf\\\\Documents\\Neo4j\\\\DC10_3\\\\import\\\\day1.csv\", index_col=None)\n",
    "accountsOrig = list(set(df[\"fakeNameOrig\"]))\n",
    "accountsDest = list(set(df[\"fakeNameDest\"]))\n",
    "accounts = list(set(accountsOrig + accountsDest))"
   ]
  },
  {
   "cell_type": "code",
   "execution_count": 20,
   "metadata": {
    "collapsed": false
   },
   "outputs": [
    {
     "name": "stdout",
     "output_type": "stream",
     "text": [
      "Writing 1800 accounts\n"
     ]
    }
   ],
   "source": [
    "for i,row in enumerate(accounts):\n",
    "    graph.run('''\n",
    "    \n",
    "   CREATE (a:Account{Name:$name}) \n",
    "   \n",
    "    ''',{'name':row})\n",
    "    \n",
    "    \n",
    "x = graph.run('''\n",
    "        MATCH (a:Account)\n",
    "        RETURN COUNT(a) AS ACCOUNT\n",
    "    ''').data()[0]\n",
    "\n",
    "print(\"Writing %d accounts\" % x['ACCOUNT'])"
   ]
  },
  {
   "cell_type": "markdown",
   "metadata": {},
   "source": [
    "# Loading from dataFrame ..."
   ]
  },
  {
   "cell_type": "code",
   "execution_count": 31,
   "metadata": {
    "collapsed": true
   },
   "outputs": [],
   "source": [
    "df = pd.DataFrame.from_csv(\"C:\\\\Users\\\\thaunayf\\\\Documents\\Neo4j\\\\DC10_3\\\\import\\\\day1.csv\", index_col=None)"
   ]
  },
  {
   "cell_type": "code",
   "execution_count": 32,
   "metadata": {
    "collapsed": false
   },
   "outputs": [
    {
     "data": {
      "text/html": [
       "<div>\n",
       "<table border=\"1\" class=\"dataframe\">\n",
       "  <thead>\n",
       "    <tr style=\"text-align: right;\">\n",
       "      <th></th>\n",
       "      <th>Unnamed: 0</th>\n",
       "      <th>step</th>\n",
       "      <th>type</th>\n",
       "      <th>amount</th>\n",
       "      <th>nameOrig</th>\n",
       "      <th>oldBalanceOrig</th>\n",
       "      <th>newBalanceOrig</th>\n",
       "      <th>nameDest</th>\n",
       "      <th>oldBalanceDest</th>\n",
       "      <th>newBalanceDest</th>\n",
       "      <th>isFraud</th>\n",
       "      <th>isFlaggedFraud</th>\n",
       "      <th>typeAsNumeric</th>\n",
       "      <th>origIsCustomer</th>\n",
       "      <th>destIsCustomer</th>\n",
       "      <th>fakeNameOrig</th>\n",
       "      <th>fakeNameDest</th>\n",
       "    </tr>\n",
       "  </thead>\n",
       "  <tbody>\n",
       "    <tr>\n",
       "      <th>0</th>\n",
       "      <td>0</td>\n",
       "      <td>1</td>\n",
       "      <td>PAYMENT</td>\n",
       "      <td>9839.64</td>\n",
       "      <td>C1231006815</td>\n",
       "      <td>170136.0</td>\n",
       "      <td>160296.36</td>\n",
       "      <td>M1979787155</td>\n",
       "      <td>0.0</td>\n",
       "      <td>0.0</td>\n",
       "      <td>0</td>\n",
       "      <td>0</td>\n",
       "      <td>2</td>\n",
       "      <td>1</td>\n",
       "      <td>0</td>\n",
       "      <td>C123</td>\n",
       "      <td>M197</td>\n",
       "    </tr>\n",
       "    <tr>\n",
       "      <th>1</th>\n",
       "      <td>1</td>\n",
       "      <td>1</td>\n",
       "      <td>PAYMENT</td>\n",
       "      <td>1864.28</td>\n",
       "      <td>C1666544295</td>\n",
       "      <td>21249.0</td>\n",
       "      <td>19384.72</td>\n",
       "      <td>M2044282225</td>\n",
       "      <td>0.0</td>\n",
       "      <td>0.0</td>\n",
       "      <td>0</td>\n",
       "      <td>0</td>\n",
       "      <td>2</td>\n",
       "      <td>1</td>\n",
       "      <td>0</td>\n",
       "      <td>C166</td>\n",
       "      <td>M204</td>\n",
       "    </tr>\n",
       "    <tr>\n",
       "      <th>2</th>\n",
       "      <td>2</td>\n",
       "      <td>1</td>\n",
       "      <td>TRANSFER</td>\n",
       "      <td>181.00</td>\n",
       "      <td>C1305486145</td>\n",
       "      <td>181.0</td>\n",
       "      <td>0.00</td>\n",
       "      <td>C553264065</td>\n",
       "      <td>0.0</td>\n",
       "      <td>0.0</td>\n",
       "      <td>1</td>\n",
       "      <td>0</td>\n",
       "      <td>1</td>\n",
       "      <td>1</td>\n",
       "      <td>1</td>\n",
       "      <td>C130</td>\n",
       "      <td>C553</td>\n",
       "    </tr>\n",
       "    <tr>\n",
       "      <th>3</th>\n",
       "      <td>3</td>\n",
       "      <td>1</td>\n",
       "      <td>CASH_OUT</td>\n",
       "      <td>181.00</td>\n",
       "      <td>C840083671</td>\n",
       "      <td>181.0</td>\n",
       "      <td>0.00</td>\n",
       "      <td>C38997010</td>\n",
       "      <td>21182.0</td>\n",
       "      <td>0.0</td>\n",
       "      <td>1</td>\n",
       "      <td>0</td>\n",
       "      <td>0</td>\n",
       "      <td>1</td>\n",
       "      <td>1</td>\n",
       "      <td>C840</td>\n",
       "      <td>C389</td>\n",
       "    </tr>\n",
       "    <tr>\n",
       "      <th>4</th>\n",
       "      <td>4</td>\n",
       "      <td>1</td>\n",
       "      <td>PAYMENT</td>\n",
       "      <td>11668.14</td>\n",
       "      <td>C2048537720</td>\n",
       "      <td>41554.0</td>\n",
       "      <td>29885.86</td>\n",
       "      <td>M1230701703</td>\n",
       "      <td>0.0</td>\n",
       "      <td>0.0</td>\n",
       "      <td>0</td>\n",
       "      <td>0</td>\n",
       "      <td>2</td>\n",
       "      <td>1</td>\n",
       "      <td>0</td>\n",
       "      <td>C204</td>\n",
       "      <td>M123</td>\n",
       "    </tr>\n",
       "  </tbody>\n",
       "</table>\n",
       "</div>"
      ],
      "text/plain": [
       "   Unnamed: 0  step      type    amount     nameOrig  oldBalanceOrig  \\\n",
       "0           0     1   PAYMENT   9839.64  C1231006815        170136.0   \n",
       "1           1     1   PAYMENT   1864.28  C1666544295         21249.0   \n",
       "2           2     1  TRANSFER    181.00  C1305486145           181.0   \n",
       "3           3     1  CASH_OUT    181.00   C840083671           181.0   \n",
       "4           4     1   PAYMENT  11668.14  C2048537720         41554.0   \n",
       "\n",
       "   newBalanceOrig     nameDest  oldBalanceDest  newBalanceDest  isFraud  \\\n",
       "0       160296.36  M1979787155             0.0             0.0        0   \n",
       "1        19384.72  M2044282225             0.0             0.0        0   \n",
       "2            0.00   C553264065             0.0             0.0        1   \n",
       "3            0.00    C38997010         21182.0             0.0        1   \n",
       "4        29885.86  M1230701703             0.0             0.0        0   \n",
       "\n",
       "   isFlaggedFraud  typeAsNumeric  origIsCustomer  destIsCustomer fakeNameOrig  \\\n",
       "0               0              2               1               0         C123   \n",
       "1               0              2               1               0         C166   \n",
       "2               0              1               1               1         C130   \n",
       "3               0              0               1               1         C840   \n",
       "4               0              2               1               0         C204   \n",
       "\n",
       "  fakeNameDest  \n",
       "0         M197  \n",
       "1         M204  \n",
       "2         C553  \n",
       "3         C389  \n",
       "4         M123  "
      ]
     },
     "execution_count": 32,
     "metadata": {},
     "output_type": "execute_result"
    }
   ],
   "source": [
    "df.head()"
   ]
  },
  {
   "cell_type": "code",
   "execution_count": 36,
   "metadata": {
    "collapsed": true
   },
   "outputs": [],
   "source": [
    "df = pd.DataFrame.from_csv(\"C:\\\\Users\\\\thaunayf\\\\Documents\\Neo4j\\\\DC10_3\\\\import\\\\hour\"+str(1)+\".csv\")"
   ]
  },
  {
   "cell_type": "code",
   "execution_count": 37,
   "metadata": {
    "collapsed": false
   },
   "outputs": [
    {
     "data": {
      "text/html": [
       "<div>\n",
       "<table border=\"1\" class=\"dataframe\">\n",
       "  <thead>\n",
       "    <tr style=\"text-align: right;\">\n",
       "      <th></th>\n",
       "      <th>step</th>\n",
       "      <th>type</th>\n",
       "      <th>amount</th>\n",
       "      <th>nameOrig</th>\n",
       "      <th>oldBalanceOrig</th>\n",
       "      <th>newBalanceOrig</th>\n",
       "      <th>nameDest</th>\n",
       "      <th>oldBalanceDest</th>\n",
       "      <th>newBalanceDest</th>\n",
       "      <th>isFraud</th>\n",
       "      <th>isFlaggedFraud</th>\n",
       "      <th>typeAsNumeric</th>\n",
       "      <th>origIsCustomer</th>\n",
       "      <th>destIsCustomer</th>\n",
       "      <th>fakeNameOrig</th>\n",
       "      <th>fakeNameDest</th>\n",
       "    </tr>\n",
       "  </thead>\n",
       "  <tbody>\n",
       "    <tr>\n",
       "      <th>0</th>\n",
       "      <td>1</td>\n",
       "      <td>PAYMENT</td>\n",
       "      <td>9839.64</td>\n",
       "      <td>C1231006815</td>\n",
       "      <td>170136.0</td>\n",
       "      <td>160296.36</td>\n",
       "      <td>M1979787155</td>\n",
       "      <td>0.0</td>\n",
       "      <td>0.0</td>\n",
       "      <td>0</td>\n",
       "      <td>0</td>\n",
       "      <td>2</td>\n",
       "      <td>1</td>\n",
       "      <td>0</td>\n",
       "      <td>C123</td>\n",
       "      <td>M197</td>\n",
       "    </tr>\n",
       "    <tr>\n",
       "      <th>1</th>\n",
       "      <td>1</td>\n",
       "      <td>PAYMENT</td>\n",
       "      <td>1864.28</td>\n",
       "      <td>C1666544295</td>\n",
       "      <td>21249.0</td>\n",
       "      <td>19384.72</td>\n",
       "      <td>M2044282225</td>\n",
       "      <td>0.0</td>\n",
       "      <td>0.0</td>\n",
       "      <td>0</td>\n",
       "      <td>0</td>\n",
       "      <td>2</td>\n",
       "      <td>1</td>\n",
       "      <td>0</td>\n",
       "      <td>C166</td>\n",
       "      <td>M204</td>\n",
       "    </tr>\n",
       "    <tr>\n",
       "      <th>2</th>\n",
       "      <td>1</td>\n",
       "      <td>TRANSFER</td>\n",
       "      <td>181.00</td>\n",
       "      <td>C1305486145</td>\n",
       "      <td>181.0</td>\n",
       "      <td>0.00</td>\n",
       "      <td>C553264065</td>\n",
       "      <td>0.0</td>\n",
       "      <td>0.0</td>\n",
       "      <td>1</td>\n",
       "      <td>0</td>\n",
       "      <td>1</td>\n",
       "      <td>1</td>\n",
       "      <td>1</td>\n",
       "      <td>C130</td>\n",
       "      <td>C553</td>\n",
       "    </tr>\n",
       "    <tr>\n",
       "      <th>3</th>\n",
       "      <td>1</td>\n",
       "      <td>CASH_OUT</td>\n",
       "      <td>181.00</td>\n",
       "      <td>C840083671</td>\n",
       "      <td>181.0</td>\n",
       "      <td>0.00</td>\n",
       "      <td>C38997010</td>\n",
       "      <td>21182.0</td>\n",
       "      <td>0.0</td>\n",
       "      <td>1</td>\n",
       "      <td>0</td>\n",
       "      <td>0</td>\n",
       "      <td>1</td>\n",
       "      <td>1</td>\n",
       "      <td>C840</td>\n",
       "      <td>C389</td>\n",
       "    </tr>\n",
       "    <tr>\n",
       "      <th>4</th>\n",
       "      <td>1</td>\n",
       "      <td>PAYMENT</td>\n",
       "      <td>11668.14</td>\n",
       "      <td>C2048537720</td>\n",
       "      <td>41554.0</td>\n",
       "      <td>29885.86</td>\n",
       "      <td>M1230701703</td>\n",
       "      <td>0.0</td>\n",
       "      <td>0.0</td>\n",
       "      <td>0</td>\n",
       "      <td>0</td>\n",
       "      <td>2</td>\n",
       "      <td>1</td>\n",
       "      <td>0</td>\n",
       "      <td>C204</td>\n",
       "      <td>M123</td>\n",
       "    </tr>\n",
       "  </tbody>\n",
       "</table>\n",
       "</div>"
      ],
      "text/plain": [
       "   step      type    amount     nameOrig  oldBalanceOrig  newBalanceOrig  \\\n",
       "0     1   PAYMENT   9839.64  C1231006815        170136.0       160296.36   \n",
       "1     1   PAYMENT   1864.28  C1666544295         21249.0        19384.72   \n",
       "2     1  TRANSFER    181.00  C1305486145           181.0            0.00   \n",
       "3     1  CASH_OUT    181.00   C840083671           181.0            0.00   \n",
       "4     1   PAYMENT  11668.14  C2048537720         41554.0        29885.86   \n",
       "\n",
       "      nameDest  oldBalanceDest  newBalanceDest  isFraud  isFlaggedFraud  \\\n",
       "0  M1979787155             0.0             0.0        0               0   \n",
       "1  M2044282225             0.0             0.0        0               0   \n",
       "2   C553264065             0.0             0.0        1               0   \n",
       "3    C38997010         21182.0             0.0        1               0   \n",
       "4  M1230701703             0.0             0.0        0               0   \n",
       "\n",
       "   typeAsNumeric  origIsCustomer  destIsCustomer fakeNameOrig fakeNameDest  \n",
       "0              2               1               0         C123         M197  \n",
       "1              2               1               0         C166         M204  \n",
       "2              1               1               1         C130         C553  \n",
       "3              0               1               1         C840         C389  \n",
       "4              2               1               0         C204         M123  "
      ]
     },
     "execution_count": 37,
     "metadata": {},
     "output_type": "execute_result"
    }
   ],
   "source": [
    "df.head()"
   ]
  },
  {
   "cell_type": "code",
   "execution_count": 39,
   "metadata": {
    "collapsed": false
   },
   "outputs": [
    {
     "name": "stdout",
     "output_type": "stream",
     "text": [
      "Writing 2708 operations\n",
      "Writing 3722 operations\n",
      "Writing 4274 operations\n",
      "Writing 4839 operations\n",
      "Writing 5504 operations\n",
      "Writing 7164 operations\n",
      "Writing 14001 operations\n",
      "Writing 35098 operations\n",
      "Writing 72726 operations\n",
      "Writing 108717 operations\n",
      "Writing 145958 operations\n",
      "Writing 182111 operations\n",
      "Writing 219626 operations\n",
      "Writing 261111 operations\n",
      "Writing 305720 operations\n",
      "Writing 348191 operations\n",
      "Writing 391552 operations\n",
      "Writing 441131 operations\n",
      "Writing 492483 operations\n",
      "Writing 533108 operations\n",
      "Writing 552260 operations\n",
      "Writing 564895 operations\n",
      "Writing 571039 operations\n"
     ]
    }
   ],
   "source": [
    "for j in range(1,24):\n",
    "    df = pd.DataFrame.from_csv(\"C:\\\\Users\\\\thaunayf\\\\Documents\\Neo4j\\\\DC10_3\\\\import\\\\hour\"+str(j)+\".csv\")\n",
    "\n",
    "    for i,row in df.iterrows():\n",
    "        graph.run('''\n",
    "    \n",
    "    MATCH (a:Account{Name:$nameOrig})\n",
    "    MATCH (b:Account{Name:$nameDest})\n",
    "    \n",
    "    CREATE (a)-[action:RELTYPE{type:$type, step:$step, amount:$amount, oldBalanceOrig:$oldBalanceOrig, \n",
    "    newBalanceOrig:$newBalanceOrig, oldBalanceDest:$oldBalanceDest, newBalanceDest:$newBalanceDest, dataLine:$i}]->(b)\n",
    "    \n",
    "    \n",
    "    ''',{'step':row.step, 'type':row.type, 'amount':row.amount, 'nameOrig':row.fakeNameOrig, 'oldBalanceOrig':row.oldBalanceOrig,\n",
    "         'newBalanceOrig':row.newBalanceOrig, 'nameDest':row.fakeNameDest, 'oldBalanceDest':row.oldBalanceDest,\n",
    "              'newBalanceDest':row.newBalanceDest, 'i':int(i)})\n",
    "            \n",
    "    x = graph.run('''\n",
    "        MATCH ()-[r]->()\n",
    "        RETURN COUNT(r) AS OPERATION\n",
    "    ''').data()[0]\n",
    "\n",
    "    print(\"Writing %d operations\" % x['OPERATION'])\n",
    "\n",
    "    "
   ]
  },
  {
   "cell_type": "markdown",
   "metadata": {},
   "source": [
    "# or from CSV ..."
   ]
  },
  {
   "cell_type": "code",
   "execution_count": null,
   "metadata": {
    "collapsed": true
   },
   "outputs": [],
   "source": [
    "for i in range(744):\n",
    "    graph.run('''\n",
    "    \n",
    "    USING PERIODIC COMMIT 100 LOAD CSV FROM \"file:///hour'''+str(i)+'''.csv\"  AS line\n",
    "\n",
    "    MERGE (a:Account{Name:line[4]})\n",
    "    MERGE (b:Account{Name:line[7]})\n",
    "    CREATE (a)-[action:RELTYPE{type:line[2], step:line[1], amount:line[3], oldbalanceOrig:line[5], \n",
    "    newbalanceOrig:line[6], oldbalanceDest:line[8], newbalanceDest:line[9], dataLine:line[0]}]->(b)\n",
    "\n",
    "''').data()"
   ]
  },
  {
   "cell_type": "markdown",
   "metadata": {},
   "source": [
    "# How many entries ?"
   ]
  },
  {
   "cell_type": "code",
   "execution_count": 40,
   "metadata": {
    "collapsed": false
   },
   "outputs": [
    {
     "name": "stdout",
     "output_type": "stream",
     "text": [
      "Writing 1800 accounts\n"
     ]
    }
   ],
   "source": [
    "x = graph.run('''\n",
    "        MATCH (a:Account)\n",
    "        RETURN COUNT(a) AS ACCOUNT\n",
    "    ''').data()[0]\n",
    "\n",
    "print(\"Writing %d accounts\" % x['ACCOUNT'])"
   ]
  },
  {
   "cell_type": "code",
   "execution_count": 41,
   "metadata": {
    "collapsed": false
   },
   "outputs": [
    {
     "name": "stdout",
     "output_type": "stream",
     "text": [
      "Writing 571039 operations\n"
     ]
    }
   ],
   "source": [
    "x = graph.run('''\n",
    "        MATCH ()-[r]->()\n",
    "        RETURN COUNT(r) AS OPERATION\n",
    "    ''').data()[0]\n",
    "\n",
    "print(\"Writing %d operations\" % x['OPERATION'])"
   ]
  },
  {
   "cell_type": "code",
   "execution_count": null,
   "metadata": {
    "collapsed": true
   },
   "outputs": [],
   "source": []
  }
 ],
 "metadata": {
  "kernelspec": {
   "display_name": "Python 2",
   "language": "python",
   "name": "python2"
  },
  "language_info": {
   "codemirror_mode": {
    "name": "ipython",
    "version": 2
   },
   "file_extension": ".py",
   "mimetype": "text/x-python",
   "name": "python",
   "nbconvert_exporter": "python",
   "pygments_lexer": "ipython2",
   "version": "2.7.13"
  }
 },
 "nbformat": 4,
 "nbformat_minor": 2
}
