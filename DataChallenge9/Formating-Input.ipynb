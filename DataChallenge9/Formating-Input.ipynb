{
 "cells": [
  {
   "cell_type": "markdown",
   "metadata": {
    "collapsed": true
   },
   "source": [
    "# 3 Notebooks :\n",
    "> ## 1. Formating-Input : \n",
    "- data for each line (MAC adress, Access Point, Type of building, Action ...) in Dataframe \n",
    "\n",
    "> ## 2. Neo4j-Database \n",
    "- Fill Database (create nodes and relationships)\n",
    "- Queries DB and fill \"global results\" Dataframe\n",
    "\n",
    "> ## 3. Clustering and answer problematic (Who are students and teachers)"
   ]
  },
  {
   "cell_type": "code",
   "execution_count": 1,
   "metadata": {
    "collapsed": true
   },
   "outputs": [],
   "source": [
    "import pandas as pd"
   ]
  },
  {
   "cell_type": "markdown",
   "metadata": {},
   "source": [
    "### Extract data from 378 Mo logs \n",
    "\n",
    "- for each line : MAC adress, Access Point, Type of building, Action ... in Dataframe"
   ]
  },
  {
   "cell_type": "code",
   "execution_count": 2,
   "metadata": {
    "collapsed": false
   },
   "outputs": [],
   "source": [
    "# Complete list of outputs\n",
    "outputs = \"./drive-download-20170906T133833Z-001/ls.output\"\n",
    "\n",
    "header = [\"id\", \"month\", \"day\", \"hour\", \"AccessPoint1\", \"AccessPoint2\", \"status\", \"Message\" ]\n",
    "\n",
    "data = []\n",
    "with open(outputs) as outputs:\n",
    "    for myfileName in outputs :\n",
    "        myfile =  \"./drive-download-20170906T133833Z-001/\"+myfileName.strip('\\n')\n",
    "        \n",
    "        with open(myfile) as file: \n",
    "            for line in file :\n",
    "                data.append(line.split(\" \", 7))\n"
   ]
  },
  {
   "cell_type": "code",
   "execution_count": 3,
   "metadata": {
    "collapsed": false
   },
   "outputs": [],
   "source": [
    "df = pd.DataFrame(data, columns=header)"
   ]
  },
  {
   "cell_type": "code",
   "execution_count": 4,
   "metadata": {
    "collapsed": false
   },
   "outputs": [
    {
     "data": {
      "text/html": [
       "<div>\n",
       "<table border=\"1\" class=\"dataframe\">\n",
       "  <thead>\n",
       "    <tr style=\"text-align: right;\">\n",
       "      <th></th>\n",
       "      <th>id</th>\n",
       "      <th>month</th>\n",
       "      <th>day</th>\n",
       "      <th>hour</th>\n",
       "      <th>AccessPoint1</th>\n",
       "      <th>AccessPoint2</th>\n",
       "      <th>status</th>\n",
       "      <th>Message</th>\n",
       "    </tr>\n",
       "  </thead>\n",
       "  <tbody>\n",
       "    <tr>\n",
       "      <th>0</th>\n",
       "      <td>986990216</td>\n",
       "      <td>Apr</td>\n",
       "      <td>11</td>\n",
       "      <td>07:56:56</td>\n",
       "      <td>AdmBldg19AP3</td>\n",
       "      <td>AdmBldg19AP3</td>\n",
       "      <td>(Info):</td>\n",
       "      <td>Station 0040961e58be Authenticated\\n</td>\n",
       "    </tr>\n",
       "    <tr>\n",
       "      <th>1</th>\n",
       "      <td>986990247</td>\n",
       "      <td>Apr</td>\n",
       "      <td>11</td>\n",
       "      <td>07:57:27</td>\n",
       "      <td>AdmBldg19AP3</td>\n",
       "      <td>AdmBldg19AP3</td>\n",
       "      <td>(Info):</td>\n",
       "      <td>Station 0040961e58be Authenticated\\n</td>\n",
       "    </tr>\n",
       "    <tr>\n",
       "      <th>2</th>\n",
       "      <td>986990247</td>\n",
       "      <td>Apr</td>\n",
       "      <td>11</td>\n",
       "      <td>07:57:27</td>\n",
       "      <td>AdmBldg19AP3</td>\n",
       "      <td>AdmBldg19AP3</td>\n",
       "      <td>(Info):</td>\n",
       "      <td>Station 0040961e58be Associated\\n</td>\n",
       "    </tr>\n",
       "    <tr>\n",
       "      <th>3</th>\n",
       "      <td>986990293</td>\n",
       "      <td>Apr</td>\n",
       "      <td>11</td>\n",
       "      <td>07:58:13</td>\n",
       "      <td>AdmBldg19AP3</td>\n",
       "      <td>AdmBldg19AP3</td>\n",
       "      <td>(Info):</td>\n",
       "      <td>Station 0040961e58be Authenticated\\n</td>\n",
       "    </tr>\n",
       "    <tr>\n",
       "      <th>4</th>\n",
       "      <td>986990364</td>\n",
       "      <td>Apr</td>\n",
       "      <td>11</td>\n",
       "      <td>07:59:24</td>\n",
       "      <td>AdmBldg19AP3</td>\n",
       "      <td>AdmBldg19AP3</td>\n",
       "      <td>(Info):</td>\n",
       "      <td>Station 0040961e58be Authenticated\\n</td>\n",
       "    </tr>\n",
       "  </tbody>\n",
       "</table>\n",
       "</div>"
      ],
      "text/plain": [
       "          id month day      hour  AccessPoint1  AccessPoint2   status  \\\n",
       "0  986990216   Apr  11  07:56:56  AdmBldg19AP3  AdmBldg19AP3  (Info):   \n",
       "1  986990247   Apr  11  07:57:27  AdmBldg19AP3  AdmBldg19AP3  (Info):   \n",
       "2  986990247   Apr  11  07:57:27  AdmBldg19AP3  AdmBldg19AP3  (Info):   \n",
       "3  986990293   Apr  11  07:58:13  AdmBldg19AP3  AdmBldg19AP3  (Info):   \n",
       "4  986990364   Apr  11  07:59:24  AdmBldg19AP3  AdmBldg19AP3  (Info):   \n",
       "\n",
       "                                Message  \n",
       "0  Station 0040961e58be Authenticated\\n  \n",
       "1  Station 0040961e58be Authenticated\\n  \n",
       "2     Station 0040961e58be Associated\\n  \n",
       "3  Station 0040961e58be Authenticated\\n  \n",
       "4  Station 0040961e58be Authenticated\\n  "
      ]
     },
     "execution_count": 4,
     "metadata": {},
     "output_type": "execute_result"
    }
   ],
   "source": [
    "df.head()"
   ]
  },
  {
   "cell_type": "code",
   "execution_count": 5,
   "metadata": {
    "collapsed": true
   },
   "outputs": [],
   "source": [
    "actions = [\"authenticated\", \"reassociated\", \"disassociating\", \"associated\",  \"deauthenticating\", \"started\", \"stopped\", \"bound\", \"roamed\", \"updated\"]"
   ]
  },
  {
   "cell_type": "code",
   "execution_count": 6,
   "metadata": {
    "collapsed": false
   },
   "outputs": [],
   "source": [
    "# Add action column\n",
    "act = []\n",
    "for mess in df.Message :\n",
    "    caught = False\n",
    "    for action in actions :\n",
    "        if action in mess.lower() and caught == False:\n",
    "            caught = True\n",
    "            act.append(action)\n",
    "    if caught == False :\n",
    "        act.append(\"no action\")    \n",
    "df[\"action\"]=act"
   ]
  },
  {
   "cell_type": "code",
   "execution_count": 7,
   "metadata": {
    "collapsed": false
   },
   "outputs": [],
   "source": [
    "# Drop redundant Access Point column\n",
    "df = df.rename(index=str, columns={\"AccessPoint1\": \"AccessPoint\"})\n",
    "df = df.drop('AccessPoint2', 1)"
   ]
  },
  {
   "cell_type": "code",
   "execution_count": 8,
   "metadata": {
    "collapsed": false
   },
   "outputs": [],
   "source": [
    "# Add Type building column\n",
    "dico = {\"Aca\": \"Academic\", \"Adm\":\"Admin\", \"Lib\":\"Library\", \"Res\":\"Residential\", \"Soc\":\"Social\"}\n",
    "buildingType = []\n",
    "for AP in df.AccessPoint :\n",
    "    try:\n",
    "        buildingType.append(dico.get(AP[:3]))\n",
    "    except TypeError:\n",
    "        print AP[:3]   \n",
    "df[\"Building Type\"] = buildingType "
   ]
  },
  {
   "cell_type": "code",
   "execution_count": 9,
   "metadata": {
    "collapsed": false
   },
   "outputs": [
    {
     "data": {
      "text/html": [
       "<div>\n",
       "<table border=\"1\" class=\"dataframe\">\n",
       "  <thead>\n",
       "    <tr style=\"text-align: right;\">\n",
       "      <th></th>\n",
       "      <th>id</th>\n",
       "      <th>month</th>\n",
       "      <th>day</th>\n",
       "      <th>hour</th>\n",
       "      <th>AccessPoint</th>\n",
       "      <th>status</th>\n",
       "      <th>Message</th>\n",
       "      <th>action</th>\n",
       "      <th>Building Type</th>\n",
       "    </tr>\n",
       "  </thead>\n",
       "  <tbody>\n",
       "    <tr>\n",
       "      <th>0</th>\n",
       "      <td>986990216</td>\n",
       "      <td>Apr</td>\n",
       "      <td>11</td>\n",
       "      <td>07:56:56</td>\n",
       "      <td>AdmBldg19AP3</td>\n",
       "      <td>(Info):</td>\n",
       "      <td>Station 0040961e58be Authenticated\\n</td>\n",
       "      <td>authenticated</td>\n",
       "      <td>Admin</td>\n",
       "    </tr>\n",
       "    <tr>\n",
       "      <th>1</th>\n",
       "      <td>986990247</td>\n",
       "      <td>Apr</td>\n",
       "      <td>11</td>\n",
       "      <td>07:57:27</td>\n",
       "      <td>AdmBldg19AP3</td>\n",
       "      <td>(Info):</td>\n",
       "      <td>Station 0040961e58be Authenticated\\n</td>\n",
       "      <td>authenticated</td>\n",
       "      <td>Admin</td>\n",
       "    </tr>\n",
       "    <tr>\n",
       "      <th>2</th>\n",
       "      <td>986990247</td>\n",
       "      <td>Apr</td>\n",
       "      <td>11</td>\n",
       "      <td>07:57:27</td>\n",
       "      <td>AdmBldg19AP3</td>\n",
       "      <td>(Info):</td>\n",
       "      <td>Station 0040961e58be Associated\\n</td>\n",
       "      <td>associated</td>\n",
       "      <td>Admin</td>\n",
       "    </tr>\n",
       "    <tr>\n",
       "      <th>3</th>\n",
       "      <td>986990293</td>\n",
       "      <td>Apr</td>\n",
       "      <td>11</td>\n",
       "      <td>07:58:13</td>\n",
       "      <td>AdmBldg19AP3</td>\n",
       "      <td>(Info):</td>\n",
       "      <td>Station 0040961e58be Authenticated\\n</td>\n",
       "      <td>authenticated</td>\n",
       "      <td>Admin</td>\n",
       "    </tr>\n",
       "    <tr>\n",
       "      <th>4</th>\n",
       "      <td>986990364</td>\n",
       "      <td>Apr</td>\n",
       "      <td>11</td>\n",
       "      <td>07:59:24</td>\n",
       "      <td>AdmBldg19AP3</td>\n",
       "      <td>(Info):</td>\n",
       "      <td>Station 0040961e58be Authenticated\\n</td>\n",
       "      <td>authenticated</td>\n",
       "      <td>Admin</td>\n",
       "    </tr>\n",
       "  </tbody>\n",
       "</table>\n",
       "</div>"
      ],
      "text/plain": [
       "          id month day      hour   AccessPoint   status  \\\n",
       "0  986990216   Apr  11  07:56:56  AdmBldg19AP3  (Info):   \n",
       "1  986990247   Apr  11  07:57:27  AdmBldg19AP3  (Info):   \n",
       "2  986990247   Apr  11  07:57:27  AdmBldg19AP3  (Info):   \n",
       "3  986990293   Apr  11  07:58:13  AdmBldg19AP3  (Info):   \n",
       "4  986990364   Apr  11  07:59:24  AdmBldg19AP3  (Info):   \n",
       "\n",
       "                                Message         action Building Type  \n",
       "0  Station 0040961e58be Authenticated\\n  authenticated         Admin  \n",
       "1  Station 0040961e58be Authenticated\\n  authenticated         Admin  \n",
       "2     Station 0040961e58be Associated\\n     associated         Admin  \n",
       "3  Station 0040961e58be Authenticated\\n  authenticated         Admin  \n",
       "4  Station 0040961e58be Authenticated\\n  authenticated         Admin  "
      ]
     },
     "execution_count": 9,
     "metadata": {},
     "output_type": "execute_result"
    }
   ],
   "source": [
    "df.head()"
   ]
  },
  {
   "cell_type": "code",
   "execution_count": 10,
   "metadata": {
    "collapsed": false
   },
   "outputs": [],
   "source": [
    "# Extract MAC addresses from support file \n",
    "addresses = []\n",
    "with open( \"./drive-download-20170906T133833Z-001/wirelessMACs\") as MACaddressesFile:\n",
    "    addresses = [address.strip('\\n') for address in MACaddressesFile]\n"
   ]
  },
  {
   "cell_type": "code",
   "execution_count": 11,
   "metadata": {
    "collapsed": false
   },
   "outputs": [
    {
     "data": {
      "text/plain": [
       "'ffffff31d6c0'"
      ]
     },
     "execution_count": 11,
     "metadata": {},
     "output_type": "execute_result"
    }
   ],
   "source": [
    "addresses[-1]"
   ]
  },
  {
   "cell_type": "code",
   "execution_count": 12,
   "metadata": {
    "collapsed": false
   },
   "outputs": [],
   "source": [
    "# Add MAC address column\n",
    "addMac=[]\n",
    "for message in df.Message :\n",
    "    found = False\n",
    "    for address in addresses :\n",
    "        if (address in message):\n",
    "            addMac.append(address)\n",
    "            found = True\n",
    "    if (found == False) :\n",
    "        addMac.append(\"nothing\") \n",
    "df[\"MAC address\"] = addMac "
   ]
  },
  {
   "cell_type": "code",
   "execution_count": 13,
   "metadata": {
    "collapsed": false
   },
   "outputs": [
    {
     "data": {
      "text/html": [
       "<div>\n",
       "<table border=\"1\" class=\"dataframe\">\n",
       "  <thead>\n",
       "    <tr style=\"text-align: right;\">\n",
       "      <th></th>\n",
       "      <th>id</th>\n",
       "      <th>month</th>\n",
       "      <th>day</th>\n",
       "      <th>hour</th>\n",
       "      <th>AccessPoint</th>\n",
       "      <th>status</th>\n",
       "      <th>Message</th>\n",
       "      <th>action</th>\n",
       "      <th>Building Type</th>\n",
       "      <th>MAC address</th>\n",
       "    </tr>\n",
       "  </thead>\n",
       "  <tbody>\n",
       "    <tr>\n",
       "      <th>0</th>\n",
       "      <td>986990216</td>\n",
       "      <td>Apr</td>\n",
       "      <td>11</td>\n",
       "      <td>07:56:56</td>\n",
       "      <td>AdmBldg19AP3</td>\n",
       "      <td>(Info):</td>\n",
       "      <td>Station 0040961e58be Authenticated\\n</td>\n",
       "      <td>authenticated</td>\n",
       "      <td>Admin</td>\n",
       "      <td>0040961e58be</td>\n",
       "    </tr>\n",
       "    <tr>\n",
       "      <th>1</th>\n",
       "      <td>986990247</td>\n",
       "      <td>Apr</td>\n",
       "      <td>11</td>\n",
       "      <td>07:57:27</td>\n",
       "      <td>AdmBldg19AP3</td>\n",
       "      <td>(Info):</td>\n",
       "      <td>Station 0040961e58be Authenticated\\n</td>\n",
       "      <td>authenticated</td>\n",
       "      <td>Admin</td>\n",
       "      <td>0040961e58be</td>\n",
       "    </tr>\n",
       "    <tr>\n",
       "      <th>2</th>\n",
       "      <td>986990247</td>\n",
       "      <td>Apr</td>\n",
       "      <td>11</td>\n",
       "      <td>07:57:27</td>\n",
       "      <td>AdmBldg19AP3</td>\n",
       "      <td>(Info):</td>\n",
       "      <td>Station 0040961e58be Associated\\n</td>\n",
       "      <td>associated</td>\n",
       "      <td>Admin</td>\n",
       "      <td>0040961e58be</td>\n",
       "    </tr>\n",
       "    <tr>\n",
       "      <th>3</th>\n",
       "      <td>986990293</td>\n",
       "      <td>Apr</td>\n",
       "      <td>11</td>\n",
       "      <td>07:58:13</td>\n",
       "      <td>AdmBldg19AP3</td>\n",
       "      <td>(Info):</td>\n",
       "      <td>Station 0040961e58be Authenticated\\n</td>\n",
       "      <td>authenticated</td>\n",
       "      <td>Admin</td>\n",
       "      <td>0040961e58be</td>\n",
       "    </tr>\n",
       "    <tr>\n",
       "      <th>4</th>\n",
       "      <td>986990364</td>\n",
       "      <td>Apr</td>\n",
       "      <td>11</td>\n",
       "      <td>07:59:24</td>\n",
       "      <td>AdmBldg19AP3</td>\n",
       "      <td>(Info):</td>\n",
       "      <td>Station 0040961e58be Authenticated\\n</td>\n",
       "      <td>authenticated</td>\n",
       "      <td>Admin</td>\n",
       "      <td>0040961e58be</td>\n",
       "    </tr>\n",
       "  </tbody>\n",
       "</table>\n",
       "</div>"
      ],
      "text/plain": [
       "          id month day      hour   AccessPoint   status  \\\n",
       "0  986990216   Apr  11  07:56:56  AdmBldg19AP3  (Info):   \n",
       "1  986990247   Apr  11  07:57:27  AdmBldg19AP3  (Info):   \n",
       "2  986990247   Apr  11  07:57:27  AdmBldg19AP3  (Info):   \n",
       "3  986990293   Apr  11  07:58:13  AdmBldg19AP3  (Info):   \n",
       "4  986990364   Apr  11  07:59:24  AdmBldg19AP3  (Info):   \n",
       "\n",
       "                                Message         action Building Type  \\\n",
       "0  Station 0040961e58be Authenticated\\n  authenticated         Admin   \n",
       "1  Station 0040961e58be Authenticated\\n  authenticated         Admin   \n",
       "2     Station 0040961e58be Associated\\n     associated         Admin   \n",
       "3  Station 0040961e58be Authenticated\\n  authenticated         Admin   \n",
       "4  Station 0040961e58be Authenticated\\n  authenticated         Admin   \n",
       "\n",
       "    MAC address  \n",
       "0  0040961e58be  \n",
       "1  0040961e58be  \n",
       "2  0040961e58be  \n",
       "3  0040961e58be  \n",
       "4  0040961e58be  "
      ]
     },
     "execution_count": 13,
     "metadata": {},
     "output_type": "execute_result"
    }
   ],
   "source": [
    "df.head()"
   ]
  },
  {
   "cell_type": "code",
   "execution_count": 14,
   "metadata": {
    "collapsed": false
   },
   "outputs": [],
   "source": [
    "df.to_csv(\"./data.csv\")"
   ]
  },
  {
   "cell_type": "code",
   "execution_count": null,
   "metadata": {
    "collapsed": true
   },
   "outputs": [],
   "source": []
  }
 ],
 "metadata": {
  "kernelspec": {
   "display_name": "Python 2",
   "language": "python",
   "name": "python2"
  },
  "language_info": {
   "codemirror_mode": {
    "name": "ipython",
    "version": 2
   },
   "file_extension": ".py",
   "mimetype": "text/x-python",
   "name": "python",
   "nbconvert_exporter": "python",
   "pygments_lexer": "ipython2",
   "version": "2.7.13"
  }
 },
 "nbformat": 4,
 "nbformat_minor": 2
}
