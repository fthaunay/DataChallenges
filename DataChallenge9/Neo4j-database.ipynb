{
 "cells": [
  {
   "cell_type": "code",
   "execution_count": 1,
   "metadata": {
    "collapsed": true
   },
   "outputs": [],
   "source": [
    "from py2neo import Graph, authenticate, Relationship\n",
    "import csv\n",
    "import pandas as pd"
   ]
  },
  {
   "cell_type": "code",
   "execution_count": 6,
   "metadata": {
    "collapsed": true
   },
   "outputs": [],
   "source": [
    "authenticate(\"localhost:7474\", \"neo4j\", \"admin\")"
   ]
  },
  {
   "cell_type": "code",
   "execution_count": 7,
   "metadata": {
    "collapsed": false
   },
   "outputs": [],
   "source": [
    "graph = Graph()"
   ]
  },
  {
   "cell_type": "code",
   "execution_count": 8,
   "metadata": {
    "collapsed": false
   },
   "outputs": [
    {
     "data": {
      "text/plain": [
       "4159802"
      ]
     },
     "execution_count": 8,
     "metadata": {},
     "output_type": "execute_result"
    }
   ],
   "source": [
    "allData = pd.DataFrame.from_csv(\"./data.csv\")\n",
    "len(allData)"
   ]
  },
  {
   "cell_type": "code",
   "execution_count": 9,
   "metadata": {
    "collapsed": false
   },
   "outputs": [
    {
     "data": {
      "text/plain": [
       "4150011"
      ]
     },
     "execution_count": 9,
     "metadata": {},
     "output_type": "execute_result"
    }
   ],
   "source": [
    "# Clean not well parsed lines  \n",
    "allData = allData.dropna()  \n",
    "len(allData)"
   ]
  },
  {
   "cell_type": "code",
   "execution_count": 10,
   "metadata": {
    "collapsed": true
   },
   "outputs": [],
   "source": [
    "# Only  686502 loaded in Neo4j\n",
    "df = allData[:686502]"
   ]
  },
  {
   "cell_type": "code",
   "execution_count": 11,
   "metadata": {
    "collapsed": false
   },
   "outputs": [
    {
     "data": {
      "text/html": [
       "<div>\n",
       "<table border=\"1\" class=\"dataframe\">\n",
       "  <thead>\n",
       "    <tr style=\"text-align: right;\">\n",
       "      <th></th>\n",
       "      <th>id</th>\n",
       "      <th>month</th>\n",
       "      <th>day</th>\n",
       "      <th>hour</th>\n",
       "      <th>AccessPoint</th>\n",
       "      <th>status</th>\n",
       "      <th>Message</th>\n",
       "      <th>action</th>\n",
       "      <th>Building Type</th>\n",
       "      <th>MAC address</th>\n",
       "    </tr>\n",
       "  </thead>\n",
       "  <tbody>\n",
       "    <tr>\n",
       "      <th>0</th>\n",
       "      <td>986990216</td>\n",
       "      <td>Apr</td>\n",
       "      <td>11.0</td>\n",
       "      <td>07:56:56</td>\n",
       "      <td>AdmBldg19AP3</td>\n",
       "      <td>(Info):</td>\n",
       "      <td>Station 0040961e58be Authenticated\\r\\n</td>\n",
       "      <td>authenticated</td>\n",
       "      <td>Admin</td>\n",
       "      <td>0040961e58be</td>\n",
       "    </tr>\n",
       "    <tr>\n",
       "      <th>1</th>\n",
       "      <td>986990247</td>\n",
       "      <td>Apr</td>\n",
       "      <td>11.0</td>\n",
       "      <td>07:57:27</td>\n",
       "      <td>AdmBldg19AP3</td>\n",
       "      <td>(Info):</td>\n",
       "      <td>Station 0040961e58be Authenticated\\r\\n</td>\n",
       "      <td>authenticated</td>\n",
       "      <td>Admin</td>\n",
       "      <td>0040961e58be</td>\n",
       "    </tr>\n",
       "    <tr>\n",
       "      <th>2</th>\n",
       "      <td>986990247</td>\n",
       "      <td>Apr</td>\n",
       "      <td>11.0</td>\n",
       "      <td>07:57:27</td>\n",
       "      <td>AdmBldg19AP3</td>\n",
       "      <td>(Info):</td>\n",
       "      <td>Station 0040961e58be Associated\\r\\n</td>\n",
       "      <td>associated</td>\n",
       "      <td>Admin</td>\n",
       "      <td>0040961e58be</td>\n",
       "    </tr>\n",
       "    <tr>\n",
       "      <th>3</th>\n",
       "      <td>986990293</td>\n",
       "      <td>Apr</td>\n",
       "      <td>11.0</td>\n",
       "      <td>07:58:13</td>\n",
       "      <td>AdmBldg19AP3</td>\n",
       "      <td>(Info):</td>\n",
       "      <td>Station 0040961e58be Authenticated\\r\\n</td>\n",
       "      <td>authenticated</td>\n",
       "      <td>Admin</td>\n",
       "      <td>0040961e58be</td>\n",
       "    </tr>\n",
       "    <tr>\n",
       "      <th>4</th>\n",
       "      <td>986990364</td>\n",
       "      <td>Apr</td>\n",
       "      <td>11.0</td>\n",
       "      <td>07:59:24</td>\n",
       "      <td>AdmBldg19AP3</td>\n",
       "      <td>(Info):</td>\n",
       "      <td>Station 0040961e58be Authenticated\\r\\n</td>\n",
       "      <td>authenticated</td>\n",
       "      <td>Admin</td>\n",
       "      <td>0040961e58be</td>\n",
       "    </tr>\n",
       "  </tbody>\n",
       "</table>\n",
       "</div>"
      ],
      "text/plain": [
       "          id month   day      hour   AccessPoint   status  \\\n",
       "0  986990216   Apr  11.0  07:56:56  AdmBldg19AP3  (Info):   \n",
       "1  986990247   Apr  11.0  07:57:27  AdmBldg19AP3  (Info):   \n",
       "2  986990247   Apr  11.0  07:57:27  AdmBldg19AP3  (Info):   \n",
       "3  986990293   Apr  11.0  07:58:13  AdmBldg19AP3  (Info):   \n",
       "4  986990364   Apr  11.0  07:59:24  AdmBldg19AP3  (Info):   \n",
       "\n",
       "                                  Message         action Building Type  \\\n",
       "0  Station 0040961e58be Authenticated\\r\\n  authenticated         Admin   \n",
       "1  Station 0040961e58be Authenticated\\r\\n  authenticated         Admin   \n",
       "2     Station 0040961e58be Associated\\r\\n     associated         Admin   \n",
       "3  Station 0040961e58be Authenticated\\r\\n  authenticated         Admin   \n",
       "4  Station 0040961e58be Authenticated\\r\\n  authenticated         Admin   \n",
       "\n",
       "    MAC address  \n",
       "0  0040961e58be  \n",
       "1  0040961e58be  \n",
       "2  0040961e58be  \n",
       "3  0040961e58be  \n",
       "4  0040961e58be  "
      ]
     },
     "execution_count": 11,
     "metadata": {},
     "output_type": "execute_result"
    }
   ],
   "source": [
    "df.head()"
   ]
  },
  {
   "cell_type": "code",
   "execution_count": 12,
   "metadata": {
    "collapsed": false
   },
   "outputs": [
    {
     "name": "stderr",
     "output_type": "stream",
     "text": [
      "C:\\Users\\thaunayf\\AppData\\Local\\Continuum\\Anaconda2\\lib\\site-packages\\ipykernel\\__main__.py:9: SettingWithCopyWarning: \n",
      "A value is trying to be set on a copy of a slice from a DataFrame.\n",
      "Try using .loc[row_indexer,col_indexer] = value instead\n",
      "\n",
      "See the caveats in the documentation: http://pandas.pydata.org/pandas-docs/stable/indexing.html#indexing-view-versus-copy\n"
     ]
    }
   ],
   "source": [
    "import datetime\n",
    "import calendar\n",
    "months = {v: k for k,v in enumerate(calendar.month_abbr)}\n",
    "dt = []\n",
    "for index, row in df.iterrows():\n",
    "    dt.append(datetime.datetime(year=2017, month=months.get(row[\"month\"]), day=int(row[\"day\"]),\n",
    "                           hour=int(row[\"hour\"][0:2]), minute=int(row[\"hour\"][3:5]), second=int(row[\"hour\"][7:])))\n",
    "    \n",
    "df[\"datetime\"] = dt"
   ]
  },
  {
   "cell_type": "code",
   "execution_count": 13,
   "metadata": {
    "collapsed": false
   },
   "outputs": [
    {
     "data": {
      "text/html": [
       "<div>\n",
       "<table border=\"1\" class=\"dataframe\">\n",
       "  <thead>\n",
       "    <tr style=\"text-align: right;\">\n",
       "      <th></th>\n",
       "      <th>id</th>\n",
       "      <th>month</th>\n",
       "      <th>day</th>\n",
       "      <th>hour</th>\n",
       "      <th>AccessPoint</th>\n",
       "      <th>status</th>\n",
       "      <th>Message</th>\n",
       "      <th>action</th>\n",
       "      <th>Building Type</th>\n",
       "      <th>MAC address</th>\n",
       "      <th>datetime</th>\n",
       "    </tr>\n",
       "  </thead>\n",
       "  <tbody>\n",
       "    <tr>\n",
       "      <th>0</th>\n",
       "      <td>986990216</td>\n",
       "      <td>Apr</td>\n",
       "      <td>11.0</td>\n",
       "      <td>07:56:56</td>\n",
       "      <td>AdmBldg19AP3</td>\n",
       "      <td>(Info):</td>\n",
       "      <td>Station 0040961e58be Authenticated\\r\\n</td>\n",
       "      <td>authenticated</td>\n",
       "      <td>Admin</td>\n",
       "      <td>0040961e58be</td>\n",
       "      <td>2017-04-11 07:56:06</td>\n",
       "    </tr>\n",
       "    <tr>\n",
       "      <th>1</th>\n",
       "      <td>986990247</td>\n",
       "      <td>Apr</td>\n",
       "      <td>11.0</td>\n",
       "      <td>07:57:27</td>\n",
       "      <td>AdmBldg19AP3</td>\n",
       "      <td>(Info):</td>\n",
       "      <td>Station 0040961e58be Authenticated\\r\\n</td>\n",
       "      <td>authenticated</td>\n",
       "      <td>Admin</td>\n",
       "      <td>0040961e58be</td>\n",
       "      <td>2017-04-11 07:57:07</td>\n",
       "    </tr>\n",
       "    <tr>\n",
       "      <th>2</th>\n",
       "      <td>986990247</td>\n",
       "      <td>Apr</td>\n",
       "      <td>11.0</td>\n",
       "      <td>07:57:27</td>\n",
       "      <td>AdmBldg19AP3</td>\n",
       "      <td>(Info):</td>\n",
       "      <td>Station 0040961e58be Associated\\r\\n</td>\n",
       "      <td>associated</td>\n",
       "      <td>Admin</td>\n",
       "      <td>0040961e58be</td>\n",
       "      <td>2017-04-11 07:57:07</td>\n",
       "    </tr>\n",
       "    <tr>\n",
       "      <th>3</th>\n",
       "      <td>986990293</td>\n",
       "      <td>Apr</td>\n",
       "      <td>11.0</td>\n",
       "      <td>07:58:13</td>\n",
       "      <td>AdmBldg19AP3</td>\n",
       "      <td>(Info):</td>\n",
       "      <td>Station 0040961e58be Authenticated\\r\\n</td>\n",
       "      <td>authenticated</td>\n",
       "      <td>Admin</td>\n",
       "      <td>0040961e58be</td>\n",
       "      <td>2017-04-11 07:58:03</td>\n",
       "    </tr>\n",
       "    <tr>\n",
       "      <th>4</th>\n",
       "      <td>986990364</td>\n",
       "      <td>Apr</td>\n",
       "      <td>11.0</td>\n",
       "      <td>07:59:24</td>\n",
       "      <td>AdmBldg19AP3</td>\n",
       "      <td>(Info):</td>\n",
       "      <td>Station 0040961e58be Authenticated\\r\\n</td>\n",
       "      <td>authenticated</td>\n",
       "      <td>Admin</td>\n",
       "      <td>0040961e58be</td>\n",
       "      <td>2017-04-11 07:59:04</td>\n",
       "    </tr>\n",
       "  </tbody>\n",
       "</table>\n",
       "</div>"
      ],
      "text/plain": [
       "          id month   day      hour   AccessPoint   status  \\\n",
       "0  986990216   Apr  11.0  07:56:56  AdmBldg19AP3  (Info):   \n",
       "1  986990247   Apr  11.0  07:57:27  AdmBldg19AP3  (Info):   \n",
       "2  986990247   Apr  11.0  07:57:27  AdmBldg19AP3  (Info):   \n",
       "3  986990293   Apr  11.0  07:58:13  AdmBldg19AP3  (Info):   \n",
       "4  986990364   Apr  11.0  07:59:24  AdmBldg19AP3  (Info):   \n",
       "\n",
       "                                  Message         action Building Type  \\\n",
       "0  Station 0040961e58be Authenticated\\r\\n  authenticated         Admin   \n",
       "1  Station 0040961e58be Authenticated\\r\\n  authenticated         Admin   \n",
       "2     Station 0040961e58be Associated\\r\\n     associated         Admin   \n",
       "3  Station 0040961e58be Authenticated\\r\\n  authenticated         Admin   \n",
       "4  Station 0040961e58be Authenticated\\r\\n  authenticated         Admin   \n",
       "\n",
       "    MAC address            datetime  \n",
       "0  0040961e58be 2017-04-11 07:56:06  \n",
       "1  0040961e58be 2017-04-11 07:57:07  \n",
       "2  0040961e58be 2017-04-11 07:57:07  \n",
       "3  0040961e58be 2017-04-11 07:58:03  \n",
       "4  0040961e58be 2017-04-11 07:59:04  "
      ]
     },
     "execution_count": 13,
     "metadata": {},
     "output_type": "execute_result"
    }
   ],
   "source": [
    "df.head()"
   ]
  },
  {
   "cell_type": "markdown",
   "metadata": {},
   "source": [
    "# Fill Neo4j Database"
   ]
  },
  {
   "cell_type": "code",
   "execution_count": null,
   "metadata": {
    "collapsed": false
   },
   "outputs": [],
   "source": [
    "# Create MAC addresses nodes\n",
    "for add in df[\"MAC address\"].unique():\n",
    "    graph.run('''\n",
    "    CREATE (MAC: address {name:{N}})\n",
    "    RETURN MAC    \n",
    "    ''', { \"N\": add})    "
   ]
  },
  {
   "cell_type": "code",
   "execution_count": 17,
   "metadata": {
    "collapsed": false
   },
   "outputs": [
    {
     "data": {
      "text/plain": [
       "[['ResBldg93AP2', 'Residential'],\n",
       " ['LibBldg1AP8', 'Library'],\n",
       " ['AcadBldg34AP1', 'Academic'],\n",
       " ['ResBldg56AP11', 'Residential'],\n",
       " ['AcadBldg8AP5', 'Academic'],\n",
       " ['AdmBldg7AP1', 'Admin'],\n",
       " ['ResBldg94AP6', 'Residential'],\n",
       " ['AdmBldg12AP2', 'Admin'],\n",
       " ['AdmBldg14AP1', 'Admin'],\n",
       " ['AcadBldg9AP1', 'Academic'],\n",
       " ['LibBldg3AP2', 'Library'],\n",
       " ['ResBldg23AP2', 'Residential'],\n",
       " ['AcadBldg18AP5', 'Academic'],\n",
       " ['ResBldg25AP1', 'Residential'],\n",
       " ['ResBldg13AP2', 'Residential'],\n",
       " ['ResBldg55AP4', 'Residential'],\n",
       " ['AcadBldg30AP6', 'Academic'],\n",
       " ['ResBldg33AP1', 'Residential'],\n",
       " ['AcadBldg10AP15', 'Academic'],\n",
       " ['ResBldg23AP1', 'Residential'],\n",
       " ['ResBldg21AP2', 'Residential'],\n",
       " ['AcadBldg2AP1', 'Academic'],\n",
       " ['ResBldg15AP2', 'Residential'],\n",
       " ['AcadBldg33AP1', 'Academic'],\n",
       " ['ResBldg30AP2', 'Residential'],\n",
       " ['ResBldg20AP4', 'Residential'],\n",
       " ['ResBldg93AP1', 'Residential'],\n",
       " ['SocBldg4AP1', 'Social'],\n",
       " ['ResBldg58AP1', 'Residential'],\n",
       " ['AcadBldg26AP6', 'Academic'],\n",
       " ['AdmBldg24AP2', 'Admin'],\n",
       " ['AcadBldg5AP1', 'Academic'],\n",
       " ['ResBldg92AP3', 'Residential'],\n",
       " ['ResBldg74AP4', 'Residential'],\n",
       " ['ResBldg44AP2', 'Residential'],\n",
       " ['AcadBldg10AP9', 'Academic'],\n",
       " ['ResBldg54AP6', 'Residential'],\n",
       " ['ResBldg94AP4', 'Residential'],\n",
       " ['AcadBldg35AP2', 'Academic'],\n",
       " ['ResBldg89AP8', 'Residential'],\n",
       " ['SocBldg2AP1', 'Social'],\n",
       " ['AdmBldg7AP4', 'Admin'],\n",
       " ['AcadBldg30AP7', 'Academic'],\n",
       " ['ResBldg74AP1', 'Residential'],\n",
       " ['ResBldg43AP2', 'Residential'],\n",
       " ['ResBldg74AP3', 'Residential'],\n",
       " ['AcadBldg35AP1', 'Academic'],\n",
       " ['AcadBldg25AP4', 'Academic'],\n",
       " ['ResBldg80AP4', 'Residential'],\n",
       " ['AcadBldg23AP5', 'Academic'],\n",
       " ['LibBldg1AP9', 'Library'],\n",
       " ['ResBldg91AP3', 'Residential'],\n",
       " ['AcadBldg34AP5', 'Academic'],\n",
       " ['ResBldg41AP4', 'Residential'],\n",
       " ['ResBldg89AP9', 'Residential'],\n",
       " ['ResBldg97AP3', 'Residential'],\n",
       " ['SocBldg4AP21', 'Social'],\n",
       " ['AcadBldg18AP6', 'Academic'],\n",
       " ['ResBldg66AP2', 'Residential'],\n",
       " ['AcadBldg4AP2', 'Academic'],\n",
       " ['ResBldg56AP12', 'Residential'],\n",
       " ['LibBldg1AP1', 'Library'],\n",
       " ['AdmBldg8AP2', 'Admin'],\n",
       " ['AcadBldg8AP4', 'Academic'],\n",
       " ['LibBldg2AP1', 'Library'],\n",
       " ['ResBldg6AP1', 'Residential'],\n",
       " ['ResBldg44AP4', 'Residential'],\n",
       " ['AcadBldg10AP21', 'Academic'],\n",
       " ['ResBldg80AP3', 'Residential'],\n",
       " ['ResBldg41AP3', 'Residential'],\n",
       " ['ResBldg97AP6', 'Residential'],\n",
       " ['ResBldg97AP4', 'Residential'],\n",
       " ['ResBldg38AP1', 'Residential'],\n",
       " ['SocBldg5AP4', 'Social'],\n",
       " ['ResBldg57AP5', 'Residential'],\n",
       " ['ResBldg71AP2', 'Residential'],\n",
       " ['SocBldg4AP11', 'Social'],\n",
       " ['ResBldg84AP1', 'Residential'],\n",
       " ['ResBldg82AP4', 'Residential'],\n",
       " ['AcadBldg10AP11', 'Academic'],\n",
       " ['ResBldg99AP1', 'Residential'],\n",
       " ['AdmBldg19AP3', 'Admin'],\n",
       " ['AcadBldg10AP7', 'Academic'],\n",
       " ['AcadBldg10AP2', 'Academic'],\n",
       " ['AcadBldg10AP18', 'Academic'],\n",
       " ['ResBldg94AP2', 'Residential'],\n",
       " ['ResBldg44AP3', 'Residential'],\n",
       " ['ResBldg57AP6', 'Residential'],\n",
       " ['ResBldg15AP1', 'Residential'],\n",
       " ['ResBldg84AP2', 'Residential'],\n",
       " ['SocBldg4AP9', 'Social'],\n",
       " ['AcadBldg18AP7', 'Academic'],\n",
       " ['ResBldg89AP2', 'Residential'],\n",
       " ['LibBldg1AP2', 'Library'],\n",
       " ['AdmBldg6AP6', 'Admin'],\n",
       " ['LibBldg3AP3', 'Library'],\n",
       " ['AcadBldg19AP4', 'Academic'],\n",
       " ['AcadBldg30AP1', 'Academic'],\n",
       " ['AcadBldg23AP6', 'Academic'],\n",
       " ['AdmBldg16AP1', 'Admin'],\n",
       " ['LibBldg2AP21', 'Library'],\n",
       " ['AcadBldg15AP3', 'Academic'],\n",
       " ['ResBldg94AP7', 'Residential'],\n",
       " ['AcadBldg1AP3', 'Academic'],\n",
       " ['ResBldg94AP5', 'Residential'],\n",
       " ['ResBldg14AP1', 'Residential'],\n",
       " ['ResBldg89AP1', 'Residential'],\n",
       " ['AcadBldg10AP5', 'Academic'],\n",
       " ['LibBldg4AP4', 'Library'],\n",
       " ['ResBldg60AP3', 'Residential'],\n",
       " ['AcadBldg16AP6', 'Academic'],\n",
       " ['AcadBldg15AP5', 'Academic'],\n",
       " ['ResBldg25AP2', 'Residential'],\n",
       " ['ResBldg55AP1', 'Residential'],\n",
       " ['AdmBldg6AP2', 'Admin'],\n",
       " ['AcadBldg18AP12', 'Academic'],\n",
       " ['AcadBldg16AP3', 'Academic'],\n",
       " ['ResBldg83AP6', 'Residential'],\n",
       " ['ResBldg83AP4', 'Residential'],\n",
       " ['LibBldg2AP13', 'Library'],\n",
       " ['ResBldg63AP2', 'Residential'],\n",
       " ['AcadBldg26AP2', 'Academic'],\n",
       " ['ResBldg21AP3', 'Residential'],\n",
       " ['ResBldg9AP2', 'Residential'],\n",
       " ['ResBldg30AP1', 'Residential'],\n",
       " ['ResBldg30AP3', 'Residential'],\n",
       " ['ResBldg67AP1', 'Residential'],\n",
       " ['AcadBldg12AP3', 'Academic'],\n",
       " ['ResBldg20AP1', 'Residential'],\n",
       " ['ResBldg20AP3', 'Residential'],\n",
       " ['LibBldg4AP2', 'Library'],\n",
       " ['LibBldg1AP4', 'Library'],\n",
       " ['AdmBldg27AP1', 'Admin'],\n",
       " ['AcadBldg33AP5', 'Academic'],\n",
       " ['ResBldg83AP1', 'Residential'],\n",
       " ['AcadBldg10AP12', 'Academic'],\n",
       " ['ResBldg83AP7', 'Residential'],\n",
       " ['ResBldg60AP6', 'Residential'],\n",
       " ['AdmBldg29AP2', 'Admin'],\n",
       " ['AcadBldg21AP1', 'Academic'],\n",
       " ['LibBldg2AP17', 'Library'],\n",
       " ['SocBldg11AP6', 'Social'],\n",
       " ['AdmBldg18AP1', 'Admin'],\n",
       " ['AcadBldg6AP2', 'Academic'],\n",
       " ['ResBldg38AP2', 'Residential'],\n",
       " ['LibBldg2AP9', 'Library'],\n",
       " ['ResBldg3AP5', 'Residential'],\n",
       " ['ResBldg56AP14', 'Residential'],\n",
       " ['ResBldg56AP7', 'Residential'],\n",
       " ['AcadBldg8AP3', 'Academic'],\n",
       " ['ResBldg54AP2', 'Residential'],\n",
       " ['LibBldg1AP16', 'Library'],\n",
       " ['ResBldg91AP2', 'Residential'],\n",
       " ['AcadBldg17AP4', 'Academic'],\n",
       " ['ResBldg94AP12', 'Residential'],\n",
       " ['LibBldg5AP1', 'Library'],\n",
       " ['AdmBldg19AP2', 'Admin'],\n",
       " ['AcadBldg10AP3', 'Academic'],\n",
       " ['AdmBldg14AP2', 'Admin'],\n",
       " ['LibBldg1AP7', 'Library'],\n",
       " ['AcadBldg18AP3', 'Academic'],\n",
       " ['AcadBldg10AP8', 'Academic'],\n",
       " ['ResBldg56AP13', 'Residential'],\n",
       " ['AcadBldg10AP13', 'Academic'],\n",
       " ['AcadBldg10AP1', 'Academic'],\n",
       " ['SocBldg11AP4', 'Social'],\n",
       " ['SocBldg4AP10', 'Social'],\n",
       " ['ResBldg57AP4', 'Residential'],\n",
       " ['AcadBldg30AP4', 'Academic'],\n",
       " ['ResBldg96AP1', 'Residential'],\n",
       " ['AcadBldg26AP1', 'Academic'],\n",
       " ['AcadBldg19AP3', 'Academic'],\n",
       " ['AcadBldg19AP2', 'Academic'],\n",
       " ['LibBldg2AP20', 'Library'],\n",
       " ['AcadBldg23AP9', 'Academic'],\n",
       " ['ResBldg82AP1', 'Residential'],\n",
       " ['SocBldg11AP5', 'Social'],\n",
       " ['ResBldg82AP3', 'Residential'],\n",
       " ['LibBldg2AP3', 'Library'],\n",
       " ['AdmBldg27AP3', 'Admin'],\n",
       " ['SocBldg1AP1', 'Social'],\n",
       " ['SocBldg5AP3', 'Social'],\n",
       " ['AdmBldg24AP1', 'Admin'],\n",
       " ['AdmBldg12AP1', 'Admin'],\n",
       " ['LibBldg1AP10', 'Library'],\n",
       " ['ResBldg57AP3', 'Residential'],\n",
       " ['ResBldg90AP1', 'Residential'],\n",
       " ['AdmBldg12AP6', 'Admin'],\n",
       " ['AcadBldg25AP2', 'Academic'],\n",
       " ['ResBldg72AP1', 'Residential'],\n",
       " ['ResBldg56AP9', 'Residential'],\n",
       " ['AcadBldg6AP6', 'Academic'],\n",
       " ['AcadBldg30AP5', 'Academic'],\n",
       " ['ResBldg94AP8', 'Residential'],\n",
       " ['AcadBldg17AP2', 'Academic'],\n",
       " ['AcadBldg11AP1', 'Academic'],\n",
       " ['LibBldg1AP14', 'Library'],\n",
       " ['AcadBldg34AP2', 'Academic'],\n",
       " ['ResBldg60AP2', 'Residential'],\n",
       " ['SocBldg11AP3', 'Social'],\n",
       " ['AcadBldg26AP3', 'Academic'],\n",
       " ['SocBldg4AP6', 'Social'],\n",
       " ['ResBldg94AP10', 'Residential'],\n",
       " ['LibBldg2AP7', 'Library'],\n",
       " ['ResBldg36AP2', 'Residential'],\n",
       " ['ResBldg55AP2', 'Residential'],\n",
       " ['LibBldg1AP5', 'Library'],\n",
       " ['ResBldg83AP5', 'Residential'],\n",
       " ['ResBldg63AP1', 'Residential'],\n",
       " ['AcadBldg15AP1', 'Academic'],\n",
       " ['ResBldg23AP5', 'Residential'],\n",
       " ['AdmBldg8AP3', 'Admin'],\n",
       " ['ResBldg4AP1', 'Residential'],\n",
       " ['ResBldg97AP1', 'Residential'],\n",
       " ['AcadBldg25AP3', 'Academic'],\n",
       " ['AdmBldg7AP3', 'Admin'],\n",
       " ['ResBldg60AP5', 'Residential'],\n",
       " ['ResBldg20AP2', 'Residential'],\n",
       " ['ResBldg43AP3', 'Residential'],\n",
       " ['ResBldg76AP2', 'Residential'],\n",
       " ['AcadBldg13AP1', 'Academic'],\n",
       " ['ResBldg56AP3', 'Residential'],\n",
       " ['ResBldg100AP1', 'Residential'],\n",
       " ['ResBldg2AP1', 'Residential'],\n",
       " ['AcadBldg16AP2', 'Academic'],\n",
       " ['AcadBldg17AP7', 'Academic'],\n",
       " ['ResBldg97AP2', 'Residential'],\n",
       " ['SocBldg4AP4', 'Social'],\n",
       " ['SocBldg5AP1', 'Social'],\n",
       " ['AcadBldg10AP16', 'Academic'],\n",
       " ['SocBldg4AP5', 'Social'],\n",
       " ['ResBldg3AP4', 'Residential'],\n",
       " ['ResBldg56AP4', 'Residential'],\n",
       " ['AcadBldg16AP4', 'Academic'],\n",
       " ['ResBldg94AP11', 'Residential'],\n",
       " ['AcadBldg17AP10', 'Academic'],\n",
       " ['SocBldg4AP7', 'Social'],\n",
       " ['ResBldg44AP1', 'Residential'],\n",
       " ['ResBldg22AP2', 'Residential'],\n",
       " ['SocBldg11AP1', 'Social'],\n",
       " ['AcadBldg34AP4', 'Academic'],\n",
       " ['AcadBldg10AP22', 'Academic'],\n",
       " ['AcadBldg30AP2', 'Academic'],\n",
       " ['AcadBldg8AP2', 'Academic'],\n",
       " ['LibBldg2AP14', 'Library'],\n",
       " ['AcadBldg23AP4', 'Academic'],\n",
       " ['AcadBldg27AP1', 'Academic'],\n",
       " ['AcadBldg17AP8', 'Academic'],\n",
       " ['AcadBldg23AP7', 'Academic'],\n",
       " ['ResBldg3AP3', 'Residential'],\n",
       " ['ResBldg3AP1', 'Residential'],\n",
       " ['AcadBldg10AP20', 'Academic'],\n",
       " ['ResBldg56AP10', 'Residential'],\n",
       " ['AcadBldg4AP5', 'Academic'],\n",
       " ['SocBldg9AP1', 'Social'],\n",
       " ['ResBldg94AP3', 'Residential'],\n",
       " ['AcadBldg29AP1', 'Academic'],\n",
       " ['AdmBldg23AP1', 'Admin'],\n",
       " ['AcadBldg18AP2', 'Academic'],\n",
       " ['ResBldg41AP1', 'Residential'],\n",
       " ['AcadBldg10AP17', 'Academic'],\n",
       " ['AcadBldg16AP5', 'Academic'],\n",
       " ['ResBldg84AP3', 'Residential'],\n",
       " ['AdmBldg8AP1', 'Admin'],\n",
       " ['ResBldg82AP2', 'Residential'],\n",
       " ['AdmBldg1AP1', 'Admin'],\n",
       " ['AcadBldg23AP8', 'Academic'],\n",
       " ['AcadBldg33AP6', 'Academic'],\n",
       " ['AcadBldg15AP4', 'Academic'],\n",
       " ['AcadBldg34AP3', 'Academic'],\n",
       " ['AcadBldg21AP2', 'Academic'],\n",
       " ['AcadBldg6AP1', 'Academic'],\n",
       " ['AcadBldg6AP4', 'Academic'],\n",
       " ['AcadBldg26AP5', 'Academic'],\n",
       " ['ResBldg13AP1', 'Residential'],\n",
       " ['ResBldg33AP2', 'Residential'],\n",
       " ['ResBldg62AP3', 'Residential'],\n",
       " ['ResBldg62AP1', 'Residential'],\n",
       " ['AcadBldg30AP3', 'Academic'],\n",
       " ['ResBldg83AP8', 'Residential'],\n",
       " ['ResBldg49AP1', 'Residential'],\n",
       " ['SocBldg4AP13', 'Social'],\n",
       " ['ResBldg57AP2', 'Residential'],\n",
       " ['ResBldg21AP1', 'Residential'],\n",
       " ['LibBldg1AP15', 'Library'],\n",
       " ['ResBldg101AP1', 'Residential'],\n",
       " ['AcadBldg17AP1', 'Academic'],\n",
       " ['ResBldg90AP2', 'Residential'],\n",
       " ['SocBldg4AP19', 'Social'],\n",
       " ['SocBldg11AP2', 'Social'],\n",
       " ['AcadBldg12AP2', 'Academic'],\n",
       " ['LibBldg2AP6', 'Library'],\n",
       " ['ResBldg62AP4', 'Residential'],\n",
       " ['ResBldg62AP2', 'Residential'],\n",
       " ['ResBldg23AP6', 'Residential'],\n",
       " ['ResBldg94AP9', 'Residential'],\n",
       " ['LibBldg1AP12', 'Library'],\n",
       " ['SocBldg1AP2', 'Social'],\n",
       " ['AcadBldg12AP1', 'Academic'],\n",
       " ['AdmBldg6AP1', 'Admin'],\n",
       " ['AcadBldg14AP1', 'Academic'],\n",
       " ['LibBldg2AP8', 'Library'],\n",
       " ['AcadBldg31AP3', 'Academic'],\n",
       " ['AcadBldg10AP4', 'Academic'],\n",
       " ['AcadBldg6AP3', 'Academic'],\n",
       " ['AcadBldg33AP3', 'Academic'],\n",
       " ['ResBldg60AP1', 'Residential'],\n",
       " ['ResBldg43AP1', 'Residential'],\n",
       " ['SocBldg5AP2', 'Social'],\n",
       " ['ResBldg30AP4', 'Residential'],\n",
       " ['AcadBldg17AP6', 'Academic'],\n",
       " ['AcadBldg17AP3', 'Academic'],\n",
       " ['AcadBldg23AP1', 'Academic'],\n",
       " ['ResBldg36AP1', 'Residential'],\n",
       " ['AcadBldg10AP19', 'Academic'],\n",
       " ['LibBldg3AP1', 'Library'],\n",
       " ['AdmBldg17AP1', 'Admin'],\n",
       " ['ResBldg92AP1', 'Residential'],\n",
       " ['ResBldg74AP2', 'Residential'],\n",
       " ['AcadBldg1AP1', 'Academic'],\n",
       " ['AcadBldg9AP2', 'Academic'],\n",
       " ['ResBldg91AP4', 'Residential'],\n",
       " ['AcadBldg1AP4', 'Academic'],\n",
       " ['ResBldg22AP1', 'Residential'],\n",
       " ['AdmBldg6AP4', 'Admin'],\n",
       " ['AcadBldg19AP1', 'Academic'],\n",
       " ['AcadBldg22AP2', 'Academic'],\n",
       " ['AcadBldg18AP10', 'Academic'],\n",
       " ['LibBldg4AP5', 'Library'],\n",
       " ['ResBldg52AP1', 'Residential'],\n",
       " ['ResBldg43AP4', 'Residential'],\n",
       " ['ResBldg100AP2', 'Residential'],\n",
       " ['AcadBldg17AP9', 'Academic'],\n",
       " ['AdmBldg3AP1', 'Admin'],\n",
       " ['AcadBldg4AP3', 'Academic'],\n",
       " ['SocBldg4AP22', 'Social'],\n",
       " ['SocBldg4AP8', 'Social'],\n",
       " ['ResBldg66AP1', 'Residential'],\n",
       " ['ResBldg83AP3', 'Residential'],\n",
       " ['AcadBldg4AP1', 'Academic'],\n",
       " ['AcadBldg31AP2', 'Academic'],\n",
       " ['AcadBldg33AP2', 'Academic'],\n",
       " ['ResBldg83AP2', 'Residential'],\n",
       " ['ResBldg12AP1', 'Residential'],\n",
       " ['ResBldg41AP2', 'Residential'],\n",
       " ['ResBldg97AP5', 'Residential'],\n",
       " ['AcadBldg8AP1', 'Academic'],\n",
       " ['SocBldg1AP5', 'Social'],\n",
       " ['AcadBldg16AP1', 'Academic'],\n",
       " ['ResBldg71AP1', 'Residential'],\n",
       " ['AdmBldg29AP1', 'Admin'],\n",
       " ['AcadBldg18AP4', 'Academic'],\n",
       " ['ResBldg91AP1', 'Residential'],\n",
       " ['ResBldg56AP5', 'Residential'],\n",
       " ['AcadBldg22AP1', 'Academic'],\n",
       " ['AdmBldg12AP7', 'Admin'],\n",
       " ['ResBldg94AP1', 'Residential'],\n",
       " ['AcadBldg17AP5', 'Academic'],\n",
       " ['AcadBldg23AP11', 'Academic'],\n",
       " ['ResBldg57AP1', 'Residential'],\n",
       " ['AcadBldg6AP5', 'Academic'],\n",
       " ['AcadBldg10AP14', 'Academic'],\n",
       " ['ResBldg101AP2', 'Residential'],\n",
       " ['ResBldg38AP3', 'Residential'],\n",
       " ['ResBldg3AP2', 'Residential'],\n",
       " ['SocBldg4AP14', 'Social']]"
      ]
     },
     "execution_count": 17,
     "metadata": {},
     "output_type": "execute_result"
    }
   ],
   "source": [
    "# Mapping AccessPoint:Building\n",
    "\n",
    "import numpy as np\n",
    "\n",
    "temp = []\n",
    "for ap, bu in zip(df[\"AccessPoint\"], df[\"Building Type\"]) : \n",
    "    temp.append([ap,bu])\n",
    "accessPoint_and_buildingType = [list(x) for x in set(tuple(x) for x in temp)]\n",
    "accessPoint_and_buildingType"
   ]
  },
  {
   "cell_type": "code",
   "execution_count": null,
   "metadata": {
    "collapsed": false
   },
   "outputs": [],
   "source": [
    "# Create AP\n",
    "for line in accessPoint_and_buildingType:\n",
    "    graph.run('''\n",
    "    CREATE (AP:AccessPoint {buildingType:{BU}, nameAP:{N}})\n",
    "    RETURN AP    \n",
    "    ''', {\"N\": line[0], \"BU\": line[1]})"
   ]
  },
  {
   "cell_type": "code",
   "execution_count": null,
   "metadata": {
    "collapsed": false
   },
   "outputs": [],
   "source": [
    "# Create relationships between MAC addresses and AP\n",
    "\n",
    "for index, row in df.iterrows():\n",
    "    (\n",
    "        graph.run('''\n",
    "        MATCH (MAC) , (AP)           \n",
    "        WHERE MAC.name = $name and AP.nameAP = $nameAP \n",
    "        CREATE (MAC)-[action:RELTYPE{action:$action, status:$status, date:$datetime, message:$message}]->(AP)\n",
    "        RETURN action\n",
    "        ''', parameters = {'name': row['MAC address'], 'nameAP': row['AccessPoint'],\n",
    "                           'action': row['action'], 'status': row['status'],\n",
    "                           'datetime': str(row['datetime']), 'message': row['Message'] }).data()\n",
    "    )"
   ]
  },
  {
   "cell_type": "markdown",
   "metadata": {},
   "source": [
    "# Database requests and aggregating results"
   ]
  },
  {
   "cell_type": "code",
   "execution_count": 18,
   "metadata": {
    "collapsed": false
   },
   "outputs": [],
   "source": [
    "#  List of MAC addresses\n",
    "users =(\n",
    "        graph.run('''\n",
    "        MATCH (MAC:address)           \n",
    "        RETURN MAC.name\n",
    "        ''').data()\n",
    "    )"
   ]
  },
  {
   "cell_type": "code",
   "execution_count": 21,
   "metadata": {
    "collapsed": false
   },
   "outputs": [
    {
     "data": {
      "text/plain": [
       "u'0040961e58be'"
      ]
     },
     "execution_count": 21,
     "metadata": {},
     "output_type": "execute_result"
    }
   ],
   "source": [
    "users[0][\"MAC.name\"]"
   ]
  },
  {
   "cell_type": "code",
   "execution_count": 23,
   "metadata": {
    "collapsed": false
   },
   "outputs": [
    {
     "name": "stdout",
     "output_type": "stream",
     "text": [
      "[u'0040961e58be', u'nothing', u'00601db0635a', u'00409699dfba', u'004096daa8fe', u'00409630cdc9', u'004096342c16', u'00409699915b', u'00409664173d', u'004096a0b921', u'003065343950', u'003065b40dda', u'003065fc1494', u'0040968cf0ea', u'0030650c0321', u'0040962dc86b', u'0030655b9345', u'00409622cb2b', u'003065e8f0ca', u'00022db6cc78', u'004096d06bb2', u'004096da8a8e', u'00601d9bf252', u'00306526784b', u'003065708c70', u'004096ff6784', u'003065d55e08', u'00409649fe8d', u'00306506fde2', u'004096229b1c', u'0030655b8297', u'0040964fb1f3', u'0030651794b6', u'004096828008', u'0040963582b8', u'003065f88ab1', u'00409616fc02', u'003065901355', u'003065e2d2b5', u'0030659f0025', u'00601df57e26', u'003065c010fb', u'004096f20d21', u'003065475356', u'003065e79136', u'00601d9a221b', u'00306582237e', u'00306572a9d8', u'0030659970a6', u'004096aec485', u'003065e0de26', u'004096c99fa5', u'00409653f0d3', u'0040966fb204', u'004096906d36', u'00409696d938', u'004096fde907', u'004096fee63e', u'00601d29a832', u'00601daa4d6d', u'0040961558f7', u'00409638aef9', u'004096da78e4', u'0030653813fd', u'00601d5eab28', u'0040966b9e99', u'004096d3161b', u'0030651f7707', u'00306547a61f', u'0040960b31ce', u'00409672d195', u'00601d3fd397', u'003065e5e3f5', u'0040966eda31', u'0040960a7573', u'0040962377ec', u'00306507681a', u'003065fb6bb0', u'003065cdabb1', u'004096bbb887', u'004096d922b7', u'00409664ea03', u'00409656a9b7', u'00601dec40ea', u'004096cf9f64', u'0040966fd9c6', u'0030657c2ea6', u'003065e4bcef', u'004096b57a2f', u'00601dbb8fac', u'00601d8969c8', u'00601de2717d', u'00601d5c1c96', u'00601d70421b', u'004096effaab', u'0030658d041f', u'003065d91e72', u'00409620586b', u'00601df8cc52', u'003065757b9a', u'0040960eb783', u'0040962d4b01', u'00601d57902c', u'00601d99cd96', u'003065ed4f04', u'00409603501f', u'00022d3ae59b', u'003065de4dc1', u'00306581d2db', u'0040962f0fee', u'003065972849', u'0040961612c7', u'003065e2f58c', u'0040969e61a7', u'00601d6c48b6', u'004096d03b3f', u'00022d55f73f', u'00409685b281', u'00022d4d28f4', u'00601d496104', u'00601d8d26c2', u'00306519f163', u'00306572b0cc', u'00409610eee6', u'0030650b29a5', u'003065b2c127', u'003065e5f8e9', u'0040966a1bd7', u'004096ffce46', u'004096f40195', u'003065feca2a', u'00601d0f507e', u'004096e391aa', u'003065f04da1', u'003065639522', u'004096b55b47', u'00409620dee9', u'00409699ee33', u'004096a3303d', u'004096e65a2c', u'00022d10778d', u'00022d7eb056', u'0030652069be', u'004096f062a1', u'004096e4e4a5', u'00409652064c', u'004096011ce9', u'004096068da2', u'004096a859f0', u'004096391b01', u'0040964e0eeb', u'004096fe7c66', u'004096d4bb2b', u'004096bd22a2', u'004096ce81bc', u'00409649e02e', u'004096f5e0b0', u'0040962a3a06', u'00409623a067', u'003065e99488', u'0030651bae78', u'0030657bad4b', u'004096e61d35', u'004096c4e558', u'004096f4334f', u'0030654806d7', u'004096b77bde', u'004096170d62', u'00601dad89d4', u'004096275ef4', u'00022d371973', u'003065b70356', u'003065add3fa', u'003065d7718a', u'004096e05040', u'003065abdbe8', u'00409650715a', u'0040965c676c', u'004096393d3f', u'0030658d6f18', u'003065d5bc80', u'0000c5e63857', u'00306593d275', u'0030655baaea', u'004096c9f949', u'0040967b052a', u'00409632d2cb', u'003065a8bef4', u'0050da083fb4', u'004096f8258f', u'00409607afd1', u'004096e77240', u'004096470a34', u'003065fe9632', u'003065957c34', u'003065abbd30', u'0040960da883', u'0040964a5eed', u'003065b2fb0f', u'003065687126', u'00601d23f5eb', u'00022de8502e', u'003065dba815', u'0030651d2871', u'003065ff2bc0', u'00306528bac1', u'0040962de1e8', u'003065e97c26', u'003065a15e50', u'00601d13c98a', u'0030651e0ae6', u'003065769752', u'003065424b61', u'0040965b1471', u'003065e8b691', u'003065f1edc6', u'004096f3ec87', u'0030658812dd', u'004096c5d023', u'0040964f5226', u'00601df83d0d', u'00601d67f99c', u'003065bebdb6', u'00306534f01c', u'00022d6c58e0', u'00306572ab32', u'00306538f32a', u'0050da8dc55b', u'004096b16ac7', u'0040962ca4bc', u'003065e7592d', u'003065f94cf4', u'003065758950', u'003065578d65', u'00606da332c9', u'00601d92e5c3', u'003065caca43', u'003065e9aecb', u'0040963bed43', u'0000c57610a0', u'00409682ef14', u'003065f71074', u'0040962c60ca', u'00306534d07b', u'004096cd6162', u'003065001a43', u'0030657b5eaa', u'00022d8adcdf', u'004096128c0d', u'0030656e7eb9', u'0030abc32fe1', u'00601d66adca', u'004096fc09c6', u'004096080d4c', u'003065368859', u'004096f41eb8', u'00022dbc3259', u'00601df5782c', u'003065f369f0', u'00022d58f01c', u'00601dd05e9f', u'0030659bebd9', u'0040961b931b', u'0030655adfb1', u'004096d42ef0', u'00409608fedc', u'0040969c9e37', u'00022df52e94', u'0030654c006c', u'00409664cbc3', u'00022d90dcda', u'003065a83d74', u'0030657247e9', u'003065a426d2', u'004096a0599c', u'00306569750c', u'004096de29aa', u'0030655bc4d3', u'00409665e413', u'004096e9342c', u'003065294706', u'0040964a65e6', u'0030657b2ba2', u'003065535df0', u'004096038a96', u'003065f01a87', u'004096ecf8e6', u'0030653c8114', u'0030658643c4', u'00409680ec38', u'00022d458c14', u'00022dd87247', u'003065de5aa3', u'003065dae75a', u'004096dd0408', u'004096e0c497', u'00409690742d', u'003065e0817f', u'0030653dfa36', u'00306533bd35', u'00409622e1cf', u'00022de3467b', u'003065104246', u'004005aa4e4c', u'003065b8b97e', u'00601dfc51f7', u'003065b312a1', u'00601d15c062', u'004096f9f2e4', u'00409636d7d7', u'00306547d63a', u'003065ca19b1', u'00306533a0e1', u'0030656527cf', u'004096bfc395', u'003065b29a37', u'00032f5418f1', u'004096b04a98', u'00601db90829', u'0040967ad665', u'0030655790c7', u'0030658d5b4a', u'0030650b52b2', u'004096692024', u'00306576a704', u'0030651e0e5a', u'003065c29f49', u'00022d104c11', u'00601df2afbd', u'00601ddefcf8', u'004096a6153a', u'0030659088f7', u'004096e5754f', u'0030653eff99', u'003065c536fc', u'0050da25fe2d', u'0030650d3dd3', u'004096dacfc9', u'00601d92b482', u'003065fc6f87', u'004096f7d7a4', u'00306537fe81', u'0030659a3544', u'00022d7ff066', u'003065dfd02f', u'00306554ad08', u'004096987dfb', u'003065e6b272', u'003065eeb550', u'0040961ac2e2', u'004096abfd74', u'00022dfe1f69', u'0040961b41da', u'000502d13d80', u'004096d56b46', u'0040964861d7', u'0040962fb262', u'0030654e4fb6', u'004096659e30', u'0030655f1785', u'00601d36c92d', u'0030654d2617', u'0030653dcfdc', u'0040960541f8', u'004096bda7f8', u'004096c2420a', u'004096d64f39', u'004096429819', u'004096f09eb6', u'0030659e96e3', u'0030653daa8c', u'0002b38e4a86', u'0040963b433c', u'004096ac865f', u'00022da83f84', u'004096fc4ed4', u'0030651a05af', u'003065b46d69', u'003065061029', u'00601db3340f', u'00409656d4ab', u'00045a7b8624', u'003065d8efb0', u'003065dd81b3', u'003065d3ef24', u'00306525ef19', u'0030658bb0dd', u'00306539db23', u'00306512119d', u'003065ff9562', u'003065fe6512', u'003065a68243', u'003065265e15', u'004096b7e559', u'0030655fe54b', u'003065672efa', u'003065e48f1b', u'003065895d9b', u'0030652ae306', u'00601d9b47fa', u'004096144856', u'004096943da8', u'00601d441e01', u'004096f98a4b', u'00306571d8c4', u'004096667366', u'00306555e077', u'00306516afac', u'003065aaf2a3', u'0030658ba7eb', u'00022dadc41d', u'0030657ca4f7', u'004096692338', u'004096fa7ff7', u'003065bdb275', u'004096dfa78a', u'0030652ac162', u'00601d2ac171', u'00306577e7bb', u'003065cb450a', u'0040961d5828', u'0050dac184a5', u'004096e184ae', u'0030654e3572', u'004096de66cc', u'0030653d5d3c', u'003065075089', u'004096abb1a9', u'003065d51fea', u'0040960d7cc5', u'003065a39320', u'004096d3392e', u'0040969f58ed', u'0040963c1d25', u'00306586483d', u'0030659606c8', u'0040969c9093', u'003065bee450', u'004096af6716', u'00306576c6f7', u'0040963f454d', u'00409668312e', u'00306542b676', u'003065cb5c11', u'003065d3099b', u'003065bc79a6', u'003065239f46', u'0030659ffedc', u'003065ca7e43', u'003065b08cdf', u'003065fa0b39', u'00601d6fd648', u'00032f2dc8c9', u'0040969c30dd', u'004096f84f8c', u'0030657fcffb', u'0040967b4ae4', u'004096eccf9c', u'003065b8bd32', u'00022df11518', u'004096224dcd', u'0040969bfde8', u'0040967d8f1d', u'00045a846a1b', u'0030659bfa56', u'003065dcdee8', u'00306585f92d', u'0030658f0c69', u'003065f5b4c4', u'00306541e148', u'003065882246', u'00022d8f9795', u'003065e758a9', u'00306505444a', u'0040963d6324', u'00022dc6e528', u'00022d468591', u'003065ab7885', u'0030651fbf33', u'003065ab07a8', u'003065d90d61', u'003065581bc1', u'00306513bc12', u'003065f4bbda', u'004096f5ba46', u'00306590cc73', u'003065ff96be', u'003065749f73', u'00601d16096c', u'0000c5a0e337', u'0040962491f7', u'003065f648b9', u'00306509c34b', u'0030656819ca', u'0030656c0728', u'004096eb19e8', u'0030657e62bf', u'00022d8b00fb', u'00601dc663da', u'003065d13013', u'00022de48aaf', u'00306502eae6', u'00409686bf25', u'004096627c9d', u'003065649f0e', u'00022da349e9', u'00601d10bb4f', u'003065f69357', u'004096a0db54', u'00306562ec0a', u'0030650e256e', u'0030655aba2b', u'00055d3f9e36', u'00022d0acaae', u'00306515e148', u'003065ec0acf', u'003065070118', u'003065b79947', u'00601d45010d', u'003065523bf8', u'0030654da3fe', u'00601d80733e', u'00601dbca844', u'003065180458', u'00601d3dd7ab', u'004096ae00ba', u'003065fa2d3f', u'00409651cb55', u'0030659f47e3', u'00306566706e', u'003065b14b46', u'0000c5112528', u'0040969b4aa7', u'004096e8a84a', u'004096c09135', u'00022dfc2637', u'00022d8af92a', u'004096b13dad', u'00409634ff93', u'0040966b410c', u'0040967782c7', u'004096804e68', u'004096832293', u'00409678cacd', u'0040967d944a', u'003065f86c99', u'0030657c9cc4', u'0040968a7c4d', u'003065d46a5d', u'004096c42249', u'00409621e50c', u'004096d0dae0', u'0030652f3b0c', u'0040963872df', u'00409609e8de', u'0040965515da', u'004096e0b13c', u'004096c2915e', u'0040962a7f18', u'0040969e99c3', u'004096d2e28b', u'00409650f3c3', u'00409698e339', u'0030658040fb', u'00306508f424', u'004096b23ecb', u'0040967981e2', u'00409691e655', u'00022d16902c', u'0030657742ad', u'0040960e07a6', u'00e02982bc0b', u'004096aa0d58', u'00409646de3e', u'004096a33c26', u'00022df12826', u'004096dfe794', u'0040968dd4c2', u'004096991e43', u'0040962a8b0f', u'00409676ac9e', u'003065a5183c', u'00409698f7ff', u'004096d79746', u'004096bf314c', u'004096e58928', u'004096381dda', u'004096695591', u'004096ebbe77', u'004096b2898f', u'004096d002f7', u'00409634edaf', u'0040965f59fe', u'00409602f4d0', u'004096a1b628', u'004096720a65', u'00409621bd4b', u'004096bab5ed', u'004096d7ea94', u'0040965227a7', u'004096b0a651', u'0040967ee136', u'00409699e969', u'004096188341', u'0040962923a3', u'004096590ce2', u'004096cf0b33', u'0040967f43a6', u'00409664066b', u'004096097efc', u'0040961a27e4', u'004096247537', u'0040963f9134', u'004096c7f491', u'0040963d1cb5', u'004096d31cc0', u'004096726a78', u'004096342f1e', u'004096e6f81a', u'0040968375ba', u'00409672bcfe', u'0040963ecc50', u'00409651890c', u'004096bfd9e3', u'004096f9f44c', u'004096e5066c', u'00409633478c', u'00409641ff58', u'00601d45d1da', u'003065589dab', u'003065811f44', u'00409698a9df', u'003065e0a252', u'003065d15f99', u'003065e1777d', u'003065d6e947', u'0040962f096f', u'0040967cd43e', u'004096e995fa', u'004096fbd8ae', u'0040966ea058', u'004096884c68', u'00409658672c', u'004096a248c8', u'004096177335', u'00601d1196f3', u'00601db88cc8', u'003065d45f50', u'00032f292239', u'004096eead58', u'00409632f1ee', u'004096125cc4', u'004096c17832', u'00409610eae9', u'004096343b3b', u'004096331acd', u'0040962a7d5e', u'0040969121bd', u'004096e5a26a', u'004096b9a388', u'00022d8079a8', u'00409682f790', u'004096e9f288', u'00409667e6e1', u'004096ed8cda', u'00409614b0ba', u'004096ab4633', u'004096d75125', u'0040965ca1fd', u'0030650f7221', u'004096c0489e', u'0040963bafe4', u'004096036880', u'004096171888', u'004096226260', u'00306517e980', u'004096f1bf2a', u'0040960f0444', u'0040963a1a69', u'00409624bd57', u'0040966a3d5a', u'00409693c7b0', u'004096a1cca9', u'00409629beee', u'004096f9cab1', u'004096490cd7', u'004096d98b75', u'0040962c71be', u'00055dc05d5b', u'00409629fe7f', u'00409601011e', u'004096b135d7', u'004096376477', u'003065961a24', u'00409651bef9', u'0040967214c7', u'0040969b0446', u'004096f8261e', u'00306584c88a', u'0040961f513f', u'004096f009fd', u'004096b30f57', u'003065e96694', u'003065787324', u'0040966abfa8', u'004096b11c20', u'0040966660d4', u'0040963587b4', u'003065f2d70f', u'003065d9a457', u'00409664c8e1', u'00409629a622', u'003065475d11', u'003065bec3ec', u'003065616010', u'004096008bc8', u'004096dac05a', u'00409642f45a', u'00601d178927', u'003065fc7c07', u'004096a260e8', u'004096604052', u'00306500e164', u'003065518a84', u'0002a55a0817', u'00409650c94c', u'003065f06e02', u'0040963173d6', u'003065beae9e', u'0040965a5436', u'004096e1c767', u'004096535f77', u'004096354902', u'004096d342eb', u'0040962b0847', u'00022d5a3595', u'004096f3e315', u'004096b9188c', u'004096a6a965', u'004096340220', u'004096ca66a2', u'004096fe79f2', u'00409667d98c', u'00409684f3b2', u'003065f0d8a0', u'00070e5bf87b', u'00070e345f3f', u'003065d353f3', u'0040965ce637', u'00409656887f', u'004096034b62', u'004096b39235', u'004096a9edfa', u'0040961dbe3c', u'004096bcc4af', u'0040968047d7', u'00409665ab62', u'00409629cb6a', u'0040960be13f', u'004096f76088', u'00306540cc5b', u'00601d94305d', u'0040965ccc2c', u'00070ef7520f', u'00070ec3d09f', u'004096c34f0d', u'00409655cb4e', u'00409616ab43', u'004096829758', u'00022d6d4855', u'00032f98cf71', u'004096d4242e', u'00306577caa2', u'0040966efa4d', u'004096adb3a0', u'0040962091f9', u'004096d439f6', u'00306512e208', u'004096d9d100', u'0030657cd0bd', u'00409620f218', u'004096782b17', u'003065b36ad4', u'004096a5fe76', u'00409698d1af', u'0040966c93ee', u'00070ef23cbb', u'003065a48406', u'004096c0cdd2', u'00070e27c4f1', u'0040966ac174', u'00306544c58a', u'004096684347', u'00070e2d10e5', u'00070ee42b16', u'00070e3ef403', u'00070e986ccc', u'00409665b7f1', u'004096f9847b', u'004096b2fe93', u'004096f53386', u'00409648c683', u'0040961862fa', u'00070e9cf5c4', u'00070e90c524', u'0040969c0c3b', u'0040967f2581', u'0030656567d7', u'0040963d8400', u'00601db2ec16', u'00306589bd34', u'00022d7fd3ce', u'00045a7a0429', u'0004e218fdfa', u'00070e0da676', u'0040965a7ce7', u'004096fd60c9', u'004096bfea84', u'00022d234b47', u'00070e9150dd', u'00022d0acd45', u'003065670339', u'00409633275c', u'003065038734', u'003065472650', u'00306571ea92', u'00070e643764', u'00306560ef73', u'003065256c5a', u'004096689da9', u'003065f24aa9', u'003065d15da6', u'0050da8c7829', u'0040964422db', u'004096f872ee', u'00022dd4bf89', u'00070eb47270', u'0030655e363b', u'00306563577a', u'00070e600d72', u'00306522f028', u'00022d4a7397', u'00409695d75c', u'003065d625db', u'004096da50ba', u'00070e7040c6', u'003065c81c1f', u'00070e7a8075', u'0030656a58d2', u'00070e024d72', u'00055d7a9277', u'00070ebde5d1', u'00070ec95843', u'00306558b077', u'00070ea559a4', u'003065329902', u'0030654d7f26', u'00409690d637', u'004096bbd901', u'00070e5d994b', u'00045a2cb8c5', u'00070ea350b9', u'00022dea0c1c', u'003065d8954a', u'00070ecff12b', u'00306557dbd9', u'00306553c48d', u'00070e498f9b', u'00409635b95c', u'00022dd78ec3', u'003065cd15fa', u'004096476ea0', u'00409681f307', u'004096f82115', u'004096d433b0', u'00070eddb470', u'00306508bc6b', u'00400503ff18', u'003065119ab9', u'003065170c68', u'003065f78617', u'00070edfc293', u'00070e0341ea', u'00022ddc8fcc', u'00022d474513', u'00070e222990', u'004096bbd674', u'00070e195da6', u'0030655cd5a4', u'00070e890870', u'00022d9ad9a8', u'00306596114b', u'00070ef98aa4', u'00022d4e9f5d', u'0030657a5a0c', u'00070e76a057', u'00070e4596f2', u'00022d0dba0a', u'00306518c5a8', u'00070ee5b7b6', u'00070e4d4a8c', u'00022d3a90dc', u'00070e7d86ce', u'0030657c4963', u'00022d74b88c', u'00070e98571c', u'00070effea50', u'00306504af5b', u'00022d616bfd', u'00070e4b8517', u'003065e9fd3c', u'0030653b2dd5', u'00045a4f11e6', u'00022df01cf2', u'00022d2ef885', u'00022d918598', u'003065255dc9', u'00022dc237eb', u'00022d6de645', u'00022d31c968', u'0040969561e9', u'0030657c51b6', u'00022dd7320a', u'00070e6a7fcb', u'003065621f40', u'00070e822948', u'00306528b50a', u'003065f70318', u'00022dc5e0ed', u'003065c6cc25', u'0030656c5016', u'003065ce1caf', u'00070e4a5699', u'00022d53d15f', u'00022db16787', u'00022db920e2', u'003065bd27f5', u'00022d2084bf', u'0030650e42ca', u'003065148f6e', u'0030651685f3', u'0030652529c5', u'00070ef1d18d', u'00306524b6b4', u'003065303bef', u'00022df21fa5', u'00022d7950f8', u'00022d6a4333', u'003065ef5104', u'0030651dafd1', u'00022d16cb2c', u'0030653785ec', u'00022d9db02b', u'003065dad7c6', u'00022d206286', u'00022dfd9f49', u'00022dc84304', u'00022d50bf22', u'00306582c4fa', u'00022df9d9e8', u'003065d1dade', u'00022dc12989', u'00022d74324e', u'00022dbdff59', u'00022deb274f', u'00022d5e55e4', u'00022d42900e', u'00022d8a85c7', u'003065f87197', u'003065a6b090', u'00022d5ee8b2', u'00022d13b898', u'00022d67e557', u'00022d5c2a3f', u'00022d582282', u'00022db09e75', u'00022d540de1', u'00022d756a48', u'00022dac4215', u'0030658881dd', u'00022d953280', u'00022d567998', u'0030659b531b', u'00022d8b83b9', u'00022d793f4a', u'00022d8f617b', u'00022d28b37f', u'00022d065023', u'00070e63b43f', u'00022dfab909', u'00022dd54817', u'00022d70611b', u'00022dc96c46', u'00306532d47d', u'00070ec38e26', u'00022d8d661b', u'00022d069f0a', u'00022d6f79ca', u'00022d63038b', u'00022d53fb99', u'00022df85fe8', u'00022da5c544', u'00306522f920', u'00022d9f4b93', u'00022d0c2e8c', u'00022d92b918', u'00022d534e21', u'00022d3c5ba1', u'00022de1c6c1', u'00022d0f7647', u'00022da1ac4a', u'003065b5e7b5', u'00022dbb95de', u'00022d5bf7fd', u'00022d3547d4', u'00022de72dfb', u'00022dc32046', u'00022dcc306a', u'003065779a07', u'00022da6dc90', u'00022dfc88ad', u'00022d3eaf68', u'00022d2b74ac', u'00022d73dced', u'00306598aff2', u'00022d174798', u'00022d0a0110', u'00022d82bf5c', u'0030651a41c5', u'00306520fea0', u'00022d708bda', u'00022d291948', u'00022d935952', u'00022dce8fff', u'003065764cf3', u'00022d8ac2e5', u'00022d6a8e0d', u'00022d355eef', u'00022dde97cc', u'00022d48fbf9', u'00022d6006c2', u'003065d66ce7', u'00022d10561a', u'00022dc8b9d5', u'00022d0419e0', u'00022dcff8df', u'00022d3239f4', u'0030653e6b19', u'003065eb59dd', u'003065931e19', u'00022d220b6e', u'00306564c1ad', u'003065b8a530', u'0030657aef4d', u'00022d8dc481', u'0030653e6992', u'00022daf0b74', u'00022d373b1d', u'00022d83f767', u'0030657474a0', u'00022dcb532b', u'003065f10395', u'003065f57cfd', u'00022d6cf92a', u'00022d3d8a9a', u'0030659ff646', u'003065a80fbc', u'0030651eac7c', u'00022df1ad29', u'00022dcf202c', u'00306556ca1e', u'00022db5dc60', u'00070e616bdb', u'003065d293cc', u'0030654fe486', u'00022d0f2fc3', u'00306525d9af', u'00022d1991d2', u'00022d1a2eb8', u'0030659c5db4', u'003065abe3cc', u'003065df4d9d', u'003065b14f57', u'00022d9740a0', u'003065b21b85', u'0030653b3e63', u'0030655b0433', u'003065e4ae6d', u'003065dc2843', u'003065070b3e', u'00022d302e63', u'00022da4dab8', u'00022d981326', u'0030656d3e94', u'0030652efbdf', u'0030653edf38', u'00022de7affe', u'0030656edfbf', u'00022de856c3', u'00022d3be9cd', u'00070ebfa0fd', u'003065ef3170', u'00022d89f249', u'003065de34f4', u'003065e3a0ac', u'00022d663eaf', u'00022d86eac7', u'00022d3a6e6f', u'0030652e5f5c', u'00022d887434', u'00022d6702e9', u'00022d9f41c2', u'003065cc43e2', u'00022d7fac10', u'0030658a863c', u'00306528767b', u'00022da29111', u'00022d45fe99', u'00022d6b76f9', u'00022d61ff93', u'00022d26ac2c', u'003065b1170b', u'00022d5acb8b', u'00022d8272f1', u'00022dc20c36', u'00306504ba8a', u'00306501507d', u'003065301d81', u'0030656400d4', u'0030655a8538', u'00022d2c4c58', u'0030653f75b3', u'003065f80ed3', u'00022dbc98a6', u'00022de86cab', u'00022db949fe', u'00022d824820', u'00022da5d784', u'00022d043793', u'00022dd878b4', u'00022d82e062', u'0030653d720e', u'00022d2d96c0', u'003065f41e38', u'00070e962b4b', u'00055dba1eb0', u'00022dbe80f9', u'003065a08a5a', u'00022def62c5', u'003065cabe2f', u'00022d7ec54f', u'0030657ab6a1', u'003065d1c96e', u'00022dd6023a', u'00306508abc9', u'00022dee8781', u'00022d7214e9', u'00022dd46462', u'00022d8579f3', u'003065a8d7e0', u'00022dbc0cd1', u'00022d8839e4', u'00032f728124', u'0030658c549d', u'003065f85207', u'00022dceefc2', u'00022d890dcc', u'003065576950', u'003065754189', u'00022d88e26a', u'0030651d5bff', u'003065fc676e', u'00022d15f9ec', u'0030651e6b26', u'00022da23c8e', u'0030652b62f7', u'00022d621019', u'0030654c155a', u'00022dc313d5', u'00306517f3f0', u'00022dda2e72', u'00022dae4796', u'003065c9d841', u'003065b0a3e3', u'00022d19fd69', u'00022d2bb3b9', u'00022dfb7878', u'003065dfd01d', u'00022dc6a16d', u'003065d20339', u'00022ddc619e', u'003065124a24', u'00022de02fa4', u'00022da0390a', u'0030659d4803', u'00070ee50040', u'00022dfe3b4c', u'00022d4bd5ae', u'00022dba2ade', u'00022d860898', u'0040965fc9af', u'00022db0af76', u'00022d805abc', u'00022de4929c', u'00022d73432e', u'00022dec383f', u'00022deada2c', u'00306525e56c', u'00022d54963c', u'0030655e112f', u'00022d377505', u'0030655b8a5c', u'00022dc5a46d', u'0030655d4d99', u'003065dc7a03', u'0030652b5290', u'00022d2b3065', u'003065cd85f8', u'00022d8088f0', u'00022d877b62', u'00022d67a912', u'00022d1e23a9', u'00022db9a1ad', u'003065b2b27c', u'00306594bf86', u'003065b8dfd5', u'00022dbdc2a1', u'00306539bb53', u'00022d42c980', u'00022d5164a6', u'003065b5be78', u'003065370b25', u'00070ea6af2b', u'00022dd34767', u'003065f6c065', u'00022d52e056', u'0030651994a3', u'00022d16f8be', u'00022d261e3d', u'00022d560ee1', u'00022d057150', u'00022d82bf9b', u'00022dc898c3', u'00022d264a94', u'003065cb9cc0', u'0030654e6cae', u'00022de94669', u'00022d105dcc', u'00022d9762f3', u'00022d9cf597', u'00022dcc2d4c', u'003065f47ac4', u'00022df8e1ea', u'00022ddda805', u'00022d947089', u'00306542bf9d', u'00022dd62ccf', u'0030650dc1a2', u'00022d1d344d', u'0030650d24e9', u'0002b3a80855', u'003065cffefc', u'0030650c9784', u'00022d967833', u'00022d654205', u'0030657de0cc', u'003065d6a813', u'0030653823d3', u'003065a449ba', u'00022d225d17', u'003065fad4bf', u'00022d1bf6c1', u'003065ccff77', u'0030653bd165', u'00022d59c76f', u'00022db87680', u'003065366a61', u'003065b6cd91', u'00022d7b24fc', u'00022dffffc0', u'00022d1f43fa', u'0800074394e1', u'00022daef6a7', u'00022db579de', u'003065791566', u'003065106c4c', u'0030657c004c', u'00070e15e6c4', u'003065c9a40e', u'00022dd1a115', u'00022df4c24a', u'00022d99bf74', u'00022d2444e3', u'003065ae0321', u'00022d86981c', u'00022d928887', u'0030659a1f59', u'00045af567ea', u'003065c0ca42', u'003065a317fe', u'0030654186aa', u'00022d67de39', u'00022d428387', u'0030659dbef2', u'00022dd28f5b', u'00022db896c6', u'00070e573747', u'003065ea75c6', u'08004676bd2c', u'00022d0547cb', u'00022dddb033', u'0030659a9cbb', u'00022d0bd5b6', u'00601ddf8659', u'00022d466ccd', u'0030659f61c2', u'003065c10d48', u'003065d3b264', u'003065957840', u'00022d30ecb4', u'00022d4cadb6', u'00022d933edb', u'00022db81d32', u'004096ca17aa', u'003065d0c801', u'00022d8d00c4', u'00022d39bd42', u'00022d2c4c18', u'00022d264215', u'00070ee12022', u'003065bf0507', u'00022d36d7da', u'003065f10b3c', u'00306597ca2b', u'00022d4ec965', u'00022dfb691c', u'003065a96498', u'00022dfbbf07', u'003065a3ea1c', u'00022d6a8a20', u'00022d5e8bd7', u'00022d14067c', u'00022d504a18', u'00022de139a3', u'00022d063698', u'00409601e273', u'0030655d2b92', u'00022d7d21f1', u'004096b28975', u'00022d2868d3', u'00022d9e7e3c', u'003065a5136e', u'00022d6a7e95', u'00022dddcf4c', u'00022d19378f', u'003065ccbe52', u'00022d8b79e6', u'00022d691e69', u'00022d139d10', u'00022def6910', u'00022d1990f9', u'00070e5add1f', u'00070e0f5807', u'00022d1967ef', u'00022d0a08ec', u'00022d4698b0', u'00022d30024c', u'00409676679e', u'00070ec62062', u'00022db78d37', u'00306529e494', u'00070e661235', u'00022ddc299a', u'00070e0a9409', u'00022dc91696', u'00022d1d5157', u'004096e08609', u'00022d7c0c1f', u'00022df11cfc', u'00022d127c74', u'0030658cce2b', u'00022ddc32c9', u'003065537e86', u'00409657b171', u'00070e4937a5', u'00070ea0bf54', u'00022d159cd9', u'00601df6d782', u'00022daf4085', u'00070ed3e063', u'00070e09ecbb', u'00022de21c87', u'003065ff5016', u'00070eb92ba1', u'00022d25798d', u'00022d433965', u'00022dd21e73', u'004096153bc6', u'00022daff6d3', u'0030654b4bcc', u'00022d6a0c0e', u'0030657dfb86', u'00022d0b8e07', u'00022de2d8c4', u'00070ec8fba1', u'00045a297f4f', u'00022d02712d', u'004096ef0b0b', u'00022decf078', u'0030ab1de3f9', u'00070e2630cc', u'00070e658395', u'00022dabfd9c', u'00022d04c12e', u'0030656b4565', u'0040961ec61a', u'0040965de39e', u'00022d461349', u'00306532f97e', u'00070ec2ba8d', u'00070e33210f', u'00022daabc58', u'00070efdbeae', u'00022d43595c', u'00022de33e30', u'00022d47468b', u'00022d73151d', u'00070ec54833', u'003065d7098e', u'00022ddcafd5', u'00022d542a93', u'003065f4341b', u'00c04ff0bfac', u'003065d38dd7', u'00306586db65', u'0020e0974f8f', u'003065eb4ea4', u'003065d0c649', u'00070e0ec886', u'00070e39486b', u'003065953288', u'00022d6cee77', u'00070edd09c5', u'0030656797d4', u'00022df2008b', u'00022d8c626f', u'0030655ac50e', u'00070e76a44a', u'00022da25397', u'00022dae7e8b', u'00022d9c12a0', u'00022da81ccd', u'00070eaa1bc3', u'00022d427771', u'00306588d15f', u'003065632446', u'003065c7de33', u'003065ad5c16', u'00070e826a1e', u'00070e5019f8', u'00022d30cd9a', u'00070e090fa9', u'003065333fd0', u'00022da4f041', u'003065a47b4c', u'00022df71ec5', u'00022d759265', u'00022d9a88d6', u'003065575862', u'003065c61123', u'00022dd97c47', u'00022daf15c1', u'00022d8af0b6', u'00022d7f7a6a', u'00022ddd7303', u'00022dd0db3c', u'00022ddf7d20', u'00022d2cef4e', u'00022db92a32', u'00022d66a632', u'00022d690a66', u'00022d2fda7a', u'00022de0ca86', u'00022d3c1b18', u'00022d10f23e', u'00022dce25e3', u'00022d9f9f72', u'00022d53a214', u'00070e3ba02b', u'00022d736c4e', u'00070ea71ad6', u'00022d67b704', u'00022d6bb1c7', u'00070e19979c', u'00022db1152a', u'00022dedee16', u'00022d4af699', u'00022dbb4783', u'00022d46383a', u'00022dab028e', u'00022d8db8e0', u'00022dca3ee8', u'003065a3bc9d', u'00070e985250', u'00022dadd6d1', u'00022dd9a64d', u'00022db415e4', u'00022dded83f', u'00022d9a2e21', u'00022dc27526', u'00070e96e1b7', u'00022dcd8f0a', u'00022dfb1056', u'0030658509df', u'00601deaecca', u'00022d0f6799', u'004096780d5f', u'00022d14bbfb', u'00022d2e63bc', u'00306502e08f', u'00070e7f942d', u'00022d87bf8d', u'00022d4d38ce', u'00022d9ade2f', u'00022dd59a38', u'00070ecf8fcb', u'00022d0936e7', u'00022dab431e', u'00022d415815', u'00022df44f43', u'00022db1f6cc', u'00306561212e', u'00022d7988fc', u'00070ebc48fa', u'00022d3c01c8', u'00070e7ba2e8', u'00070eb35cc1', u'00022d87fad4', u'003065e31b43', u'00022ddb2d06', u'00306524f3a8', u'00306525f9ad', u'003065bdcb4d', u'00306571fbe9', u'00070e989a33', u'00409661a4d3', u'003065f28cff', u'0030651e788d', u'00070ecb8a6d', u'00306507da11', u'00022d75c1a7', u'0030659e8989', u'003065cc7aba', u'00022d773d8f', u'003065f97eb5', u'00022d79852b', u'00022dfd63f0', u'00022d0e425a', u'00022d18cf84', u'00022df62952', u'003065e6b870', u'00601d19cf5a', u'00306537d4c4', u'003065cc3c97', u'0040967002f3', u'00022ddb853f', u'0030655095ab', u'00022d46e361', u'00070ec70074', u'00022dc2d40b', u'00070edf68a0', u'00022ddf06cf', u'00022d6ac777', u'00022d2e5c67', u'00070ea4b5ae', u'00022d8acfaf', u'00022d44cfd6', u'00306539928c', u'00022d2b6534', u'00022d9f4221', u'00306534feb4', u'0030657436e8', u'00022d319a37', u'003065bb897f', u'00070e68c455', u'003065f22bee', u'0030655c3627', u'00022df7d4b9', u'0030655fc199', u'00070e96ba46', u'00306584d173', u'00022dd6da91', u'0030658ab5ed', u'00022d4a817b', u'0030658a1abd', u'00070ebc6c6b', u'00306518cb5b', u'0004e2eee3cb', u'00022d5ac099', u'00022d376268', u'00022d430b40', u'00022d3bcef2', u'003065c99daf', u'00306505e012', u'003065a210f7', u'003065b1cf71', u'00306554a2c0', u'0030651979fb', u'0030650cf917', u'00070e4ce316', u'00022d11a505', u'0030655aff8a', u'0030655b9b55', u'00409692150a', u'00022d4913dd', u'00022dc59424', u'00022db25a5a', u'004096d1a3d3', u'00022dedd222', u'00070e36b26f', u'00022d616d51', u'00022d9cd3a4', u'00022d084118', u'00022d255ead', u'00070e7b8d38', u'003065902244', u'003065016fe1', u'0030654a4a4e', u'00022d40dcb2', u'003065531d5c', u'00022df56e4b', u'00022d6cd688', u'00022dd9e2c2', u'00022d358176', u'00022d6386b7', u'00022d2f0ffb', u'00601d696eec', u'003065a244d3', u'0005027ba300', u'00022d49e0b2', u'00022deefe60', u'00070ed69ee1', u'00070e1cd986', u'00022db34b38', u'00070e703c25', u'00022d17edc5', u'00022d92e55b', u'00032f850e2a', u'00070e90d15a', u'00022da66ce3', u'00022d47dc58', u'0030651d9fe6', u'00070ed3f27c', u'00022d60639a', u'0030651f0d8c', u'00306570d7bf', u'00022d9b43b3', u'00022d930c4c', u'00022d82d3e7', u'003065b48c4d', u'003065194f25', u'00022d9d9603', u'00022d7bd161', u'00022dae172e', u'00070eda714c', u'0030652fdf40', u'0040961b7e18', u'003065d0ea25', u'00045adde16c', u'0020e00e26fa', u'00022dc5605f', u'00022de6076b', u'00022db1f59a', u'00022dacddc2', u'00022de4830a', u'00022d483f4c', u'00022d6c95bc', u'00306568b941', u'0030654849dc', u'00070e727cc5', u'00022dc7ac01', u'00022dc1b09c', u'0030656d60ac', u'00022d6f711f', u'00022da47277', u'00022d696e39', u'00022d7a22d0', u'00022d1c7eec', u'00022da41799', u'0030651e4f2d', u'00022df5fd00', u'00022d3acb3e', u'00022d504489', u'00022dbf07e3', u'00022d160a08', u'003065f6a05e', u'00022d9af8c2', u'00022d34c7af', u'0030652c4d60', u'00022d12b3e3', u'00022d6afeb2', u'00070e5468d8', u'0030657085d1', u'00022d42f3ae', u'00022d79f78a', u'00070e94a4ee', u'00022d7a9252', u'00022dfc6e1d', u'00022dc20fc5', u'00022d05514b', u'00022df4c80a', u'00022dd7f5dc', u'00045a96e64b', u'00070eb65ab5', u'0020e0659cf5', u'003065ab67e9', u'003065511c43', u'0030654e97d6', u'003065696fa5', u'0030655cb724', u'003065f781c2', u'00022d3c05ca', u'003065f14f1a', u'00070e7b548f', u'00070eb17e74', u'00070e472d55', u'00022d7db0f0', u'00070e67bfc8', u'00070eb905bb', u'00022df949d2', u'00070e110ef5', u'00022ddcb46c', u'00022d979e6e', u'00045a793e2c', u'00070e19f504', u'00022d9c816c', u'00022d340276', u'0040966050ba', u'00022d81b95c', u'00306516b973', u'004096149494', u'00022de78281', u'00022d68834c', u'0030659ccb0e', u'00022daa86e9', u'0005027888e4', u'000502e86ee0', u'00022d545606', u'00022dd527b0', u'00601d56cf80', u'00022d584f86', u'00022d43e4d8', u'00045ac4c79f', u'003065c11935', u'00055d40d851', u'00306564c4a5', u'0001034ded3b', u'00022d6f050e', u'003065d91689', u'00022df22592', u'00045a477d72', u'0040966c3ca5', u'0020e06a4346', u'00022d939fce', u'00055d987edd', u'00022d12b72d', u'003065b76821', u'004096b33293', u'00070ec471ed', u'00022d75c935', u'00022d019abf', u'0040af313784', u'003065cae7f3', u'00022dc4d4c3', u'00022d128669', u'00022d2dbc51', u'00022dcc4a1e', u'00022d61ec5a', u'003065a0fdad', u'00022dba8871', u'0030653e4643', u'00070e7b0d52', u'0030651abf9c', u'00022da7cd4d', u'00022d35881f', u'003065c356f6', u'00070e06423a', u'0000c5ae77c7', u'00022d0273a9', u'00022d98bdc0', u'00022d8ea99e', u'00022d360b25', u'00601d521ecf', u'00022d6af6f9', u'00022dbe5243', u'0040964ac3d5', u'00022d41961d', u'00022d9cf55f', u'00055dcfa9aa', u'004096a748db', u'00070ed1e29e', u'0030657de140', u'003065b4302a', u'00022d9be819', u'003065b0eefb', u'0020e0448ebb', u'00070e61d72c', u'00022d2d6747', u'00022de3f272', u'00022d383fb3', u'000625f7a0d6', u'00022d554b11', u'00022d66d36b', u'00022d472f2f', u'0040966db8ae', u'003065fe0453', u'0000c53bbb4b', u'00022dee8a63', u'0020e04eeaed', u'003065d5ca91', u'0020e05bd758', u'00070e9c5b18', u'00070e525b4a', u'00022ddac983', u'00306563d0c0', u'00601dd1500f', u'080046fb571c', u'00022d60b42d', u'00022d1afe63', u'003065a988b6', u'003065f7c29b', u'00601dd7a585', u'0030653edd17', u'00022d519d55', u'00022d6cb23f', u'00022dbd0cdc', u'00022d261ee4', u'00070eb301ae', u'00045a3777aa', u'003065de52d3', u'0030654b66b2', u'00022d2b6dc1', u'00022d906b31', u'003065dd2171', u'003065414bd4', u'00022d63eb6a', u'00022df99100', u'000750efbf58', u'0030650ebe0b', u'00022d78bb43', u'0030651d399e', u'00032fcdf49b', u'00022d4541a7', u'00022d0c1e26', u'00045abfa27c', u'0030658d1baa', u'00022da4f596', u'0020e0423ec7', u'003065afa8a0', u'00306569a383', u'0030653a547f', u'003065c570c2', u'00409635d4fd', u'0030655d0618', u'00022d52770a', u'00306579f613', u'000750affe09', u'00022d00a3f5', u'003065a30eea', u'00022dcdf42f', u'00022d3ab597', u'00601d5a1443', u'00022df5b3ae', u'000750a10062', u'00022df1a6e8', u'00022dcea23a', u'000750ef4e3c', u'0030654e480d', u'00601de0cd77', u'0030654946a7', u'00022de5ab7c', u'003065b259e0', u'0020e0dc6173', u'00045a0a8b39', u'0030655ebb56', u'00022df7ce5d', u'003065d0a8fd', u'003065ab5c7e', u'00022d4511da', u'00022d2997c6', u'000750ddc4d2', u'00022df6a486', u'00306500dc28', u'003065d682b8', u'0030654d8615', u'0040960a6595', u'0050dad80267', u'00022d61c625', u'003065f9b068', u'00306527f6b3', u'00022d321575', u'003065f909b0', u'00022d124aa1', u'00022d6f52a8', u'000750eb25de', u'00601dbd9a2c', u'00409698b522', u'003065aed1f5', u'003065a2006a', u'003065468e2f', u'0030651b9b74', u'0030658e5ed6', u'0030657c109a', u'0020e07a5eb0', u'00022d367aff', u'004096c27d2b']\n"
     ]
    }
   ],
   "source": [
    "# transform to a list of  \n",
    "usernames = [item.values() for item in users]\n",
    "usernames = [sublist[0] for sublist in usernames]\n",
    "print usernames"
   ]
  },
  {
   "cell_type": "code",
   "execution_count": 24,
   "metadata": {
    "collapsed": false
   },
   "outputs": [],
   "source": [
    "# How many differents Access Points for a given MAC address ?\n",
    "nbAPConnected = []\n",
    "for name in usernames :\n",
    "    nbAPConnected.append(\n",
    "    \n",
    "    (\n",
    "        graph.run('''\n",
    "        MATCH (MAC)-[r]->(AP)   \n",
    "        WHERE MAC.name=$name\n",
    "        RETURN count(DISTINCT AP.nameAP)\n",
    "        ''', parameters = {'name': name}).data()\n",
    "    )\n",
    "    )"
   ]
  },
  {
   "cell_type": "code",
   "execution_count": 25,
   "metadata": {
    "collapsed": false
   },
   "outputs": [
    {
     "data": {
      "text/plain": [
       "[{u'count(DISTINCT AP.nameAP)': 19}]"
      ]
     },
     "execution_count": 25,
     "metadata": {},
     "output_type": "execute_result"
    }
   ],
   "source": [
    "nbAPConnected[0]"
   ]
  },
  {
   "cell_type": "code",
   "execution_count": 26,
   "metadata": {
    "collapsed": false
   },
   "outputs": [
    {
     "name": "stdout",
     "output_type": "stream",
     "text": [
      "[[{u'count(DISTINCT AP.nameAP)': 19}], [{u'count(DISTINCT AP.nameAP)': 8}], [{u'count(DISTINCT AP.nameAP)': 2}], [{u'count(DISTINCT AP.nameAP)': 10}], [{u'count(DISTINCT AP.nameAP)': 6}], [{u'count(DISTINCT AP.nameAP)': 4}], [{u'count(DISTINCT AP.nameAP)': 25}], [{u'count(DISTINCT AP.nameAP)': 107}], [{u'count(DISTINCT AP.nameAP)': 106}], [{u'count(DISTINCT AP.nameAP)': 155}], [{u'count(DISTINCT AP.nameAP)': 3}], [{u'count(DISTINCT AP.nameAP)': 2}], [{u'count(DISTINCT AP.nameAP)': 23}], [{u'count(DISTINCT AP.nameAP)': 23}], [{u'count(DISTINCT AP.nameAP)': 11}], [{u'count(DISTINCT AP.nameAP)': 5}], [{u'count(DISTINCT AP.nameAP)': 1}], [{u'count(DISTINCT AP.nameAP)': 9}], [{u'count(DISTINCT AP.nameAP)': 27}], [{u'count(DISTINCT AP.nameAP)': 3}], [{u'count(DISTINCT AP.nameAP)': 20}], [{u'count(DISTINCT AP.nameAP)': 7}], [{u'count(DISTINCT AP.nameAP)': 8}], [{u'count(DISTINCT AP.nameAP)': 78}], [{u'count(DISTINCT AP.nameAP)': 10}], [{u'count(DISTINCT AP.nameAP)': 8}], [{u'count(DISTINCT AP.nameAP)': 12}], [{u'count(DISTINCT AP.nameAP)': 7}], [{u'count(DISTINCT AP.nameAP)': 34}], [{u'count(DISTINCT AP.nameAP)': 4}], [{u'count(DISTINCT AP.nameAP)': 59}], [{u'count(DISTINCT AP.nameAP)': 21}], [{u'count(DISTINCT AP.nameAP)': 66}], [{u'count(DISTINCT AP.nameAP)': 45}], [{u'count(DISTINCT AP.nameAP)': 77}], [{u'count(DISTINCT AP.nameAP)': 5}], [{u'count(DISTINCT AP.nameAP)': 11}], [{u'count(DISTINCT AP.nameAP)': 31}], [{u'count(DISTINCT AP.nameAP)': 81}], [{u'count(DISTINCT AP.nameAP)': 3}], [{u'count(DISTINCT AP.nameAP)': 6}], [{u'count(DISTINCT AP.nameAP)': 1}], [{u'count(DISTINCT AP.nameAP)': 5}], [{u'count(DISTINCT AP.nameAP)': 2}], [{u'count(DISTINCT AP.nameAP)': 14}], [{u'count(DISTINCT AP.nameAP)': 1}], [{u'count(DISTINCT AP.nameAP)': 20}], [{u'count(DISTINCT AP.nameAP)': 54}], [{u'count(DISTINCT AP.nameAP)': 3}], [{u'count(DISTINCT AP.nameAP)': 2}], [{u'count(DISTINCT AP.nameAP)': 5}], [{u'count(DISTINCT AP.nameAP)': 29}], [{u'count(DISTINCT AP.nameAP)': 39}], [{u'count(DISTINCT AP.nameAP)': 26}], [{u'count(DISTINCT AP.nameAP)': 8}], [{u'count(DISTINCT AP.nameAP)': 4}], [{u'count(DISTINCT AP.nameAP)': 8}], [{u'count(DISTINCT AP.nameAP)': 30}], [{u'count(DISTINCT AP.nameAP)': 9}], [{u'count(DISTINCT AP.nameAP)': 2}], [{u'count(DISTINCT AP.nameAP)': 129}], [{u'count(DISTINCT AP.nameAP)': 3}], [{u'count(DISTINCT AP.nameAP)': 4}], [{u'count(DISTINCT AP.nameAP)': 11}], [{u'count(DISTINCT AP.nameAP)': 6}], [{u'count(DISTINCT AP.nameAP)': 66}], [{u'count(DISTINCT AP.nameAP)': 2}], [{u'count(DISTINCT AP.nameAP)': 32}], [{u'count(DISTINCT AP.nameAP)': 10}], [{u'count(DISTINCT AP.nameAP)': 4}], [{u'count(DISTINCT AP.nameAP)': 11}], [{u'count(DISTINCT AP.nameAP)': 10}], [{u'count(DISTINCT AP.nameAP)': 39}], [{u'count(DISTINCT AP.nameAP)': 52}], [{u'count(DISTINCT AP.nameAP)': 9}], [{u'count(DISTINCT AP.nameAP)': 7}], [{u'count(DISTINCT AP.nameAP)': 2}], [{u'count(DISTINCT AP.nameAP)': 52}], [{u'count(DISTINCT AP.nameAP)': 2}], [{u'count(DISTINCT AP.nameAP)': 80}], [{u'count(DISTINCT AP.nameAP)': 18}], [{u'count(DISTINCT AP.nameAP)': 4}], [{u'count(DISTINCT AP.nameAP)': 37}], [{u'count(DISTINCT AP.nameAP)': 1}], [{u'count(DISTINCT AP.nameAP)': 5}], [{u'count(DISTINCT AP.nameAP)': 4}], [{u'count(DISTINCT AP.nameAP)': 7}], [{u'count(DISTINCT AP.nameAP)': 3}], [{u'count(DISTINCT AP.nameAP)': 74}], [{u'count(DISTINCT AP.nameAP)': 6}], [{u'count(DISTINCT AP.nameAP)': 1}], [{u'count(DISTINCT AP.nameAP)': 1}], [{u'count(DISTINCT AP.nameAP)': 17}], [{u'count(DISTINCT AP.nameAP)': 9}], [{u'count(DISTINCT AP.nameAP)': 5}], [{u'count(DISTINCT AP.nameAP)': 8}], [{u'count(DISTINCT AP.nameAP)': 40}], [{u'count(DISTINCT AP.nameAP)': 100}], [{u'count(DISTINCT AP.nameAP)': 2}], [{u'count(DISTINCT AP.nameAP)': 4}], [{u'count(DISTINCT AP.nameAP)': 6}], [{u'count(DISTINCT AP.nameAP)': 7}], [{u'count(DISTINCT AP.nameAP)': 5}], [{u'count(DISTINCT AP.nameAP)': 4}], [{u'count(DISTINCT AP.nameAP)': 37}], [{u'count(DISTINCT AP.nameAP)': 7}], [{u'count(DISTINCT AP.nameAP)': 6}], [{u'count(DISTINCT AP.nameAP)': 1}], [{u'count(DISTINCT AP.nameAP)': 10}], [{u'count(DISTINCT AP.nameAP)': 4}], [{u'count(DISTINCT AP.nameAP)': 1}], [{u'count(DISTINCT AP.nameAP)': 5}], [{u'count(DISTINCT AP.nameAP)': 3}], [{u'count(DISTINCT AP.nameAP)': 5}], [{u'count(DISTINCT AP.nameAP)': 2}], [{u'count(DISTINCT AP.nameAP)': 46}], [{u'count(DISTINCT AP.nameAP)': 4}], [{u'count(DISTINCT AP.nameAP)': 8}], [{u'count(DISTINCT AP.nameAP)': 2}], [{u'count(DISTINCT AP.nameAP)': 4}], [{u'count(DISTINCT AP.nameAP)': 12}], [{u'count(DISTINCT AP.nameAP)': 4}], [{u'count(DISTINCT AP.nameAP)': 2}], [{u'count(DISTINCT AP.nameAP)': 10}], [{u'count(DISTINCT AP.nameAP)': 14}], [{u'count(DISTINCT AP.nameAP)': 15}], [{u'count(DISTINCT AP.nameAP)': 2}], [{u'count(DISTINCT AP.nameAP)': 6}], [{u'count(DISTINCT AP.nameAP)': 32}], [{u'count(DISTINCT AP.nameAP)': 3}], [{u'count(DISTINCT AP.nameAP)': 3}], [{u'count(DISTINCT AP.nameAP)': 1}], [{u'count(DISTINCT AP.nameAP)': 6}], [{u'count(DISTINCT AP.nameAP)': 5}], [{u'count(DISTINCT AP.nameAP)': 8}], [{u'count(DISTINCT AP.nameAP)': 3}], [{u'count(DISTINCT AP.nameAP)': 44}], [{u'count(DISTINCT AP.nameAP)': 59}], [{u'count(DISTINCT AP.nameAP)': 15}], [{u'count(DISTINCT AP.nameAP)': 25}], [{u'count(DISTINCT AP.nameAP)': 11}], [{u'count(DISTINCT AP.nameAP)': 8}], [{u'count(DISTINCT AP.nameAP)': 16}], [{u'count(DISTINCT AP.nameAP)': 24}], [{u'count(DISTINCT AP.nameAP)': 14}], [{u'count(DISTINCT AP.nameAP)': 13}], [{u'count(DISTINCT AP.nameAP)': 29}], [{u'count(DISTINCT AP.nameAP)': 18}], [{u'count(DISTINCT AP.nameAP)': 17}], [{u'count(DISTINCT AP.nameAP)': 31}], [{u'count(DISTINCT AP.nameAP)': 7}], [{u'count(DISTINCT AP.nameAP)': 2}], [{u'count(DISTINCT AP.nameAP)': 21}], [{u'count(DISTINCT AP.nameAP)': 2}], [{u'count(DISTINCT AP.nameAP)': 25}], [{u'count(DISTINCT AP.nameAP)': 10}], [{u'count(DISTINCT AP.nameAP)': 62}], [{u'count(DISTINCT AP.nameAP)': 9}], [{u'count(DISTINCT AP.nameAP)': 16}], [{u'count(DISTINCT AP.nameAP)': 1}], [{u'count(DISTINCT AP.nameAP)': 16}], [{u'count(DISTINCT AP.nameAP)': 12}], [{u'count(DISTINCT AP.nameAP)': 2}], [{u'count(DISTINCT AP.nameAP)': 9}], [{u'count(DISTINCT AP.nameAP)': 25}], [{u'count(DISTINCT AP.nameAP)': 37}], [{u'count(DISTINCT AP.nameAP)': 21}], [{u'count(DISTINCT AP.nameAP)': 46}], [{u'count(DISTINCT AP.nameAP)': 3}], [{u'count(DISTINCT AP.nameAP)': 1}], [{u'count(DISTINCT AP.nameAP)': 9}], [{u'count(DISTINCT AP.nameAP)': 44}], [{u'count(DISTINCT AP.nameAP)': 7}], [{u'count(DISTINCT AP.nameAP)': 2}], [{u'count(DISTINCT AP.nameAP)': 6}], [{u'count(DISTINCT AP.nameAP)': 9}], [{u'count(DISTINCT AP.nameAP)': 13}], [{u'count(DISTINCT AP.nameAP)': 17}], [{u'count(DISTINCT AP.nameAP)': 46}], [{u'count(DISTINCT AP.nameAP)': 1}], [{u'count(DISTINCT AP.nameAP)': 35}], [{u'count(DISTINCT AP.nameAP)': 5}], [{u'count(DISTINCT AP.nameAP)': 24}], [{u'count(DISTINCT AP.nameAP)': 6}], [{u'count(DISTINCT AP.nameAP)': 16}], [{u'count(DISTINCT AP.nameAP)': 18}], [{u'count(DISTINCT AP.nameAP)': 20}], [{u'count(DISTINCT AP.nameAP)': 12}], [{u'count(DISTINCT AP.nameAP)': 1}], [{u'count(DISTINCT AP.nameAP)': 36}], [{u'count(DISTINCT AP.nameAP)': 13}], [{u'count(DISTINCT AP.nameAP)': 7}], [{u'count(DISTINCT AP.nameAP)': 10}], [{u'count(DISTINCT AP.nameAP)': 2}], [{u'count(DISTINCT AP.nameAP)': 16}], [{u'count(DISTINCT AP.nameAP)': 3}], [{u'count(DISTINCT AP.nameAP)': 22}], [{u'count(DISTINCT AP.nameAP)': 8}], [{u'count(DISTINCT AP.nameAP)': 4}], [{u'count(DISTINCT AP.nameAP)': 9}], [{u'count(DISTINCT AP.nameAP)': 21}], [{u'count(DISTINCT AP.nameAP)': 1}], [{u'count(DISTINCT AP.nameAP)': 5}], [{u'count(DISTINCT AP.nameAP)': 10}], [{u'count(DISTINCT AP.nameAP)': 2}], [{u'count(DISTINCT AP.nameAP)': 13}], [{u'count(DISTINCT AP.nameAP)': 20}], [{u'count(DISTINCT AP.nameAP)': 7}], [{u'count(DISTINCT AP.nameAP)': 7}], [{u'count(DISTINCT AP.nameAP)': 8}], [{u'count(DISTINCT AP.nameAP)': 1}], [{u'count(DISTINCT AP.nameAP)': 28}], [{u'count(DISTINCT AP.nameAP)': 3}], [{u'count(DISTINCT AP.nameAP)': 14}], [{u'count(DISTINCT AP.nameAP)': 12}], [{u'count(DISTINCT AP.nameAP)': 2}], [{u'count(DISTINCT AP.nameAP)': 13}], [{u'count(DISTINCT AP.nameAP)': 8}], [{u'count(DISTINCT AP.nameAP)': 2}], [{u'count(DISTINCT AP.nameAP)': 5}], [{u'count(DISTINCT AP.nameAP)': 1}], [{u'count(DISTINCT AP.nameAP)': 3}], [{u'count(DISTINCT AP.nameAP)': 10}], [{u'count(DISTINCT AP.nameAP)': 7}], [{u'count(DISTINCT AP.nameAP)': 7}], [{u'count(DISTINCT AP.nameAP)': 10}], [{u'count(DISTINCT AP.nameAP)': 2}], [{u'count(DISTINCT AP.nameAP)': 1}], [{u'count(DISTINCT AP.nameAP)': 14}], [{u'count(DISTINCT AP.nameAP)': 15}], [{u'count(DISTINCT AP.nameAP)': 44}], [{u'count(DISTINCT AP.nameAP)': 25}], [{u'count(DISTINCT AP.nameAP)': 13}], [{u'count(DISTINCT AP.nameAP)': 1}], [{u'count(DISTINCT AP.nameAP)': 8}], [{u'count(DISTINCT AP.nameAP)': 5}], [{u'count(DISTINCT AP.nameAP)': 30}], [{u'count(DISTINCT AP.nameAP)': 2}], [{u'count(DISTINCT AP.nameAP)': 22}], [{u'count(DISTINCT AP.nameAP)': 4}], [{u'count(DISTINCT AP.nameAP)': 2}], [{u'count(DISTINCT AP.nameAP)': 6}], [{u'count(DISTINCT AP.nameAP)': 9}], [{u'count(DISTINCT AP.nameAP)': 28}], [{u'count(DISTINCT AP.nameAP)': 16}], [{u'count(DISTINCT AP.nameAP)': 3}], [{u'count(DISTINCT AP.nameAP)': 2}], [{u'count(DISTINCT AP.nameAP)': 50}], [{u'count(DISTINCT AP.nameAP)': 16}], [{u'count(DISTINCT AP.nameAP)': 9}], [{u'count(DISTINCT AP.nameAP)': 7}], [{u'count(DISTINCT AP.nameAP)': 1}], [{u'count(DISTINCT AP.nameAP)': 12}], [{u'count(DISTINCT AP.nameAP)': 1}], [{u'count(DISTINCT AP.nameAP)': 2}], [{u'count(DISTINCT AP.nameAP)': 9}], [{u'count(DISTINCT AP.nameAP)': 14}], [{u'count(DISTINCT AP.nameAP)': 13}], [{u'count(DISTINCT AP.nameAP)': 15}], [{u'count(DISTINCT AP.nameAP)': 2}], [{u'count(DISTINCT AP.nameAP)': 4}], [{u'count(DISTINCT AP.nameAP)': 3}], [{u'count(DISTINCT AP.nameAP)': 21}], [{u'count(DISTINCT AP.nameAP)': 1}], [{u'count(DISTINCT AP.nameAP)': 68}], [{u'count(DISTINCT AP.nameAP)': 15}], [{u'count(DISTINCT AP.nameAP)': 18}], [{u'count(DISTINCT AP.nameAP)': 37}], [{u'count(DISTINCT AP.nameAP)': 6}], [{u'count(DISTINCT AP.nameAP)': 1}], [{u'count(DISTINCT AP.nameAP)': 4}], [{u'count(DISTINCT AP.nameAP)': 3}], [{u'count(DISTINCT AP.nameAP)': 5}], [{u'count(DISTINCT AP.nameAP)': 21}], [{u'count(DISTINCT AP.nameAP)': 12}], [{u'count(DISTINCT AP.nameAP)': 2}], [{u'count(DISTINCT AP.nameAP)': 1}], [{u'count(DISTINCT AP.nameAP)': 13}], [{u'count(DISTINCT AP.nameAP)': 44}], [{u'count(DISTINCT AP.nameAP)': 12}], [{u'count(DISTINCT AP.nameAP)': 5}], [{u'count(DISTINCT AP.nameAP)': 2}], [{u'count(DISTINCT AP.nameAP)': 7}], [{u'count(DISTINCT AP.nameAP)': 3}], [{u'count(DISTINCT AP.nameAP)': 20}], [{u'count(DISTINCT AP.nameAP)': 2}], [{u'count(DISTINCT AP.nameAP)': 22}], [{u'count(DISTINCT AP.nameAP)': 3}], [{u'count(DISTINCT AP.nameAP)': 34}], [{u'count(DISTINCT AP.nameAP)': 9}], [{u'count(DISTINCT AP.nameAP)': 24}], [{u'count(DISTINCT AP.nameAP)': 3}], [{u'count(DISTINCT AP.nameAP)': 11}], [{u'count(DISTINCT AP.nameAP)': 11}], [{u'count(DISTINCT AP.nameAP)': 32}], [{u'count(DISTINCT AP.nameAP)': 2}], [{u'count(DISTINCT AP.nameAP)': 20}], [{u'count(DISTINCT AP.nameAP)': 31}], [{u'count(DISTINCT AP.nameAP)': 9}], [{u'count(DISTINCT AP.nameAP)': 2}], [{u'count(DISTINCT AP.nameAP)': 15}], [{u'count(DISTINCT AP.nameAP)': 1}], [{u'count(DISTINCT AP.nameAP)': 7}], [{u'count(DISTINCT AP.nameAP)': 16}], [{u'count(DISTINCT AP.nameAP)': 16}], [{u'count(DISTINCT AP.nameAP)': 1}], [{u'count(DISTINCT AP.nameAP)': 18}], [{u'count(DISTINCT AP.nameAP)': 4}], [{u'count(DISTINCT AP.nameAP)': 11}], [{u'count(DISTINCT AP.nameAP)': 3}], [{u'count(DISTINCT AP.nameAP)': 5}], [{u'count(DISTINCT AP.nameAP)': 6}], [{u'count(DISTINCT AP.nameAP)': 5}], [{u'count(DISTINCT AP.nameAP)': 24}], [{u'count(DISTINCT AP.nameAP)': 8}], [{u'count(DISTINCT AP.nameAP)': 4}], [{u'count(DISTINCT AP.nameAP)': 79}], [{u'count(DISTINCT AP.nameAP)': 6}], [{u'count(DISTINCT AP.nameAP)': 5}], [{u'count(DISTINCT AP.nameAP)': 11}], [{u'count(DISTINCT AP.nameAP)': 4}], [{u'count(DISTINCT AP.nameAP)': 5}], [{u'count(DISTINCT AP.nameAP)': 8}], [{u'count(DISTINCT AP.nameAP)': 5}], [{u'count(DISTINCT AP.nameAP)': 3}], [{u'count(DISTINCT AP.nameAP)': 3}], [{u'count(DISTINCT AP.nameAP)': 21}], [{u'count(DISTINCT AP.nameAP)': 1}], [{u'count(DISTINCT AP.nameAP)': 3}], [{u'count(DISTINCT AP.nameAP)': 1}], [{u'count(DISTINCT AP.nameAP)': 19}], [{u'count(DISTINCT AP.nameAP)': 5}], [{u'count(DISTINCT AP.nameAP)': 8}], [{u'count(DISTINCT AP.nameAP)': 7}], [{u'count(DISTINCT AP.nameAP)': 6}], [{u'count(DISTINCT AP.nameAP)': 6}], [{u'count(DISTINCT AP.nameAP)': 4}], [{u'count(DISTINCT AP.nameAP)': 4}], [{u'count(DISTINCT AP.nameAP)': 1}], [{u'count(DISTINCT AP.nameAP)': 18}], [{u'count(DISTINCT AP.nameAP)': 32}], [{u'count(DISTINCT AP.nameAP)': 15}], [{u'count(DISTINCT AP.nameAP)': 1}], [{u'count(DISTINCT AP.nameAP)': 9}], [{u'count(DISTINCT AP.nameAP)': 2}], [{u'count(DISTINCT AP.nameAP)': 3}], [{u'count(DISTINCT AP.nameAP)': 1}], [{u'count(DISTINCT AP.nameAP)': 3}], [{u'count(DISTINCT AP.nameAP)': 8}], [{u'count(DISTINCT AP.nameAP)': 6}], [{u'count(DISTINCT AP.nameAP)': 5}], [{u'count(DISTINCT AP.nameAP)': 5}], [{u'count(DISTINCT AP.nameAP)': 4}], [{u'count(DISTINCT AP.nameAP)': 1}], [{u'count(DISTINCT AP.nameAP)': 4}], [{u'count(DISTINCT AP.nameAP)': 15}], [{u'count(DISTINCT AP.nameAP)': 3}], [{u'count(DISTINCT AP.nameAP)': 2}], [{u'count(DISTINCT AP.nameAP)': 4}], [{u'count(DISTINCT AP.nameAP)': 3}], [{u'count(DISTINCT AP.nameAP)': 30}], [{u'count(DISTINCT AP.nameAP)': 1}], [{u'count(DISTINCT AP.nameAP)': 1}], [{u'count(DISTINCT AP.nameAP)': 3}], [{u'count(DISTINCT AP.nameAP)': 8}], [{u'count(DISTINCT AP.nameAP)': 27}], [{u'count(DISTINCT AP.nameAP)': 17}], [{u'count(DISTINCT AP.nameAP)': 7}], [{u'count(DISTINCT AP.nameAP)': 8}], [{u'count(DISTINCT AP.nameAP)': 1}], [{u'count(DISTINCT AP.nameAP)': 4}], [{u'count(DISTINCT AP.nameAP)': 36}], [{u'count(DISTINCT AP.nameAP)': 28}], [{u'count(DISTINCT AP.nameAP)': 3}], [{u'count(DISTINCT AP.nameAP)': 22}], [{u'count(DISTINCT AP.nameAP)': 3}], [{u'count(DISTINCT AP.nameAP)': 1}], [{u'count(DISTINCT AP.nameAP)': 1}], [{u'count(DISTINCT AP.nameAP)': 18}], [{u'count(DISTINCT AP.nameAP)': 17}], [{u'count(DISTINCT AP.nameAP)': 1}], [{u'count(DISTINCT AP.nameAP)': 2}], [{u'count(DISTINCT AP.nameAP)': 2}], [{u'count(DISTINCT AP.nameAP)': 1}], [{u'count(DISTINCT AP.nameAP)': 3}], [{u'count(DISTINCT AP.nameAP)': 2}], [{u'count(DISTINCT AP.nameAP)': 1}], [{u'count(DISTINCT AP.nameAP)': 3}], [{u'count(DISTINCT AP.nameAP)': 1}], [{u'count(DISTINCT AP.nameAP)': 1}], [{u'count(DISTINCT AP.nameAP)': 8}], [{u'count(DISTINCT AP.nameAP)': 1}], [{u'count(DISTINCT AP.nameAP)': 2}], [{u'count(DISTINCT AP.nameAP)': 6}], [{u'count(DISTINCT AP.nameAP)': 3}], [{u'count(DISTINCT AP.nameAP)': 1}], [{u'count(DISTINCT AP.nameAP)': 4}], [{u'count(DISTINCT AP.nameAP)': 7}], [{u'count(DISTINCT AP.nameAP)': 1}], [{u'count(DISTINCT AP.nameAP)': 5}], [{u'count(DISTINCT AP.nameAP)': 2}], [{u'count(DISTINCT AP.nameAP)': 3}], [{u'count(DISTINCT AP.nameAP)': 10}], [{u'count(DISTINCT AP.nameAP)': 21}], [{u'count(DISTINCT AP.nameAP)': 1}], [{u'count(DISTINCT AP.nameAP)': 3}], [{u'count(DISTINCT AP.nameAP)': 1}], [{u'count(DISTINCT AP.nameAP)': 21}], [{u'count(DISTINCT AP.nameAP)': 1}], [{u'count(DISTINCT AP.nameAP)': 1}], [{u'count(DISTINCT AP.nameAP)': 4}], [{u'count(DISTINCT AP.nameAP)': 18}], [{u'count(DISTINCT AP.nameAP)': 3}], [{u'count(DISTINCT AP.nameAP)': 7}], [{u'count(DISTINCT AP.nameAP)': 8}], [{u'count(DISTINCT AP.nameAP)': 26}], [{u'count(DISTINCT AP.nameAP)': 1}], [{u'count(DISTINCT AP.nameAP)': 1}], [{u'count(DISTINCT AP.nameAP)': 4}], [{u'count(DISTINCT AP.nameAP)': 2}], [{u'count(DISTINCT AP.nameAP)': 3}], [{u'count(DISTINCT AP.nameAP)': 1}], [{u'count(DISTINCT AP.nameAP)': 4}], [{u'count(DISTINCT AP.nameAP)': 1}], [{u'count(DISTINCT AP.nameAP)': 2}], [{u'count(DISTINCT AP.nameAP)': 0}], [{u'count(DISTINCT AP.nameAP)': 0}], [{u'count(DISTINCT AP.nameAP)': 0}], [{u'count(DISTINCT AP.nameAP)': 0}], [{u'count(DISTINCT AP.nameAP)': 0}], [{u'count(DISTINCT AP.nameAP)': 0}], [{u'count(DISTINCT AP.nameAP)': 0}], [{u'count(DISTINCT AP.nameAP)': 0}], [{u'count(DISTINCT AP.nameAP)': 0}], [{u'count(DISTINCT AP.nameAP)': 0}], [{u'count(DISTINCT AP.nameAP)': 0}], [{u'count(DISTINCT AP.nameAP)': 0}], [{u'count(DISTINCT AP.nameAP)': 0}], [{u'count(DISTINCT AP.nameAP)': 0}], [{u'count(DISTINCT AP.nameAP)': 0}], [{u'count(DISTINCT AP.nameAP)': 0}], [{u'count(DISTINCT AP.nameAP)': 0}], [{u'count(DISTINCT AP.nameAP)': 0}], [{u'count(DISTINCT AP.nameAP)': 0}], [{u'count(DISTINCT AP.nameAP)': 0}], [{u'count(DISTINCT AP.nameAP)': 0}], [{u'count(DISTINCT AP.nameAP)': 0}], [{u'count(DISTINCT AP.nameAP)': 0}], [{u'count(DISTINCT AP.nameAP)': 0}], [{u'count(DISTINCT AP.nameAP)': 0}], [{u'count(DISTINCT AP.nameAP)': 0}], [{u'count(DISTINCT AP.nameAP)': 0}], [{u'count(DISTINCT AP.nameAP)': 0}], [{u'count(DISTINCT AP.nameAP)': 0}], [{u'count(DISTINCT AP.nameAP)': 0}], [{u'count(DISTINCT AP.nameAP)': 0}], [{u'count(DISTINCT AP.nameAP)': 0}], [{u'count(DISTINCT AP.nameAP)': 0}], [{u'count(DISTINCT AP.nameAP)': 0}], [{u'count(DISTINCT AP.nameAP)': 0}], [{u'count(DISTINCT AP.nameAP)': 0}], [{u'count(DISTINCT AP.nameAP)': 0}], [{u'count(DISTINCT AP.nameAP)': 0}], [{u'count(DISTINCT AP.nameAP)': 0}], [{u'count(DISTINCT AP.nameAP)': 0}], [{u'count(DISTINCT AP.nameAP)': 0}], [{u'count(DISTINCT AP.nameAP)': 0}], [{u'count(DISTINCT AP.nameAP)': 0}], [{u'count(DISTINCT AP.nameAP)': 0}], [{u'count(DISTINCT AP.nameAP)': 0}], [{u'count(DISTINCT AP.nameAP)': 0}], [{u'count(DISTINCT AP.nameAP)': 0}], [{u'count(DISTINCT AP.nameAP)': 0}], [{u'count(DISTINCT AP.nameAP)': 0}], [{u'count(DISTINCT AP.nameAP)': 0}], [{u'count(DISTINCT AP.nameAP)': 0}], [{u'count(DISTINCT AP.nameAP)': 0}], [{u'count(DISTINCT AP.nameAP)': 0}], [{u'count(DISTINCT AP.nameAP)': 0}], [{u'count(DISTINCT AP.nameAP)': 0}], [{u'count(DISTINCT AP.nameAP)': 0}], [{u'count(DISTINCT AP.nameAP)': 0}], [{u'count(DISTINCT AP.nameAP)': 0}], [{u'count(DISTINCT AP.nameAP)': 0}], [{u'count(DISTINCT AP.nameAP)': 0}], [{u'count(DISTINCT AP.nameAP)': 0}], [{u'count(DISTINCT AP.nameAP)': 0}], [{u'count(DISTINCT AP.nameAP)': 0}], [{u'count(DISTINCT AP.nameAP)': 0}], [{u'count(DISTINCT AP.nameAP)': 0}], [{u'count(DISTINCT AP.nameAP)': 0}], [{u'count(DISTINCT AP.nameAP)': 0}], [{u'count(DISTINCT AP.nameAP)': 0}], [{u'count(DISTINCT AP.nameAP)': 0}], [{u'count(DISTINCT AP.nameAP)': 0}], [{u'count(DISTINCT AP.nameAP)': 0}], [{u'count(DISTINCT AP.nameAP)': 0}], [{u'count(DISTINCT AP.nameAP)': 0}], [{u'count(DISTINCT AP.nameAP)': 0}], [{u'count(DISTINCT AP.nameAP)': 0}], [{u'count(DISTINCT AP.nameAP)': 0}], [{u'count(DISTINCT AP.nameAP)': 0}], [{u'count(DISTINCT AP.nameAP)': 0}], [{u'count(DISTINCT AP.nameAP)': 0}], [{u'count(DISTINCT AP.nameAP)': 0}], [{u'count(DISTINCT AP.nameAP)': 0}], [{u'count(DISTINCT AP.nameAP)': 0}], [{u'count(DISTINCT AP.nameAP)': 0}], [{u'count(DISTINCT AP.nameAP)': 0}], [{u'count(DISTINCT AP.nameAP)': 0}], [{u'count(DISTINCT AP.nameAP)': 0}], [{u'count(DISTINCT AP.nameAP)': 0}], [{u'count(DISTINCT AP.nameAP)': 0}], [{u'count(DISTINCT AP.nameAP)': 0}], [{u'count(DISTINCT AP.nameAP)': 0}], [{u'count(DISTINCT AP.nameAP)': 0}], [{u'count(DISTINCT AP.nameAP)': 0}], [{u'count(DISTINCT AP.nameAP)': 0}], [{u'count(DISTINCT AP.nameAP)': 0}], [{u'count(DISTINCT AP.nameAP)': 0}], [{u'count(DISTINCT AP.nameAP)': 0}], [{u'count(DISTINCT AP.nameAP)': 0}], [{u'count(DISTINCT AP.nameAP)': 0}], [{u'count(DISTINCT AP.nameAP)': 0}], [{u'count(DISTINCT AP.nameAP)': 0}], [{u'count(DISTINCT AP.nameAP)': 0}], [{u'count(DISTINCT AP.nameAP)': 0}], [{u'count(DISTINCT AP.nameAP)': 0}], [{u'count(DISTINCT AP.nameAP)': 0}], [{u'count(DISTINCT AP.nameAP)': 0}], [{u'count(DISTINCT AP.nameAP)': 0}], [{u'count(DISTINCT AP.nameAP)': 0}], [{u'count(DISTINCT AP.nameAP)': 0}], [{u'count(DISTINCT AP.nameAP)': 0}], [{u'count(DISTINCT AP.nameAP)': 0}], [{u'count(DISTINCT AP.nameAP)': 0}], [{u'count(DISTINCT AP.nameAP)': 0}], [{u'count(DISTINCT AP.nameAP)': 0}], [{u'count(DISTINCT AP.nameAP)': 0}], [{u'count(DISTINCT AP.nameAP)': 0}], [{u'count(DISTINCT AP.nameAP)': 0}], [{u'count(DISTINCT AP.nameAP)': 0}], [{u'count(DISTINCT AP.nameAP)': 0}], [{u'count(DISTINCT AP.nameAP)': 0}], [{u'count(DISTINCT AP.nameAP)': 0}], [{u'count(DISTINCT AP.nameAP)': 0}], [{u'count(DISTINCT AP.nameAP)': 0}], [{u'count(DISTINCT AP.nameAP)': 0}], [{u'count(DISTINCT AP.nameAP)': 0}], [{u'count(DISTINCT AP.nameAP)': 0}], [{u'count(DISTINCT AP.nameAP)': 0}], [{u'count(DISTINCT AP.nameAP)': 0}], [{u'count(DISTINCT AP.nameAP)': 0}], [{u'count(DISTINCT AP.nameAP)': 0}], [{u'count(DISTINCT AP.nameAP)': 0}], [{u'count(DISTINCT AP.nameAP)': 0}], [{u'count(DISTINCT AP.nameAP)': 0}], [{u'count(DISTINCT AP.nameAP)': 0}], [{u'count(DISTINCT AP.nameAP)': 0}], [{u'count(DISTINCT AP.nameAP)': 0}], [{u'count(DISTINCT AP.nameAP)': 0}], [{u'count(DISTINCT AP.nameAP)': 0}], [{u'count(DISTINCT AP.nameAP)': 0}], [{u'count(DISTINCT AP.nameAP)': 0}], [{u'count(DISTINCT AP.nameAP)': 0}], [{u'count(DISTINCT AP.nameAP)': 0}], [{u'count(DISTINCT AP.nameAP)': 0}], [{u'count(DISTINCT AP.nameAP)': 0}], [{u'count(DISTINCT AP.nameAP)': 0}], [{u'count(DISTINCT AP.nameAP)': 0}], [{u'count(DISTINCT AP.nameAP)': 0}], [{u'count(DISTINCT AP.nameAP)': 0}], [{u'count(DISTINCT AP.nameAP)': 0}], [{u'count(DISTINCT AP.nameAP)': 0}], [{u'count(DISTINCT AP.nameAP)': 0}], [{u'count(DISTINCT AP.nameAP)': 0}], [{u'count(DISTINCT AP.nameAP)': 0}], [{u'count(DISTINCT AP.nameAP)': 0}], [{u'count(DISTINCT AP.nameAP)': 0}], [{u'count(DISTINCT AP.nameAP)': 0}], [{u'count(DISTINCT AP.nameAP)': 0}], [{u'count(DISTINCT AP.nameAP)': 0}], [{u'count(DISTINCT AP.nameAP)': 0}], [{u'count(DISTINCT AP.nameAP)': 0}], [{u'count(DISTINCT AP.nameAP)': 0}], [{u'count(DISTINCT AP.nameAP)': 0}], [{u'count(DISTINCT AP.nameAP)': 0}], [{u'count(DISTINCT AP.nameAP)': 0}], [{u'count(DISTINCT AP.nameAP)': 0}], [{u'count(DISTINCT AP.nameAP)': 0}], [{u'count(DISTINCT AP.nameAP)': 0}], [{u'count(DISTINCT AP.nameAP)': 0}], [{u'count(DISTINCT AP.nameAP)': 0}], [{u'count(DISTINCT AP.nameAP)': 0}], [{u'count(DISTINCT AP.nameAP)': 0}], [{u'count(DISTINCT AP.nameAP)': 0}], [{u'count(DISTINCT AP.nameAP)': 0}], [{u'count(DISTINCT AP.nameAP)': 0}], [{u'count(DISTINCT AP.nameAP)': 0}], [{u'count(DISTINCT AP.nameAP)': 0}], [{u'count(DISTINCT AP.nameAP)': 0}], [{u'count(DISTINCT AP.nameAP)': 0}], [{u'count(DISTINCT AP.nameAP)': 0}], [{u'count(DISTINCT AP.nameAP)': 0}], [{u'count(DISTINCT AP.nameAP)': 0}], [{u'count(DISTINCT AP.nameAP)': 0}], [{u'count(DISTINCT AP.nameAP)': 0}], [{u'count(DISTINCT AP.nameAP)': 0}], [{u'count(DISTINCT AP.nameAP)': 0}], [{u'count(DISTINCT AP.nameAP)': 0}], [{u'count(DISTINCT AP.nameAP)': 0}], [{u'count(DISTINCT AP.nameAP)': 0}], [{u'count(DISTINCT AP.nameAP)': 0}], [{u'count(DISTINCT AP.nameAP)': 0}], [{u'count(DISTINCT AP.nameAP)': 0}], [{u'count(DISTINCT AP.nameAP)': 0}], [{u'count(DISTINCT AP.nameAP)': 0}], [{u'count(DISTINCT AP.nameAP)': 0}], [{u'count(DISTINCT AP.nameAP)': 0}], [{u'count(DISTINCT AP.nameAP)': 0}], [{u'count(DISTINCT AP.nameAP)': 0}], [{u'count(DISTINCT AP.nameAP)': 0}], [{u'count(DISTINCT AP.nameAP)': 0}], [{u'count(DISTINCT AP.nameAP)': 0}], [{u'count(DISTINCT AP.nameAP)': 0}], [{u'count(DISTINCT AP.nameAP)': 0}], [{u'count(DISTINCT AP.nameAP)': 0}], [{u'count(DISTINCT AP.nameAP)': 0}], [{u'count(DISTINCT AP.nameAP)': 0}], [{u'count(DISTINCT AP.nameAP)': 0}], [{u'count(DISTINCT AP.nameAP)': 0}], [{u'count(DISTINCT AP.nameAP)': 0}], [{u'count(DISTINCT AP.nameAP)': 0}], [{u'count(DISTINCT AP.nameAP)': 0}], [{u'count(DISTINCT AP.nameAP)': 0}], [{u'count(DISTINCT AP.nameAP)': 0}], [{u'count(DISTINCT AP.nameAP)': 0}], [{u'count(DISTINCT AP.nameAP)': 0}], [{u'count(DISTINCT AP.nameAP)': 0}], [{u'count(DISTINCT AP.nameAP)': 0}], [{u'count(DISTINCT AP.nameAP)': 0}], [{u'count(DISTINCT AP.nameAP)': 0}], [{u'count(DISTINCT AP.nameAP)': 0}], [{u'count(DISTINCT AP.nameAP)': 0}], [{u'count(DISTINCT AP.nameAP)': 0}], [{u'count(DISTINCT AP.nameAP)': 0}], [{u'count(DISTINCT AP.nameAP)': 0}], [{u'count(DISTINCT AP.nameAP)': 0}], [{u'count(DISTINCT AP.nameAP)': 0}], [{u'count(DISTINCT AP.nameAP)': 0}], [{u'count(DISTINCT AP.nameAP)': 0}], [{u'count(DISTINCT AP.nameAP)': 0}], [{u'count(DISTINCT AP.nameAP)': 0}], [{u'count(DISTINCT AP.nameAP)': 0}], [{u'count(DISTINCT AP.nameAP)': 0}], [{u'count(DISTINCT AP.nameAP)': 0}], [{u'count(DISTINCT AP.nameAP)': 0}], [{u'count(DISTINCT AP.nameAP)': 0}], [{u'count(DISTINCT AP.nameAP)': 0}], [{u'count(DISTINCT AP.nameAP)': 0}], [{u'count(DISTINCT AP.nameAP)': 0}], [{u'count(DISTINCT AP.nameAP)': 0}], [{u'count(DISTINCT AP.nameAP)': 0}], [{u'count(DISTINCT AP.nameAP)': 0}], [{u'count(DISTINCT AP.nameAP)': 0}], [{u'count(DISTINCT AP.nameAP)': 0}], [{u'count(DISTINCT AP.nameAP)': 0}], [{u'count(DISTINCT AP.nameAP)': 0}], [{u'count(DISTINCT AP.nameAP)': 0}], [{u'count(DISTINCT AP.nameAP)': 0}], [{u'count(DISTINCT AP.nameAP)': 0}], [{u'count(DISTINCT AP.nameAP)': 0}], [{u'count(DISTINCT AP.nameAP)': 0}], [{u'count(DISTINCT AP.nameAP)': 0}], [{u'count(DISTINCT AP.nameAP)': 0}], [{u'count(DISTINCT AP.nameAP)': 0}], [{u'count(DISTINCT AP.nameAP)': 0}], [{u'count(DISTINCT AP.nameAP)': 0}], [{u'count(DISTINCT AP.nameAP)': 0}], [{u'count(DISTINCT AP.nameAP)': 0}], [{u'count(DISTINCT AP.nameAP)': 0}], [{u'count(DISTINCT AP.nameAP)': 0}], [{u'count(DISTINCT AP.nameAP)': 0}], [{u'count(DISTINCT AP.nameAP)': 0}], [{u'count(DISTINCT AP.nameAP)': 0}], [{u'count(DISTINCT AP.nameAP)': 0}], [{u'count(DISTINCT AP.nameAP)': 0}], [{u'count(DISTINCT AP.nameAP)': 0}], [{u'count(DISTINCT AP.nameAP)': 0}], [{u'count(DISTINCT AP.nameAP)': 0}], [{u'count(DISTINCT AP.nameAP)': 0}], [{u'count(DISTINCT AP.nameAP)': 0}], [{u'count(DISTINCT AP.nameAP)': 0}], [{u'count(DISTINCT AP.nameAP)': 0}], [{u'count(DISTINCT AP.nameAP)': 0}], [{u'count(DISTINCT AP.nameAP)': 0}], [{u'count(DISTINCT AP.nameAP)': 0}], [{u'count(DISTINCT AP.nameAP)': 0}], [{u'count(DISTINCT AP.nameAP)': 0}], [{u'count(DISTINCT AP.nameAP)': 0}], [{u'count(DISTINCT AP.nameAP)': 0}], [{u'count(DISTINCT AP.nameAP)': 0}], [{u'count(DISTINCT AP.nameAP)': 0}], [{u'count(DISTINCT AP.nameAP)': 0}], [{u'count(DISTINCT AP.nameAP)': 0}], [{u'count(DISTINCT AP.nameAP)': 0}], [{u'count(DISTINCT AP.nameAP)': 0}], [{u'count(DISTINCT AP.nameAP)': 0}], [{u'count(DISTINCT AP.nameAP)': 0}], [{u'count(DISTINCT AP.nameAP)': 0}], [{u'count(DISTINCT AP.nameAP)': 0}], [{u'count(DISTINCT AP.nameAP)': 0}], [{u'count(DISTINCT AP.nameAP)': 0}], [{u'count(DISTINCT AP.nameAP)': 0}], [{u'count(DISTINCT AP.nameAP)': 0}], [{u'count(DISTINCT AP.nameAP)': 0}], [{u'count(DISTINCT AP.nameAP)': 0}], [{u'count(DISTINCT AP.nameAP)': 0}], [{u'count(DISTINCT AP.nameAP)': 0}], [{u'count(DISTINCT AP.nameAP)': 0}], [{u'count(DISTINCT AP.nameAP)': 0}], [{u'count(DISTINCT AP.nameAP)': 0}], [{u'count(DISTINCT AP.nameAP)': 0}], [{u'count(DISTINCT AP.nameAP)': 0}], [{u'count(DISTINCT AP.nameAP)': 0}], [{u'count(DISTINCT AP.nameAP)': 0}], [{u'count(DISTINCT AP.nameAP)': 0}], [{u'count(DISTINCT AP.nameAP)': 0}], [{u'count(DISTINCT AP.nameAP)': 0}], [{u'count(DISTINCT AP.nameAP)': 0}], [{u'count(DISTINCT AP.nameAP)': 0}], [{u'count(DISTINCT AP.nameAP)': 0}], [{u'count(DISTINCT AP.nameAP)': 0}], [{u'count(DISTINCT AP.nameAP)': 0}], [{u'count(DISTINCT AP.nameAP)': 0}], [{u'count(DISTINCT AP.nameAP)': 0}], [{u'count(DISTINCT AP.nameAP)': 0}], [{u'count(DISTINCT AP.nameAP)': 0}], [{u'count(DISTINCT AP.nameAP)': 0}], [{u'count(DISTINCT AP.nameAP)': 0}], [{u'count(DISTINCT AP.nameAP)': 0}], [{u'count(DISTINCT AP.nameAP)': 0}], [{u'count(DISTINCT AP.nameAP)': 0}], [{u'count(DISTINCT AP.nameAP)': 0}], [{u'count(DISTINCT AP.nameAP)': 0}], [{u'count(DISTINCT AP.nameAP)': 0}], [{u'count(DISTINCT AP.nameAP)': 0}], [{u'count(DISTINCT AP.nameAP)': 0}], [{u'count(DISTINCT AP.nameAP)': 0}], [{u'count(DISTINCT AP.nameAP)': 0}], [{u'count(DISTINCT AP.nameAP)': 0}], [{u'count(DISTINCT AP.nameAP)': 0}], [{u'count(DISTINCT AP.nameAP)': 0}], [{u'count(DISTINCT AP.nameAP)': 0}], [{u'count(DISTINCT AP.nameAP)': 0}], [{u'count(DISTINCT AP.nameAP)': 0}], [{u'count(DISTINCT AP.nameAP)': 0}], [{u'count(DISTINCT AP.nameAP)': 0}], [{u'count(DISTINCT AP.nameAP)': 0}], [{u'count(DISTINCT AP.nameAP)': 0}], [{u'count(DISTINCT AP.nameAP)': 0}], [{u'count(DISTINCT AP.nameAP)': 0}], [{u'count(DISTINCT AP.nameAP)': 0}], [{u'count(DISTINCT AP.nameAP)': 0}], [{u'count(DISTINCT AP.nameAP)': 0}], [{u'count(DISTINCT AP.nameAP)': 0}], [{u'count(DISTINCT AP.nameAP)': 0}], [{u'count(DISTINCT AP.nameAP)': 0}], [{u'count(DISTINCT AP.nameAP)': 0}], [{u'count(DISTINCT AP.nameAP)': 0}], [{u'count(DISTINCT AP.nameAP)': 0}], [{u'count(DISTINCT AP.nameAP)': 0}], [{u'count(DISTINCT AP.nameAP)': 0}], [{u'count(DISTINCT AP.nameAP)': 0}], [{u'count(DISTINCT AP.nameAP)': 0}], [{u'count(DISTINCT AP.nameAP)': 0}], [{u'count(DISTINCT AP.nameAP)': 0}], [{u'count(DISTINCT AP.nameAP)': 0}], [{u'count(DISTINCT AP.nameAP)': 0}], [{u'count(DISTINCT AP.nameAP)': 0}], [{u'count(DISTINCT AP.nameAP)': 0}], [{u'count(DISTINCT AP.nameAP)': 0}], [{u'count(DISTINCT AP.nameAP)': 0}], [{u'count(DISTINCT AP.nameAP)': 0}], [{u'count(DISTINCT AP.nameAP)': 0}], [{u'count(DISTINCT AP.nameAP)': 0}], [{u'count(DISTINCT AP.nameAP)': 0}], [{u'count(DISTINCT AP.nameAP)': 0}], [{u'count(DISTINCT AP.nameAP)': 0}], [{u'count(DISTINCT AP.nameAP)': 0}], [{u'count(DISTINCT AP.nameAP)': 0}], [{u'count(DISTINCT AP.nameAP)': 0}], [{u'count(DISTINCT AP.nameAP)': 0}], [{u'count(DISTINCT AP.nameAP)': 0}], [{u'count(DISTINCT AP.nameAP)': 0}], [{u'count(DISTINCT AP.nameAP)': 0}], [{u'count(DISTINCT AP.nameAP)': 0}], [{u'count(DISTINCT AP.nameAP)': 0}], [{u'count(DISTINCT AP.nameAP)': 0}], [{u'count(DISTINCT AP.nameAP)': 0}], [{u'count(DISTINCT AP.nameAP)': 0}], [{u'count(DISTINCT AP.nameAP)': 0}], [{u'count(DISTINCT AP.nameAP)': 0}], [{u'count(DISTINCT AP.nameAP)': 0}], [{u'count(DISTINCT AP.nameAP)': 0}], [{u'count(DISTINCT AP.nameAP)': 0}], [{u'count(DISTINCT AP.nameAP)': 0}], [{u'count(DISTINCT AP.nameAP)': 0}], [{u'count(DISTINCT AP.nameAP)': 0}], [{u'count(DISTINCT AP.nameAP)': 0}], [{u'count(DISTINCT AP.nameAP)': 0}], [{u'count(DISTINCT AP.nameAP)': 0}], [{u'count(DISTINCT AP.nameAP)': 0}], [{u'count(DISTINCT AP.nameAP)': 0}], [{u'count(DISTINCT AP.nameAP)': 0}], [{u'count(DISTINCT AP.nameAP)': 0}], [{u'count(DISTINCT AP.nameAP)': 0}], [{u'count(DISTINCT AP.nameAP)': 0}], [{u'count(DISTINCT AP.nameAP)': 0}], [{u'count(DISTINCT AP.nameAP)': 0}], [{u'count(DISTINCT AP.nameAP)': 0}], [{u'count(DISTINCT AP.nameAP)': 0}], [{u'count(DISTINCT AP.nameAP)': 0}], [{u'count(DISTINCT AP.nameAP)': 0}], [{u'count(DISTINCT AP.nameAP)': 0}], [{u'count(DISTINCT AP.nameAP)': 0}], [{u'count(DISTINCT AP.nameAP)': 0}], [{u'count(DISTINCT AP.nameAP)': 0}], [{u'count(DISTINCT AP.nameAP)': 0}], [{u'count(DISTINCT AP.nameAP)': 0}], [{u'count(DISTINCT AP.nameAP)': 0}], [{u'count(DISTINCT AP.nameAP)': 0}], [{u'count(DISTINCT AP.nameAP)': 0}], [{u'count(DISTINCT AP.nameAP)': 0}], [{u'count(DISTINCT AP.nameAP)': 0}], [{u'count(DISTINCT AP.nameAP)': 0}], [{u'count(DISTINCT AP.nameAP)': 0}], [{u'count(DISTINCT AP.nameAP)': 0}], [{u'count(DISTINCT AP.nameAP)': 0}], [{u'count(DISTINCT AP.nameAP)': 0}], [{u'count(DISTINCT AP.nameAP)': 0}], [{u'count(DISTINCT AP.nameAP)': 0}], [{u'count(DISTINCT AP.nameAP)': 0}], [{u'count(DISTINCT AP.nameAP)': 0}], [{u'count(DISTINCT AP.nameAP)': 0}], [{u'count(DISTINCT AP.nameAP)': 0}], [{u'count(DISTINCT AP.nameAP)': 0}], [{u'count(DISTINCT AP.nameAP)': 0}], [{u'count(DISTINCT AP.nameAP)': 0}], [{u'count(DISTINCT AP.nameAP)': 0}], [{u'count(DISTINCT AP.nameAP)': 0}], [{u'count(DISTINCT AP.nameAP)': 0}], [{u'count(DISTINCT AP.nameAP)': 0}], [{u'count(DISTINCT AP.nameAP)': 0}], [{u'count(DISTINCT AP.nameAP)': 0}], [{u'count(DISTINCT AP.nameAP)': 0}], [{u'count(DISTINCT AP.nameAP)': 0}], [{u'count(DISTINCT AP.nameAP)': 0}], [{u'count(DISTINCT AP.nameAP)': 0}], [{u'count(DISTINCT AP.nameAP)': 0}], [{u'count(DISTINCT AP.nameAP)': 0}], [{u'count(DISTINCT AP.nameAP)': 0}], [{u'count(DISTINCT AP.nameAP)': 0}], [{u'count(DISTINCT AP.nameAP)': 0}], [{u'count(DISTINCT AP.nameAP)': 0}], [{u'count(DISTINCT AP.nameAP)': 0}], [{u'count(DISTINCT AP.nameAP)': 0}], [{u'count(DISTINCT AP.nameAP)': 0}], [{u'count(DISTINCT AP.nameAP)': 0}], [{u'count(DISTINCT AP.nameAP)': 0}], [{u'count(DISTINCT AP.nameAP)': 0}], [{u'count(DISTINCT AP.nameAP)': 0}], [{u'count(DISTINCT AP.nameAP)': 0}], [{u'count(DISTINCT AP.nameAP)': 0}], [{u'count(DISTINCT AP.nameAP)': 0}], [{u'count(DISTINCT AP.nameAP)': 0}], [{u'count(DISTINCT AP.nameAP)': 0}], [{u'count(DISTINCT AP.nameAP)': 0}], [{u'count(DISTINCT AP.nameAP)': 0}], [{u'count(DISTINCT AP.nameAP)': 0}], [{u'count(DISTINCT AP.nameAP)': 0}], [{u'count(DISTINCT AP.nameAP)': 0}], [{u'count(DISTINCT AP.nameAP)': 0}], [{u'count(DISTINCT AP.nameAP)': 0}], [{u'count(DISTINCT AP.nameAP)': 0}], [{u'count(DISTINCT AP.nameAP)': 0}], [{u'count(DISTINCT AP.nameAP)': 0}], [{u'count(DISTINCT AP.nameAP)': 0}], [{u'count(DISTINCT AP.nameAP)': 0}], [{u'count(DISTINCT AP.nameAP)': 0}], [{u'count(DISTINCT AP.nameAP)': 0}], [{u'count(DISTINCT AP.nameAP)': 0}], [{u'count(DISTINCT AP.nameAP)': 0}], [{u'count(DISTINCT AP.nameAP)': 0}], [{u'count(DISTINCT AP.nameAP)': 0}], [{u'count(DISTINCT AP.nameAP)': 0}], [{u'count(DISTINCT AP.nameAP)': 0}], [{u'count(DISTINCT AP.nameAP)': 0}], [{u'count(DISTINCT AP.nameAP)': 0}], [{u'count(DISTINCT AP.nameAP)': 0}], [{u'count(DISTINCT AP.nameAP)': 0}], [{u'count(DISTINCT AP.nameAP)': 0}], [{u'count(DISTINCT AP.nameAP)': 0}], [{u'count(DISTINCT AP.nameAP)': 0}], [{u'count(DISTINCT AP.nameAP)': 0}], [{u'count(DISTINCT AP.nameAP)': 0}], [{u'count(DISTINCT AP.nameAP)': 0}], [{u'count(DISTINCT AP.nameAP)': 0}], [{u'count(DISTINCT AP.nameAP)': 0}], [{u'count(DISTINCT AP.nameAP)': 0}], [{u'count(DISTINCT AP.nameAP)': 0}], [{u'count(DISTINCT AP.nameAP)': 0}], [{u'count(DISTINCT AP.nameAP)': 0}], [{u'count(DISTINCT AP.nameAP)': 0}], [{u'count(DISTINCT AP.nameAP)': 0}], [{u'count(DISTINCT AP.nameAP)': 0}], [{u'count(DISTINCT AP.nameAP)': 0}], [{u'count(DISTINCT AP.nameAP)': 0}], [{u'count(DISTINCT AP.nameAP)': 0}], [{u'count(DISTINCT AP.nameAP)': 0}], [{u'count(DISTINCT AP.nameAP)': 0}], [{u'count(DISTINCT AP.nameAP)': 0}], [{u'count(DISTINCT AP.nameAP)': 0}], [{u'count(DISTINCT AP.nameAP)': 0}], [{u'count(DISTINCT AP.nameAP)': 0}], [{u'count(DISTINCT AP.nameAP)': 0}], [{u'count(DISTINCT AP.nameAP)': 0}], [{u'count(DISTINCT AP.nameAP)': 0}], [{u'count(DISTINCT AP.nameAP)': 0}], [{u'count(DISTINCT AP.nameAP)': 0}], [{u'count(DISTINCT AP.nameAP)': 0}], [{u'count(DISTINCT AP.nameAP)': 0}], [{u'count(DISTINCT AP.nameAP)': 0}], [{u'count(DISTINCT AP.nameAP)': 0}], [{u'count(DISTINCT AP.nameAP)': 0}], [{u'count(DISTINCT AP.nameAP)': 0}], [{u'count(DISTINCT AP.nameAP)': 0}], [{u'count(DISTINCT AP.nameAP)': 0}], [{u'count(DISTINCT AP.nameAP)': 0}], [{u'count(DISTINCT AP.nameAP)': 0}], [{u'count(DISTINCT AP.nameAP)': 0}], [{u'count(DISTINCT AP.nameAP)': 0}], [{u'count(DISTINCT AP.nameAP)': 0}], [{u'count(DISTINCT AP.nameAP)': 0}], [{u'count(DISTINCT AP.nameAP)': 0}], [{u'count(DISTINCT AP.nameAP)': 0}], [{u'count(DISTINCT AP.nameAP)': 0}], [{u'count(DISTINCT AP.nameAP)': 0}], [{u'count(DISTINCT AP.nameAP)': 0}], [{u'count(DISTINCT AP.nameAP)': 0}], [{u'count(DISTINCT AP.nameAP)': 0}], [{u'count(DISTINCT AP.nameAP)': 0}], [{u'count(DISTINCT AP.nameAP)': 0}], [{u'count(DISTINCT AP.nameAP)': 0}], [{u'count(DISTINCT AP.nameAP)': 0}], [{u'count(DISTINCT AP.nameAP)': 0}], [{u'count(DISTINCT AP.nameAP)': 0}], [{u'count(DISTINCT AP.nameAP)': 0}], [{u'count(DISTINCT AP.nameAP)': 0}], [{u'count(DISTINCT AP.nameAP)': 0}], [{u'count(DISTINCT AP.nameAP)': 0}], [{u'count(DISTINCT AP.nameAP)': 0}], [{u'count(DISTINCT AP.nameAP)': 0}], [{u'count(DISTINCT AP.nameAP)': 0}], [{u'count(DISTINCT AP.nameAP)': 0}], [{u'count(DISTINCT AP.nameAP)': 0}], [{u'count(DISTINCT AP.nameAP)': 0}], [{u'count(DISTINCT AP.nameAP)': 0}], [{u'count(DISTINCT AP.nameAP)': 0}], [{u'count(DISTINCT AP.nameAP)': 0}], [{u'count(DISTINCT AP.nameAP)': 0}], [{u'count(DISTINCT AP.nameAP)': 0}], [{u'count(DISTINCT AP.nameAP)': 0}], [{u'count(DISTINCT AP.nameAP)': 0}], [{u'count(DISTINCT AP.nameAP)': 0}], [{u'count(DISTINCT AP.nameAP)': 0}], [{u'count(DISTINCT AP.nameAP)': 0}], [{u'count(DISTINCT AP.nameAP)': 0}], [{u'count(DISTINCT AP.nameAP)': 0}], [{u'count(DISTINCT AP.nameAP)': 0}], [{u'count(DISTINCT AP.nameAP)': 0}], [{u'count(DISTINCT AP.nameAP)': 0}], [{u'count(DISTINCT AP.nameAP)': 0}], [{u'count(DISTINCT AP.nameAP)': 0}], [{u'count(DISTINCT AP.nameAP)': 0}], [{u'count(DISTINCT AP.nameAP)': 0}], [{u'count(DISTINCT AP.nameAP)': 0}], [{u'count(DISTINCT AP.nameAP)': 0}], [{u'count(DISTINCT AP.nameAP)': 0}], [{u'count(DISTINCT AP.nameAP)': 0}], [{u'count(DISTINCT AP.nameAP)': 0}], [{u'count(DISTINCT AP.nameAP)': 0}], [{u'count(DISTINCT AP.nameAP)': 0}], [{u'count(DISTINCT AP.nameAP)': 0}], [{u'count(DISTINCT AP.nameAP)': 0}], [{u'count(DISTINCT AP.nameAP)': 0}], [{u'count(DISTINCT AP.nameAP)': 0}], [{u'count(DISTINCT AP.nameAP)': 0}], [{u'count(DISTINCT AP.nameAP)': 0}], [{u'count(DISTINCT AP.nameAP)': 0}], [{u'count(DISTINCT AP.nameAP)': 0}], [{u'count(DISTINCT AP.nameAP)': 0}], [{u'count(DISTINCT AP.nameAP)': 0}], [{u'count(DISTINCT AP.nameAP)': 0}], [{u'count(DISTINCT AP.nameAP)': 0}], [{u'count(DISTINCT AP.nameAP)': 0}], [{u'count(DISTINCT AP.nameAP)': 0}], [{u'count(DISTINCT AP.nameAP)': 0}], [{u'count(DISTINCT AP.nameAP)': 0}], [{u'count(DISTINCT AP.nameAP)': 0}], [{u'count(DISTINCT AP.nameAP)': 0}], [{u'count(DISTINCT AP.nameAP)': 0}], [{u'count(DISTINCT AP.nameAP)': 0}], [{u'count(DISTINCT AP.nameAP)': 0}], [{u'count(DISTINCT AP.nameAP)': 0}], [{u'count(DISTINCT AP.nameAP)': 0}], [{u'count(DISTINCT AP.nameAP)': 0}], [{u'count(DISTINCT AP.nameAP)': 0}], [{u'count(DISTINCT AP.nameAP)': 0}], [{u'count(DISTINCT AP.nameAP)': 0}], [{u'count(DISTINCT AP.nameAP)': 0}], [{u'count(DISTINCT AP.nameAP)': 0}], [{u'count(DISTINCT AP.nameAP)': 0}], [{u'count(DISTINCT AP.nameAP)': 0}], [{u'count(DISTINCT AP.nameAP)': 0}], [{u'count(DISTINCT AP.nameAP)': 0}], [{u'count(DISTINCT AP.nameAP)': 0}], [{u'count(DISTINCT AP.nameAP)': 0}], [{u'count(DISTINCT AP.nameAP)': 0}], [{u'count(DISTINCT AP.nameAP)': 0}], [{u'count(DISTINCT AP.nameAP)': 0}], [{u'count(DISTINCT AP.nameAP)': 0}], [{u'count(DISTINCT AP.nameAP)': 0}], [{u'count(DISTINCT AP.nameAP)': 0}], [{u'count(DISTINCT AP.nameAP)': 0}], [{u'count(DISTINCT AP.nameAP)': 0}], [{u'count(DISTINCT AP.nameAP)': 0}], [{u'count(DISTINCT AP.nameAP)': 0}], [{u'count(DISTINCT AP.nameAP)': 0}], [{u'count(DISTINCT AP.nameAP)': 0}], [{u'count(DISTINCT AP.nameAP)': 0}], [{u'count(DISTINCT AP.nameAP)': 0}], [{u'count(DISTINCT AP.nameAP)': 0}], [{u'count(DISTINCT AP.nameAP)': 0}], [{u'count(DISTINCT AP.nameAP)': 0}], [{u'count(DISTINCT AP.nameAP)': 0}], [{u'count(DISTINCT AP.nameAP)': 0}], [{u'count(DISTINCT AP.nameAP)': 0}], [{u'count(DISTINCT AP.nameAP)': 0}], [{u'count(DISTINCT AP.nameAP)': 0}], [{u'count(DISTINCT AP.nameAP)': 0}], [{u'count(DISTINCT AP.nameAP)': 0}], [{u'count(DISTINCT AP.nameAP)': 0}], [{u'count(DISTINCT AP.nameAP)': 0}], [{u'count(DISTINCT AP.nameAP)': 0}], [{u'count(DISTINCT AP.nameAP)': 0}], [{u'count(DISTINCT AP.nameAP)': 0}], [{u'count(DISTINCT AP.nameAP)': 0}], [{u'count(DISTINCT AP.nameAP)': 0}], [{u'count(DISTINCT AP.nameAP)': 0}], [{u'count(DISTINCT AP.nameAP)': 0}], [{u'count(DISTINCT AP.nameAP)': 0}], [{u'count(DISTINCT AP.nameAP)': 0}], [{u'count(DISTINCT AP.nameAP)': 0}], [{u'count(DISTINCT AP.nameAP)': 0}], [{u'count(DISTINCT AP.nameAP)': 0}], [{u'count(DISTINCT AP.nameAP)': 0}], [{u'count(DISTINCT AP.nameAP)': 0}], [{u'count(DISTINCT AP.nameAP)': 0}], [{u'count(DISTINCT AP.nameAP)': 0}], [{u'count(DISTINCT AP.nameAP)': 0}], [{u'count(DISTINCT AP.nameAP)': 0}], [{u'count(DISTINCT AP.nameAP)': 0}], [{u'count(DISTINCT AP.nameAP)': 0}], [{u'count(DISTINCT AP.nameAP)': 0}], [{u'count(DISTINCT AP.nameAP)': 0}], [{u'count(DISTINCT AP.nameAP)': 0}], [{u'count(DISTINCT AP.nameAP)': 0}], [{u'count(DISTINCT AP.nameAP)': 0}], [{u'count(DISTINCT AP.nameAP)': 0}], [{u'count(DISTINCT AP.nameAP)': 0}], [{u'count(DISTINCT AP.nameAP)': 0}], [{u'count(DISTINCT AP.nameAP)': 0}], [{u'count(DISTINCT AP.nameAP)': 0}], [{u'count(DISTINCT AP.nameAP)': 0}], [{u'count(DISTINCT AP.nameAP)': 0}], [{u'count(DISTINCT AP.nameAP)': 0}], [{u'count(DISTINCT AP.nameAP)': 0}], [{u'count(DISTINCT AP.nameAP)': 0}], [{u'count(DISTINCT AP.nameAP)': 0}], [{u'count(DISTINCT AP.nameAP)': 0}], [{u'count(DISTINCT AP.nameAP)': 0}], [{u'count(DISTINCT AP.nameAP)': 0}], [{u'count(DISTINCT AP.nameAP)': 0}], [{u'count(DISTINCT AP.nameAP)': 0}], [{u'count(DISTINCT AP.nameAP)': 0}], [{u'count(DISTINCT AP.nameAP)': 0}], [{u'count(DISTINCT AP.nameAP)': 0}], [{u'count(DISTINCT AP.nameAP)': 0}], [{u'count(DISTINCT AP.nameAP)': 0}], [{u'count(DISTINCT AP.nameAP)': 0}], [{u'count(DISTINCT AP.nameAP)': 0}], [{u'count(DISTINCT AP.nameAP)': 0}], [{u'count(DISTINCT AP.nameAP)': 0}], [{u'count(DISTINCT AP.nameAP)': 0}], [{u'count(DISTINCT AP.nameAP)': 0}], [{u'count(DISTINCT AP.nameAP)': 0}], [{u'count(DISTINCT AP.nameAP)': 0}], [{u'count(DISTINCT AP.nameAP)': 0}], [{u'count(DISTINCT AP.nameAP)': 0}], [{u'count(DISTINCT AP.nameAP)': 0}], [{u'count(DISTINCT AP.nameAP)': 0}], [{u'count(DISTINCT AP.nameAP)': 0}], [{u'count(DISTINCT AP.nameAP)': 0}], [{u'count(DISTINCT AP.nameAP)': 0}], [{u'count(DISTINCT AP.nameAP)': 0}], [{u'count(DISTINCT AP.nameAP)': 0}], [{u'count(DISTINCT AP.nameAP)': 0}], [{u'count(DISTINCT AP.nameAP)': 0}], [{u'count(DISTINCT AP.nameAP)': 0}], [{u'count(DISTINCT AP.nameAP)': 0}], [{u'count(DISTINCT AP.nameAP)': 0}], [{u'count(DISTINCT AP.nameAP)': 0}], [{u'count(DISTINCT AP.nameAP)': 0}], [{u'count(DISTINCT AP.nameAP)': 0}], [{u'count(DISTINCT AP.nameAP)': 0}], [{u'count(DISTINCT AP.nameAP)': 0}], [{u'count(DISTINCT AP.nameAP)': 0}], [{u'count(DISTINCT AP.nameAP)': 0}], [{u'count(DISTINCT AP.nameAP)': 0}], [{u'count(DISTINCT AP.nameAP)': 0}], [{u'count(DISTINCT AP.nameAP)': 0}], [{u'count(DISTINCT AP.nameAP)': 0}], [{u'count(DISTINCT AP.nameAP)': 0}], [{u'count(DISTINCT AP.nameAP)': 0}], [{u'count(DISTINCT AP.nameAP)': 0}], [{u'count(DISTINCT AP.nameAP)': 0}], [{u'count(DISTINCT AP.nameAP)': 0}], [{u'count(DISTINCT AP.nameAP)': 0}], [{u'count(DISTINCT AP.nameAP)': 0}], [{u'count(DISTINCT AP.nameAP)': 0}], [{u'count(DISTINCT AP.nameAP)': 0}], [{u'count(DISTINCT AP.nameAP)': 0}], [{u'count(DISTINCT AP.nameAP)': 0}], [{u'count(DISTINCT AP.nameAP)': 0}], [{u'count(DISTINCT AP.nameAP)': 0}], [{u'count(DISTINCT AP.nameAP)': 0}], [{u'count(DISTINCT AP.nameAP)': 0}], [{u'count(DISTINCT AP.nameAP)': 0}], [{u'count(DISTINCT AP.nameAP)': 0}], [{u'count(DISTINCT AP.nameAP)': 0}], [{u'count(DISTINCT AP.nameAP)': 0}], [{u'count(DISTINCT AP.nameAP)': 0}], [{u'count(DISTINCT AP.nameAP)': 0}], [{u'count(DISTINCT AP.nameAP)': 0}], [{u'count(DISTINCT AP.nameAP)': 0}], [{u'count(DISTINCT AP.nameAP)': 0}], [{u'count(DISTINCT AP.nameAP)': 0}], [{u'count(DISTINCT AP.nameAP)': 0}], [{u'count(DISTINCT AP.nameAP)': 0}], [{u'count(DISTINCT AP.nameAP)': 0}], [{u'count(DISTINCT AP.nameAP)': 0}], [{u'count(DISTINCT AP.nameAP)': 0}], [{u'count(DISTINCT AP.nameAP)': 0}], [{u'count(DISTINCT AP.nameAP)': 0}], [{u'count(DISTINCT AP.nameAP)': 0}], [{u'count(DISTINCT AP.nameAP)': 0}], [{u'count(DISTINCT AP.nameAP)': 0}], [{u'count(DISTINCT AP.nameAP)': 0}], [{u'count(DISTINCT AP.nameAP)': 0}], [{u'count(DISTINCT AP.nameAP)': 0}], [{u'count(DISTINCT AP.nameAP)': 0}], [{u'count(DISTINCT AP.nameAP)': 0}], [{u'count(DISTINCT AP.nameAP)': 0}], [{u'count(DISTINCT AP.nameAP)': 0}], [{u'count(DISTINCT AP.nameAP)': 0}], [{u'count(DISTINCT AP.nameAP)': 0}], [{u'count(DISTINCT AP.nameAP)': 0}], [{u'count(DISTINCT AP.nameAP)': 0}], [{u'count(DISTINCT AP.nameAP)': 0}], [{u'count(DISTINCT AP.nameAP)': 0}], [{u'count(DISTINCT AP.nameAP)': 0}], [{u'count(DISTINCT AP.nameAP)': 0}], [{u'count(DISTINCT AP.nameAP)': 0}], [{u'count(DISTINCT AP.nameAP)': 0}], [{u'count(DISTINCT AP.nameAP)': 0}], [{u'count(DISTINCT AP.nameAP)': 0}], [{u'count(DISTINCT AP.nameAP)': 0}], [{u'count(DISTINCT AP.nameAP)': 0}], [{u'count(DISTINCT AP.nameAP)': 0}], [{u'count(DISTINCT AP.nameAP)': 0}], [{u'count(DISTINCT AP.nameAP)': 0}], [{u'count(DISTINCT AP.nameAP)': 0}], [{u'count(DISTINCT AP.nameAP)': 0}], [{u'count(DISTINCT AP.nameAP)': 0}], [{u'count(DISTINCT AP.nameAP)': 0}], [{u'count(DISTINCT AP.nameAP)': 0}], [{u'count(DISTINCT AP.nameAP)': 0}], [{u'count(DISTINCT AP.nameAP)': 0}], [{u'count(DISTINCT AP.nameAP)': 0}], [{u'count(DISTINCT AP.nameAP)': 0}], [{u'count(DISTINCT AP.nameAP)': 0}], [{u'count(DISTINCT AP.nameAP)': 0}], [{u'count(DISTINCT AP.nameAP)': 0}], [{u'count(DISTINCT AP.nameAP)': 0}], [{u'count(DISTINCT AP.nameAP)': 0}], [{u'count(DISTINCT AP.nameAP)': 0}], [{u'count(DISTINCT AP.nameAP)': 0}], [{u'count(DISTINCT AP.nameAP)': 0}], [{u'count(DISTINCT AP.nameAP)': 0}], [{u'count(DISTINCT AP.nameAP)': 0}], [{u'count(DISTINCT AP.nameAP)': 0}], [{u'count(DISTINCT AP.nameAP)': 0}], [{u'count(DISTINCT AP.nameAP)': 0}], [{u'count(DISTINCT AP.nameAP)': 0}], [{u'count(DISTINCT AP.nameAP)': 0}], [{u'count(DISTINCT AP.nameAP)': 0}], [{u'count(DISTINCT AP.nameAP)': 0}], [{u'count(DISTINCT AP.nameAP)': 0}], [{u'count(DISTINCT AP.nameAP)': 0}], [{u'count(DISTINCT AP.nameAP)': 0}], [{u'count(DISTINCT AP.nameAP)': 0}], [{u'count(DISTINCT AP.nameAP)': 0}], [{u'count(DISTINCT AP.nameAP)': 0}], [{u'count(DISTINCT AP.nameAP)': 0}], [{u'count(DISTINCT AP.nameAP)': 0}], [{u'count(DISTINCT AP.nameAP)': 0}], [{u'count(DISTINCT AP.nameAP)': 0}], [{u'count(DISTINCT AP.nameAP)': 0}], [{u'count(DISTINCT AP.nameAP)': 0}], [{u'count(DISTINCT AP.nameAP)': 0}], [{u'count(DISTINCT AP.nameAP)': 0}], [{u'count(DISTINCT AP.nameAP)': 0}], [{u'count(DISTINCT AP.nameAP)': 0}], [{u'count(DISTINCT AP.nameAP)': 0}], [{u'count(DISTINCT AP.nameAP)': 0}], [{u'count(DISTINCT AP.nameAP)': 0}], [{u'count(DISTINCT AP.nameAP)': 0}], [{u'count(DISTINCT AP.nameAP)': 0}], [{u'count(DISTINCT AP.nameAP)': 0}], [{u'count(DISTINCT AP.nameAP)': 0}], [{u'count(DISTINCT AP.nameAP)': 0}], [{u'count(DISTINCT AP.nameAP)': 0}], [{u'count(DISTINCT AP.nameAP)': 0}], [{u'count(DISTINCT AP.nameAP)': 0}], [{u'count(DISTINCT AP.nameAP)': 0}], [{u'count(DISTINCT AP.nameAP)': 0}], [{u'count(DISTINCT AP.nameAP)': 0}], [{u'count(DISTINCT AP.nameAP)': 0}], [{u'count(DISTINCT AP.nameAP)': 0}], [{u'count(DISTINCT AP.nameAP)': 0}], [{u'count(DISTINCT AP.nameAP)': 0}], [{u'count(DISTINCT AP.nameAP)': 0}], [{u'count(DISTINCT AP.nameAP)': 0}], [{u'count(DISTINCT AP.nameAP)': 0}], [{u'count(DISTINCT AP.nameAP)': 0}], [{u'count(DISTINCT AP.nameAP)': 0}], [{u'count(DISTINCT AP.nameAP)': 0}], [{u'count(DISTINCT AP.nameAP)': 0}], [{u'count(DISTINCT AP.nameAP)': 0}], [{u'count(DISTINCT AP.nameAP)': 0}], [{u'count(DISTINCT AP.nameAP)': 0}], [{u'count(DISTINCT AP.nameAP)': 0}], [{u'count(DISTINCT AP.nameAP)': 0}], [{u'count(DISTINCT AP.nameAP)': 0}], [{u'count(DISTINCT AP.nameAP)': 0}], [{u'count(DISTINCT AP.nameAP)': 0}], [{u'count(DISTINCT AP.nameAP)': 0}], [{u'count(DISTINCT AP.nameAP)': 0}], [{u'count(DISTINCT AP.nameAP)': 0}], [{u'count(DISTINCT AP.nameAP)': 0}], [{u'count(DISTINCT AP.nameAP)': 0}], [{u'count(DISTINCT AP.nameAP)': 0}], [{u'count(DISTINCT AP.nameAP)': 0}], [{u'count(DISTINCT AP.nameAP)': 0}], [{u'count(DISTINCT AP.nameAP)': 0}], [{u'count(DISTINCT AP.nameAP)': 0}], [{u'count(DISTINCT AP.nameAP)': 0}], [{u'count(DISTINCT AP.nameAP)': 0}], [{u'count(DISTINCT AP.nameAP)': 0}], [{u'count(DISTINCT AP.nameAP)': 0}], [{u'count(DISTINCT AP.nameAP)': 0}], [{u'count(DISTINCT AP.nameAP)': 0}], [{u'count(DISTINCT AP.nameAP)': 0}], [{u'count(DISTINCT AP.nameAP)': 0}], [{u'count(DISTINCT AP.nameAP)': 0}], [{u'count(DISTINCT AP.nameAP)': 0}], [{u'count(DISTINCT AP.nameAP)': 0}], [{u'count(DISTINCT AP.nameAP)': 0}], [{u'count(DISTINCT AP.nameAP)': 0}], [{u'count(DISTINCT AP.nameAP)': 0}], [{u'count(DISTINCT AP.nameAP)': 0}], [{u'count(DISTINCT AP.nameAP)': 0}], [{u'count(DISTINCT AP.nameAP)': 0}], [{u'count(DISTINCT AP.nameAP)': 0}], [{u'count(DISTINCT AP.nameAP)': 0}], [{u'count(DISTINCT AP.nameAP)': 0}], [{u'count(DISTINCT AP.nameAP)': 0}], [{u'count(DISTINCT AP.nameAP)': 0}], [{u'count(DISTINCT AP.nameAP)': 0}], [{u'count(DISTINCT AP.nameAP)': 0}], [{u'count(DISTINCT AP.nameAP)': 0}], [{u'count(DISTINCT AP.nameAP)': 0}], [{u'count(DISTINCT AP.nameAP)': 0}], [{u'count(DISTINCT AP.nameAP)': 0}], [{u'count(DISTINCT AP.nameAP)': 0}], [{u'count(DISTINCT AP.nameAP)': 0}], [{u'count(DISTINCT AP.nameAP)': 0}], [{u'count(DISTINCT AP.nameAP)': 0}], [{u'count(DISTINCT AP.nameAP)': 0}], [{u'count(DISTINCT AP.nameAP)': 0}], [{u'count(DISTINCT AP.nameAP)': 0}], [{u'count(DISTINCT AP.nameAP)': 0}], [{u'count(DISTINCT AP.nameAP)': 0}], [{u'count(DISTINCT AP.nameAP)': 0}], [{u'count(DISTINCT AP.nameAP)': 0}], [{u'count(DISTINCT AP.nameAP)': 0}], [{u'count(DISTINCT AP.nameAP)': 0}], [{u'count(DISTINCT AP.nameAP)': 0}], [{u'count(DISTINCT AP.nameAP)': 0}], [{u'count(DISTINCT AP.nameAP)': 0}], [{u'count(DISTINCT AP.nameAP)': 0}], [{u'count(DISTINCT AP.nameAP)': 0}], [{u'count(DISTINCT AP.nameAP)': 0}], [{u'count(DISTINCT AP.nameAP)': 0}], [{u'count(DISTINCT AP.nameAP)': 0}], [{u'count(DISTINCT AP.nameAP)': 0}], [{u'count(DISTINCT AP.nameAP)': 0}], [{u'count(DISTINCT AP.nameAP)': 0}], [{u'count(DISTINCT AP.nameAP)': 0}], [{u'count(DISTINCT AP.nameAP)': 0}], [{u'count(DISTINCT AP.nameAP)': 0}], [{u'count(DISTINCT AP.nameAP)': 0}], [{u'count(DISTINCT AP.nameAP)': 0}], [{u'count(DISTINCT AP.nameAP)': 0}], [{u'count(DISTINCT AP.nameAP)': 0}], [{u'count(DISTINCT AP.nameAP)': 0}], [{u'count(DISTINCT AP.nameAP)': 0}], [{u'count(DISTINCT AP.nameAP)': 0}], [{u'count(DISTINCT AP.nameAP)': 0}], [{u'count(DISTINCT AP.nameAP)': 0}], [{u'count(DISTINCT AP.nameAP)': 0}], [{u'count(DISTINCT AP.nameAP)': 0}], [{u'count(DISTINCT AP.nameAP)': 0}], [{u'count(DISTINCT AP.nameAP)': 0}], [{u'count(DISTINCT AP.nameAP)': 0}], [{u'count(DISTINCT AP.nameAP)': 0}], [{u'count(DISTINCT AP.nameAP)': 0}], [{u'count(DISTINCT AP.nameAP)': 0}], [{u'count(DISTINCT AP.nameAP)': 0}], [{u'count(DISTINCT AP.nameAP)': 0}], [{u'count(DISTINCT AP.nameAP)': 0}], [{u'count(DISTINCT AP.nameAP)': 0}], [{u'count(DISTINCT AP.nameAP)': 0}], [{u'count(DISTINCT AP.nameAP)': 0}], [{u'count(DISTINCT AP.nameAP)': 0}], [{u'count(DISTINCT AP.nameAP)': 0}], [{u'count(DISTINCT AP.nameAP)': 0}], [{u'count(DISTINCT AP.nameAP)': 0}], [{u'count(DISTINCT AP.nameAP)': 0}], [{u'count(DISTINCT AP.nameAP)': 0}], [{u'count(DISTINCT AP.nameAP)': 0}], [{u'count(DISTINCT AP.nameAP)': 0}], [{u'count(DISTINCT AP.nameAP)': 0}], [{u'count(DISTINCT AP.nameAP)': 0}], [{u'count(DISTINCT AP.nameAP)': 0}], [{u'count(DISTINCT AP.nameAP)': 0}], [{u'count(DISTINCT AP.nameAP)': 0}], [{u'count(DISTINCT AP.nameAP)': 0}], [{u'count(DISTINCT AP.nameAP)': 0}], [{u'count(DISTINCT AP.nameAP)': 0}], [{u'count(DISTINCT AP.nameAP)': 0}], [{u'count(DISTINCT AP.nameAP)': 0}], [{u'count(DISTINCT AP.nameAP)': 0}], [{u'count(DISTINCT AP.nameAP)': 0}], [{u'count(DISTINCT AP.nameAP)': 0}], [{u'count(DISTINCT AP.nameAP)': 0}], [{u'count(DISTINCT AP.nameAP)': 0}], [{u'count(DISTINCT AP.nameAP)': 0}], [{u'count(DISTINCT AP.nameAP)': 0}], [{u'count(DISTINCT AP.nameAP)': 0}], [{u'count(DISTINCT AP.nameAP)': 0}], [{u'count(DISTINCT AP.nameAP)': 0}], [{u'count(DISTINCT AP.nameAP)': 0}], [{u'count(DISTINCT AP.nameAP)': 0}], [{u'count(DISTINCT AP.nameAP)': 0}], [{u'count(DISTINCT AP.nameAP)': 0}], [{u'count(DISTINCT AP.nameAP)': 0}], [{u'count(DISTINCT AP.nameAP)': 0}], [{u'count(DISTINCT AP.nameAP)': 0}], [{u'count(DISTINCT AP.nameAP)': 0}], [{u'count(DISTINCT AP.nameAP)': 0}], [{u'count(DISTINCT AP.nameAP)': 0}], [{u'count(DISTINCT AP.nameAP)': 0}], [{u'count(DISTINCT AP.nameAP)': 0}], [{u'count(DISTINCT AP.nameAP)': 0}], [{u'count(DISTINCT AP.nameAP)': 0}], [{u'count(DISTINCT AP.nameAP)': 0}], [{u'count(DISTINCT AP.nameAP)': 0}], [{u'count(DISTINCT AP.nameAP)': 0}], [{u'count(DISTINCT AP.nameAP)': 0}], [{u'count(DISTINCT AP.nameAP)': 0}], [{u'count(DISTINCT AP.nameAP)': 0}], [{u'count(DISTINCT AP.nameAP)': 0}], [{u'count(DISTINCT AP.nameAP)': 0}], [{u'count(DISTINCT AP.nameAP)': 0}], [{u'count(DISTINCT AP.nameAP)': 0}], [{u'count(DISTINCT AP.nameAP)': 0}], [{u'count(DISTINCT AP.nameAP)': 0}], [{u'count(DISTINCT AP.nameAP)': 0}], [{u'count(DISTINCT AP.nameAP)': 0}], [{u'count(DISTINCT AP.nameAP)': 0}], [{u'count(DISTINCT AP.nameAP)': 0}], [{u'count(DISTINCT AP.nameAP)': 0}], [{u'count(DISTINCT AP.nameAP)': 0}], [{u'count(DISTINCT AP.nameAP)': 0}], [{u'count(DISTINCT AP.nameAP)': 0}], [{u'count(DISTINCT AP.nameAP)': 0}], [{u'count(DISTINCT AP.nameAP)': 0}], [{u'count(DISTINCT AP.nameAP)': 0}], [{u'count(DISTINCT AP.nameAP)': 0}], [{u'count(DISTINCT AP.nameAP)': 0}], [{u'count(DISTINCT AP.nameAP)': 0}], [{u'count(DISTINCT AP.nameAP)': 0}], [{u'count(DISTINCT AP.nameAP)': 0}], [{u'count(DISTINCT AP.nameAP)': 0}], [{u'count(DISTINCT AP.nameAP)': 0}], [{u'count(DISTINCT AP.nameAP)': 0}], [{u'count(DISTINCT AP.nameAP)': 0}], [{u'count(DISTINCT AP.nameAP)': 0}], [{u'count(DISTINCT AP.nameAP)': 0}], [{u'count(DISTINCT AP.nameAP)': 0}], [{u'count(DISTINCT AP.nameAP)': 0}], [{u'count(DISTINCT AP.nameAP)': 0}], [{u'count(DISTINCT AP.nameAP)': 0}], [{u'count(DISTINCT AP.nameAP)': 0}], [{u'count(DISTINCT AP.nameAP)': 0}], [{u'count(DISTINCT AP.nameAP)': 0}], [{u'count(DISTINCT AP.nameAP)': 0}], [{u'count(DISTINCT AP.nameAP)': 0}], [{u'count(DISTINCT AP.nameAP)': 0}], [{u'count(DISTINCT AP.nameAP)': 0}], [{u'count(DISTINCT AP.nameAP)': 0}], [{u'count(DISTINCT AP.nameAP)': 0}], [{u'count(DISTINCT AP.nameAP)': 0}], [{u'count(DISTINCT AP.nameAP)': 0}], [{u'count(DISTINCT AP.nameAP)': 0}], [{u'count(DISTINCT AP.nameAP)': 0}], [{u'count(DISTINCT AP.nameAP)': 0}], [{u'count(DISTINCT AP.nameAP)': 0}], [{u'count(DISTINCT AP.nameAP)': 0}], [{u'count(DISTINCT AP.nameAP)': 0}], [{u'count(DISTINCT AP.nameAP)': 0}], [{u'count(DISTINCT AP.nameAP)': 0}], [{u'count(DISTINCT AP.nameAP)': 0}], [{u'count(DISTINCT AP.nameAP)': 0}], [{u'count(DISTINCT AP.nameAP)': 0}], [{u'count(DISTINCT AP.nameAP)': 0}], [{u'count(DISTINCT AP.nameAP)': 0}], [{u'count(DISTINCT AP.nameAP)': 0}], [{u'count(DISTINCT AP.nameAP)': 0}], [{u'count(DISTINCT AP.nameAP)': 0}], [{u'count(DISTINCT AP.nameAP)': 0}], [{u'count(DISTINCT AP.nameAP)': 0}], [{u'count(DISTINCT AP.nameAP)': 0}], [{u'count(DISTINCT AP.nameAP)': 0}], [{u'count(DISTINCT AP.nameAP)': 0}], [{u'count(DISTINCT AP.nameAP)': 0}], [{u'count(DISTINCT AP.nameAP)': 0}], [{u'count(DISTINCT AP.nameAP)': 0}], [{u'count(DISTINCT AP.nameAP)': 0}], [{u'count(DISTINCT AP.nameAP)': 0}], [{u'count(DISTINCT AP.nameAP)': 0}], [{u'count(DISTINCT AP.nameAP)': 0}], [{u'count(DISTINCT AP.nameAP)': 0}], [{u'count(DISTINCT AP.nameAP)': 0}], [{u'count(DISTINCT AP.nameAP)': 0}], [{u'count(DISTINCT AP.nameAP)': 0}], [{u'count(DISTINCT AP.nameAP)': 0}], [{u'count(DISTINCT AP.nameAP)': 0}], [{u'count(DISTINCT AP.nameAP)': 0}], [{u'count(DISTINCT AP.nameAP)': 0}], [{u'count(DISTINCT AP.nameAP)': 0}], [{u'count(DISTINCT AP.nameAP)': 0}], [{u'count(DISTINCT AP.nameAP)': 0}], [{u'count(DISTINCT AP.nameAP)': 0}], [{u'count(DISTINCT AP.nameAP)': 0}], [{u'count(DISTINCT AP.nameAP)': 0}], [{u'count(DISTINCT AP.nameAP)': 0}], [{u'count(DISTINCT AP.nameAP)': 0}], [{u'count(DISTINCT AP.nameAP)': 0}], [{u'count(DISTINCT AP.nameAP)': 0}], [{u'count(DISTINCT AP.nameAP)': 0}], [{u'count(DISTINCT AP.nameAP)': 0}], [{u'count(DISTINCT AP.nameAP)': 0}], [{u'count(DISTINCT AP.nameAP)': 0}], [{u'count(DISTINCT AP.nameAP)': 0}], [{u'count(DISTINCT AP.nameAP)': 0}], [{u'count(DISTINCT AP.nameAP)': 0}], [{u'count(DISTINCT AP.nameAP)': 0}], [{u'count(DISTINCT AP.nameAP)': 0}], [{u'count(DISTINCT AP.nameAP)': 0}], [{u'count(DISTINCT AP.nameAP)': 0}], [{u'count(DISTINCT AP.nameAP)': 0}], [{u'count(DISTINCT AP.nameAP)': 0}], [{u'count(DISTINCT AP.nameAP)': 0}], [{u'count(DISTINCT AP.nameAP)': 0}], [{u'count(DISTINCT AP.nameAP)': 0}], [{u'count(DISTINCT AP.nameAP)': 0}], [{u'count(DISTINCT AP.nameAP)': 0}], [{u'count(DISTINCT AP.nameAP)': 0}], [{u'count(DISTINCT AP.nameAP)': 0}], [{u'count(DISTINCT AP.nameAP)': 0}], [{u'count(DISTINCT AP.nameAP)': 0}], [{u'count(DISTINCT AP.nameAP)': 0}], [{u'count(DISTINCT AP.nameAP)': 0}], [{u'count(DISTINCT AP.nameAP)': 0}], [{u'count(DISTINCT AP.nameAP)': 0}], [{u'count(DISTINCT AP.nameAP)': 0}], [{u'count(DISTINCT AP.nameAP)': 0}], [{u'count(DISTINCT AP.nameAP)': 0}], [{u'count(DISTINCT AP.nameAP)': 0}], [{u'count(DISTINCT AP.nameAP)': 0}], [{u'count(DISTINCT AP.nameAP)': 0}], [{u'count(DISTINCT AP.nameAP)': 0}], [{u'count(DISTINCT AP.nameAP)': 0}], [{u'count(DISTINCT AP.nameAP)': 0}], [{u'count(DISTINCT AP.nameAP)': 0}], [{u'count(DISTINCT AP.nameAP)': 0}], [{u'count(DISTINCT AP.nameAP)': 0}], [{u'count(DISTINCT AP.nameAP)': 0}], [{u'count(DISTINCT AP.nameAP)': 0}], [{u'count(DISTINCT AP.nameAP)': 0}], [{u'count(DISTINCT AP.nameAP)': 0}], [{u'count(DISTINCT AP.nameAP)': 0}], [{u'count(DISTINCT AP.nameAP)': 0}], [{u'count(DISTINCT AP.nameAP)': 0}], [{u'count(DISTINCT AP.nameAP)': 0}], [{u'count(DISTINCT AP.nameAP)': 0}], [{u'count(DISTINCT AP.nameAP)': 0}], [{u'count(DISTINCT AP.nameAP)': 0}], [{u'count(DISTINCT AP.nameAP)': 0}], [{u'count(DISTINCT AP.nameAP)': 0}], [{u'count(DISTINCT AP.nameAP)': 0}], [{u'count(DISTINCT AP.nameAP)': 0}], [{u'count(DISTINCT AP.nameAP)': 0}], [{u'count(DISTINCT AP.nameAP)': 0}], [{u'count(DISTINCT AP.nameAP)': 0}], [{u'count(DISTINCT AP.nameAP)': 0}], [{u'count(DISTINCT AP.nameAP)': 0}], [{u'count(DISTINCT AP.nameAP)': 0}], [{u'count(DISTINCT AP.nameAP)': 0}], [{u'count(DISTINCT AP.nameAP)': 0}], [{u'count(DISTINCT AP.nameAP)': 0}], [{u'count(DISTINCT AP.nameAP)': 0}], [{u'count(DISTINCT AP.nameAP)': 0}], [{u'count(DISTINCT AP.nameAP)': 0}], [{u'count(DISTINCT AP.nameAP)': 0}], [{u'count(DISTINCT AP.nameAP)': 0}], [{u'count(DISTINCT AP.nameAP)': 0}], [{u'count(DISTINCT AP.nameAP)': 0}], [{u'count(DISTINCT AP.nameAP)': 0}], [{u'count(DISTINCT AP.nameAP)': 0}], [{u'count(DISTINCT AP.nameAP)': 0}], [{u'count(DISTINCT AP.nameAP)': 0}], [{u'count(DISTINCT AP.nameAP)': 0}], [{u'count(DISTINCT AP.nameAP)': 0}], [{u'count(DISTINCT AP.nameAP)': 0}], [{u'count(DISTINCT AP.nameAP)': 0}], [{u'count(DISTINCT AP.nameAP)': 0}], [{u'count(DISTINCT AP.nameAP)': 0}], [{u'count(DISTINCT AP.nameAP)': 0}], [{u'count(DISTINCT AP.nameAP)': 0}], [{u'count(DISTINCT AP.nameAP)': 0}], [{u'count(DISTINCT AP.nameAP)': 0}], [{u'count(DISTINCT AP.nameAP)': 0}], [{u'count(DISTINCT AP.nameAP)': 0}], [{u'count(DISTINCT AP.nameAP)': 0}], [{u'count(DISTINCT AP.nameAP)': 0}], [{u'count(DISTINCT AP.nameAP)': 0}], [{u'count(DISTINCT AP.nameAP)': 0}], [{u'count(DISTINCT AP.nameAP)': 0}], [{u'count(DISTINCT AP.nameAP)': 0}], [{u'count(DISTINCT AP.nameAP)': 0}], [{u'count(DISTINCT AP.nameAP)': 0}], [{u'count(DISTINCT AP.nameAP)': 0}], [{u'count(DISTINCT AP.nameAP)': 0}], [{u'count(DISTINCT AP.nameAP)': 0}], [{u'count(DISTINCT AP.nameAP)': 0}], [{u'count(DISTINCT AP.nameAP)': 0}], [{u'count(DISTINCT AP.nameAP)': 0}], [{u'count(DISTINCT AP.nameAP)': 0}], [{u'count(DISTINCT AP.nameAP)': 0}], [{u'count(DISTINCT AP.nameAP)': 0}], [{u'count(DISTINCT AP.nameAP)': 0}], [{u'count(DISTINCT AP.nameAP)': 0}], [{u'count(DISTINCT AP.nameAP)': 0}], [{u'count(DISTINCT AP.nameAP)': 0}], [{u'count(DISTINCT AP.nameAP)': 0}], [{u'count(DISTINCT AP.nameAP)': 0}], [{u'count(DISTINCT AP.nameAP)': 0}], [{u'count(DISTINCT AP.nameAP)': 0}], [{u'count(DISTINCT AP.nameAP)': 0}], [{u'count(DISTINCT AP.nameAP)': 0}], [{u'count(DISTINCT AP.nameAP)': 0}], [{u'count(DISTINCT AP.nameAP)': 0}], [{u'count(DISTINCT AP.nameAP)': 0}], [{u'count(DISTINCT AP.nameAP)': 0}], [{u'count(DISTINCT AP.nameAP)': 0}], [{u'count(DISTINCT AP.nameAP)': 0}], [{u'count(DISTINCT AP.nameAP)': 0}], [{u'count(DISTINCT AP.nameAP)': 0}], [{u'count(DISTINCT AP.nameAP)': 0}], [{u'count(DISTINCT AP.nameAP)': 0}], [{u'count(DISTINCT AP.nameAP)': 0}], [{u'count(DISTINCT AP.nameAP)': 0}], [{u'count(DISTINCT AP.nameAP)': 0}], [{u'count(DISTINCT AP.nameAP)': 0}], [{u'count(DISTINCT AP.nameAP)': 0}], [{u'count(DISTINCT AP.nameAP)': 0}], [{u'count(DISTINCT AP.nameAP)': 0}], [{u'count(DISTINCT AP.nameAP)': 0}], [{u'count(DISTINCT AP.nameAP)': 0}], [{u'count(DISTINCT AP.nameAP)': 0}], [{u'count(DISTINCT AP.nameAP)': 0}], [{u'count(DISTINCT AP.nameAP)': 0}], [{u'count(DISTINCT AP.nameAP)': 0}], [{u'count(DISTINCT AP.nameAP)': 0}], [{u'count(DISTINCT AP.nameAP)': 0}], [{u'count(DISTINCT AP.nameAP)': 0}], [{u'count(DISTINCT AP.nameAP)': 0}], [{u'count(DISTINCT AP.nameAP)': 0}], [{u'count(DISTINCT AP.nameAP)': 0}], [{u'count(DISTINCT AP.nameAP)': 0}], [{u'count(DISTINCT AP.nameAP)': 0}], [{u'count(DISTINCT AP.nameAP)': 0}], [{u'count(DISTINCT AP.nameAP)': 0}], [{u'count(DISTINCT AP.nameAP)': 0}], [{u'count(DISTINCT AP.nameAP)': 0}], [{u'count(DISTINCT AP.nameAP)': 0}], [{u'count(DISTINCT AP.nameAP)': 0}], [{u'count(DISTINCT AP.nameAP)': 0}], [{u'count(DISTINCT AP.nameAP)': 0}], [{u'count(DISTINCT AP.nameAP)': 0}], [{u'count(DISTINCT AP.nameAP)': 0}], [{u'count(DISTINCT AP.nameAP)': 0}], [{u'count(DISTINCT AP.nameAP)': 0}], [{u'count(DISTINCT AP.nameAP)': 0}], [{u'count(DISTINCT AP.nameAP)': 0}], [{u'count(DISTINCT AP.nameAP)': 0}], [{u'count(DISTINCT AP.nameAP)': 0}], [{u'count(DISTINCT AP.nameAP)': 0}], [{u'count(DISTINCT AP.nameAP)': 0}], [{u'count(DISTINCT AP.nameAP)': 0}], [{u'count(DISTINCT AP.nameAP)': 0}], [{u'count(DISTINCT AP.nameAP)': 0}], [{u'count(DISTINCT AP.nameAP)': 0}], [{u'count(DISTINCT AP.nameAP)': 0}], [{u'count(DISTINCT AP.nameAP)': 0}], [{u'count(DISTINCT AP.nameAP)': 0}], [{u'count(DISTINCT AP.nameAP)': 0}], [{u'count(DISTINCT AP.nameAP)': 0}], [{u'count(DISTINCT AP.nameAP)': 0}], [{u'count(DISTINCT AP.nameAP)': 0}], [{u'count(DISTINCT AP.nameAP)': 0}], [{u'count(DISTINCT AP.nameAP)': 0}], [{u'count(DISTINCT AP.nameAP)': 0}], [{u'count(DISTINCT AP.nameAP)': 0}], [{u'count(DISTINCT AP.nameAP)': 0}], [{u'count(DISTINCT AP.nameAP)': 0}], [{u'count(DISTINCT AP.nameAP)': 0}], [{u'count(DISTINCT AP.nameAP)': 0}], [{u'count(DISTINCT AP.nameAP)': 0}], [{u'count(DISTINCT AP.nameAP)': 0}], [{u'count(DISTINCT AP.nameAP)': 0}], [{u'count(DISTINCT AP.nameAP)': 0}], [{u'count(DISTINCT AP.nameAP)': 0}], [{u'count(DISTINCT AP.nameAP)': 0}], [{u'count(DISTINCT AP.nameAP)': 0}], [{u'count(DISTINCT AP.nameAP)': 0}], [{u'count(DISTINCT AP.nameAP)': 0}], [{u'count(DISTINCT AP.nameAP)': 0}], [{u'count(DISTINCT AP.nameAP)': 0}], [{u'count(DISTINCT AP.nameAP)': 0}], [{u'count(DISTINCT AP.nameAP)': 0}], [{u'count(DISTINCT AP.nameAP)': 0}], [{u'count(DISTINCT AP.nameAP)': 0}], [{u'count(DISTINCT AP.nameAP)': 0}], [{u'count(DISTINCT AP.nameAP)': 0}], [{u'count(DISTINCT AP.nameAP)': 0}], [{u'count(DISTINCT AP.nameAP)': 0}], [{u'count(DISTINCT AP.nameAP)': 0}], [{u'count(DISTINCT AP.nameAP)': 0}], [{u'count(DISTINCT AP.nameAP)': 0}], [{u'count(DISTINCT AP.nameAP)': 0}], [{u'count(DISTINCT AP.nameAP)': 0}], [{u'count(DISTINCT AP.nameAP)': 0}], [{u'count(DISTINCT AP.nameAP)': 0}], [{u'count(DISTINCT AP.nameAP)': 0}], [{u'count(DISTINCT AP.nameAP)': 0}], [{u'count(DISTINCT AP.nameAP)': 0}], [{u'count(DISTINCT AP.nameAP)': 0}], [{u'count(DISTINCT AP.nameAP)': 0}], [{u'count(DISTINCT AP.nameAP)': 0}], [{u'count(DISTINCT AP.nameAP)': 0}], [{u'count(DISTINCT AP.nameAP)': 0}], [{u'count(DISTINCT AP.nameAP)': 0}], [{u'count(DISTINCT AP.nameAP)': 0}], [{u'count(DISTINCT AP.nameAP)': 0}], [{u'count(DISTINCT AP.nameAP)': 0}], [{u'count(DISTINCT AP.nameAP)': 0}], [{u'count(DISTINCT AP.nameAP)': 0}], [{u'count(DISTINCT AP.nameAP)': 0}], [{u'count(DISTINCT AP.nameAP)': 0}], [{u'count(DISTINCT AP.nameAP)': 0}], [{u'count(DISTINCT AP.nameAP)': 0}], [{u'count(DISTINCT AP.nameAP)': 0}], [{u'count(DISTINCT AP.nameAP)': 0}], [{u'count(DISTINCT AP.nameAP)': 0}], [{u'count(DISTINCT AP.nameAP)': 0}], [{u'count(DISTINCT AP.nameAP)': 0}], [{u'count(DISTINCT AP.nameAP)': 0}], [{u'count(DISTINCT AP.nameAP)': 0}], [{u'count(DISTINCT AP.nameAP)': 0}], [{u'count(DISTINCT AP.nameAP)': 0}], [{u'count(DISTINCT AP.nameAP)': 0}], [{u'count(DISTINCT AP.nameAP)': 0}], [{u'count(DISTINCT AP.nameAP)': 0}], [{u'count(DISTINCT AP.nameAP)': 0}], [{u'count(DISTINCT AP.nameAP)': 0}], [{u'count(DISTINCT AP.nameAP)': 0}], [{u'count(DISTINCT AP.nameAP)': 0}], [{u'count(DISTINCT AP.nameAP)': 0}], [{u'count(DISTINCT AP.nameAP)': 0}], [{u'count(DISTINCT AP.nameAP)': 0}], [{u'count(DISTINCT AP.nameAP)': 0}], [{u'count(DISTINCT AP.nameAP)': 0}], [{u'count(DISTINCT AP.nameAP)': 0}], [{u'count(DISTINCT AP.nameAP)': 0}], [{u'count(DISTINCT AP.nameAP)': 0}], [{u'count(DISTINCT AP.nameAP)': 0}], [{u'count(DISTINCT AP.nameAP)': 0}], [{u'count(DISTINCT AP.nameAP)': 0}], [{u'count(DISTINCT AP.nameAP)': 0}], [{u'count(DISTINCT AP.nameAP)': 0}], [{u'count(DISTINCT AP.nameAP)': 0}], [{u'count(DISTINCT AP.nameAP)': 0}], [{u'count(DISTINCT AP.nameAP)': 0}], [{u'count(DISTINCT AP.nameAP)': 0}], [{u'count(DISTINCT AP.nameAP)': 0}], [{u'count(DISTINCT AP.nameAP)': 0}], [{u'count(DISTINCT AP.nameAP)': 0}], [{u'count(DISTINCT AP.nameAP)': 0}], [{u'count(DISTINCT AP.nameAP)': 0}], [{u'count(DISTINCT AP.nameAP)': 0}], [{u'count(DISTINCT AP.nameAP)': 0}], [{u'count(DISTINCT AP.nameAP)': 0}], [{u'count(DISTINCT AP.nameAP)': 0}], [{u'count(DISTINCT AP.nameAP)': 0}], [{u'count(DISTINCT AP.nameAP)': 0}], [{u'count(DISTINCT AP.nameAP)': 0}], [{u'count(DISTINCT AP.nameAP)': 0}], [{u'count(DISTINCT AP.nameAP)': 0}], [{u'count(DISTINCT AP.nameAP)': 0}], [{u'count(DISTINCT AP.nameAP)': 0}], [{u'count(DISTINCT AP.nameAP)': 0}], [{u'count(DISTINCT AP.nameAP)': 0}], [{u'count(DISTINCT AP.nameAP)': 0}], [{u'count(DISTINCT AP.nameAP)': 0}], [{u'count(DISTINCT AP.nameAP)': 0}], [{u'count(DISTINCT AP.nameAP)': 0}], [{u'count(DISTINCT AP.nameAP)': 0}], [{u'count(DISTINCT AP.nameAP)': 0}], [{u'count(DISTINCT AP.nameAP)': 0}], [{u'count(DISTINCT AP.nameAP)': 0}], [{u'count(DISTINCT AP.nameAP)': 0}], [{u'count(DISTINCT AP.nameAP)': 0}], [{u'count(DISTINCT AP.nameAP)': 0}], [{u'count(DISTINCT AP.nameAP)': 0}], [{u'count(DISTINCT AP.nameAP)': 0}], [{u'count(DISTINCT AP.nameAP)': 0}], [{u'count(DISTINCT AP.nameAP)': 0}], [{u'count(DISTINCT AP.nameAP)': 0}], [{u'count(DISTINCT AP.nameAP)': 0}], [{u'count(DISTINCT AP.nameAP)': 0}], [{u'count(DISTINCT AP.nameAP)': 0}], [{u'count(DISTINCT AP.nameAP)': 0}], [{u'count(DISTINCT AP.nameAP)': 0}], [{u'count(DISTINCT AP.nameAP)': 0}], [{u'count(DISTINCT AP.nameAP)': 0}], [{u'count(DISTINCT AP.nameAP)': 0}], [{u'count(DISTINCT AP.nameAP)': 0}], [{u'count(DISTINCT AP.nameAP)': 0}], [{u'count(DISTINCT AP.nameAP)': 0}], [{u'count(DISTINCT AP.nameAP)': 0}], [{u'count(DISTINCT AP.nameAP)': 0}], [{u'count(DISTINCT AP.nameAP)': 0}], [{u'count(DISTINCT AP.nameAP)': 0}], [{u'count(DISTINCT AP.nameAP)': 0}], [{u'count(DISTINCT AP.nameAP)': 0}], [{u'count(DISTINCT AP.nameAP)': 0}], [{u'count(DISTINCT AP.nameAP)': 0}], [{u'count(DISTINCT AP.nameAP)': 0}], [{u'count(DISTINCT AP.nameAP)': 0}], [{u'count(DISTINCT AP.nameAP)': 0}], [{u'count(DISTINCT AP.nameAP)': 0}], [{u'count(DISTINCT AP.nameAP)': 0}], [{u'count(DISTINCT AP.nameAP)': 0}], [{u'count(DISTINCT AP.nameAP)': 0}], [{u'count(DISTINCT AP.nameAP)': 0}], [{u'count(DISTINCT AP.nameAP)': 0}], [{u'count(DISTINCT AP.nameAP)': 0}], [{u'count(DISTINCT AP.nameAP)': 0}], [{u'count(DISTINCT AP.nameAP)': 0}], [{u'count(DISTINCT AP.nameAP)': 0}], [{u'count(DISTINCT AP.nameAP)': 0}], [{u'count(DISTINCT AP.nameAP)': 0}], [{u'count(DISTINCT AP.nameAP)': 0}], [{u'count(DISTINCT AP.nameAP)': 0}], [{u'count(DISTINCT AP.nameAP)': 0}], [{u'count(DISTINCT AP.nameAP)': 0}], [{u'count(DISTINCT AP.nameAP)': 0}], [{u'count(DISTINCT AP.nameAP)': 0}], [{u'count(DISTINCT AP.nameAP)': 0}], [{u'count(DISTINCT AP.nameAP)': 0}], [{u'count(DISTINCT AP.nameAP)': 0}], [{u'count(DISTINCT AP.nameAP)': 0}], [{u'count(DISTINCT AP.nameAP)': 0}], [{u'count(DISTINCT AP.nameAP)': 0}], [{u'count(DISTINCT AP.nameAP)': 0}], [{u'count(DISTINCT AP.nameAP)': 0}], [{u'count(DISTINCT AP.nameAP)': 0}], [{u'count(DISTINCT AP.nameAP)': 0}], [{u'count(DISTINCT AP.nameAP)': 0}], [{u'count(DISTINCT AP.nameAP)': 0}], [{u'count(DISTINCT AP.nameAP)': 0}], [{u'count(DISTINCT AP.nameAP)': 0}], [{u'count(DISTINCT AP.nameAP)': 0}], [{u'count(DISTINCT AP.nameAP)': 0}], [{u'count(DISTINCT AP.nameAP)': 0}], [{u'count(DISTINCT AP.nameAP)': 0}], [{u'count(DISTINCT AP.nameAP)': 0}], [{u'count(DISTINCT AP.nameAP)': 0}], [{u'count(DISTINCT AP.nameAP)': 0}], [{u'count(DISTINCT AP.nameAP)': 0}], [{u'count(DISTINCT AP.nameAP)': 0}], [{u'count(DISTINCT AP.nameAP)': 0}], [{u'count(DISTINCT AP.nameAP)': 0}], [{u'count(DISTINCT AP.nameAP)': 0}], [{u'count(DISTINCT AP.nameAP)': 0}], [{u'count(DISTINCT AP.nameAP)': 0}], [{u'count(DISTINCT AP.nameAP)': 0}], [{u'count(DISTINCT AP.nameAP)': 0}], [{u'count(DISTINCT AP.nameAP)': 0}], [{u'count(DISTINCT AP.nameAP)': 0}], [{u'count(DISTINCT AP.nameAP)': 0}], [{u'count(DISTINCT AP.nameAP)': 0}], [{u'count(DISTINCT AP.nameAP)': 0}], [{u'count(DISTINCT AP.nameAP)': 0}], [{u'count(DISTINCT AP.nameAP)': 0}], [{u'count(DISTINCT AP.nameAP)': 0}], [{u'count(DISTINCT AP.nameAP)': 0}], [{u'count(DISTINCT AP.nameAP)': 0}], [{u'count(DISTINCT AP.nameAP)': 0}], [{u'count(DISTINCT AP.nameAP)': 0}], [{u'count(DISTINCT AP.nameAP)': 0}], [{u'count(DISTINCT AP.nameAP)': 0}], [{u'count(DISTINCT AP.nameAP)': 0}], [{u'count(DISTINCT AP.nameAP)': 0}], [{u'count(DISTINCT AP.nameAP)': 0}], [{u'count(DISTINCT AP.nameAP)': 0}], [{u'count(DISTINCT AP.nameAP)': 0}], [{u'count(DISTINCT AP.nameAP)': 0}], [{u'count(DISTINCT AP.nameAP)': 0}], [{u'count(DISTINCT AP.nameAP)': 0}], [{u'count(DISTINCT AP.nameAP)': 0}], [{u'count(DISTINCT AP.nameAP)': 0}], [{u'count(DISTINCT AP.nameAP)': 0}], [{u'count(DISTINCT AP.nameAP)': 0}], [{u'count(DISTINCT AP.nameAP)': 0}], [{u'count(DISTINCT AP.nameAP)': 0}], [{u'count(DISTINCT AP.nameAP)': 0}], [{u'count(DISTINCT AP.nameAP)': 0}], [{u'count(DISTINCT AP.nameAP)': 0}], [{u'count(DISTINCT AP.nameAP)': 0}], [{u'count(DISTINCT AP.nameAP)': 0}], [{u'count(DISTINCT AP.nameAP)': 0}], [{u'count(DISTINCT AP.nameAP)': 0}], [{u'count(DISTINCT AP.nameAP)': 0}], [{u'count(DISTINCT AP.nameAP)': 0}], [{u'count(DISTINCT AP.nameAP)': 0}], [{u'count(DISTINCT AP.nameAP)': 0}], [{u'count(DISTINCT AP.nameAP)': 0}], [{u'count(DISTINCT AP.nameAP)': 0}], [{u'count(DISTINCT AP.nameAP)': 0}], [{u'count(DISTINCT AP.nameAP)': 0}], [{u'count(DISTINCT AP.nameAP)': 0}], [{u'count(DISTINCT AP.nameAP)': 0}], [{u'count(DISTINCT AP.nameAP)': 0}], [{u'count(DISTINCT AP.nameAP)': 0}], [{u'count(DISTINCT AP.nameAP)': 0}], [{u'count(DISTINCT AP.nameAP)': 0}], [{u'count(DISTINCT AP.nameAP)': 0}], [{u'count(DISTINCT AP.nameAP)': 0}], [{u'count(DISTINCT AP.nameAP)': 0}], [{u'count(DISTINCT AP.nameAP)': 0}], [{u'count(DISTINCT AP.nameAP)': 0}], [{u'count(DISTINCT AP.nameAP)': 0}], [{u'count(DISTINCT AP.nameAP)': 0}], [{u'count(DISTINCT AP.nameAP)': 0}], [{u'count(DISTINCT AP.nameAP)': 0}], [{u'count(DISTINCT AP.nameAP)': 0}], [{u'count(DISTINCT AP.nameAP)': 0}], [{u'count(DISTINCT AP.nameAP)': 0}], [{u'count(DISTINCT AP.nameAP)': 0}], [{u'count(DISTINCT AP.nameAP)': 0}]]\n",
      "[{u'count(DISTINCT AP.nameAP)': 19}, {u'count(DISTINCT AP.nameAP)': 8}, {u'count(DISTINCT AP.nameAP)': 2}, {u'count(DISTINCT AP.nameAP)': 10}, {u'count(DISTINCT AP.nameAP)': 6}, {u'count(DISTINCT AP.nameAP)': 4}, {u'count(DISTINCT AP.nameAP)': 25}, {u'count(DISTINCT AP.nameAP)': 107}, {u'count(DISTINCT AP.nameAP)': 106}, {u'count(DISTINCT AP.nameAP)': 155}, {u'count(DISTINCT AP.nameAP)': 3}, {u'count(DISTINCT AP.nameAP)': 2}, {u'count(DISTINCT AP.nameAP)': 23}, {u'count(DISTINCT AP.nameAP)': 23}, {u'count(DISTINCT AP.nameAP)': 11}, {u'count(DISTINCT AP.nameAP)': 5}, {u'count(DISTINCT AP.nameAP)': 1}, {u'count(DISTINCT AP.nameAP)': 9}, {u'count(DISTINCT AP.nameAP)': 27}, {u'count(DISTINCT AP.nameAP)': 3}, {u'count(DISTINCT AP.nameAP)': 20}, {u'count(DISTINCT AP.nameAP)': 7}, {u'count(DISTINCT AP.nameAP)': 8}, {u'count(DISTINCT AP.nameAP)': 78}, {u'count(DISTINCT AP.nameAP)': 10}, {u'count(DISTINCT AP.nameAP)': 8}, {u'count(DISTINCT AP.nameAP)': 12}, {u'count(DISTINCT AP.nameAP)': 7}, {u'count(DISTINCT AP.nameAP)': 34}, {u'count(DISTINCT AP.nameAP)': 4}, {u'count(DISTINCT AP.nameAP)': 59}, {u'count(DISTINCT AP.nameAP)': 21}, {u'count(DISTINCT AP.nameAP)': 66}, {u'count(DISTINCT AP.nameAP)': 45}, {u'count(DISTINCT AP.nameAP)': 77}, {u'count(DISTINCT AP.nameAP)': 5}, {u'count(DISTINCT AP.nameAP)': 11}, {u'count(DISTINCT AP.nameAP)': 31}, {u'count(DISTINCT AP.nameAP)': 81}, {u'count(DISTINCT AP.nameAP)': 3}, {u'count(DISTINCT AP.nameAP)': 6}, {u'count(DISTINCT AP.nameAP)': 1}, {u'count(DISTINCT AP.nameAP)': 5}, {u'count(DISTINCT AP.nameAP)': 2}, {u'count(DISTINCT AP.nameAP)': 14}, {u'count(DISTINCT AP.nameAP)': 1}, {u'count(DISTINCT AP.nameAP)': 20}, {u'count(DISTINCT AP.nameAP)': 54}, {u'count(DISTINCT AP.nameAP)': 3}, {u'count(DISTINCT AP.nameAP)': 2}, {u'count(DISTINCT AP.nameAP)': 5}, {u'count(DISTINCT AP.nameAP)': 29}, {u'count(DISTINCT AP.nameAP)': 39}, {u'count(DISTINCT AP.nameAP)': 26}, {u'count(DISTINCT AP.nameAP)': 8}, {u'count(DISTINCT AP.nameAP)': 4}, {u'count(DISTINCT AP.nameAP)': 8}, {u'count(DISTINCT AP.nameAP)': 30}, {u'count(DISTINCT AP.nameAP)': 9}, {u'count(DISTINCT AP.nameAP)': 2}, {u'count(DISTINCT AP.nameAP)': 129}, {u'count(DISTINCT AP.nameAP)': 3}, {u'count(DISTINCT AP.nameAP)': 4}, {u'count(DISTINCT AP.nameAP)': 11}, {u'count(DISTINCT AP.nameAP)': 6}, {u'count(DISTINCT AP.nameAP)': 66}, {u'count(DISTINCT AP.nameAP)': 2}, {u'count(DISTINCT AP.nameAP)': 32}, {u'count(DISTINCT AP.nameAP)': 10}, {u'count(DISTINCT AP.nameAP)': 4}, {u'count(DISTINCT AP.nameAP)': 11}, {u'count(DISTINCT AP.nameAP)': 10}, {u'count(DISTINCT AP.nameAP)': 39}, {u'count(DISTINCT AP.nameAP)': 52}, {u'count(DISTINCT AP.nameAP)': 9}, {u'count(DISTINCT AP.nameAP)': 7}, {u'count(DISTINCT AP.nameAP)': 2}, {u'count(DISTINCT AP.nameAP)': 52}, {u'count(DISTINCT AP.nameAP)': 2}, {u'count(DISTINCT AP.nameAP)': 80}, {u'count(DISTINCT AP.nameAP)': 18}, {u'count(DISTINCT AP.nameAP)': 4}, {u'count(DISTINCT AP.nameAP)': 37}, {u'count(DISTINCT AP.nameAP)': 1}, {u'count(DISTINCT AP.nameAP)': 5}, {u'count(DISTINCT AP.nameAP)': 4}, {u'count(DISTINCT AP.nameAP)': 7}, {u'count(DISTINCT AP.nameAP)': 3}, {u'count(DISTINCT AP.nameAP)': 74}, {u'count(DISTINCT AP.nameAP)': 6}, {u'count(DISTINCT AP.nameAP)': 1}, {u'count(DISTINCT AP.nameAP)': 1}, {u'count(DISTINCT AP.nameAP)': 17}, {u'count(DISTINCT AP.nameAP)': 9}, {u'count(DISTINCT AP.nameAP)': 5}, {u'count(DISTINCT AP.nameAP)': 8}, {u'count(DISTINCT AP.nameAP)': 40}, {u'count(DISTINCT AP.nameAP)': 100}, {u'count(DISTINCT AP.nameAP)': 2}, {u'count(DISTINCT AP.nameAP)': 4}, {u'count(DISTINCT AP.nameAP)': 6}, {u'count(DISTINCT AP.nameAP)': 7}, {u'count(DISTINCT AP.nameAP)': 5}, {u'count(DISTINCT AP.nameAP)': 4}, {u'count(DISTINCT AP.nameAP)': 37}, {u'count(DISTINCT AP.nameAP)': 7}, {u'count(DISTINCT AP.nameAP)': 6}, {u'count(DISTINCT AP.nameAP)': 1}, {u'count(DISTINCT AP.nameAP)': 10}, {u'count(DISTINCT AP.nameAP)': 4}, {u'count(DISTINCT AP.nameAP)': 1}, {u'count(DISTINCT AP.nameAP)': 5}, {u'count(DISTINCT AP.nameAP)': 3}, {u'count(DISTINCT AP.nameAP)': 5}, {u'count(DISTINCT AP.nameAP)': 2}, {u'count(DISTINCT AP.nameAP)': 46}, {u'count(DISTINCT AP.nameAP)': 4}, {u'count(DISTINCT AP.nameAP)': 8}, {u'count(DISTINCT AP.nameAP)': 2}, {u'count(DISTINCT AP.nameAP)': 4}, {u'count(DISTINCT AP.nameAP)': 12}, {u'count(DISTINCT AP.nameAP)': 4}, {u'count(DISTINCT AP.nameAP)': 2}, {u'count(DISTINCT AP.nameAP)': 10}, {u'count(DISTINCT AP.nameAP)': 14}, {u'count(DISTINCT AP.nameAP)': 15}, {u'count(DISTINCT AP.nameAP)': 2}, {u'count(DISTINCT AP.nameAP)': 6}, {u'count(DISTINCT AP.nameAP)': 32}, {u'count(DISTINCT AP.nameAP)': 3}, {u'count(DISTINCT AP.nameAP)': 3}, {u'count(DISTINCT AP.nameAP)': 1}, {u'count(DISTINCT AP.nameAP)': 6}, {u'count(DISTINCT AP.nameAP)': 5}, {u'count(DISTINCT AP.nameAP)': 8}, {u'count(DISTINCT AP.nameAP)': 3}, {u'count(DISTINCT AP.nameAP)': 44}, {u'count(DISTINCT AP.nameAP)': 59}, {u'count(DISTINCT AP.nameAP)': 15}, {u'count(DISTINCT AP.nameAP)': 25}, {u'count(DISTINCT AP.nameAP)': 11}, {u'count(DISTINCT AP.nameAP)': 8}, {u'count(DISTINCT AP.nameAP)': 16}, {u'count(DISTINCT AP.nameAP)': 24}, {u'count(DISTINCT AP.nameAP)': 14}, {u'count(DISTINCT AP.nameAP)': 13}, {u'count(DISTINCT AP.nameAP)': 29}, {u'count(DISTINCT AP.nameAP)': 18}, {u'count(DISTINCT AP.nameAP)': 17}, {u'count(DISTINCT AP.nameAP)': 31}, {u'count(DISTINCT AP.nameAP)': 7}, {u'count(DISTINCT AP.nameAP)': 2}, {u'count(DISTINCT AP.nameAP)': 21}, {u'count(DISTINCT AP.nameAP)': 2}, {u'count(DISTINCT AP.nameAP)': 25}, {u'count(DISTINCT AP.nameAP)': 10}, {u'count(DISTINCT AP.nameAP)': 62}, {u'count(DISTINCT AP.nameAP)': 9}, {u'count(DISTINCT AP.nameAP)': 16}, {u'count(DISTINCT AP.nameAP)': 1}, {u'count(DISTINCT AP.nameAP)': 16}, {u'count(DISTINCT AP.nameAP)': 12}, {u'count(DISTINCT AP.nameAP)': 2}, {u'count(DISTINCT AP.nameAP)': 9}, {u'count(DISTINCT AP.nameAP)': 25}, {u'count(DISTINCT AP.nameAP)': 37}, {u'count(DISTINCT AP.nameAP)': 21}, {u'count(DISTINCT AP.nameAP)': 46}, {u'count(DISTINCT AP.nameAP)': 3}, {u'count(DISTINCT AP.nameAP)': 1}, {u'count(DISTINCT AP.nameAP)': 9}, {u'count(DISTINCT AP.nameAP)': 44}, {u'count(DISTINCT AP.nameAP)': 7}, {u'count(DISTINCT AP.nameAP)': 2}, {u'count(DISTINCT AP.nameAP)': 6}, {u'count(DISTINCT AP.nameAP)': 9}, {u'count(DISTINCT AP.nameAP)': 13}, {u'count(DISTINCT AP.nameAP)': 17}, {u'count(DISTINCT AP.nameAP)': 46}, {u'count(DISTINCT AP.nameAP)': 1}, {u'count(DISTINCT AP.nameAP)': 35}, {u'count(DISTINCT AP.nameAP)': 5}, {u'count(DISTINCT AP.nameAP)': 24}, {u'count(DISTINCT AP.nameAP)': 6}, {u'count(DISTINCT AP.nameAP)': 16}, {u'count(DISTINCT AP.nameAP)': 18}, {u'count(DISTINCT AP.nameAP)': 20}, {u'count(DISTINCT AP.nameAP)': 12}, {u'count(DISTINCT AP.nameAP)': 1}, {u'count(DISTINCT AP.nameAP)': 36}, {u'count(DISTINCT AP.nameAP)': 13}, {u'count(DISTINCT AP.nameAP)': 7}, {u'count(DISTINCT AP.nameAP)': 10}, {u'count(DISTINCT AP.nameAP)': 2}, {u'count(DISTINCT AP.nameAP)': 16}, {u'count(DISTINCT AP.nameAP)': 3}, {u'count(DISTINCT AP.nameAP)': 22}, {u'count(DISTINCT AP.nameAP)': 8}, {u'count(DISTINCT AP.nameAP)': 4}, {u'count(DISTINCT AP.nameAP)': 9}, {u'count(DISTINCT AP.nameAP)': 21}, {u'count(DISTINCT AP.nameAP)': 1}, {u'count(DISTINCT AP.nameAP)': 5}, {u'count(DISTINCT AP.nameAP)': 10}, {u'count(DISTINCT AP.nameAP)': 2}, {u'count(DISTINCT AP.nameAP)': 13}, {u'count(DISTINCT AP.nameAP)': 20}, {u'count(DISTINCT AP.nameAP)': 7}, {u'count(DISTINCT AP.nameAP)': 7}, {u'count(DISTINCT AP.nameAP)': 8}, {u'count(DISTINCT AP.nameAP)': 1}, {u'count(DISTINCT AP.nameAP)': 28}, {u'count(DISTINCT AP.nameAP)': 3}, {u'count(DISTINCT AP.nameAP)': 14}, {u'count(DISTINCT AP.nameAP)': 12}, {u'count(DISTINCT AP.nameAP)': 2}, {u'count(DISTINCT AP.nameAP)': 13}, {u'count(DISTINCT AP.nameAP)': 8}, {u'count(DISTINCT AP.nameAP)': 2}, {u'count(DISTINCT AP.nameAP)': 5}, {u'count(DISTINCT AP.nameAP)': 1}, {u'count(DISTINCT AP.nameAP)': 3}, {u'count(DISTINCT AP.nameAP)': 10}, {u'count(DISTINCT AP.nameAP)': 7}, {u'count(DISTINCT AP.nameAP)': 7}, {u'count(DISTINCT AP.nameAP)': 10}, {u'count(DISTINCT AP.nameAP)': 2}, {u'count(DISTINCT AP.nameAP)': 1}, {u'count(DISTINCT AP.nameAP)': 14}, {u'count(DISTINCT AP.nameAP)': 15}, {u'count(DISTINCT AP.nameAP)': 44}, {u'count(DISTINCT AP.nameAP)': 25}, {u'count(DISTINCT AP.nameAP)': 13}, {u'count(DISTINCT AP.nameAP)': 1}, {u'count(DISTINCT AP.nameAP)': 8}, {u'count(DISTINCT AP.nameAP)': 5}, {u'count(DISTINCT AP.nameAP)': 30}, {u'count(DISTINCT AP.nameAP)': 2}, {u'count(DISTINCT AP.nameAP)': 22}, {u'count(DISTINCT AP.nameAP)': 4}, {u'count(DISTINCT AP.nameAP)': 2}, {u'count(DISTINCT AP.nameAP)': 6}, {u'count(DISTINCT AP.nameAP)': 9}, {u'count(DISTINCT AP.nameAP)': 28}, {u'count(DISTINCT AP.nameAP)': 16}, {u'count(DISTINCT AP.nameAP)': 3}, {u'count(DISTINCT AP.nameAP)': 2}, {u'count(DISTINCT AP.nameAP)': 50}, {u'count(DISTINCT AP.nameAP)': 16}, {u'count(DISTINCT AP.nameAP)': 9}, {u'count(DISTINCT AP.nameAP)': 7}, {u'count(DISTINCT AP.nameAP)': 1}, {u'count(DISTINCT AP.nameAP)': 12}, {u'count(DISTINCT AP.nameAP)': 1}, {u'count(DISTINCT AP.nameAP)': 2}, {u'count(DISTINCT AP.nameAP)': 9}, {u'count(DISTINCT AP.nameAP)': 14}, {u'count(DISTINCT AP.nameAP)': 13}, {u'count(DISTINCT AP.nameAP)': 15}, {u'count(DISTINCT AP.nameAP)': 2}, {u'count(DISTINCT AP.nameAP)': 4}, {u'count(DISTINCT AP.nameAP)': 3}, {u'count(DISTINCT AP.nameAP)': 21}, {u'count(DISTINCT AP.nameAP)': 1}, {u'count(DISTINCT AP.nameAP)': 68}, {u'count(DISTINCT AP.nameAP)': 15}, {u'count(DISTINCT AP.nameAP)': 18}, {u'count(DISTINCT AP.nameAP)': 37}, {u'count(DISTINCT AP.nameAP)': 6}, {u'count(DISTINCT AP.nameAP)': 1}, {u'count(DISTINCT AP.nameAP)': 4}, {u'count(DISTINCT AP.nameAP)': 3}, {u'count(DISTINCT AP.nameAP)': 5}, {u'count(DISTINCT AP.nameAP)': 21}, {u'count(DISTINCT AP.nameAP)': 12}, {u'count(DISTINCT AP.nameAP)': 2}, {u'count(DISTINCT AP.nameAP)': 1}, {u'count(DISTINCT AP.nameAP)': 13}, {u'count(DISTINCT AP.nameAP)': 44}, {u'count(DISTINCT AP.nameAP)': 12}, {u'count(DISTINCT AP.nameAP)': 5}, {u'count(DISTINCT AP.nameAP)': 2}, {u'count(DISTINCT AP.nameAP)': 7}, {u'count(DISTINCT AP.nameAP)': 3}, {u'count(DISTINCT AP.nameAP)': 20}, {u'count(DISTINCT AP.nameAP)': 2}, {u'count(DISTINCT AP.nameAP)': 22}, {u'count(DISTINCT AP.nameAP)': 3}, {u'count(DISTINCT AP.nameAP)': 34}, {u'count(DISTINCT AP.nameAP)': 9}, {u'count(DISTINCT AP.nameAP)': 24}, {u'count(DISTINCT AP.nameAP)': 3}, {u'count(DISTINCT AP.nameAP)': 11}, {u'count(DISTINCT AP.nameAP)': 11}, {u'count(DISTINCT AP.nameAP)': 32}, {u'count(DISTINCT AP.nameAP)': 2}, {u'count(DISTINCT AP.nameAP)': 20}, {u'count(DISTINCT AP.nameAP)': 31}, {u'count(DISTINCT AP.nameAP)': 9}, {u'count(DISTINCT AP.nameAP)': 2}, {u'count(DISTINCT AP.nameAP)': 15}, {u'count(DISTINCT AP.nameAP)': 1}, {u'count(DISTINCT AP.nameAP)': 7}, {u'count(DISTINCT AP.nameAP)': 16}, {u'count(DISTINCT AP.nameAP)': 16}, {u'count(DISTINCT AP.nameAP)': 1}, {u'count(DISTINCT AP.nameAP)': 18}, {u'count(DISTINCT AP.nameAP)': 4}, {u'count(DISTINCT AP.nameAP)': 11}, {u'count(DISTINCT AP.nameAP)': 3}, {u'count(DISTINCT AP.nameAP)': 5}, {u'count(DISTINCT AP.nameAP)': 6}, {u'count(DISTINCT AP.nameAP)': 5}, {u'count(DISTINCT AP.nameAP)': 24}, {u'count(DISTINCT AP.nameAP)': 8}, {u'count(DISTINCT AP.nameAP)': 4}, {u'count(DISTINCT AP.nameAP)': 79}, {u'count(DISTINCT AP.nameAP)': 6}, {u'count(DISTINCT AP.nameAP)': 5}, {u'count(DISTINCT AP.nameAP)': 11}, {u'count(DISTINCT AP.nameAP)': 4}, {u'count(DISTINCT AP.nameAP)': 5}, {u'count(DISTINCT AP.nameAP)': 8}, {u'count(DISTINCT AP.nameAP)': 5}, {u'count(DISTINCT AP.nameAP)': 3}, {u'count(DISTINCT AP.nameAP)': 3}, {u'count(DISTINCT AP.nameAP)': 21}, {u'count(DISTINCT AP.nameAP)': 1}, {u'count(DISTINCT AP.nameAP)': 3}, {u'count(DISTINCT AP.nameAP)': 1}, {u'count(DISTINCT AP.nameAP)': 19}, {u'count(DISTINCT AP.nameAP)': 5}, {u'count(DISTINCT AP.nameAP)': 8}, {u'count(DISTINCT AP.nameAP)': 7}, {u'count(DISTINCT AP.nameAP)': 6}, {u'count(DISTINCT AP.nameAP)': 6}, {u'count(DISTINCT AP.nameAP)': 4}, {u'count(DISTINCT AP.nameAP)': 4}, {u'count(DISTINCT AP.nameAP)': 1}, {u'count(DISTINCT AP.nameAP)': 18}, {u'count(DISTINCT AP.nameAP)': 32}, {u'count(DISTINCT AP.nameAP)': 15}, {u'count(DISTINCT AP.nameAP)': 1}, {u'count(DISTINCT AP.nameAP)': 9}, {u'count(DISTINCT AP.nameAP)': 2}, {u'count(DISTINCT AP.nameAP)': 3}, {u'count(DISTINCT AP.nameAP)': 1}, {u'count(DISTINCT AP.nameAP)': 3}, {u'count(DISTINCT AP.nameAP)': 8}, {u'count(DISTINCT AP.nameAP)': 6}, {u'count(DISTINCT AP.nameAP)': 5}, {u'count(DISTINCT AP.nameAP)': 5}, {u'count(DISTINCT AP.nameAP)': 4}, {u'count(DISTINCT AP.nameAP)': 1}, {u'count(DISTINCT AP.nameAP)': 4}, {u'count(DISTINCT AP.nameAP)': 15}, {u'count(DISTINCT AP.nameAP)': 3}, {u'count(DISTINCT AP.nameAP)': 2}, {u'count(DISTINCT AP.nameAP)': 4}, {u'count(DISTINCT AP.nameAP)': 3}, {u'count(DISTINCT AP.nameAP)': 30}, {u'count(DISTINCT AP.nameAP)': 1}, {u'count(DISTINCT AP.nameAP)': 1}, {u'count(DISTINCT AP.nameAP)': 3}, {u'count(DISTINCT AP.nameAP)': 8}, {u'count(DISTINCT AP.nameAP)': 27}, {u'count(DISTINCT AP.nameAP)': 17}, {u'count(DISTINCT AP.nameAP)': 7}, {u'count(DISTINCT AP.nameAP)': 8}, {u'count(DISTINCT AP.nameAP)': 1}, {u'count(DISTINCT AP.nameAP)': 4}, {u'count(DISTINCT AP.nameAP)': 36}, {u'count(DISTINCT AP.nameAP)': 28}, {u'count(DISTINCT AP.nameAP)': 3}, {u'count(DISTINCT AP.nameAP)': 22}, {u'count(DISTINCT AP.nameAP)': 3}, {u'count(DISTINCT AP.nameAP)': 1}, {u'count(DISTINCT AP.nameAP)': 1}, {u'count(DISTINCT AP.nameAP)': 18}, {u'count(DISTINCT AP.nameAP)': 17}, {u'count(DISTINCT AP.nameAP)': 1}, {u'count(DISTINCT AP.nameAP)': 2}, {u'count(DISTINCT AP.nameAP)': 2}, {u'count(DISTINCT AP.nameAP)': 1}, {u'count(DISTINCT AP.nameAP)': 3}, {u'count(DISTINCT AP.nameAP)': 2}, {u'count(DISTINCT AP.nameAP)': 1}, {u'count(DISTINCT AP.nameAP)': 3}, {u'count(DISTINCT AP.nameAP)': 1}, {u'count(DISTINCT AP.nameAP)': 1}, {u'count(DISTINCT AP.nameAP)': 8}, {u'count(DISTINCT AP.nameAP)': 1}, {u'count(DISTINCT AP.nameAP)': 2}, {u'count(DISTINCT AP.nameAP)': 6}, {u'count(DISTINCT AP.nameAP)': 3}, {u'count(DISTINCT AP.nameAP)': 1}, {u'count(DISTINCT AP.nameAP)': 4}, {u'count(DISTINCT AP.nameAP)': 7}, {u'count(DISTINCT AP.nameAP)': 1}, {u'count(DISTINCT AP.nameAP)': 5}, {u'count(DISTINCT AP.nameAP)': 2}, {u'count(DISTINCT AP.nameAP)': 3}, {u'count(DISTINCT AP.nameAP)': 10}, {u'count(DISTINCT AP.nameAP)': 21}, {u'count(DISTINCT AP.nameAP)': 1}, {u'count(DISTINCT AP.nameAP)': 3}, {u'count(DISTINCT AP.nameAP)': 1}, {u'count(DISTINCT AP.nameAP)': 21}, {u'count(DISTINCT AP.nameAP)': 1}, {u'count(DISTINCT AP.nameAP)': 1}, {u'count(DISTINCT AP.nameAP)': 4}, {u'count(DISTINCT AP.nameAP)': 18}, {u'count(DISTINCT AP.nameAP)': 3}, {u'count(DISTINCT AP.nameAP)': 7}, {u'count(DISTINCT AP.nameAP)': 8}, {u'count(DISTINCT AP.nameAP)': 26}, {u'count(DISTINCT AP.nameAP)': 1}, {u'count(DISTINCT AP.nameAP)': 1}, {u'count(DISTINCT AP.nameAP)': 4}, {u'count(DISTINCT AP.nameAP)': 2}, {u'count(DISTINCT AP.nameAP)': 3}, {u'count(DISTINCT AP.nameAP)': 1}, {u'count(DISTINCT AP.nameAP)': 4}, {u'count(DISTINCT AP.nameAP)': 1}, {u'count(DISTINCT AP.nameAP)': 2}, {u'count(DISTINCT AP.nameAP)': 0}, {u'count(DISTINCT AP.nameAP)': 0}, {u'count(DISTINCT AP.nameAP)': 0}, {u'count(DISTINCT AP.nameAP)': 0}, {u'count(DISTINCT AP.nameAP)': 0}, {u'count(DISTINCT AP.nameAP)': 0}, {u'count(DISTINCT AP.nameAP)': 0}, {u'count(DISTINCT AP.nameAP)': 0}, {u'count(DISTINCT AP.nameAP)': 0}, {u'count(DISTINCT AP.nameAP)': 0}, {u'count(DISTINCT AP.nameAP)': 0}, {u'count(DISTINCT AP.nameAP)': 0}, {u'count(DISTINCT AP.nameAP)': 0}, {u'count(DISTINCT AP.nameAP)': 0}, {u'count(DISTINCT AP.nameAP)': 0}, {u'count(DISTINCT AP.nameAP)': 0}, {u'count(DISTINCT AP.nameAP)': 0}, {u'count(DISTINCT AP.nameAP)': 0}, {u'count(DISTINCT AP.nameAP)': 0}, {u'count(DISTINCT AP.nameAP)': 0}, {u'count(DISTINCT AP.nameAP)': 0}, {u'count(DISTINCT AP.nameAP)': 0}, {u'count(DISTINCT AP.nameAP)': 0}, {u'count(DISTINCT AP.nameAP)': 0}, {u'count(DISTINCT AP.nameAP)': 0}, {u'count(DISTINCT AP.nameAP)': 0}, {u'count(DISTINCT AP.nameAP)': 0}, {u'count(DISTINCT AP.nameAP)': 0}, {u'count(DISTINCT AP.nameAP)': 0}, {u'count(DISTINCT AP.nameAP)': 0}, {u'count(DISTINCT AP.nameAP)': 0}, {u'count(DISTINCT AP.nameAP)': 0}, {u'count(DISTINCT AP.nameAP)': 0}, {u'count(DISTINCT AP.nameAP)': 0}, {u'count(DISTINCT AP.nameAP)': 0}, {u'count(DISTINCT AP.nameAP)': 0}, {u'count(DISTINCT AP.nameAP)': 0}, {u'count(DISTINCT AP.nameAP)': 0}, {u'count(DISTINCT AP.nameAP)': 0}, {u'count(DISTINCT AP.nameAP)': 0}, {u'count(DISTINCT AP.nameAP)': 0}, {u'count(DISTINCT AP.nameAP)': 0}, {u'count(DISTINCT AP.nameAP)': 0}, {u'count(DISTINCT AP.nameAP)': 0}, {u'count(DISTINCT AP.nameAP)': 0}, {u'count(DISTINCT AP.nameAP)': 0}, {u'count(DISTINCT AP.nameAP)': 0}, {u'count(DISTINCT AP.nameAP)': 0}, {u'count(DISTINCT AP.nameAP)': 0}, {u'count(DISTINCT AP.nameAP)': 0}, {u'count(DISTINCT AP.nameAP)': 0}, {u'count(DISTINCT AP.nameAP)': 0}, {u'count(DISTINCT AP.nameAP)': 0}, {u'count(DISTINCT AP.nameAP)': 0}, {u'count(DISTINCT AP.nameAP)': 0}, {u'count(DISTINCT AP.nameAP)': 0}, {u'count(DISTINCT AP.nameAP)': 0}, {u'count(DISTINCT AP.nameAP)': 0}, {u'count(DISTINCT AP.nameAP)': 0}, {u'count(DISTINCT AP.nameAP)': 0}, {u'count(DISTINCT AP.nameAP)': 0}, {u'count(DISTINCT AP.nameAP)': 0}, {u'count(DISTINCT AP.nameAP)': 0}, {u'count(DISTINCT AP.nameAP)': 0}, {u'count(DISTINCT AP.nameAP)': 0}, {u'count(DISTINCT AP.nameAP)': 0}, {u'count(DISTINCT AP.nameAP)': 0}, {u'count(DISTINCT AP.nameAP)': 0}, {u'count(DISTINCT AP.nameAP)': 0}, {u'count(DISTINCT AP.nameAP)': 0}, {u'count(DISTINCT AP.nameAP)': 0}, {u'count(DISTINCT AP.nameAP)': 0}, {u'count(DISTINCT AP.nameAP)': 0}, {u'count(DISTINCT AP.nameAP)': 0}, {u'count(DISTINCT AP.nameAP)': 0}, {u'count(DISTINCT AP.nameAP)': 0}, {u'count(DISTINCT AP.nameAP)': 0}, {u'count(DISTINCT AP.nameAP)': 0}, {u'count(DISTINCT AP.nameAP)': 0}, {u'count(DISTINCT AP.nameAP)': 0}, {u'count(DISTINCT AP.nameAP)': 0}, {u'count(DISTINCT AP.nameAP)': 0}, {u'count(DISTINCT AP.nameAP)': 0}, {u'count(DISTINCT AP.nameAP)': 0}, {u'count(DISTINCT AP.nameAP)': 0}, {u'count(DISTINCT AP.nameAP)': 0}, {u'count(DISTINCT AP.nameAP)': 0}, {u'count(DISTINCT AP.nameAP)': 0}, {u'count(DISTINCT AP.nameAP)': 0}, {u'count(DISTINCT AP.nameAP)': 0}, {u'count(DISTINCT AP.nameAP)': 0}, {u'count(DISTINCT AP.nameAP)': 0}, {u'count(DISTINCT AP.nameAP)': 0}, {u'count(DISTINCT AP.nameAP)': 0}, {u'count(DISTINCT AP.nameAP)': 0}, {u'count(DISTINCT AP.nameAP)': 0}, {u'count(DISTINCT AP.nameAP)': 0}, {u'count(DISTINCT AP.nameAP)': 0}, {u'count(DISTINCT AP.nameAP)': 0}, {u'count(DISTINCT AP.nameAP)': 0}, {u'count(DISTINCT AP.nameAP)': 0}, {u'count(DISTINCT AP.nameAP)': 0}, {u'count(DISTINCT AP.nameAP)': 0}, {u'count(DISTINCT AP.nameAP)': 0}, {u'count(DISTINCT AP.nameAP)': 0}, {u'count(DISTINCT AP.nameAP)': 0}, {u'count(DISTINCT AP.nameAP)': 0}, {u'count(DISTINCT AP.nameAP)': 0}, {u'count(DISTINCT AP.nameAP)': 0}, {u'count(DISTINCT AP.nameAP)': 0}, {u'count(DISTINCT AP.nameAP)': 0}, {u'count(DISTINCT AP.nameAP)': 0}, {u'count(DISTINCT AP.nameAP)': 0}, {u'count(DISTINCT AP.nameAP)': 0}, {u'count(DISTINCT AP.nameAP)': 0}, {u'count(DISTINCT AP.nameAP)': 0}, {u'count(DISTINCT AP.nameAP)': 0}, {u'count(DISTINCT AP.nameAP)': 0}, {u'count(DISTINCT AP.nameAP)': 0}, {u'count(DISTINCT AP.nameAP)': 0}, {u'count(DISTINCT AP.nameAP)': 0}, {u'count(DISTINCT AP.nameAP)': 0}, {u'count(DISTINCT AP.nameAP)': 0}, {u'count(DISTINCT AP.nameAP)': 0}, {u'count(DISTINCT AP.nameAP)': 0}, {u'count(DISTINCT AP.nameAP)': 0}, {u'count(DISTINCT AP.nameAP)': 0}, {u'count(DISTINCT AP.nameAP)': 0}, {u'count(DISTINCT AP.nameAP)': 0}, {u'count(DISTINCT AP.nameAP)': 0}, {u'count(DISTINCT AP.nameAP)': 0}, {u'count(DISTINCT AP.nameAP)': 0}, {u'count(DISTINCT AP.nameAP)': 0}, {u'count(DISTINCT AP.nameAP)': 0}, {u'count(DISTINCT AP.nameAP)': 0}, {u'count(DISTINCT AP.nameAP)': 0}, {u'count(DISTINCT AP.nameAP)': 0}, {u'count(DISTINCT AP.nameAP)': 0}, {u'count(DISTINCT AP.nameAP)': 0}, {u'count(DISTINCT AP.nameAP)': 0}, {u'count(DISTINCT AP.nameAP)': 0}, {u'count(DISTINCT AP.nameAP)': 0}, {u'count(DISTINCT AP.nameAP)': 0}, {u'count(DISTINCT AP.nameAP)': 0}, {u'count(DISTINCT AP.nameAP)': 0}, {u'count(DISTINCT AP.nameAP)': 0}, {u'count(DISTINCT AP.nameAP)': 0}, {u'count(DISTINCT AP.nameAP)': 0}, {u'count(DISTINCT AP.nameAP)': 0}, {u'count(DISTINCT AP.nameAP)': 0}, {u'count(DISTINCT AP.nameAP)': 0}, {u'count(DISTINCT AP.nameAP)': 0}, {u'count(DISTINCT AP.nameAP)': 0}, {u'count(DISTINCT AP.nameAP)': 0}, {u'count(DISTINCT AP.nameAP)': 0}, {u'count(DISTINCT AP.nameAP)': 0}, {u'count(DISTINCT AP.nameAP)': 0}, {u'count(DISTINCT AP.nameAP)': 0}, {u'count(DISTINCT AP.nameAP)': 0}, {u'count(DISTINCT AP.nameAP)': 0}, {u'count(DISTINCT AP.nameAP)': 0}, {u'count(DISTINCT AP.nameAP)': 0}, {u'count(DISTINCT AP.nameAP)': 0}, {u'count(DISTINCT AP.nameAP)': 0}, {u'count(DISTINCT AP.nameAP)': 0}, {u'count(DISTINCT AP.nameAP)': 0}, {u'count(DISTINCT AP.nameAP)': 0}, {u'count(DISTINCT AP.nameAP)': 0}, {u'count(DISTINCT AP.nameAP)': 0}, {u'count(DISTINCT AP.nameAP)': 0}, {u'count(DISTINCT AP.nameAP)': 0}, {u'count(DISTINCT AP.nameAP)': 0}, {u'count(DISTINCT AP.nameAP)': 0}, {u'count(DISTINCT AP.nameAP)': 0}, {u'count(DISTINCT AP.nameAP)': 0}, {u'count(DISTINCT AP.nameAP)': 0}, {u'count(DISTINCT AP.nameAP)': 0}, {u'count(DISTINCT AP.nameAP)': 0}, {u'count(DISTINCT AP.nameAP)': 0}, {u'count(DISTINCT AP.nameAP)': 0}, {u'count(DISTINCT AP.nameAP)': 0}, {u'count(DISTINCT AP.nameAP)': 0}, {u'count(DISTINCT AP.nameAP)': 0}, {u'count(DISTINCT AP.nameAP)': 0}, {u'count(DISTINCT AP.nameAP)': 0}, {u'count(DISTINCT AP.nameAP)': 0}, {u'count(DISTINCT AP.nameAP)': 0}, {u'count(DISTINCT AP.nameAP)': 0}, {u'count(DISTINCT AP.nameAP)': 0}, {u'count(DISTINCT AP.nameAP)': 0}, {u'count(DISTINCT AP.nameAP)': 0}, {u'count(DISTINCT AP.nameAP)': 0}, {u'count(DISTINCT AP.nameAP)': 0}, {u'count(DISTINCT AP.nameAP)': 0}, {u'count(DISTINCT AP.nameAP)': 0}, {u'count(DISTINCT AP.nameAP)': 0}, {u'count(DISTINCT AP.nameAP)': 0}, {u'count(DISTINCT AP.nameAP)': 0}, {u'count(DISTINCT AP.nameAP)': 0}, {u'count(DISTINCT AP.nameAP)': 0}, {u'count(DISTINCT AP.nameAP)': 0}, {u'count(DISTINCT AP.nameAP)': 0}, {u'count(DISTINCT AP.nameAP)': 0}, {u'count(DISTINCT AP.nameAP)': 0}, {u'count(DISTINCT AP.nameAP)': 0}, {u'count(DISTINCT AP.nameAP)': 0}, {u'count(DISTINCT AP.nameAP)': 0}, {u'count(DISTINCT AP.nameAP)': 0}, {u'count(DISTINCT AP.nameAP)': 0}, {u'count(DISTINCT AP.nameAP)': 0}, {u'count(DISTINCT AP.nameAP)': 0}, {u'count(DISTINCT AP.nameAP)': 0}, {u'count(DISTINCT AP.nameAP)': 0}, {u'count(DISTINCT AP.nameAP)': 0}, {u'count(DISTINCT AP.nameAP)': 0}, {u'count(DISTINCT AP.nameAP)': 0}, {u'count(DISTINCT AP.nameAP)': 0}, {u'count(DISTINCT AP.nameAP)': 0}, {u'count(DISTINCT AP.nameAP)': 0}, {u'count(DISTINCT AP.nameAP)': 0}, {u'count(DISTINCT AP.nameAP)': 0}, {u'count(DISTINCT AP.nameAP)': 0}, {u'count(DISTINCT AP.nameAP)': 0}, {u'count(DISTINCT AP.nameAP)': 0}, {u'count(DISTINCT AP.nameAP)': 0}, {u'count(DISTINCT AP.nameAP)': 0}, {u'count(DISTINCT AP.nameAP)': 0}, {u'count(DISTINCT AP.nameAP)': 0}, {u'count(DISTINCT AP.nameAP)': 0}, {u'count(DISTINCT AP.nameAP)': 0}, {u'count(DISTINCT AP.nameAP)': 0}, {u'count(DISTINCT AP.nameAP)': 0}, {u'count(DISTINCT AP.nameAP)': 0}, {u'count(DISTINCT AP.nameAP)': 0}, {u'count(DISTINCT AP.nameAP)': 0}, {u'count(DISTINCT AP.nameAP)': 0}, {u'count(DISTINCT AP.nameAP)': 0}, {u'count(DISTINCT AP.nameAP)': 0}, {u'count(DISTINCT AP.nameAP)': 0}, {u'count(DISTINCT AP.nameAP)': 0}, {u'count(DISTINCT AP.nameAP)': 0}, {u'count(DISTINCT AP.nameAP)': 0}, {u'count(DISTINCT AP.nameAP)': 0}, {u'count(DISTINCT AP.nameAP)': 0}, {u'count(DISTINCT AP.nameAP)': 0}, {u'count(DISTINCT AP.nameAP)': 0}, {u'count(DISTINCT AP.nameAP)': 0}, {u'count(DISTINCT AP.nameAP)': 0}, {u'count(DISTINCT AP.nameAP)': 0}, {u'count(DISTINCT AP.nameAP)': 0}, {u'count(DISTINCT AP.nameAP)': 0}, {u'count(DISTINCT AP.nameAP)': 0}, {u'count(DISTINCT AP.nameAP)': 0}, {u'count(DISTINCT AP.nameAP)': 0}, {u'count(DISTINCT AP.nameAP)': 0}, {u'count(DISTINCT AP.nameAP)': 0}, {u'count(DISTINCT AP.nameAP)': 0}, {u'count(DISTINCT AP.nameAP)': 0}, {u'count(DISTINCT AP.nameAP)': 0}, {u'count(DISTINCT AP.nameAP)': 0}, {u'count(DISTINCT AP.nameAP)': 0}, {u'count(DISTINCT AP.nameAP)': 0}, {u'count(DISTINCT AP.nameAP)': 0}, {u'count(DISTINCT AP.nameAP)': 0}, {u'count(DISTINCT AP.nameAP)': 0}, {u'count(DISTINCT AP.nameAP)': 0}, {u'count(DISTINCT AP.nameAP)': 0}, {u'count(DISTINCT AP.nameAP)': 0}, {u'count(DISTINCT AP.nameAP)': 0}, {u'count(DISTINCT AP.nameAP)': 0}, {u'count(DISTINCT AP.nameAP)': 0}, {u'count(DISTINCT AP.nameAP)': 0}, {u'count(DISTINCT AP.nameAP)': 0}, {u'count(DISTINCT AP.nameAP)': 0}, {u'count(DISTINCT AP.nameAP)': 0}, {u'count(DISTINCT AP.nameAP)': 0}, {u'count(DISTINCT AP.nameAP)': 0}, {u'count(DISTINCT AP.nameAP)': 0}, {u'count(DISTINCT AP.nameAP)': 0}, {u'count(DISTINCT AP.nameAP)': 0}, {u'count(DISTINCT AP.nameAP)': 0}, {u'count(DISTINCT AP.nameAP)': 0}, {u'count(DISTINCT AP.nameAP)': 0}, {u'count(DISTINCT AP.nameAP)': 0}, {u'count(DISTINCT AP.nameAP)': 0}, {u'count(DISTINCT AP.nameAP)': 0}, {u'count(DISTINCT AP.nameAP)': 0}, {u'count(DISTINCT AP.nameAP)': 0}, {u'count(DISTINCT AP.nameAP)': 0}, {u'count(DISTINCT AP.nameAP)': 0}, {u'count(DISTINCT AP.nameAP)': 0}, {u'count(DISTINCT AP.nameAP)': 0}, {u'count(DISTINCT AP.nameAP)': 0}, {u'count(DISTINCT AP.nameAP)': 0}, {u'count(DISTINCT AP.nameAP)': 0}, {u'count(DISTINCT AP.nameAP)': 0}, {u'count(DISTINCT AP.nameAP)': 0}, {u'count(DISTINCT AP.nameAP)': 0}, {u'count(DISTINCT AP.nameAP)': 0}, {u'count(DISTINCT AP.nameAP)': 0}, {u'count(DISTINCT AP.nameAP)': 0}, {u'count(DISTINCT AP.nameAP)': 0}, {u'count(DISTINCT AP.nameAP)': 0}, {u'count(DISTINCT AP.nameAP)': 0}, {u'count(DISTINCT AP.nameAP)': 0}, {u'count(DISTINCT AP.nameAP)': 0}, {u'count(DISTINCT AP.nameAP)': 0}, {u'count(DISTINCT AP.nameAP)': 0}, {u'count(DISTINCT AP.nameAP)': 0}, {u'count(DISTINCT AP.nameAP)': 0}, {u'count(DISTINCT AP.nameAP)': 0}, {u'count(DISTINCT AP.nameAP)': 0}, {u'count(DISTINCT AP.nameAP)': 0}, {u'count(DISTINCT AP.nameAP)': 0}, {u'count(DISTINCT AP.nameAP)': 0}, {u'count(DISTINCT AP.nameAP)': 0}, {u'count(DISTINCT AP.nameAP)': 0}, {u'count(DISTINCT AP.nameAP)': 0}, {u'count(DISTINCT AP.nameAP)': 0}, {u'count(DISTINCT AP.nameAP)': 0}, {u'count(DISTINCT AP.nameAP)': 0}, {u'count(DISTINCT AP.nameAP)': 0}, {u'count(DISTINCT AP.nameAP)': 0}, {u'count(DISTINCT AP.nameAP)': 0}, {u'count(DISTINCT AP.nameAP)': 0}, {u'count(DISTINCT AP.nameAP)': 0}, {u'count(DISTINCT AP.nameAP)': 0}, {u'count(DISTINCT AP.nameAP)': 0}, {u'count(DISTINCT AP.nameAP)': 0}, {u'count(DISTINCT AP.nameAP)': 0}, {u'count(DISTINCT AP.nameAP)': 0}, {u'count(DISTINCT AP.nameAP)': 0}, {u'count(DISTINCT AP.nameAP)': 0}, {u'count(DISTINCT AP.nameAP)': 0}, {u'count(DISTINCT AP.nameAP)': 0}, {u'count(DISTINCT AP.nameAP)': 0}, {u'count(DISTINCT AP.nameAP)': 0}, {u'count(DISTINCT AP.nameAP)': 0}, {u'count(DISTINCT AP.nameAP)': 0}, {u'count(DISTINCT AP.nameAP)': 0}, {u'count(DISTINCT AP.nameAP)': 0}, {u'count(DISTINCT AP.nameAP)': 0}, {u'count(DISTINCT AP.nameAP)': 0}, {u'count(DISTINCT AP.nameAP)': 0}, {u'count(DISTINCT AP.nameAP)': 0}, {u'count(DISTINCT AP.nameAP)': 0}, {u'count(DISTINCT AP.nameAP)': 0}, {u'count(DISTINCT AP.nameAP)': 0}, {u'count(DISTINCT AP.nameAP)': 0}, {u'count(DISTINCT AP.nameAP)': 0}, {u'count(DISTINCT AP.nameAP)': 0}, {u'count(DISTINCT AP.nameAP)': 0}, {u'count(DISTINCT AP.nameAP)': 0}, {u'count(DISTINCT AP.nameAP)': 0}, {u'count(DISTINCT AP.nameAP)': 0}, {u'count(DISTINCT AP.nameAP)': 0}, {u'count(DISTINCT AP.nameAP)': 0}, {u'count(DISTINCT AP.nameAP)': 0}, {u'count(DISTINCT AP.nameAP)': 0}, {u'count(DISTINCT AP.nameAP)': 0}, {u'count(DISTINCT AP.nameAP)': 0}, {u'count(DISTINCT AP.nameAP)': 0}, {u'count(DISTINCT AP.nameAP)': 0}, {u'count(DISTINCT AP.nameAP)': 0}, {u'count(DISTINCT AP.nameAP)': 0}, {u'count(DISTINCT AP.nameAP)': 0}, {u'count(DISTINCT AP.nameAP)': 0}, {u'count(DISTINCT AP.nameAP)': 0}, {u'count(DISTINCT AP.nameAP)': 0}, {u'count(DISTINCT AP.nameAP)': 0}, {u'count(DISTINCT AP.nameAP)': 0}, {u'count(DISTINCT AP.nameAP)': 0}, {u'count(DISTINCT AP.nameAP)': 0}, {u'count(DISTINCT AP.nameAP)': 0}, {u'count(DISTINCT AP.nameAP)': 0}, {u'count(DISTINCT AP.nameAP)': 0}, {u'count(DISTINCT AP.nameAP)': 0}, {u'count(DISTINCT AP.nameAP)': 0}, {u'count(DISTINCT AP.nameAP)': 0}, {u'count(DISTINCT AP.nameAP)': 0}, {u'count(DISTINCT AP.nameAP)': 0}, {u'count(DISTINCT AP.nameAP)': 0}, {u'count(DISTINCT AP.nameAP)': 0}, {u'count(DISTINCT AP.nameAP)': 0}, {u'count(DISTINCT AP.nameAP)': 0}, {u'count(DISTINCT AP.nameAP)': 0}, {u'count(DISTINCT AP.nameAP)': 0}, {u'count(DISTINCT AP.nameAP)': 0}, {u'count(DISTINCT AP.nameAP)': 0}, {u'count(DISTINCT AP.nameAP)': 0}, {u'count(DISTINCT AP.nameAP)': 0}, {u'count(DISTINCT AP.nameAP)': 0}, {u'count(DISTINCT AP.nameAP)': 0}, {u'count(DISTINCT AP.nameAP)': 0}, {u'count(DISTINCT AP.nameAP)': 0}, {u'count(DISTINCT AP.nameAP)': 0}, {u'count(DISTINCT AP.nameAP)': 0}, {u'count(DISTINCT AP.nameAP)': 0}, {u'count(DISTINCT AP.nameAP)': 0}, {u'count(DISTINCT AP.nameAP)': 0}, {u'count(DISTINCT AP.nameAP)': 0}, {u'count(DISTINCT AP.nameAP)': 0}, {u'count(DISTINCT AP.nameAP)': 0}, {u'count(DISTINCT AP.nameAP)': 0}, {u'count(DISTINCT AP.nameAP)': 0}, {u'count(DISTINCT AP.nameAP)': 0}, {u'count(DISTINCT AP.nameAP)': 0}, {u'count(DISTINCT AP.nameAP)': 0}, {u'count(DISTINCT AP.nameAP)': 0}, {u'count(DISTINCT AP.nameAP)': 0}, {u'count(DISTINCT AP.nameAP)': 0}, {u'count(DISTINCT AP.nameAP)': 0}, {u'count(DISTINCT AP.nameAP)': 0}, {u'count(DISTINCT AP.nameAP)': 0}, {u'count(DISTINCT AP.nameAP)': 0}, {u'count(DISTINCT AP.nameAP)': 0}, {u'count(DISTINCT AP.nameAP)': 0}, {u'count(DISTINCT AP.nameAP)': 0}, {u'count(DISTINCT AP.nameAP)': 0}, {u'count(DISTINCT AP.nameAP)': 0}, {u'count(DISTINCT AP.nameAP)': 0}, {u'count(DISTINCT AP.nameAP)': 0}, {u'count(DISTINCT AP.nameAP)': 0}, {u'count(DISTINCT AP.nameAP)': 0}, {u'count(DISTINCT AP.nameAP)': 0}, {u'count(DISTINCT AP.nameAP)': 0}, {u'count(DISTINCT AP.nameAP)': 0}, {u'count(DISTINCT AP.nameAP)': 0}, {u'count(DISTINCT AP.nameAP)': 0}, {u'count(DISTINCT AP.nameAP)': 0}, {u'count(DISTINCT AP.nameAP)': 0}, {u'count(DISTINCT AP.nameAP)': 0}, {u'count(DISTINCT AP.nameAP)': 0}, {u'count(DISTINCT AP.nameAP)': 0}, {u'count(DISTINCT AP.nameAP)': 0}, {u'count(DISTINCT AP.nameAP)': 0}, {u'count(DISTINCT AP.nameAP)': 0}, {u'count(DISTINCT AP.nameAP)': 0}, {u'count(DISTINCT AP.nameAP)': 0}, {u'count(DISTINCT AP.nameAP)': 0}, {u'count(DISTINCT AP.nameAP)': 0}, {u'count(DISTINCT AP.nameAP)': 0}, {u'count(DISTINCT AP.nameAP)': 0}, {u'count(DISTINCT AP.nameAP)': 0}, {u'count(DISTINCT AP.nameAP)': 0}, {u'count(DISTINCT AP.nameAP)': 0}, {u'count(DISTINCT AP.nameAP)': 0}, {u'count(DISTINCT AP.nameAP)': 0}, {u'count(DISTINCT AP.nameAP)': 0}, {u'count(DISTINCT AP.nameAP)': 0}, {u'count(DISTINCT AP.nameAP)': 0}, {u'count(DISTINCT AP.nameAP)': 0}, {u'count(DISTINCT AP.nameAP)': 0}, {u'count(DISTINCT AP.nameAP)': 0}, {u'count(DISTINCT AP.nameAP)': 0}, {u'count(DISTINCT AP.nameAP)': 0}, {u'count(DISTINCT AP.nameAP)': 0}, {u'count(DISTINCT AP.nameAP)': 0}, {u'count(DISTINCT AP.nameAP)': 0}, {u'count(DISTINCT AP.nameAP)': 0}, {u'count(DISTINCT AP.nameAP)': 0}, {u'count(DISTINCT AP.nameAP)': 0}, {u'count(DISTINCT AP.nameAP)': 0}, {u'count(DISTINCT AP.nameAP)': 0}, {u'count(DISTINCT AP.nameAP)': 0}, {u'count(DISTINCT AP.nameAP)': 0}, {u'count(DISTINCT AP.nameAP)': 0}, {u'count(DISTINCT AP.nameAP)': 0}, {u'count(DISTINCT AP.nameAP)': 0}, {u'count(DISTINCT AP.nameAP)': 0}, {u'count(DISTINCT AP.nameAP)': 0}, {u'count(DISTINCT AP.nameAP)': 0}, {u'count(DISTINCT AP.nameAP)': 0}, {u'count(DISTINCT AP.nameAP)': 0}, {u'count(DISTINCT AP.nameAP)': 0}, {u'count(DISTINCT AP.nameAP)': 0}, {u'count(DISTINCT AP.nameAP)': 0}, {u'count(DISTINCT AP.nameAP)': 0}, {u'count(DISTINCT AP.nameAP)': 0}, {u'count(DISTINCT AP.nameAP)': 0}, {u'count(DISTINCT AP.nameAP)': 0}, {u'count(DISTINCT AP.nameAP)': 0}, {u'count(DISTINCT AP.nameAP)': 0}, {u'count(DISTINCT AP.nameAP)': 0}, {u'count(DISTINCT AP.nameAP)': 0}, {u'count(DISTINCT AP.nameAP)': 0}, {u'count(DISTINCT AP.nameAP)': 0}, {u'count(DISTINCT AP.nameAP)': 0}, {u'count(DISTINCT AP.nameAP)': 0}, {u'count(DISTINCT AP.nameAP)': 0}, {u'count(DISTINCT AP.nameAP)': 0}, {u'count(DISTINCT AP.nameAP)': 0}, {u'count(DISTINCT AP.nameAP)': 0}, {u'count(DISTINCT AP.nameAP)': 0}, {u'count(DISTINCT AP.nameAP)': 0}, {u'count(DISTINCT AP.nameAP)': 0}, {u'count(DISTINCT AP.nameAP)': 0}, {u'count(DISTINCT AP.nameAP)': 0}, {u'count(DISTINCT AP.nameAP)': 0}, {u'count(DISTINCT AP.nameAP)': 0}, {u'count(DISTINCT AP.nameAP)': 0}, {u'count(DISTINCT AP.nameAP)': 0}, {u'count(DISTINCT AP.nameAP)': 0}, {u'count(DISTINCT AP.nameAP)': 0}, {u'count(DISTINCT AP.nameAP)': 0}, {u'count(DISTINCT AP.nameAP)': 0}, {u'count(DISTINCT AP.nameAP)': 0}, {u'count(DISTINCT AP.nameAP)': 0}, {u'count(DISTINCT AP.nameAP)': 0}, {u'count(DISTINCT AP.nameAP)': 0}, {u'count(DISTINCT AP.nameAP)': 0}, {u'count(DISTINCT AP.nameAP)': 0}, {u'count(DISTINCT AP.nameAP)': 0}, {u'count(DISTINCT AP.nameAP)': 0}, {u'count(DISTINCT AP.nameAP)': 0}, {u'count(DISTINCT AP.nameAP)': 0}, {u'count(DISTINCT AP.nameAP)': 0}, {u'count(DISTINCT AP.nameAP)': 0}, {u'count(DISTINCT AP.nameAP)': 0}, {u'count(DISTINCT AP.nameAP)': 0}, {u'count(DISTINCT AP.nameAP)': 0}, {u'count(DISTINCT AP.nameAP)': 0}, {u'count(DISTINCT AP.nameAP)': 0}, {u'count(DISTINCT AP.nameAP)': 0}, {u'count(DISTINCT AP.nameAP)': 0}, {u'count(DISTINCT AP.nameAP)': 0}, {u'count(DISTINCT AP.nameAP)': 0}, {u'count(DISTINCT AP.nameAP)': 0}, {u'count(DISTINCT AP.nameAP)': 0}, {u'count(DISTINCT AP.nameAP)': 0}, {u'count(DISTINCT AP.nameAP)': 0}, {u'count(DISTINCT AP.nameAP)': 0}, {u'count(DISTINCT AP.nameAP)': 0}, {u'count(DISTINCT AP.nameAP)': 0}, {u'count(DISTINCT AP.nameAP)': 0}, {u'count(DISTINCT AP.nameAP)': 0}, {u'count(DISTINCT AP.nameAP)': 0}, {u'count(DISTINCT AP.nameAP)': 0}, {u'count(DISTINCT AP.nameAP)': 0}, {u'count(DISTINCT AP.nameAP)': 0}, {u'count(DISTINCT AP.nameAP)': 0}, {u'count(DISTINCT AP.nameAP)': 0}, {u'count(DISTINCT AP.nameAP)': 0}, {u'count(DISTINCT AP.nameAP)': 0}, {u'count(DISTINCT AP.nameAP)': 0}, {u'count(DISTINCT AP.nameAP)': 0}, {u'count(DISTINCT AP.nameAP)': 0}, {u'count(DISTINCT AP.nameAP)': 0}, {u'count(DISTINCT AP.nameAP)': 0}, {u'count(DISTINCT AP.nameAP)': 0}, {u'count(DISTINCT AP.nameAP)': 0}, {u'count(DISTINCT AP.nameAP)': 0}, {u'count(DISTINCT AP.nameAP)': 0}, {u'count(DISTINCT AP.nameAP)': 0}, {u'count(DISTINCT AP.nameAP)': 0}, {u'count(DISTINCT AP.nameAP)': 0}, {u'count(DISTINCT AP.nameAP)': 0}, {u'count(DISTINCT AP.nameAP)': 0}, {u'count(DISTINCT AP.nameAP)': 0}, {u'count(DISTINCT AP.nameAP)': 0}, {u'count(DISTINCT AP.nameAP)': 0}, {u'count(DISTINCT AP.nameAP)': 0}, {u'count(DISTINCT AP.nameAP)': 0}, {u'count(DISTINCT AP.nameAP)': 0}, {u'count(DISTINCT AP.nameAP)': 0}, {u'count(DISTINCT AP.nameAP)': 0}, {u'count(DISTINCT AP.nameAP)': 0}, {u'count(DISTINCT AP.nameAP)': 0}, {u'count(DISTINCT AP.nameAP)': 0}, {u'count(DISTINCT AP.nameAP)': 0}, {u'count(DISTINCT AP.nameAP)': 0}, {u'count(DISTINCT AP.nameAP)': 0}, {u'count(DISTINCT AP.nameAP)': 0}, {u'count(DISTINCT AP.nameAP)': 0}, {u'count(DISTINCT AP.nameAP)': 0}, {u'count(DISTINCT AP.nameAP)': 0}, {u'count(DISTINCT AP.nameAP)': 0}, {u'count(DISTINCT AP.nameAP)': 0}, {u'count(DISTINCT AP.nameAP)': 0}, {u'count(DISTINCT AP.nameAP)': 0}, {u'count(DISTINCT AP.nameAP)': 0}, {u'count(DISTINCT AP.nameAP)': 0}, {u'count(DISTINCT AP.nameAP)': 0}, {u'count(DISTINCT AP.nameAP)': 0}, {u'count(DISTINCT AP.nameAP)': 0}, {u'count(DISTINCT AP.nameAP)': 0}, {u'count(DISTINCT AP.nameAP)': 0}, {u'count(DISTINCT AP.nameAP)': 0}, {u'count(DISTINCT AP.nameAP)': 0}, {u'count(DISTINCT AP.nameAP)': 0}, {u'count(DISTINCT AP.nameAP)': 0}, {u'count(DISTINCT AP.nameAP)': 0}, {u'count(DISTINCT AP.nameAP)': 0}, {u'count(DISTINCT AP.nameAP)': 0}, {u'count(DISTINCT AP.nameAP)': 0}, {u'count(DISTINCT AP.nameAP)': 0}, {u'count(DISTINCT AP.nameAP)': 0}, {u'count(DISTINCT AP.nameAP)': 0}, {u'count(DISTINCT AP.nameAP)': 0}, {u'count(DISTINCT AP.nameAP)': 0}, {u'count(DISTINCT AP.nameAP)': 0}, {u'count(DISTINCT AP.nameAP)': 0}, {u'count(DISTINCT AP.nameAP)': 0}, {u'count(DISTINCT AP.nameAP)': 0}, {u'count(DISTINCT AP.nameAP)': 0}, {u'count(DISTINCT AP.nameAP)': 0}, {u'count(DISTINCT AP.nameAP)': 0}, {u'count(DISTINCT AP.nameAP)': 0}, {u'count(DISTINCT AP.nameAP)': 0}, {u'count(DISTINCT AP.nameAP)': 0}, {u'count(DISTINCT AP.nameAP)': 0}, {u'count(DISTINCT AP.nameAP)': 0}, {u'count(DISTINCT AP.nameAP)': 0}, {u'count(DISTINCT AP.nameAP)': 0}, {u'count(DISTINCT AP.nameAP)': 0}, {u'count(DISTINCT AP.nameAP)': 0}, {u'count(DISTINCT AP.nameAP)': 0}, {u'count(DISTINCT AP.nameAP)': 0}, {u'count(DISTINCT AP.nameAP)': 0}, {u'count(DISTINCT AP.nameAP)': 0}, {u'count(DISTINCT AP.nameAP)': 0}, {u'count(DISTINCT AP.nameAP)': 0}, {u'count(DISTINCT AP.nameAP)': 0}, {u'count(DISTINCT AP.nameAP)': 0}, {u'count(DISTINCT AP.nameAP)': 0}, {u'count(DISTINCT AP.nameAP)': 0}, {u'count(DISTINCT AP.nameAP)': 0}, {u'count(DISTINCT AP.nameAP)': 0}, {u'count(DISTINCT AP.nameAP)': 0}, {u'count(DISTINCT AP.nameAP)': 0}, {u'count(DISTINCT AP.nameAP)': 0}, {u'count(DISTINCT AP.nameAP)': 0}, {u'count(DISTINCT AP.nameAP)': 0}, {u'count(DISTINCT AP.nameAP)': 0}, {u'count(DISTINCT AP.nameAP)': 0}, {u'count(DISTINCT AP.nameAP)': 0}, {u'count(DISTINCT AP.nameAP)': 0}, {u'count(DISTINCT AP.nameAP)': 0}, {u'count(DISTINCT AP.nameAP)': 0}, {u'count(DISTINCT AP.nameAP)': 0}, {u'count(DISTINCT AP.nameAP)': 0}, {u'count(DISTINCT AP.nameAP)': 0}, {u'count(DISTINCT AP.nameAP)': 0}, {u'count(DISTINCT AP.nameAP)': 0}, {u'count(DISTINCT AP.nameAP)': 0}, {u'count(DISTINCT AP.nameAP)': 0}, {u'count(DISTINCT AP.nameAP)': 0}, {u'count(DISTINCT AP.nameAP)': 0}, {u'count(DISTINCT AP.nameAP)': 0}, {u'count(DISTINCT AP.nameAP)': 0}, {u'count(DISTINCT AP.nameAP)': 0}, {u'count(DISTINCT AP.nameAP)': 0}, {u'count(DISTINCT AP.nameAP)': 0}, {u'count(DISTINCT AP.nameAP)': 0}, {u'count(DISTINCT AP.nameAP)': 0}, {u'count(DISTINCT AP.nameAP)': 0}, {u'count(DISTINCT AP.nameAP)': 0}, {u'count(DISTINCT AP.nameAP)': 0}, {u'count(DISTINCT AP.nameAP)': 0}, {u'count(DISTINCT AP.nameAP)': 0}, {u'count(DISTINCT AP.nameAP)': 0}, {u'count(DISTINCT AP.nameAP)': 0}, {u'count(DISTINCT AP.nameAP)': 0}, {u'count(DISTINCT AP.nameAP)': 0}, {u'count(DISTINCT AP.nameAP)': 0}, {u'count(DISTINCT AP.nameAP)': 0}, {u'count(DISTINCT AP.nameAP)': 0}, {u'count(DISTINCT AP.nameAP)': 0}, {u'count(DISTINCT AP.nameAP)': 0}, {u'count(DISTINCT AP.nameAP)': 0}, {u'count(DISTINCT AP.nameAP)': 0}, {u'count(DISTINCT AP.nameAP)': 0}, {u'count(DISTINCT AP.nameAP)': 0}, {u'count(DISTINCT AP.nameAP)': 0}, {u'count(DISTINCT AP.nameAP)': 0}, {u'count(DISTINCT AP.nameAP)': 0}, {u'count(DISTINCT AP.nameAP)': 0}, {u'count(DISTINCT AP.nameAP)': 0}, {u'count(DISTINCT AP.nameAP)': 0}, {u'count(DISTINCT AP.nameAP)': 0}, {u'count(DISTINCT AP.nameAP)': 0}, {u'count(DISTINCT AP.nameAP)': 0}, {u'count(DISTINCT AP.nameAP)': 0}, {u'count(DISTINCT AP.nameAP)': 0}, {u'count(DISTINCT AP.nameAP)': 0}, {u'count(DISTINCT AP.nameAP)': 0}, {u'count(DISTINCT AP.nameAP)': 0}, {u'count(DISTINCT AP.nameAP)': 0}, {u'count(DISTINCT AP.nameAP)': 0}, {u'count(DISTINCT AP.nameAP)': 0}, {u'count(DISTINCT AP.nameAP)': 0}, {u'count(DISTINCT AP.nameAP)': 0}, {u'count(DISTINCT AP.nameAP)': 0}, {u'count(DISTINCT AP.nameAP)': 0}, {u'count(DISTINCT AP.nameAP)': 0}, {u'count(DISTINCT AP.nameAP)': 0}, {u'count(DISTINCT AP.nameAP)': 0}, {u'count(DISTINCT AP.nameAP)': 0}, {u'count(DISTINCT AP.nameAP)': 0}, {u'count(DISTINCT AP.nameAP)': 0}, {u'count(DISTINCT AP.nameAP)': 0}, {u'count(DISTINCT AP.nameAP)': 0}, {u'count(DISTINCT AP.nameAP)': 0}, {u'count(DISTINCT AP.nameAP)': 0}, {u'count(DISTINCT AP.nameAP)': 0}, {u'count(DISTINCT AP.nameAP)': 0}, {u'count(DISTINCT AP.nameAP)': 0}, {u'count(DISTINCT AP.nameAP)': 0}, {u'count(DISTINCT AP.nameAP)': 0}, {u'count(DISTINCT AP.nameAP)': 0}, {u'count(DISTINCT AP.nameAP)': 0}, {u'count(DISTINCT AP.nameAP)': 0}, {u'count(DISTINCT AP.nameAP)': 0}, {u'count(DISTINCT AP.nameAP)': 0}, {u'count(DISTINCT AP.nameAP)': 0}, {u'count(DISTINCT AP.nameAP)': 0}, {u'count(DISTINCT AP.nameAP)': 0}, {u'count(DISTINCT AP.nameAP)': 0}, {u'count(DISTINCT AP.nameAP)': 0}, {u'count(DISTINCT AP.nameAP)': 0}, {u'count(DISTINCT AP.nameAP)': 0}, {u'count(DISTINCT AP.nameAP)': 0}, {u'count(DISTINCT AP.nameAP)': 0}, {u'count(DISTINCT AP.nameAP)': 0}, {u'count(DISTINCT AP.nameAP)': 0}, {u'count(DISTINCT AP.nameAP)': 0}, {u'count(DISTINCT AP.nameAP)': 0}, {u'count(DISTINCT AP.nameAP)': 0}, {u'count(DISTINCT AP.nameAP)': 0}, {u'count(DISTINCT AP.nameAP)': 0}, {u'count(DISTINCT AP.nameAP)': 0}, {u'count(DISTINCT AP.nameAP)': 0}, {u'count(DISTINCT AP.nameAP)': 0}, {u'count(DISTINCT AP.nameAP)': 0}, {u'count(DISTINCT AP.nameAP)': 0}, {u'count(DISTINCT AP.nameAP)': 0}, {u'count(DISTINCT AP.nameAP)': 0}, {u'count(DISTINCT AP.nameAP)': 0}, {u'count(DISTINCT AP.nameAP)': 0}, {u'count(DISTINCT AP.nameAP)': 0}, {u'count(DISTINCT AP.nameAP)': 0}, {u'count(DISTINCT AP.nameAP)': 0}, {u'count(DISTINCT AP.nameAP)': 0}, {u'count(DISTINCT AP.nameAP)': 0}, {u'count(DISTINCT AP.nameAP)': 0}, {u'count(DISTINCT AP.nameAP)': 0}, {u'count(DISTINCT AP.nameAP)': 0}, {u'count(DISTINCT AP.nameAP)': 0}, {u'count(DISTINCT AP.nameAP)': 0}, {u'count(DISTINCT AP.nameAP)': 0}, {u'count(DISTINCT AP.nameAP)': 0}, {u'count(DISTINCT AP.nameAP)': 0}, {u'count(DISTINCT AP.nameAP)': 0}, {u'count(DISTINCT AP.nameAP)': 0}, {u'count(DISTINCT AP.nameAP)': 0}, {u'count(DISTINCT AP.nameAP)': 0}, {u'count(DISTINCT AP.nameAP)': 0}, {u'count(DISTINCT AP.nameAP)': 0}, {u'count(DISTINCT AP.nameAP)': 0}, {u'count(DISTINCT AP.nameAP)': 0}, {u'count(DISTINCT AP.nameAP)': 0}, {u'count(DISTINCT AP.nameAP)': 0}, {u'count(DISTINCT AP.nameAP)': 0}, {u'count(DISTINCT AP.nameAP)': 0}, {u'count(DISTINCT AP.nameAP)': 0}, {u'count(DISTINCT AP.nameAP)': 0}, {u'count(DISTINCT AP.nameAP)': 0}, {u'count(DISTINCT AP.nameAP)': 0}, {u'count(DISTINCT AP.nameAP)': 0}, {u'count(DISTINCT AP.nameAP)': 0}, {u'count(DISTINCT AP.nameAP)': 0}, {u'count(DISTINCT AP.nameAP)': 0}, {u'count(DISTINCT AP.nameAP)': 0}, {u'count(DISTINCT AP.nameAP)': 0}, {u'count(DISTINCT AP.nameAP)': 0}, {u'count(DISTINCT AP.nameAP)': 0}, {u'count(DISTINCT AP.nameAP)': 0}, {u'count(DISTINCT AP.nameAP)': 0}, {u'count(DISTINCT AP.nameAP)': 0}, {u'count(DISTINCT AP.nameAP)': 0}, {u'count(DISTINCT AP.nameAP)': 0}, {u'count(DISTINCT AP.nameAP)': 0}, {u'count(DISTINCT AP.nameAP)': 0}, {u'count(DISTINCT AP.nameAP)': 0}, {u'count(DISTINCT AP.nameAP)': 0}, {u'count(DISTINCT AP.nameAP)': 0}, {u'count(DISTINCT AP.nameAP)': 0}, {u'count(DISTINCT AP.nameAP)': 0}, {u'count(DISTINCT AP.nameAP)': 0}, {u'count(DISTINCT AP.nameAP)': 0}, {u'count(DISTINCT AP.nameAP)': 0}, {u'count(DISTINCT AP.nameAP)': 0}, {u'count(DISTINCT AP.nameAP)': 0}, {u'count(DISTINCT AP.nameAP)': 0}, {u'count(DISTINCT AP.nameAP)': 0}, {u'count(DISTINCT AP.nameAP)': 0}, {u'count(DISTINCT AP.nameAP)': 0}, {u'count(DISTINCT AP.nameAP)': 0}, {u'count(DISTINCT AP.nameAP)': 0}, {u'count(DISTINCT AP.nameAP)': 0}, {u'count(DISTINCT AP.nameAP)': 0}, {u'count(DISTINCT AP.nameAP)': 0}, {u'count(DISTINCT AP.nameAP)': 0}, {u'count(DISTINCT AP.nameAP)': 0}, {u'count(DISTINCT AP.nameAP)': 0}, {u'count(DISTINCT AP.nameAP)': 0}, {u'count(DISTINCT AP.nameAP)': 0}, {u'count(DISTINCT AP.nameAP)': 0}, {u'count(DISTINCT AP.nameAP)': 0}, {u'count(DISTINCT AP.nameAP)': 0}, {u'count(DISTINCT AP.nameAP)': 0}, {u'count(DISTINCT AP.nameAP)': 0}, {u'count(DISTINCT AP.nameAP)': 0}, {u'count(DISTINCT AP.nameAP)': 0}, {u'count(DISTINCT AP.nameAP)': 0}, {u'count(DISTINCT AP.nameAP)': 0}, {u'count(DISTINCT AP.nameAP)': 0}, {u'count(DISTINCT AP.nameAP)': 0}, {u'count(DISTINCT AP.nameAP)': 0}, {u'count(DISTINCT AP.nameAP)': 0}, {u'count(DISTINCT AP.nameAP)': 0}, {u'count(DISTINCT AP.nameAP)': 0}, {u'count(DISTINCT AP.nameAP)': 0}, {u'count(DISTINCT AP.nameAP)': 0}, {u'count(DISTINCT AP.nameAP)': 0}, {u'count(DISTINCT AP.nameAP)': 0}, {u'count(DISTINCT AP.nameAP)': 0}, {u'count(DISTINCT AP.nameAP)': 0}, {u'count(DISTINCT AP.nameAP)': 0}, {u'count(DISTINCT AP.nameAP)': 0}, {u'count(DISTINCT AP.nameAP)': 0}, {u'count(DISTINCT AP.nameAP)': 0}, {u'count(DISTINCT AP.nameAP)': 0}, {u'count(DISTINCT AP.nameAP)': 0}, {u'count(DISTINCT AP.nameAP)': 0}, {u'count(DISTINCT AP.nameAP)': 0}, {u'count(DISTINCT AP.nameAP)': 0}, {u'count(DISTINCT AP.nameAP)': 0}, {u'count(DISTINCT AP.nameAP)': 0}, {u'count(DISTINCT AP.nameAP)': 0}, {u'count(DISTINCT AP.nameAP)': 0}, {u'count(DISTINCT AP.nameAP)': 0}, {u'count(DISTINCT AP.nameAP)': 0}, {u'count(DISTINCT AP.nameAP)': 0}, {u'count(DISTINCT AP.nameAP)': 0}, {u'count(DISTINCT AP.nameAP)': 0}, {u'count(DISTINCT AP.nameAP)': 0}, {u'count(DISTINCT AP.nameAP)': 0}, {u'count(DISTINCT AP.nameAP)': 0}, {u'count(DISTINCT AP.nameAP)': 0}, {u'count(DISTINCT AP.nameAP)': 0}, {u'count(DISTINCT AP.nameAP)': 0}, {u'count(DISTINCT AP.nameAP)': 0}, {u'count(DISTINCT AP.nameAP)': 0}, {u'count(DISTINCT AP.nameAP)': 0}, {u'count(DISTINCT AP.nameAP)': 0}, {u'count(DISTINCT AP.nameAP)': 0}, {u'count(DISTINCT AP.nameAP)': 0}, {u'count(DISTINCT AP.nameAP)': 0}, {u'count(DISTINCT AP.nameAP)': 0}, {u'count(DISTINCT AP.nameAP)': 0}, {u'count(DISTINCT AP.nameAP)': 0}, {u'count(DISTINCT AP.nameAP)': 0}, {u'count(DISTINCT AP.nameAP)': 0}, {u'count(DISTINCT AP.nameAP)': 0}, {u'count(DISTINCT AP.nameAP)': 0}, {u'count(DISTINCT AP.nameAP)': 0}, {u'count(DISTINCT AP.nameAP)': 0}, {u'count(DISTINCT AP.nameAP)': 0}, {u'count(DISTINCT AP.nameAP)': 0}, {u'count(DISTINCT AP.nameAP)': 0}, {u'count(DISTINCT AP.nameAP)': 0}, {u'count(DISTINCT AP.nameAP)': 0}, {u'count(DISTINCT AP.nameAP)': 0}, {u'count(DISTINCT AP.nameAP)': 0}, {u'count(DISTINCT AP.nameAP)': 0}, {u'count(DISTINCT AP.nameAP)': 0}, {u'count(DISTINCT AP.nameAP)': 0}, {u'count(DISTINCT AP.nameAP)': 0}, {u'count(DISTINCT AP.nameAP)': 0}, {u'count(DISTINCT AP.nameAP)': 0}, {u'count(DISTINCT AP.nameAP)': 0}, {u'count(DISTINCT AP.nameAP)': 0}, {u'count(DISTINCT AP.nameAP)': 0}, {u'count(DISTINCT AP.nameAP)': 0}, {u'count(DISTINCT AP.nameAP)': 0}, {u'count(DISTINCT AP.nameAP)': 0}, {u'count(DISTINCT AP.nameAP)': 0}, {u'count(DISTINCT AP.nameAP)': 0}, {u'count(DISTINCT AP.nameAP)': 0}, {u'count(DISTINCT AP.nameAP)': 0}, {u'count(DISTINCT AP.nameAP)': 0}, {u'count(DISTINCT AP.nameAP)': 0}, {u'count(DISTINCT AP.nameAP)': 0}, {u'count(DISTINCT AP.nameAP)': 0}, {u'count(DISTINCT AP.nameAP)': 0}, {u'count(DISTINCT AP.nameAP)': 0}, {u'count(DISTINCT AP.nameAP)': 0}, {u'count(DISTINCT AP.nameAP)': 0}, {u'count(DISTINCT AP.nameAP)': 0}, {u'count(DISTINCT AP.nameAP)': 0}, {u'count(DISTINCT AP.nameAP)': 0}, {u'count(DISTINCT AP.nameAP)': 0}, {u'count(DISTINCT AP.nameAP)': 0}, {u'count(DISTINCT AP.nameAP)': 0}, {u'count(DISTINCT AP.nameAP)': 0}, {u'count(DISTINCT AP.nameAP)': 0}, {u'count(DISTINCT AP.nameAP)': 0}, {u'count(DISTINCT AP.nameAP)': 0}, {u'count(DISTINCT AP.nameAP)': 0}, {u'count(DISTINCT AP.nameAP)': 0}, {u'count(DISTINCT AP.nameAP)': 0}, {u'count(DISTINCT AP.nameAP)': 0}, {u'count(DISTINCT AP.nameAP)': 0}, {u'count(DISTINCT AP.nameAP)': 0}, {u'count(DISTINCT AP.nameAP)': 0}, {u'count(DISTINCT AP.nameAP)': 0}, {u'count(DISTINCT AP.nameAP)': 0}, {u'count(DISTINCT AP.nameAP)': 0}, {u'count(DISTINCT AP.nameAP)': 0}, {u'count(DISTINCT AP.nameAP)': 0}, {u'count(DISTINCT AP.nameAP)': 0}, {u'count(DISTINCT AP.nameAP)': 0}, {u'count(DISTINCT AP.nameAP)': 0}, {u'count(DISTINCT AP.nameAP)': 0}, {u'count(DISTINCT AP.nameAP)': 0}, {u'count(DISTINCT AP.nameAP)': 0}, {u'count(DISTINCT AP.nameAP)': 0}, {u'count(DISTINCT AP.nameAP)': 0}, {u'count(DISTINCT AP.nameAP)': 0}, {u'count(DISTINCT AP.nameAP)': 0}, {u'count(DISTINCT AP.nameAP)': 0}, {u'count(DISTINCT AP.nameAP)': 0}, {u'count(DISTINCT AP.nameAP)': 0}, {u'count(DISTINCT AP.nameAP)': 0}, {u'count(DISTINCT AP.nameAP)': 0}, {u'count(DISTINCT AP.nameAP)': 0}, {u'count(DISTINCT AP.nameAP)': 0}, {u'count(DISTINCT AP.nameAP)': 0}, {u'count(DISTINCT AP.nameAP)': 0}, {u'count(DISTINCT AP.nameAP)': 0}, {u'count(DISTINCT AP.nameAP)': 0}, {u'count(DISTINCT AP.nameAP)': 0}, {u'count(DISTINCT AP.nameAP)': 0}, {u'count(DISTINCT AP.nameAP)': 0}, {u'count(DISTINCT AP.nameAP)': 0}, {u'count(DISTINCT AP.nameAP)': 0}, {u'count(DISTINCT AP.nameAP)': 0}, {u'count(DISTINCT AP.nameAP)': 0}, {u'count(DISTINCT AP.nameAP)': 0}, {u'count(DISTINCT AP.nameAP)': 0}, {u'count(DISTINCT AP.nameAP)': 0}, {u'count(DISTINCT AP.nameAP)': 0}, {u'count(DISTINCT AP.nameAP)': 0}, {u'count(DISTINCT AP.nameAP)': 0}, {u'count(DISTINCT AP.nameAP)': 0}, {u'count(DISTINCT AP.nameAP)': 0}, {u'count(DISTINCT AP.nameAP)': 0}, {u'count(DISTINCT AP.nameAP)': 0}, {u'count(DISTINCT AP.nameAP)': 0}, {u'count(DISTINCT AP.nameAP)': 0}, {u'count(DISTINCT AP.nameAP)': 0}, {u'count(DISTINCT AP.nameAP)': 0}, {u'count(DISTINCT AP.nameAP)': 0}, {u'count(DISTINCT AP.nameAP)': 0}, {u'count(DISTINCT AP.nameAP)': 0}, {u'count(DISTINCT AP.nameAP)': 0}, {u'count(DISTINCT AP.nameAP)': 0}, {u'count(DISTINCT AP.nameAP)': 0}, {u'count(DISTINCT AP.nameAP)': 0}, {u'count(DISTINCT AP.nameAP)': 0}, {u'count(DISTINCT AP.nameAP)': 0}, {u'count(DISTINCT AP.nameAP)': 0}, {u'count(DISTINCT AP.nameAP)': 0}, {u'count(DISTINCT AP.nameAP)': 0}, {u'count(DISTINCT AP.nameAP)': 0}, {u'count(DISTINCT AP.nameAP)': 0}, {u'count(DISTINCT AP.nameAP)': 0}, {u'count(DISTINCT AP.nameAP)': 0}, {u'count(DISTINCT AP.nameAP)': 0}, {u'count(DISTINCT AP.nameAP)': 0}, {u'count(DISTINCT AP.nameAP)': 0}, {u'count(DISTINCT AP.nameAP)': 0}, {u'count(DISTINCT AP.nameAP)': 0}, {u'count(DISTINCT AP.nameAP)': 0}, {u'count(DISTINCT AP.nameAP)': 0}, {u'count(DISTINCT AP.nameAP)': 0}, {u'count(DISTINCT AP.nameAP)': 0}, {u'count(DISTINCT AP.nameAP)': 0}, {u'count(DISTINCT AP.nameAP)': 0}, {u'count(DISTINCT AP.nameAP)': 0}, {u'count(DISTINCT AP.nameAP)': 0}, {u'count(DISTINCT AP.nameAP)': 0}, {u'count(DISTINCT AP.nameAP)': 0}, {u'count(DISTINCT AP.nameAP)': 0}, {u'count(DISTINCT AP.nameAP)': 0}, {u'count(DISTINCT AP.nameAP)': 0}, {u'count(DISTINCT AP.nameAP)': 0}, {u'count(DISTINCT AP.nameAP)': 0}, {u'count(DISTINCT AP.nameAP)': 0}, {u'count(DISTINCT AP.nameAP)': 0}, {u'count(DISTINCT AP.nameAP)': 0}, {u'count(DISTINCT AP.nameAP)': 0}, {u'count(DISTINCT AP.nameAP)': 0}, {u'count(DISTINCT AP.nameAP)': 0}, {u'count(DISTINCT AP.nameAP)': 0}, {u'count(DISTINCT AP.nameAP)': 0}, {u'count(DISTINCT AP.nameAP)': 0}, {u'count(DISTINCT AP.nameAP)': 0}, {u'count(DISTINCT AP.nameAP)': 0}, {u'count(DISTINCT AP.nameAP)': 0}, {u'count(DISTINCT AP.nameAP)': 0}, {u'count(DISTINCT AP.nameAP)': 0}, {u'count(DISTINCT AP.nameAP)': 0}, {u'count(DISTINCT AP.nameAP)': 0}, {u'count(DISTINCT AP.nameAP)': 0}, {u'count(DISTINCT AP.nameAP)': 0}, {u'count(DISTINCT AP.nameAP)': 0}, {u'count(DISTINCT AP.nameAP)': 0}, {u'count(DISTINCT AP.nameAP)': 0}, {u'count(DISTINCT AP.nameAP)': 0}, {u'count(DISTINCT AP.nameAP)': 0}, {u'count(DISTINCT AP.nameAP)': 0}, {u'count(DISTINCT AP.nameAP)': 0}, {u'count(DISTINCT AP.nameAP)': 0}, {u'count(DISTINCT AP.nameAP)': 0}, {u'count(DISTINCT AP.nameAP)': 0}, {u'count(DISTINCT AP.nameAP)': 0}, {u'count(DISTINCT AP.nameAP)': 0}, {u'count(DISTINCT AP.nameAP)': 0}, {u'count(DISTINCT AP.nameAP)': 0}, {u'count(DISTINCT AP.nameAP)': 0}, {u'count(DISTINCT AP.nameAP)': 0}, {u'count(DISTINCT AP.nameAP)': 0}, {u'count(DISTINCT AP.nameAP)': 0}, {u'count(DISTINCT AP.nameAP)': 0}, {u'count(DISTINCT AP.nameAP)': 0}, {u'count(DISTINCT AP.nameAP)': 0}, {u'count(DISTINCT AP.nameAP)': 0}, {u'count(DISTINCT AP.nameAP)': 0}, {u'count(DISTINCT AP.nameAP)': 0}, {u'count(DISTINCT AP.nameAP)': 0}, {u'count(DISTINCT AP.nameAP)': 0}, {u'count(DISTINCT AP.nameAP)': 0}, {u'count(DISTINCT AP.nameAP)': 0}, {u'count(DISTINCT AP.nameAP)': 0}, {u'count(DISTINCT AP.nameAP)': 0}, {u'count(DISTINCT AP.nameAP)': 0}, {u'count(DISTINCT AP.nameAP)': 0}, {u'count(DISTINCT AP.nameAP)': 0}, {u'count(DISTINCT AP.nameAP)': 0}, {u'count(DISTINCT AP.nameAP)': 0}, {u'count(DISTINCT AP.nameAP)': 0}, {u'count(DISTINCT AP.nameAP)': 0}, {u'count(DISTINCT AP.nameAP)': 0}, {u'count(DISTINCT AP.nameAP)': 0}, {u'count(DISTINCT AP.nameAP)': 0}, {u'count(DISTINCT AP.nameAP)': 0}, {u'count(DISTINCT AP.nameAP)': 0}, {u'count(DISTINCT AP.nameAP)': 0}, {u'count(DISTINCT AP.nameAP)': 0}, {u'count(DISTINCT AP.nameAP)': 0}, {u'count(DISTINCT AP.nameAP)': 0}, {u'count(DISTINCT AP.nameAP)': 0}, {u'count(DISTINCT AP.nameAP)': 0}, {u'count(DISTINCT AP.nameAP)': 0}, {u'count(DISTINCT AP.nameAP)': 0}, {u'count(DISTINCT AP.nameAP)': 0}, {u'count(DISTINCT AP.nameAP)': 0}, {u'count(DISTINCT AP.nameAP)': 0}, {u'count(DISTINCT AP.nameAP)': 0}, {u'count(DISTINCT AP.nameAP)': 0}, {u'count(DISTINCT AP.nameAP)': 0}, {u'count(DISTINCT AP.nameAP)': 0}, {u'count(DISTINCT AP.nameAP)': 0}, {u'count(DISTINCT AP.nameAP)': 0}, {u'count(DISTINCT AP.nameAP)': 0}, {u'count(DISTINCT AP.nameAP)': 0}, {u'count(DISTINCT AP.nameAP)': 0}, {u'count(DISTINCT AP.nameAP)': 0}, {u'count(DISTINCT AP.nameAP)': 0}, {u'count(DISTINCT AP.nameAP)': 0}, {u'count(DISTINCT AP.nameAP)': 0}, {u'count(DISTINCT AP.nameAP)': 0}, {u'count(DISTINCT AP.nameAP)': 0}, {u'count(DISTINCT AP.nameAP)': 0}, {u'count(DISTINCT AP.nameAP)': 0}, {u'count(DISTINCT AP.nameAP)': 0}, {u'count(DISTINCT AP.nameAP)': 0}, {u'count(DISTINCT AP.nameAP)': 0}, {u'count(DISTINCT AP.nameAP)': 0}, {u'count(DISTINCT AP.nameAP)': 0}, {u'count(DISTINCT AP.nameAP)': 0}, {u'count(DISTINCT AP.nameAP)': 0}, {u'count(DISTINCT AP.nameAP)': 0}, {u'count(DISTINCT AP.nameAP)': 0}, {u'count(DISTINCT AP.nameAP)': 0}, {u'count(DISTINCT AP.nameAP)': 0}, {u'count(DISTINCT AP.nameAP)': 0}, {u'count(DISTINCT AP.nameAP)': 0}, {u'count(DISTINCT AP.nameAP)': 0}, {u'count(DISTINCT AP.nameAP)': 0}, {u'count(DISTINCT AP.nameAP)': 0}, {u'count(DISTINCT AP.nameAP)': 0}, {u'count(DISTINCT AP.nameAP)': 0}, {u'count(DISTINCT AP.nameAP)': 0}, {u'count(DISTINCT AP.nameAP)': 0}, {u'count(DISTINCT AP.nameAP)': 0}, {u'count(DISTINCT AP.nameAP)': 0}, {u'count(DISTINCT AP.nameAP)': 0}, {u'count(DISTINCT AP.nameAP)': 0}, {u'count(DISTINCT AP.nameAP)': 0}, {u'count(DISTINCT AP.nameAP)': 0}, {u'count(DISTINCT AP.nameAP)': 0}, {u'count(DISTINCT AP.nameAP)': 0}, {u'count(DISTINCT AP.nameAP)': 0}, {u'count(DISTINCT AP.nameAP)': 0}, {u'count(DISTINCT AP.nameAP)': 0}, {u'count(DISTINCT AP.nameAP)': 0}, {u'count(DISTINCT AP.nameAP)': 0}, {u'count(DISTINCT AP.nameAP)': 0}, {u'count(DISTINCT AP.nameAP)': 0}, {u'count(DISTINCT AP.nameAP)': 0}, {u'count(DISTINCT AP.nameAP)': 0}, {u'count(DISTINCT AP.nameAP)': 0}, {u'count(DISTINCT AP.nameAP)': 0}, {u'count(DISTINCT AP.nameAP)': 0}, {u'count(DISTINCT AP.nameAP)': 0}, {u'count(DISTINCT AP.nameAP)': 0}, {u'count(DISTINCT AP.nameAP)': 0}, {u'count(DISTINCT AP.nameAP)': 0}, {u'count(DISTINCT AP.nameAP)': 0}, {u'count(DISTINCT AP.nameAP)': 0}, {u'count(DISTINCT AP.nameAP)': 0}, {u'count(DISTINCT AP.nameAP)': 0}, {u'count(DISTINCT AP.nameAP)': 0}, {u'count(DISTINCT AP.nameAP)': 0}, {u'count(DISTINCT AP.nameAP)': 0}, {u'count(DISTINCT AP.nameAP)': 0}, {u'count(DISTINCT AP.nameAP)': 0}, {u'count(DISTINCT AP.nameAP)': 0}, {u'count(DISTINCT AP.nameAP)': 0}, {u'count(DISTINCT AP.nameAP)': 0}, {u'count(DISTINCT AP.nameAP)': 0}, {u'count(DISTINCT AP.nameAP)': 0}, {u'count(DISTINCT AP.nameAP)': 0}, {u'count(DISTINCT AP.nameAP)': 0}, {u'count(DISTINCT AP.nameAP)': 0}, {u'count(DISTINCT AP.nameAP)': 0}, {u'count(DISTINCT AP.nameAP)': 0}, {u'count(DISTINCT AP.nameAP)': 0}, {u'count(DISTINCT AP.nameAP)': 0}, {u'count(DISTINCT AP.nameAP)': 0}, {u'count(DISTINCT AP.nameAP)': 0}, {u'count(DISTINCT AP.nameAP)': 0}, {u'count(DISTINCT AP.nameAP)': 0}, {u'count(DISTINCT AP.nameAP)': 0}, {u'count(DISTINCT AP.nameAP)': 0}, {u'count(DISTINCT AP.nameAP)': 0}, {u'count(DISTINCT AP.nameAP)': 0}, {u'count(DISTINCT AP.nameAP)': 0}, {u'count(DISTINCT AP.nameAP)': 0}, {u'count(DISTINCT AP.nameAP)': 0}, {u'count(DISTINCT AP.nameAP)': 0}, {u'count(DISTINCT AP.nameAP)': 0}, {u'count(DISTINCT AP.nameAP)': 0}, {u'count(DISTINCT AP.nameAP)': 0}, {u'count(DISTINCT AP.nameAP)': 0}, {u'count(DISTINCT AP.nameAP)': 0}, {u'count(DISTINCT AP.nameAP)': 0}, {u'count(DISTINCT AP.nameAP)': 0}, {u'count(DISTINCT AP.nameAP)': 0}, {u'count(DISTINCT AP.nameAP)': 0}, {u'count(DISTINCT AP.nameAP)': 0}, {u'count(DISTINCT AP.nameAP)': 0}, {u'count(DISTINCT AP.nameAP)': 0}, {u'count(DISTINCT AP.nameAP)': 0}, {u'count(DISTINCT AP.nameAP)': 0}, {u'count(DISTINCT AP.nameAP)': 0}, {u'count(DISTINCT AP.nameAP)': 0}, {u'count(DISTINCT AP.nameAP)': 0}, {u'count(DISTINCT AP.nameAP)': 0}, {u'count(DISTINCT AP.nameAP)': 0}, {u'count(DISTINCT AP.nameAP)': 0}, {u'count(DISTINCT AP.nameAP)': 0}, {u'count(DISTINCT AP.nameAP)': 0}, {u'count(DISTINCT AP.nameAP)': 0}, {u'count(DISTINCT AP.nameAP)': 0}, {u'count(DISTINCT AP.nameAP)': 0}, {u'count(DISTINCT AP.nameAP)': 0}, {u'count(DISTINCT AP.nameAP)': 0}, {u'count(DISTINCT AP.nameAP)': 0}, {u'count(DISTINCT AP.nameAP)': 0}, {u'count(DISTINCT AP.nameAP)': 0}, {u'count(DISTINCT AP.nameAP)': 0}, {u'count(DISTINCT AP.nameAP)': 0}, {u'count(DISTINCT AP.nameAP)': 0}, {u'count(DISTINCT AP.nameAP)': 0}, {u'count(DISTINCT AP.nameAP)': 0}, {u'count(DISTINCT AP.nameAP)': 0}, {u'count(DISTINCT AP.nameAP)': 0}, {u'count(DISTINCT AP.nameAP)': 0}, {u'count(DISTINCT AP.nameAP)': 0}, {u'count(DISTINCT AP.nameAP)': 0}, {u'count(DISTINCT AP.nameAP)': 0}, {u'count(DISTINCT AP.nameAP)': 0}, {u'count(DISTINCT AP.nameAP)': 0}, {u'count(DISTINCT AP.nameAP)': 0}, {u'count(DISTINCT AP.nameAP)': 0}, {u'count(DISTINCT AP.nameAP)': 0}, {u'count(DISTINCT AP.nameAP)': 0}, {u'count(DISTINCT AP.nameAP)': 0}, {u'count(DISTINCT AP.nameAP)': 0}, {u'count(DISTINCT AP.nameAP)': 0}, {u'count(DISTINCT AP.nameAP)': 0}, {u'count(DISTINCT AP.nameAP)': 0}, {u'count(DISTINCT AP.nameAP)': 0}, {u'count(DISTINCT AP.nameAP)': 0}, {u'count(DISTINCT AP.nameAP)': 0}, {u'count(DISTINCT AP.nameAP)': 0}, {u'count(DISTINCT AP.nameAP)': 0}, {u'count(DISTINCT AP.nameAP)': 0}, {u'count(DISTINCT AP.nameAP)': 0}, {u'count(DISTINCT AP.nameAP)': 0}, {u'count(DISTINCT AP.nameAP)': 0}, {u'count(DISTINCT AP.nameAP)': 0}, {u'count(DISTINCT AP.nameAP)': 0}, {u'count(DISTINCT AP.nameAP)': 0}, {u'count(DISTINCT AP.nameAP)': 0}, {u'count(DISTINCT AP.nameAP)': 0}, {u'count(DISTINCT AP.nameAP)': 0}, {u'count(DISTINCT AP.nameAP)': 0}, {u'count(DISTINCT AP.nameAP)': 0}, {u'count(DISTINCT AP.nameAP)': 0}, {u'count(DISTINCT AP.nameAP)': 0}, {u'count(DISTINCT AP.nameAP)': 0}, {u'count(DISTINCT AP.nameAP)': 0}, {u'count(DISTINCT AP.nameAP)': 0}, {u'count(DISTINCT AP.nameAP)': 0}, {u'count(DISTINCT AP.nameAP)': 0}, {u'count(DISTINCT AP.nameAP)': 0}, {u'count(DISTINCT AP.nameAP)': 0}, {u'count(DISTINCT AP.nameAP)': 0}, {u'count(DISTINCT AP.nameAP)': 0}, {u'count(DISTINCT AP.nameAP)': 0}, {u'count(DISTINCT AP.nameAP)': 0}, {u'count(DISTINCT AP.nameAP)': 0}, {u'count(DISTINCT AP.nameAP)': 0}, {u'count(DISTINCT AP.nameAP)': 0}, {u'count(DISTINCT AP.nameAP)': 0}, {u'count(DISTINCT AP.nameAP)': 0}, {u'count(DISTINCT AP.nameAP)': 0}, {u'count(DISTINCT AP.nameAP)': 0}, {u'count(DISTINCT AP.nameAP)': 0}, {u'count(DISTINCT AP.nameAP)': 0}, {u'count(DISTINCT AP.nameAP)': 0}, {u'count(DISTINCT AP.nameAP)': 0}, {u'count(DISTINCT AP.nameAP)': 0}, {u'count(DISTINCT AP.nameAP)': 0}, {u'count(DISTINCT AP.nameAP)': 0}, {u'count(DISTINCT AP.nameAP)': 0}, {u'count(DISTINCT AP.nameAP)': 0}, {u'count(DISTINCT AP.nameAP)': 0}, {u'count(DISTINCT AP.nameAP)': 0}, {u'count(DISTINCT AP.nameAP)': 0}, {u'count(DISTINCT AP.nameAP)': 0}, {u'count(DISTINCT AP.nameAP)': 0}, {u'count(DISTINCT AP.nameAP)': 0}, {u'count(DISTINCT AP.nameAP)': 0}, {u'count(DISTINCT AP.nameAP)': 0}, {u'count(DISTINCT AP.nameAP)': 0}, {u'count(DISTINCT AP.nameAP)': 0}, {u'count(DISTINCT AP.nameAP)': 0}, {u'count(DISTINCT AP.nameAP)': 0}, {u'count(DISTINCT AP.nameAP)': 0}, {u'count(DISTINCT AP.nameAP)': 0}, {u'count(DISTINCT AP.nameAP)': 0}, {u'count(DISTINCT AP.nameAP)': 0}, {u'count(DISTINCT AP.nameAP)': 0}, {u'count(DISTINCT AP.nameAP)': 0}, {u'count(DISTINCT AP.nameAP)': 0}, {u'count(DISTINCT AP.nameAP)': 0}, {u'count(DISTINCT AP.nameAP)': 0}, {u'count(DISTINCT AP.nameAP)': 0}, {u'count(DISTINCT AP.nameAP)': 0}, {u'count(DISTINCT AP.nameAP)': 0}, {u'count(DISTINCT AP.nameAP)': 0}, {u'count(DISTINCT AP.nameAP)': 0}, {u'count(DISTINCT AP.nameAP)': 0}, {u'count(DISTINCT AP.nameAP)': 0}, {u'count(DISTINCT AP.nameAP)': 0}, {u'count(DISTINCT AP.nameAP)': 0}, {u'count(DISTINCT AP.nameAP)': 0}, {u'count(DISTINCT AP.nameAP)': 0}, {u'count(DISTINCT AP.nameAP)': 0}, {u'count(DISTINCT AP.nameAP)': 0}, {u'count(DISTINCT AP.nameAP)': 0}, {u'count(DISTINCT AP.nameAP)': 0}, {u'count(DISTINCT AP.nameAP)': 0}, {u'count(DISTINCT AP.nameAP)': 0}, {u'count(DISTINCT AP.nameAP)': 0}, {u'count(DISTINCT AP.nameAP)': 0}, {u'count(DISTINCT AP.nameAP)': 0}, {u'count(DISTINCT AP.nameAP)': 0}, {u'count(DISTINCT AP.nameAP)': 0}, {u'count(DISTINCT AP.nameAP)': 0}, {u'count(DISTINCT AP.nameAP)': 0}, {u'count(DISTINCT AP.nameAP)': 0}, {u'count(DISTINCT AP.nameAP)': 0}, {u'count(DISTINCT AP.nameAP)': 0}, {u'count(DISTINCT AP.nameAP)': 0}, {u'count(DISTINCT AP.nameAP)': 0}, {u'count(DISTINCT AP.nameAP)': 0}, {u'count(DISTINCT AP.nameAP)': 0}, {u'count(DISTINCT AP.nameAP)': 0}, {u'count(DISTINCT AP.nameAP)': 0}, {u'count(DISTINCT AP.nameAP)': 0}, {u'count(DISTINCT AP.nameAP)': 0}, {u'count(DISTINCT AP.nameAP)': 0}, {u'count(DISTINCT AP.nameAP)': 0}, {u'count(DISTINCT AP.nameAP)': 0}, {u'count(DISTINCT AP.nameAP)': 0}, {u'count(DISTINCT AP.nameAP)': 0}, {u'count(DISTINCT AP.nameAP)': 0}, {u'count(DISTINCT AP.nameAP)': 0}, {u'count(DISTINCT AP.nameAP)': 0}, {u'count(DISTINCT AP.nameAP)': 0}, {u'count(DISTINCT AP.nameAP)': 0}, {u'count(DISTINCT AP.nameAP)': 0}, {u'count(DISTINCT AP.nameAP)': 0}, {u'count(DISTINCT AP.nameAP)': 0}, {u'count(DISTINCT AP.nameAP)': 0}, {u'count(DISTINCT AP.nameAP)': 0}, {u'count(DISTINCT AP.nameAP)': 0}, {u'count(DISTINCT AP.nameAP)': 0}, {u'count(DISTINCT AP.nameAP)': 0}, {u'count(DISTINCT AP.nameAP)': 0}, {u'count(DISTINCT AP.nameAP)': 0}, {u'count(DISTINCT AP.nameAP)': 0}, {u'count(DISTINCT AP.nameAP)': 0}, {u'count(DISTINCT AP.nameAP)': 0}, {u'count(DISTINCT AP.nameAP)': 0}, {u'count(DISTINCT AP.nameAP)': 0}, {u'count(DISTINCT AP.nameAP)': 0}, {u'count(DISTINCT AP.nameAP)': 0}, {u'count(DISTINCT AP.nameAP)': 0}, {u'count(DISTINCT AP.nameAP)': 0}, {u'count(DISTINCT AP.nameAP)': 0}, {u'count(DISTINCT AP.nameAP)': 0}, {u'count(DISTINCT AP.nameAP)': 0}, {u'count(DISTINCT AP.nameAP)': 0}, {u'count(DISTINCT AP.nameAP)': 0}, {u'count(DISTINCT AP.nameAP)': 0}, {u'count(DISTINCT AP.nameAP)': 0}, {u'count(DISTINCT AP.nameAP)': 0}, {u'count(DISTINCT AP.nameAP)': 0}, {u'count(DISTINCT AP.nameAP)': 0}, {u'count(DISTINCT AP.nameAP)': 0}, {u'count(DISTINCT AP.nameAP)': 0}, {u'count(DISTINCT AP.nameAP)': 0}, {u'count(DISTINCT AP.nameAP)': 0}, {u'count(DISTINCT AP.nameAP)': 0}, {u'count(DISTINCT AP.nameAP)': 0}, {u'count(DISTINCT AP.nameAP)': 0}, {u'count(DISTINCT AP.nameAP)': 0}, {u'count(DISTINCT AP.nameAP)': 0}, {u'count(DISTINCT AP.nameAP)': 0}, {u'count(DISTINCT AP.nameAP)': 0}, {u'count(DISTINCT AP.nameAP)': 0}, {u'count(DISTINCT AP.nameAP)': 0}, {u'count(DISTINCT AP.nameAP)': 0}, {u'count(DISTINCT AP.nameAP)': 0}, {u'count(DISTINCT AP.nameAP)': 0}, {u'count(DISTINCT AP.nameAP)': 0}, {u'count(DISTINCT AP.nameAP)': 0}, {u'count(DISTINCT AP.nameAP)': 0}, {u'count(DISTINCT AP.nameAP)': 0}, {u'count(DISTINCT AP.nameAP)': 0}, {u'count(DISTINCT AP.nameAP)': 0}, {u'count(DISTINCT AP.nameAP)': 0}, {u'count(DISTINCT AP.nameAP)': 0}, {u'count(DISTINCT AP.nameAP)': 0}, {u'count(DISTINCT AP.nameAP)': 0}, {u'count(DISTINCT AP.nameAP)': 0}, {u'count(DISTINCT AP.nameAP)': 0}, {u'count(DISTINCT AP.nameAP)': 0}, {u'count(DISTINCT AP.nameAP)': 0}, {u'count(DISTINCT AP.nameAP)': 0}, {u'count(DISTINCT AP.nameAP)': 0}, {u'count(DISTINCT AP.nameAP)': 0}, {u'count(DISTINCT AP.nameAP)': 0}, {u'count(DISTINCT AP.nameAP)': 0}, {u'count(DISTINCT AP.nameAP)': 0}, {u'count(DISTINCT AP.nameAP)': 0}, {u'count(DISTINCT AP.nameAP)': 0}, {u'count(DISTINCT AP.nameAP)': 0}, {u'count(DISTINCT AP.nameAP)': 0}, {u'count(DISTINCT AP.nameAP)': 0}, {u'count(DISTINCT AP.nameAP)': 0}, {u'count(DISTINCT AP.nameAP)': 0}, {u'count(DISTINCT AP.nameAP)': 0}, {u'count(DISTINCT AP.nameAP)': 0}, {u'count(DISTINCT AP.nameAP)': 0}, {u'count(DISTINCT AP.nameAP)': 0}, {u'count(DISTINCT AP.nameAP)': 0}, {u'count(DISTINCT AP.nameAP)': 0}, {u'count(DISTINCT AP.nameAP)': 0}, {u'count(DISTINCT AP.nameAP)': 0}, {u'count(DISTINCT AP.nameAP)': 0}, {u'count(DISTINCT AP.nameAP)': 0}, {u'count(DISTINCT AP.nameAP)': 0}, {u'count(DISTINCT AP.nameAP)': 0}, {u'count(DISTINCT AP.nameAP)': 0}, {u'count(DISTINCT AP.nameAP)': 0}, {u'count(DISTINCT AP.nameAP)': 0}, {u'count(DISTINCT AP.nameAP)': 0}, {u'count(DISTINCT AP.nameAP)': 0}, {u'count(DISTINCT AP.nameAP)': 0}, {u'count(DISTINCT AP.nameAP)': 0}, {u'count(DISTINCT AP.nameAP)': 0}, {u'count(DISTINCT AP.nameAP)': 0}, {u'count(DISTINCT AP.nameAP)': 0}, {u'count(DISTINCT AP.nameAP)': 0}, {u'count(DISTINCT AP.nameAP)': 0}, {u'count(DISTINCT AP.nameAP)': 0}, {u'count(DISTINCT AP.nameAP)': 0}, {u'count(DISTINCT AP.nameAP)': 0}, {u'count(DISTINCT AP.nameAP)': 0}, {u'count(DISTINCT AP.nameAP)': 0}, {u'count(DISTINCT AP.nameAP)': 0}, {u'count(DISTINCT AP.nameAP)': 0}, {u'count(DISTINCT AP.nameAP)': 0}, {u'count(DISTINCT AP.nameAP)': 0}, {u'count(DISTINCT AP.nameAP)': 0}, {u'count(DISTINCT AP.nameAP)': 0}, {u'count(DISTINCT AP.nameAP)': 0}, {u'count(DISTINCT AP.nameAP)': 0}, {u'count(DISTINCT AP.nameAP)': 0}, {u'count(DISTINCT AP.nameAP)': 0}, {u'count(DISTINCT AP.nameAP)': 0}, {u'count(DISTINCT AP.nameAP)': 0}, {u'count(DISTINCT AP.nameAP)': 0}, {u'count(DISTINCT AP.nameAP)': 0}, {u'count(DISTINCT AP.nameAP)': 0}, {u'count(DISTINCT AP.nameAP)': 0}, {u'count(DISTINCT AP.nameAP)': 0}, {u'count(DISTINCT AP.nameAP)': 0}, {u'count(DISTINCT AP.nameAP)': 0}, {u'count(DISTINCT AP.nameAP)': 0}, {u'count(DISTINCT AP.nameAP)': 0}, {u'count(DISTINCT AP.nameAP)': 0}, {u'count(DISTINCT AP.nameAP)': 0}, {u'count(DISTINCT AP.nameAP)': 0}, {u'count(DISTINCT AP.nameAP)': 0}, {u'count(DISTINCT AP.nameAP)': 0}, {u'count(DISTINCT AP.nameAP)': 0}, {u'count(DISTINCT AP.nameAP)': 0}, {u'count(DISTINCT AP.nameAP)': 0}, {u'count(DISTINCT AP.nameAP)': 0}, {u'count(DISTINCT AP.nameAP)': 0}, {u'count(DISTINCT AP.nameAP)': 0}, {u'count(DISTINCT AP.nameAP)': 0}, {u'count(DISTINCT AP.nameAP)': 0}, {u'count(DISTINCT AP.nameAP)': 0}, {u'count(DISTINCT AP.nameAP)': 0}, {u'count(DISTINCT AP.nameAP)': 0}, {u'count(DISTINCT AP.nameAP)': 0}, {u'count(DISTINCT AP.nameAP)': 0}, {u'count(DISTINCT AP.nameAP)': 0}, {u'count(DISTINCT AP.nameAP)': 0}, {u'count(DISTINCT AP.nameAP)': 0}, {u'count(DISTINCT AP.nameAP)': 0}, {u'count(DISTINCT AP.nameAP)': 0}, {u'count(DISTINCT AP.nameAP)': 0}, {u'count(DISTINCT AP.nameAP)': 0}, {u'count(DISTINCT AP.nameAP)': 0}, {u'count(DISTINCT AP.nameAP)': 0}, {u'count(DISTINCT AP.nameAP)': 0}, {u'count(DISTINCT AP.nameAP)': 0}, {u'count(DISTINCT AP.nameAP)': 0}, {u'count(DISTINCT AP.nameAP)': 0}, {u'count(DISTINCT AP.nameAP)': 0}, {u'count(DISTINCT AP.nameAP)': 0}, {u'count(DISTINCT AP.nameAP)': 0}, {u'count(DISTINCT AP.nameAP)': 0}, {u'count(DISTINCT AP.nameAP)': 0}, {u'count(DISTINCT AP.nameAP)': 0}, {u'count(DISTINCT AP.nameAP)': 0}, {u'count(DISTINCT AP.nameAP)': 0}, {u'count(DISTINCT AP.nameAP)': 0}, {u'count(DISTINCT AP.nameAP)': 0}]\n"
     ]
    }
   ],
   "source": [
    "nbAPConnected = [item[0] for item in nbAPConnected]\n",
    "print nbAPConnected"
   ]
  },
  {
   "cell_type": "code",
   "execution_count": 27,
   "metadata": {
    "collapsed": false
   },
   "outputs": [
    {
     "name": "stdout",
     "output_type": "stream",
     "text": [
      "[19, 8, 2, 10, 6, 4, 25, 107, 106, 155, 3, 2, 23, 23, 11, 5, 1, 9, 27, 3, 20, 7, 8, 78, 10, 8, 12, 7, 34, 4, 59, 21, 66, 45, 77, 5, 11, 31, 81, 3, 6, 1, 5, 2, 14, 1, 20, 54, 3, 2, 5, 29, 39, 26, 8, 4, 8, 30, 9, 2, 129, 3, 4, 11, 6, 66, 2, 32, 10, 4, 11, 10, 39, 52, 9, 7, 2, 52, 2, 80, 18, 4, 37, 1, 5, 4, 7, 3, 74, 6, 1, 1, 17, 9, 5, 8, 40, 100, 2, 4, 6, 7, 5, 4, 37, 7, 6, 1, 10, 4, 1, 5, 3, 5, 2, 46, 4, 8, 2, 4, 12, 4, 2, 10, 14, 15, 2, 6, 32, 3, 3, 1, 6, 5, 8, 3, 44, 59, 15, 25, 11, 8, 16, 24, 14, 13, 29, 18, 17, 31, 7, 2, 21, 2, 25, 10, 62, 9, 16, 1, 16, 12, 2, 9, 25, 37, 21, 46, 3, 1, 9, 44, 7, 2, 6, 9, 13, 17, 46, 1, 35, 5, 24, 6, 16, 18, 20, 12, 1, 36, 13, 7, 10, 2, 16, 3, 22, 8, 4, 9, 21, 1, 5, 10, 2, 13, 20, 7, 7, 8, 1, 28, 3, 14, 12, 2, 13, 8, 2, 5, 1, 3, 10, 7, 7, 10, 2, 1, 14, 15, 44, 25, 13, 1, 8, 5, 30, 2, 22, 4, 2, 6, 9, 28, 16, 3, 2, 50, 16, 9, 7, 1, 12, 1, 2, 9, 14, 13, 15, 2, 4, 3, 21, 1, 68, 15, 18, 37, 6, 1, 4, 3, 5, 21, 12, 2, 1, 13, 44, 12, 5, 2, 7, 3, 20, 2, 22, 3, 34, 9, 24, 3, 11, 11, 32, 2, 20, 31, 9, 2, 15, 1, 7, 16, 16, 1, 18, 4, 11, 3, 5, 6, 5, 24, 8, 4, 79, 6, 5, 11, 4, 5, 8, 5, 3, 3, 21, 1, 3, 1, 19, 5, 8, 7, 6, 6, 4, 4, 1, 18, 32, 15, 1, 9, 2, 3, 1, 3, 8, 6, 5, 5, 4, 1, 4, 15, 3, 2, 4, 3, 30, 1, 1, 3, 8, 27, 17, 7, 8, 1, 4, 36, 28, 3, 22, 3, 1, 1, 18, 17, 1, 2, 2, 1, 3, 2, 1, 3, 1, 1, 8, 1, 2, 6, 3, 1, 4, 7, 1, 5, 2, 3, 10, 21, 1, 3, 1, 21, 1, 1, 4, 18, 3, 7, 8, 26, 1, 1, 4, 2, 3, 1, 4, 1, 2, 0, 0, 0, 0, 0, 0, 0, 0, 0, 0, 0, 0, 0, 0, 0, 0, 0, 0, 0, 0, 0, 0, 0, 0, 0, 0, 0, 0, 0, 0, 0, 0, 0, 0, 0, 0, 0, 0, 0, 0, 0, 0, 0, 0, 0, 0, 0, 0, 0, 0, 0, 0, 0, 0, 0, 0, 0, 0, 0, 0, 0, 0, 0, 0, 0, 0, 0, 0, 0, 0, 0, 0, 0, 0, 0, 0, 0, 0, 0, 0, 0, 0, 0, 0, 0, 0, 0, 0, 0, 0, 0, 0, 0, 0, 0, 0, 0, 0, 0, 0, 0, 0, 0, 0, 0, 0, 0, 0, 0, 0, 0, 0, 0, 0, 0, 0, 0, 0, 0, 0, 0, 0, 0, 0, 0, 0, 0, 0, 0, 0, 0, 0, 0, 0, 0, 0, 0, 0, 0, 0, 0, 0, 0, 0, 0, 0, 0, 0, 0, 0, 0, 0, 0, 0, 0, 0, 0, 0, 0, 0, 0, 0, 0, 0, 0, 0, 0, 0, 0, 0, 0, 0, 0, 0, 0, 0, 0, 0, 0, 0, 0, 0, 0, 0, 0, 0, 0, 0, 0, 0, 0, 0, 0, 0, 0, 0, 0, 0, 0, 0, 0, 0, 0, 0, 0, 0, 0, 0, 0, 0, 0, 0, 0, 0, 0, 0, 0, 0, 0, 0, 0, 0, 0, 0, 0, 0, 0, 0, 0, 0, 0, 0, 0, 0, 0, 0, 0, 0, 0, 0, 0, 0, 0, 0, 0, 0, 0, 0, 0, 0, 0, 0, 0, 0, 0, 0, 0, 0, 0, 0, 0, 0, 0, 0, 0, 0, 0, 0, 0, 0, 0, 0, 0, 0, 0, 0, 0, 0, 0, 0, 0, 0, 0, 0, 0, 0, 0, 0, 0, 0, 0, 0, 0, 0, 0, 0, 0, 0, 0, 0, 0, 0, 0, 0, 0, 0, 0, 0, 0, 0, 0, 0, 0, 0, 0, 0, 0, 0, 0, 0, 0, 0, 0, 0, 0, 0, 0, 0, 0, 0, 0, 0, 0, 0, 0, 0, 0, 0, 0, 0, 0, 0, 0, 0, 0, 0, 0, 0, 0, 0, 0, 0, 0, 0, 0, 0, 0, 0, 0, 0, 0, 0, 0, 0, 0, 0, 0, 0, 0, 0, 0, 0, 0, 0, 0, 0, 0, 0, 0, 0, 0, 0, 0, 0, 0, 0, 0, 0, 0, 0, 0, 0, 0, 0, 0, 0, 0, 0, 0, 0, 0, 0, 0, 0, 0, 0, 0, 0, 0, 0, 0, 0, 0, 0, 0, 0, 0, 0, 0, 0, 0, 0, 0, 0, 0, 0, 0, 0, 0, 0, 0, 0, 0, 0, 0, 0, 0, 0, 0, 0, 0, 0, 0, 0, 0, 0, 0, 0, 0, 0, 0, 0, 0, 0, 0, 0, 0, 0, 0, 0, 0, 0, 0, 0, 0, 0, 0, 0, 0, 0, 0, 0, 0, 0, 0, 0, 0, 0, 0, 0, 0, 0, 0, 0, 0, 0, 0, 0, 0, 0, 0, 0, 0, 0, 0, 0, 0, 0, 0, 0, 0, 0, 0, 0, 0, 0, 0, 0, 0, 0, 0, 0, 0, 0, 0, 0, 0, 0, 0, 0, 0, 0, 0, 0, 0, 0, 0, 0, 0, 0, 0, 0, 0, 0, 0, 0, 0, 0, 0, 0, 0, 0, 0, 0, 0, 0, 0, 0, 0, 0, 0, 0, 0, 0, 0, 0, 0, 0, 0, 0, 0, 0, 0, 0, 0, 0, 0, 0, 0, 0, 0, 0, 0, 0, 0, 0, 0, 0, 0, 0, 0, 0, 0, 0, 0, 0, 0, 0, 0, 0, 0, 0, 0, 0, 0, 0, 0, 0, 0, 0, 0, 0, 0, 0, 0, 0, 0, 0, 0, 0, 0, 0, 0, 0, 0, 0, 0, 0, 0, 0, 0, 0, 0, 0, 0, 0, 0, 0, 0, 0, 0, 0, 0, 0, 0, 0, 0, 0, 0, 0, 0, 0, 0, 0, 0, 0, 0, 0, 0, 0, 0, 0, 0, 0, 0, 0, 0, 0, 0, 0, 0, 0, 0, 0, 0, 0, 0, 0, 0, 0, 0, 0, 0, 0, 0, 0, 0, 0, 0, 0, 0, 0, 0, 0, 0, 0, 0, 0, 0, 0, 0, 0, 0, 0, 0, 0, 0, 0, 0, 0, 0, 0, 0, 0, 0, 0, 0, 0, 0, 0, 0, 0, 0, 0, 0, 0, 0, 0, 0, 0, 0, 0, 0, 0, 0, 0, 0, 0, 0, 0, 0, 0, 0, 0, 0, 0, 0, 0, 0, 0, 0, 0, 0, 0, 0, 0, 0, 0, 0, 0, 0, 0, 0, 0, 0, 0, 0, 0, 0, 0, 0, 0, 0, 0, 0, 0, 0, 0, 0, 0, 0, 0, 0, 0, 0, 0, 0, 0, 0, 0, 0, 0, 0, 0, 0, 0, 0, 0, 0, 0, 0, 0, 0, 0, 0, 0, 0, 0, 0, 0, 0, 0, 0, 0, 0, 0, 0, 0, 0, 0, 0, 0, 0, 0, 0, 0, 0, 0, 0, 0, 0, 0, 0, 0, 0, 0, 0, 0, 0, 0, 0, 0, 0, 0, 0, 0, 0, 0, 0, 0, 0, 0, 0, 0, 0, 0, 0, 0, 0, 0, 0, 0, 0, 0, 0, 0, 0, 0, 0, 0, 0, 0, 0, 0, 0, 0, 0, 0, 0, 0, 0, 0, 0, 0, 0, 0, 0, 0, 0, 0, 0, 0, 0, 0, 0, 0, 0, 0, 0, 0, 0, 0, 0, 0, 0, 0, 0, 0, 0, 0, 0, 0, 0, 0, 0, 0, 0, 0, 0, 0, 0, 0, 0, 0, 0, 0, 0, 0, 0, 0, 0, 0, 0, 0, 0, 0, 0, 0, 0, 0, 0, 0, 0, 0, 0, 0, 0, 0, 0, 0, 0, 0, 0, 0, 0, 0, 0, 0, 0, 0, 0, 0, 0, 0, 0, 0, 0, 0, 0, 0, 0, 0, 0, 0, 0, 0, 0, 0, 0, 0, 0, 0, 0, 0, 0, 0, 0, 0, 0, 0, 0, 0, 0, 0, 0, 0, 0, 0, 0, 0, 0, 0, 0, 0, 0, 0, 0, 0, 0, 0, 0, 0, 0, 0, 0, 0, 0, 0, 0, 0, 0, 0, 0, 0, 0, 0, 0, 0, 0, 0, 0, 0, 0, 0, 0, 0, 0, 0, 0, 0, 0, 0, 0, 0, 0, 0, 0, 0, 0, 0, 0, 0, 0, 0, 0, 0, 0, 0, 0, 0, 0, 0, 0, 0, 0, 0, 0, 0, 0, 0, 0, 0, 0, 0, 0, 0, 0, 0, 0, 0, 0, 0, 0, 0, 0, 0, 0, 0, 0, 0, 0, 0, 0, 0, 0, 0, 0, 0, 0, 0, 0, 0, 0, 0, 0, 0, 0, 0, 0, 0, 0, 0, 0, 0, 0, 0, 0, 0, 0, 0, 0, 0, 0, 0, 0, 0, 0, 0, 0, 0, 0, 0, 0, 0, 0, 0, 0, 0, 0, 0, 0, 0, 0, 0, 0, 0, 0, 0, 0, 0, 0, 0, 0, 0, 0, 0, 0, 0, 0, 0, 0, 0, 0, 0, 0, 0, 0, 0, 0, 0, 0, 0, 0, 0, 0, 0, 0, 0, 0, 0, 0, 0, 0, 0, 0, 0, 0, 0, 0, 0, 0, 0, 0, 0, 0, 0, 0, 0, 0, 0, 0, 0, 0, 0, 0, 0, 0, 0, 0, 0, 0, 0, 0, 0, 0, 0, 0, 0, 0, 0, 0, 0, 0, 0, 0, 0, 0, 0, 0, 0, 0, 0, 0, 0, 0, 0, 0, 0, 0, 0, 0, 0, 0, 0, 0, 0, 0, 0, 0, 0, 0, 0, 0, 0, 0, 0, 0, 0, 0, 0, 0, 0, 0, 0, 0, 0, 0, 0, 0, 0, 0, 0, 0, 0, 0, 0, 0, 0, 0, 0, 0, 0, 0, 0, 0, 0, 0, 0, 0, 0, 0, 0, 0, 0, 0, 0, 0, 0, 0, 0, 0, 0, 0, 0, 0, 0, 0, 0, 0, 0, 0, 0, 0, 0, 0, 0, 0, 0, 0, 0, 0, 0, 0, 0, 0, 0, 0, 0, 0, 0, 0, 0, 0, 0, 0, 0, 0, 0, 0, 0, 0, 0, 0, 0, 0, 0, 0, 0, 0, 0, 0, 0, 0, 0, 0, 0, 0, 0, 0, 0, 0, 0, 0, 0, 0, 0, 0, 0, 0, 0, 0, 0, 0, 0, 0, 0, 0, 0, 0, 0, 0, 0, 0, 0, 0, 0, 0, 0, 0, 0, 0, 0, 0, 0, 0, 0, 0, 0, 0, 0, 0, 0, 0, 0, 0, 0, 0, 0, 0, 0, 0, 0, 0, 0, 0, 0, 0, 0, 0, 0, 0, 0, 0, 0, 0, 0, 0, 0, 0, 0, 0, 0, 0, 0, 0, 0, 0, 0, 0, 0, 0, 0, 0, 0, 0, 0, 0, 0, 0, 0, 0, 0, 0, 0, 0, 0, 0, 0, 0, 0, 0, 0, 0, 0, 0, 0, 0, 0, 0, 0, 0, 0, 0, 0, 0, 0, 0, 0, 0, 0, 0, 0, 0, 0, 0, 0, 0, 0, 0, 0, 0, 0, 0, 0, 0, 0, 0, 0, 0, 0, 0]\n"
     ]
    }
   ],
   "source": [
    "nbAP = [item.values() for item in nbAPConnected]  \n",
    "nbAP = [sublist[0] for sublist in nbAP]\n",
    "# Transform Long to Int in order to use these data in np matrix later  \n",
    "nbAP = [np.asscalar(np.int16(val)) for val in nbAP]\n",
    "print nbAP"
   ]
  },
  {
   "cell_type": "code",
   "execution_count": 30,
   "metadata": {
    "collapsed": false
   },
   "outputs": [
    {
     "name": "stdout",
     "output_type": "stream",
     "text": [
      "1916\n",
      "1916\n"
     ]
    },
    {
     "data": {
      "text/plain": [
       "425"
      ]
     },
     "execution_count": 30,
     "metadata": {},
     "output_type": "execute_result"
    }
   ],
   "source": [
    "# As only 686502 on 4159802 log lines have been inserted in Neo4j, some MAC addresses are not implied in a connexion with an AP   \n",
    "print len(usernames)\n",
    "print len(nbAP)\n",
    "nonZero = len([i for i, e in enumerate(nbAP) if e != 0])\n",
    "nonZero"
   ]
  },
  {
   "cell_type": "markdown",
   "metadata": {},
   "source": [
    "# Create a results DataFrame in order to store aggregating results"
   ]
  },
  {
   "cell_type": "code",
   "execution_count": null,
   "metadata": {
    "collapsed": true
   },
   "outputs": [],
   "source": [
    "results = pd.DataFrame({'MAC': usernames,\n",
    "     'nbAPConnected': nbAP})"
   ]
  },
  {
   "cell_type": "code",
   "execution_count": 33,
   "metadata": {
    "collapsed": false
   },
   "outputs": [
    {
     "data": {
      "text/html": [
       "<div>\n",
       "<table border=\"1\" class=\"dataframe\">\n",
       "  <thead>\n",
       "    <tr style=\"text-align: right;\">\n",
       "      <th></th>\n",
       "      <th>MAC</th>\n",
       "      <th>nbAPConnected</th>\n",
       "    </tr>\n",
       "  </thead>\n",
       "  <tbody>\n",
       "    <tr>\n",
       "      <th>0</th>\n",
       "      <td>0040961e58be</td>\n",
       "      <td>19</td>\n",
       "    </tr>\n",
       "    <tr>\n",
       "      <th>1</th>\n",
       "      <td>nothing</td>\n",
       "      <td>8</td>\n",
       "    </tr>\n",
       "    <tr>\n",
       "      <th>2</th>\n",
       "      <td>00601db0635a</td>\n",
       "      <td>2</td>\n",
       "    </tr>\n",
       "    <tr>\n",
       "      <th>3</th>\n",
       "      <td>00409699dfba</td>\n",
       "      <td>10</td>\n",
       "    </tr>\n",
       "    <tr>\n",
       "      <th>4</th>\n",
       "      <td>004096daa8fe</td>\n",
       "      <td>6</td>\n",
       "    </tr>\n",
       "  </tbody>\n",
       "</table>\n",
       "</div>"
      ],
      "text/plain": [
       "            MAC  nbAPConnected\n",
       "0  0040961e58be             19\n",
       "1       nothing              8\n",
       "2  00601db0635a              2\n",
       "3  00409699dfba             10\n",
       "4  004096daa8fe              6"
      ]
     },
     "execution_count": 33,
     "metadata": {},
     "output_type": "execute_result"
    }
   ],
   "source": [
    "results.head()"
   ]
  },
  {
   "cell_type": "code",
   "execution_count": 35,
   "metadata": {
    "collapsed": false
   },
   "outputs": [],
   "source": [
    "admin, academic, social, library, residential = [], [], [], [], []\n",
    "\n",
    "for name in usernames :\n",
    "    admin.append(( \n",
    "        graph.run('''\n",
    "        MATCH (MAC)-[r]->(AP)   \n",
    "        WHERE MAC.name=$name AND AP.buildingType = \"Admin\"\n",
    "        RETURN MAC.name\n",
    "        ''', parameters = {'name': name}).data()\n",
    "    ))\n",
    "    academic.append(( \n",
    "        graph.run('''\n",
    "        MATCH (MAC)-[r]->(AP)   \n",
    "        WHERE MAC.name=$name AND AP.buildingType = \"Academic\"\n",
    "        RETURN MAC.name\n",
    "        ''', parameters = {'name': name}).data()\n",
    "    ))\n",
    "    social.append(( \n",
    "        graph.run('''\n",
    "        MATCH (MAC)-[r]->(AP)   \n",
    "        WHERE MAC.name=$name AND AP.buildingType = \"Social\"\n",
    "        RETURN MAC.name\n",
    "        ''', parameters = {'name': name}).data()\n",
    "    ))\n",
    "    library.append(( \n",
    "        graph.run('''\n",
    "        MATCH (MAC)-[r]->(AP)   \n",
    "        WHERE MAC.name=$name AND AP.buildingType = \"Library\"\n",
    "        RETURN MAC.name\n",
    "        ''', parameters = {'name': name}).data()\n",
    "    ))\n",
    "    residential.append(( \n",
    "        graph.run('''\n",
    "        MATCH (MAC)-[r]->(AP)   \n",
    "        WHERE MAC.name=$name AND AP.buildingType = \"Residential\"\n",
    "        RETURN MAC.name\n",
    "        ''', parameters = {'name': name}).data()\n",
    "    ))"
   ]
  },
  {
   "cell_type": "code",
   "execution_count": 37,
   "metadata": {
    "collapsed": false
   },
   "outputs": [],
   "source": [
    "from numpy import array\n",
    "results[\"coToAdmin\"] =  array([bool(len(item)) for item in admin ]).astype(int)\n",
    "results[\"coToAcademic\"] = array([bool(len(item)) for item in academic ]).astype(int) \n",
    "results[\"coToSocial\"] = array([bool(len(item)) for item in social ]).astype(int) \n",
    "results[\"coToLibrary\"] = array([bool(len(item)) for item in library ]).astype(int) \n",
    "results[\"coToResidential\"] = array([bool(len(item)) for item in residential]).astype(int) "
   ]
  },
  {
   "cell_type": "code",
   "execution_count": 38,
   "metadata": {
    "collapsed": false
   },
   "outputs": [],
   "source": [
    "# Users only connected to 'Academic' or 'Admin' buildings\n",
    "\n",
    "AcaOrAdm = []\n",
    "for name in usernames :\n",
    "    AcaOrAdm.append(\n",
    "    \n",
    "    ( \n",
    "        graph.run('''\n",
    "        MATCH (MAC)-[r]->(AP)   \n",
    "        WHERE MAC.name=$name AND AP.buildingType IN [\"Library\", \"Residential\", \"Social\"]\n",
    "        RETURN MAC.name\n",
    "        ''', parameters = {'name': name}).data()\n",
    "    )\n",
    "    )\n",
    "\n",
    "isOnlyAcaOrAdm = array([not bool(len(item)) for item in AcaOrAdm ]).astype(int)\n",
    "results[\"only Academic or Admin\"] = isOnlyAcaOrAdm"
   ]
  },
  {
   "cell_type": "code",
   "execution_count": 39,
   "metadata": {
    "collapsed": false
   },
   "outputs": [
    {
     "data": {
      "text/html": [
       "<div>\n",
       "<table border=\"1\" class=\"dataframe\">\n",
       "  <thead>\n",
       "    <tr style=\"text-align: right;\">\n",
       "      <th></th>\n",
       "      <th>MAC</th>\n",
       "      <th>nbAPConnected</th>\n",
       "      <th>coToAdmin</th>\n",
       "      <th>coToAcademic</th>\n",
       "      <th>coToSocial</th>\n",
       "      <th>coToLibrary</th>\n",
       "      <th>coToResidential</th>\n",
       "      <th>only Academic or Admin</th>\n",
       "    </tr>\n",
       "  </thead>\n",
       "  <tbody>\n",
       "    <tr>\n",
       "      <th>0</th>\n",
       "      <td>0040961e58be</td>\n",
       "      <td>19</td>\n",
       "      <td>1</td>\n",
       "      <td>1</td>\n",
       "      <td>0</td>\n",
       "      <td>1</td>\n",
       "      <td>1</td>\n",
       "      <td>0</td>\n",
       "    </tr>\n",
       "    <tr>\n",
       "      <th>1</th>\n",
       "      <td>nothing</td>\n",
       "      <td>8</td>\n",
       "      <td>1</td>\n",
       "      <td>1</td>\n",
       "      <td>0</td>\n",
       "      <td>1</td>\n",
       "      <td>0</td>\n",
       "      <td>0</td>\n",
       "    </tr>\n",
       "    <tr>\n",
       "      <th>2</th>\n",
       "      <td>00601db0635a</td>\n",
       "      <td>2</td>\n",
       "      <td>1</td>\n",
       "      <td>0</td>\n",
       "      <td>0</td>\n",
       "      <td>1</td>\n",
       "      <td>0</td>\n",
       "      <td>0</td>\n",
       "    </tr>\n",
       "    <tr>\n",
       "      <th>3</th>\n",
       "      <td>00409699dfba</td>\n",
       "      <td>10</td>\n",
       "      <td>1</td>\n",
       "      <td>1</td>\n",
       "      <td>0</td>\n",
       "      <td>1</td>\n",
       "      <td>0</td>\n",
       "      <td>0</td>\n",
       "    </tr>\n",
       "    <tr>\n",
       "      <th>4</th>\n",
       "      <td>004096daa8fe</td>\n",
       "      <td>6</td>\n",
       "      <td>0</td>\n",
       "      <td>1</td>\n",
       "      <td>0</td>\n",
       "      <td>0</td>\n",
       "      <td>0</td>\n",
       "      <td>1</td>\n",
       "    </tr>\n",
       "  </tbody>\n",
       "</table>\n",
       "</div>"
      ],
      "text/plain": [
       "            MAC  nbAPConnected  coToAdmin  coToAcademic  coToSocial  \\\n",
       "0  0040961e58be             19          1             1           0   \n",
       "1       nothing              8          1             1           0   \n",
       "2  00601db0635a              2          1             0           0   \n",
       "3  00409699dfba             10          1             1           0   \n",
       "4  004096daa8fe              6          0             1           0   \n",
       "\n",
       "   coToLibrary  coToResidential  only Academic or Admin  \n",
       "0            1                1                       0  \n",
       "1            1                0                       0  \n",
       "2            1                0                       0  \n",
       "3            1                0                       0  \n",
       "4            0                0                       1  "
      ]
     },
     "execution_count": 39,
     "metadata": {},
     "output_type": "execute_result"
    }
   ],
   "source": [
    "results.head()"
   ]
  },
  {
   "cell_type": "markdown",
   "metadata": {},
   "source": [
    "# Handle Dates"
   ]
  },
  {
   "cell_type": "code",
   "execution_count": 40,
   "metadata": {
    "collapsed": false
   },
   "outputs": [
    {
     "data": {
      "text/plain": [
       "Timestamp('2017-04-11 07:56:06')"
      ]
     },
     "execution_count": 40,
     "metadata": {},
     "output_type": "execute_result"
    }
   ],
   "source": [
    "dates = df[(df[\"MAC address\"] == usernames[0]) & (df.action!= \"deauthenticating\")].datetime.tolist()\n",
    "dates[0]"
   ]
  },
  {
   "cell_type": "code",
   "execution_count": 41,
   "metadata": {
    "collapsed": false
   },
   "outputs": [
    {
     "data": {
      "text/plain": [
       "datetime.datetime(2017, 4, 11, 7, 56, 6)"
      ]
     },
     "execution_count": 41,
     "metadata": {},
     "output_type": "execute_result"
    }
   ],
   "source": [
    "dates[0].to_pydatetime()"
   ]
  },
  {
   "cell_type": "code",
   "execution_count": 46,
   "metadata": {
    "collapsed": false
   },
   "outputs": [],
   "source": [
    "from datetime import datetime\n",
    "\n",
    "allWe = []\n",
    "allDates = []\n",
    "isWe = []\n",
    "isNight = []\n",
    "for user in usernames :\n",
    "    dates = df[(df[\"MAC address\"] == user) & (df.action!= \"deauthenticating\")].datetime.tolist()\n",
    "    weekend = []\n",
    "    night = []\n",
    "    for date in dates :\n",
    "        weekno = date.to_pydatetime().weekday()\n",
    "        hour = date.to_pydatetime().hour\n",
    "        weekend.append(weekno>=5)\n",
    "        night.append(hour<8 or hour>19)\n",
    " #       night.append(hour<7 or hour>20)\n",
    "    allWe.append(weekend)\n",
    "    d= {x:weekend.count(x) for x in weekend}\n",
    "    resTrue = 0.0\n",
    "    resFalse = 1.0\n",
    "    if  d.get(True) != None :\n",
    "        resTrue = d.get(True)\n",
    "    if  d.get(False) != None :\n",
    "        resFalse = d.get(False)\n",
    "    isWe.append(resTrue / resFalse)\n",
    "    allDates.append(night)\n",
    "    \n",
    "   # print {x:night.count(x) for x in night}\n",
    "    \n",
    "    d= {x:night.count(x) for x in night}\n",
    "    resTrue = 0.0\n",
    "    resFalse = 1.0\n",
    "    if  d.get(True) != None :\n",
    "        resTrue = d.get(True)\n",
    "    if  d.get(False) != None :\n",
    "        resFalse = d.get(False)\n",
    "  #  print resTrue / resFalse\n",
    "    isNight.append(resTrue / resFalse)\n",
    "    \n"
   ]
  },
  {
   "cell_type": "code",
   "execution_count": 47,
   "metadata": {
    "collapsed": false
   },
   "outputs": [],
   "source": [
    "results[\"is Night\"]= isNight\n",
    "results[\"is Weekend\"] = isWe"
   ]
  },
  {
   "cell_type": "code",
   "execution_count": 48,
   "metadata": {
    "collapsed": false
   },
   "outputs": [
    {
     "data": {
      "text/html": [
       "<div>\n",
       "<table border=\"1\" class=\"dataframe\">\n",
       "  <thead>\n",
       "    <tr style=\"text-align: right;\">\n",
       "      <th></th>\n",
       "      <th>MAC</th>\n",
       "      <th>nbAPConnected</th>\n",
       "      <th>coToAdmin</th>\n",
       "      <th>coToAcademic</th>\n",
       "      <th>coToSocial</th>\n",
       "      <th>coToLibrary</th>\n",
       "      <th>coToResidential</th>\n",
       "      <th>only Academic or Admin</th>\n",
       "      <th>is Night</th>\n",
       "      <th>is Weekend</th>\n",
       "    </tr>\n",
       "  </thead>\n",
       "  <tbody>\n",
       "    <tr>\n",
       "      <th>0</th>\n",
       "      <td>0040961e58be</td>\n",
       "      <td>19</td>\n",
       "      <td>1</td>\n",
       "      <td>1</td>\n",
       "      <td>0</td>\n",
       "      <td>1</td>\n",
       "      <td>1</td>\n",
       "      <td>0</td>\n",
       "      <td>0.0</td>\n",
       "      <td>0.0</td>\n",
       "    </tr>\n",
       "    <tr>\n",
       "      <th>1</th>\n",
       "      <td>nothing</td>\n",
       "      <td>8</td>\n",
       "      <td>1</td>\n",
       "      <td>1</td>\n",
       "      <td>0</td>\n",
       "      <td>1</td>\n",
       "      <td>0</td>\n",
       "      <td>0</td>\n",
       "      <td>0.0</td>\n",
       "      <td>0.0</td>\n",
       "    </tr>\n",
       "    <tr>\n",
       "      <th>2</th>\n",
       "      <td>00601db0635a</td>\n",
       "      <td>2</td>\n",
       "      <td>1</td>\n",
       "      <td>0</td>\n",
       "      <td>0</td>\n",
       "      <td>1</td>\n",
       "      <td>0</td>\n",
       "      <td>0</td>\n",
       "      <td>0.0</td>\n",
       "      <td>0.0</td>\n",
       "    </tr>\n",
       "    <tr>\n",
       "      <th>3</th>\n",
       "      <td>00409699dfba</td>\n",
       "      <td>10</td>\n",
       "      <td>1</td>\n",
       "      <td>1</td>\n",
       "      <td>0</td>\n",
       "      <td>1</td>\n",
       "      <td>0</td>\n",
       "      <td>0</td>\n",
       "      <td>0.0</td>\n",
       "      <td>0.0</td>\n",
       "    </tr>\n",
       "    <tr>\n",
       "      <th>4</th>\n",
       "      <td>004096daa8fe</td>\n",
       "      <td>6</td>\n",
       "      <td>0</td>\n",
       "      <td>1</td>\n",
       "      <td>0</td>\n",
       "      <td>0</td>\n",
       "      <td>0</td>\n",
       "      <td>1</td>\n",
       "      <td>0.0</td>\n",
       "      <td>0.0</td>\n",
       "    </tr>\n",
       "  </tbody>\n",
       "</table>\n",
       "</div>"
      ],
      "text/plain": [
       "            MAC  nbAPConnected  coToAdmin  coToAcademic  coToSocial  \\\n",
       "0  0040961e58be             19          1             1           0   \n",
       "1       nothing              8          1             1           0   \n",
       "2  00601db0635a              2          1             0           0   \n",
       "3  00409699dfba             10          1             1           0   \n",
       "4  004096daa8fe              6          0             1           0   \n",
       "\n",
       "   coToLibrary  coToResidential  only Academic or Admin  is Night  is Weekend  \n",
       "0            1                1                       0       0.0         0.0  \n",
       "1            1                0                       0       0.0         0.0  \n",
       "2            1                0                       0       0.0         0.0  \n",
       "3            1                0                       0       0.0         0.0  \n",
       "4            0                0                       1       0.0         0.0  "
      ]
     },
     "execution_count": 48,
     "metadata": {},
     "output_type": "execute_result"
    }
   ],
   "source": [
    "results.head()"
   ]
  },
  {
   "cell_type": "code",
   "execution_count": 49,
   "metadata": {
    "collapsed": true
   },
   "outputs": [],
   "source": [
    "results.to_csv(\"./results.csv\")"
   ]
  },
  {
   "cell_type": "code",
   "execution_count": null,
   "metadata": {
    "collapsed": true
   },
   "outputs": [],
   "source": []
  }
 ],
 "metadata": {
  "kernelspec": {
   "display_name": "Python 2",
   "language": "python",
   "name": "python2"
  },
  "language_info": {
   "codemirror_mode": {
    "name": "ipython",
    "version": 2
   },
   "file_extension": ".py",
   "mimetype": "text/x-python",
   "name": "python",
   "nbconvert_exporter": "python",
   "pygments_lexer": "ipython2",
   "version": "2.7.13"
  }
 },
 "nbformat": 4,
 "nbformat_minor": 2
}
