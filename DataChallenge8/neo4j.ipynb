{
 "cells": [
  {
   "cell_type": "markdown",
   "metadata": {},
   "source": [
    "# Visualisation de données en graphes : Neo4j"
   ]
  },
  {
   "cell_type": "code",
   "execution_count": 1,
   "metadata": {
    "collapsed": true
   },
   "outputs": [],
   "source": [
    "import pandas as pd\n",
    "import numpy as np\n",
    "pd.set_option(\"display.max_rows\",250)\n",
    "pd.set_option(\"display.max_columns\",250)\n",
    "\n",
    "from py2neo import Graph, authenticate, Relationship\n",
    "authenticate(\"localhost:7474\", \"neo4j\", \"admin\")"
   ]
  },
  {
   "cell_type": "code",
   "execution_count": 2,
   "metadata": {
    "collapsed": false
   },
   "outputs": [],
   "source": [
    "graph = Graph()"
   ]
  },
  {
   "cell_type": "markdown",
   "metadata": {},
   "source": [
    "## Import des dataset"
   ]
  },
  {
   "cell_type": "code",
   "execution_count": 3,
   "metadata": {
    "collapsed": false
   },
   "outputs": [
    {
     "data": {
      "text/html": [
       "<div>\n",
       "<table border=\"1\" class=\"dataframe\">\n",
       "  <thead>\n",
       "    <tr style=\"text-align: right;\">\n",
       "      <th></th>\n",
       "      <th>worker_id</th>\n",
       "      <th>gender</th>\n",
       "      <th>english_first_language</th>\n",
       "      <th>age_group</th>\n",
       "      <th>education</th>\n",
       "    </tr>\n",
       "  </thead>\n",
       "  <tbody>\n",
       "    <tr>\n",
       "      <th>0</th>\n",
       "      <td>833</td>\n",
       "      <td>female</td>\n",
       "      <td>0</td>\n",
       "      <td>45-60</td>\n",
       "      <td>bachelors</td>\n",
       "    </tr>\n",
       "    <tr>\n",
       "      <th>1</th>\n",
       "      <td>1072</td>\n",
       "      <td>male</td>\n",
       "      <td>0</td>\n",
       "      <td>30-45</td>\n",
       "      <td>bachelors</td>\n",
       "    </tr>\n",
       "    <tr>\n",
       "      <th>2</th>\n",
       "      <td>872</td>\n",
       "      <td>male</td>\n",
       "      <td>0</td>\n",
       "      <td>18-30</td>\n",
       "      <td>hs</td>\n",
       "    </tr>\n",
       "    <tr>\n",
       "      <th>3</th>\n",
       "      <td>2116</td>\n",
       "      <td>male</td>\n",
       "      <td>0</td>\n",
       "      <td>30-45</td>\n",
       "      <td>professional</td>\n",
       "    </tr>\n",
       "    <tr>\n",
       "      <th>4</th>\n",
       "      <td>453</td>\n",
       "      <td>male</td>\n",
       "      <td>0</td>\n",
       "      <td>30-45</td>\n",
       "      <td>hs</td>\n",
       "    </tr>\n",
       "  </tbody>\n",
       "</table>\n",
       "</div>"
      ],
      "text/plain": [
       "   worker_id  gender  english_first_language age_group     education\n",
       "0        833  female                       0     45-60     bachelors\n",
       "1       1072    male                       0     30-45     bachelors\n",
       "2        872    male                       0     18-30            hs\n",
       "3       2116    male                       0     30-45  professional\n",
       "4        453    male                       0     30-45            hs"
      ]
     },
     "execution_count": 3,
     "metadata": {},
     "output_type": "execute_result"
    }
   ],
   "source": [
    "workers = pd.read_csv(\"attack_worker_demographics.tsv\", delimiter=\"\\t\")\n",
    "workers.head()"
   ]
  },
  {
   "cell_type": "code",
   "execution_count": 4,
   "metadata": {
    "collapsed": false
   },
   "outputs": [
    {
     "data": {
      "text/html": [
       "<div>\n",
       "<table border=\"1\" class=\"dataframe\">\n",
       "  <thead>\n",
       "    <tr style=\"text-align: right;\">\n",
       "      <th></th>\n",
       "      <th>rev_id</th>\n",
       "      <th>comment</th>\n",
       "      <th>year</th>\n",
       "      <th>logged_in</th>\n",
       "      <th>ns</th>\n",
       "      <th>sample</th>\n",
       "      <th>split</th>\n",
       "    </tr>\n",
       "  </thead>\n",
       "  <tbody>\n",
       "    <tr>\n",
       "      <th>0</th>\n",
       "      <td>37675</td>\n",
       "      <td>`-NEWLINE_TOKENThis is not ``creative``.  Thos...</td>\n",
       "      <td>2002</td>\n",
       "      <td>False</td>\n",
       "      <td>article</td>\n",
       "      <td>random</td>\n",
       "      <td>train</td>\n",
       "    </tr>\n",
       "    <tr>\n",
       "      <th>1</th>\n",
       "      <td>44816</td>\n",
       "      <td>`NEWLINE_TOKENNEWLINE_TOKEN:: the term ``stand...</td>\n",
       "      <td>2002</td>\n",
       "      <td>False</td>\n",
       "      <td>article</td>\n",
       "      <td>random</td>\n",
       "      <td>train</td>\n",
       "    </tr>\n",
       "    <tr>\n",
       "      <th>2</th>\n",
       "      <td>49851</td>\n",
       "      <td>NEWLINE_TOKENNEWLINE_TOKENTrue or false, the s...</td>\n",
       "      <td>2002</td>\n",
       "      <td>False</td>\n",
       "      <td>article</td>\n",
       "      <td>random</td>\n",
       "      <td>train</td>\n",
       "    </tr>\n",
       "    <tr>\n",
       "      <th>3</th>\n",
       "      <td>89320</td>\n",
       "      <td>Next, maybe you could work on being less cond...</td>\n",
       "      <td>2002</td>\n",
       "      <td>True</td>\n",
       "      <td>article</td>\n",
       "      <td>random</td>\n",
       "      <td>dev</td>\n",
       "    </tr>\n",
       "    <tr>\n",
       "      <th>4</th>\n",
       "      <td>93890</td>\n",
       "      <td>This page will need disambiguation.</td>\n",
       "      <td>2002</td>\n",
       "      <td>True</td>\n",
       "      <td>article</td>\n",
       "      <td>random</td>\n",
       "      <td>train</td>\n",
       "    </tr>\n",
       "  </tbody>\n",
       "</table>\n",
       "</div>"
      ],
      "text/plain": [
       "   rev_id                                            comment  year logged_in  \\\n",
       "0   37675  `-NEWLINE_TOKENThis is not ``creative``.  Thos...  2002     False   \n",
       "1   44816  `NEWLINE_TOKENNEWLINE_TOKEN:: the term ``stand...  2002     False   \n",
       "2   49851  NEWLINE_TOKENNEWLINE_TOKENTrue or false, the s...  2002     False   \n",
       "3   89320   Next, maybe you could work on being less cond...  2002      True   \n",
       "4   93890               This page will need disambiguation.   2002      True   \n",
       "\n",
       "        ns  sample  split  \n",
       "0  article  random  train  \n",
       "1  article  random  train  \n",
       "2  article  random  train  \n",
       "3  article  random    dev  \n",
       "4  article  random  train  "
      ]
     },
     "execution_count": 4,
     "metadata": {},
     "output_type": "execute_result"
    }
   ],
   "source": [
    "revisions = pd.read_csv(\"attack_annotated_comments.tsv\", delimiter=\"\\t\")\n",
    "revisions.head()"
   ]
  },
  {
   "cell_type": "code",
   "execution_count": 5,
   "metadata": {
    "collapsed": false
   },
   "outputs": [
    {
     "data": {
      "text/html": [
       "<div>\n",
       "<table border=\"1\" class=\"dataframe\">\n",
       "  <thead>\n",
       "    <tr style=\"text-align: right;\">\n",
       "      <th></th>\n",
       "      <th>rev_id</th>\n",
       "      <th>worker_id</th>\n",
       "      <th>quoting_attack</th>\n",
       "      <th>recipient_attack</th>\n",
       "      <th>third_party_attack</th>\n",
       "      <th>other_attack</th>\n",
       "      <th>attack</th>\n",
       "    </tr>\n",
       "  </thead>\n",
       "  <tbody>\n",
       "    <tr>\n",
       "      <th>0</th>\n",
       "      <td>37675</td>\n",
       "      <td>1362</td>\n",
       "      <td>0.0</td>\n",
       "      <td>0.0</td>\n",
       "      <td>0.0</td>\n",
       "      <td>0.0</td>\n",
       "      <td>0.0</td>\n",
       "    </tr>\n",
       "    <tr>\n",
       "      <th>1</th>\n",
       "      <td>37675</td>\n",
       "      <td>2408</td>\n",
       "      <td>0.0</td>\n",
       "      <td>0.0</td>\n",
       "      <td>0.0</td>\n",
       "      <td>0.0</td>\n",
       "      <td>0.0</td>\n",
       "    </tr>\n",
       "    <tr>\n",
       "      <th>2</th>\n",
       "      <td>37675</td>\n",
       "      <td>1493</td>\n",
       "      <td>0.0</td>\n",
       "      <td>0.0</td>\n",
       "      <td>0.0</td>\n",
       "      <td>0.0</td>\n",
       "      <td>0.0</td>\n",
       "    </tr>\n",
       "    <tr>\n",
       "      <th>3</th>\n",
       "      <td>37675</td>\n",
       "      <td>1439</td>\n",
       "      <td>0.0</td>\n",
       "      <td>0.0</td>\n",
       "      <td>0.0</td>\n",
       "      <td>0.0</td>\n",
       "      <td>0.0</td>\n",
       "    </tr>\n",
       "    <tr>\n",
       "      <th>4</th>\n",
       "      <td>37675</td>\n",
       "      <td>170</td>\n",
       "      <td>0.0</td>\n",
       "      <td>0.0</td>\n",
       "      <td>0.0</td>\n",
       "      <td>0.0</td>\n",
       "      <td>0.0</td>\n",
       "    </tr>\n",
       "  </tbody>\n",
       "</table>\n",
       "</div>"
      ],
      "text/plain": [
       "   rev_id  worker_id  quoting_attack  recipient_attack  third_party_attack  \\\n",
       "0   37675       1362             0.0               0.0                 0.0   \n",
       "1   37675       2408             0.0               0.0                 0.0   \n",
       "2   37675       1493             0.0               0.0                 0.0   \n",
       "3   37675       1439             0.0               0.0                 0.0   \n",
       "4   37675        170             0.0               0.0                 0.0   \n",
       "\n",
       "   other_attack  attack  \n",
       "0           0.0     0.0  \n",
       "1           0.0     0.0  \n",
       "2           0.0     0.0  \n",
       "3           0.0     0.0  \n",
       "4           0.0     0.0  "
      ]
     },
     "execution_count": 5,
     "metadata": {},
     "output_type": "execute_result"
    }
   ],
   "source": [
    "attacks = pd.read_csv(\"attack_annotations.tsv\", delimiter=\"\\t\")\n",
    "attacks.head()"
   ]
  },
  {
   "cell_type": "code",
   "execution_count": 6,
   "metadata": {
    "collapsed": false
   },
   "outputs": [
    {
     "name": "stdout",
     "output_type": "stream",
     "text": [
      "2190 utilsateurs, 115864 commentaires et 1365217 analyses.\n"
     ]
    }
   ],
   "source": [
    "print str(len(workers)) + \" utilsateurs, \" + str(len(revisions)) + \" commentaires et \" + str(len(attacks)) + \" analyses.\"\n"
   ]
  },
  {
   "cell_type": "markdown",
   "metadata": {},
   "source": [
    "## Format d'entrée pour Neo4j"
   ]
  },
  {
   "cell_type": "code",
   "execution_count": 7,
   "metadata": {
    "collapsed": false
   },
   "outputs": [],
   "source": [
    "# Workers\n",
    "\n",
    "typeWorker = \"Worker\"\n",
    "i = 0\n",
    "createW = \"CREATE (\"+typeWorker+str(workers[\"worker_id\"][i])+\":\"+typeWorker\n",
    "worker_id =\" {worker_id: \"+str(workers[\"worker_id\"][i])\n",
    "gender = \", gender: '\"+str(workers[\"gender\"][i])\n",
    "english_first_language = \"', english_first_language: \"+str(workers[\"english_first_language\"][i])\n",
    "age_group = \", age_group: '\"+str(workers[\"age_group\"][i])\n",
    "education = \"', education: '\"+str(workers[\"education\"][i])\n",
    "attributes = worker_id + gender + english_first_language + age_group + education \n",
    "createW += attributes + \"'})\\n\"\n",
    "\n",
    "\n",
    "# Revisions\n",
    "\n",
    "typeRev = \"Revision\"\n",
    "createR = \"\"\n",
    "i=0\n",
    "createR = \"CREATE (\"+typeRev+str(revisions[\"rev_id\"][i])+\":\"+typeRev\n",
    "rev_id =\" {rev_id: \"+str(revisions[\"rev_id\"][i])\n",
    "# comment = \", comment:\"+str(revisions[\"comment\"][i])\n",
    "year = \", year:\"+str(revisions[\"year\"][i])\n",
    "logged_in = \", logged_in:\"+str(revisions[\"logged_in\"][i])\n",
    "ns = \", ns: '\"+str(revisions[\"ns\"][i])\n",
    "sample = \"', sample: '\"+str(revisions[\"sample\"][i])\n",
    "split = \"', split: '\"+str(revisions[\"split\"][i])\n",
    "attributes = rev_id + year + logged_in + ns + sample + split\n",
    "createR += attributes + \"'})\\n\"\n",
    "\n",
    "\n",
    "# Attacks\n",
    "\n",
    "\n",
    "\n",
    "\n",
    "typeWorker = \"Worker\"\n",
    "typeRev = \"Revision\"\n",
    "createT = \"\"\n",
    "i=0\n",
    "isQuotingAttack = str(int(attacks[\"quoting_attack\"][i]))\n",
    "isRecipientAttack = str(int(attacks[\"recipient_attack\"][i]))\n",
    "isThirdPartyAttack = str(int(attacks[\"third_party_attack\"][i]))\n",
    "isOtherAttack = str(int(attacks[\"other_attack\"][i]))\n",
    "\n",
    "\n",
    "\n",
    "createA = \"\\n\"+ \"MATCH (w:\"+typeWorker+\"),(rev:\"+typeRev+\")\"\n",
    "createA += \"\\n\"+\"WHERE w.worker_id = \"+str(attacks[\"worker_id\"][i]) +\" AND rev.rev_id = \"+str(attacks[\"rev_id\"][i])\n",
    "createA += \"\\n\"+\"CREATE (w)-[:ATTACKS_IN {\"\n",
    "quoting_attack = \"quoting_attack: \" + isQuotingAttack\n",
    "recipient_attack = \", recipient_attack: \"+ isRecipientAttack\n",
    "third_party_attack = \", third_party_attack: \" + isThirdPartyAttack\n",
    "other_attack = \", other_attack: \" + isOtherAttack\n",
    "rev = \"}]->(rev)\"\n",
    "attributes = quoting_attack + recipient_attack + third_party_attack + other_attack\n",
    "createA += attributes \n",
    "createA += rev + \"\\n\"\n",
    "\n",
    "    "
   ]
  },
  {
   "cell_type": "code",
   "execution_count": 8,
   "metadata": {
    "collapsed": false
   },
   "outputs": [
    {
     "name": "stdout",
     "output_type": "stream",
     "text": [
      "CREATE (Worker833:Worker {worker_id: 833, gender: 'female', english_first_language: 0, age_group: '45-60', education: 'bachelors'})\n",
      "\n",
      "CREATE (Revision37675:Revision {rev_id: 37675, year:2002, logged_in:False, ns: 'article', sample: 'random', split: 'train'})\n",
      "\n",
      "\n",
      "MATCH (w:Worker),(rev:Revision)\n",
      "WHERE w.worker_id = 1362 AND rev.rev_id = 37675\n",
      "CREATE (w)-[:ATTACKS_IN {quoting_attack: 0, recipient_attack: 0, third_party_attack: 0, other_attack: 0}]->(rev)\n",
      "\n"
     ]
    }
   ],
   "source": [
    "print createW\n",
    "print createR\n",
    "print createA"
   ]
  },
  {
   "cell_type": "markdown",
   "metadata": {},
   "source": [
    "## Injection dans la base Neo4j"
   ]
  },
  {
   "cell_type": "code",
   "execution_count": 9,
   "metadata": {
    "collapsed": false
   },
   "outputs": [],
   "source": [
    "typeWorker = \"Worker\"\n",
    "\n",
    "for i in range(len(workers)):\n",
    "#for i in range(100):    \n",
    "    createW = \"CREATE (\"+typeWorker+str(workers[\"worker_id\"][i])+\":\"+typeWorker\n",
    "    worker_id =\" {worker_id: \"+str(workers[\"worker_id\"][i])\n",
    "    gender = \", gender: '\"+str(workers[\"gender\"][i])\n",
    "    english_first_language = \"', english_first_language: \"+str(workers[\"english_first_language\"][i])\n",
    "    age_group = \", age_group: '\"+str(workers[\"age_group\"][i])\n",
    "    education = \"', education: '\"+str(workers[\"education\"][i])\n",
    "    attributes = worker_id + gender + english_first_language + age_group + education \n",
    "    createW += attributes + \"'})\\n\"\n",
    "    graph.run(createW)\n",
    "\n",
    "typeRev = \"Revision\"\n",
    "createR = \"\"\n",
    "# for i in range(len(revisions)):\n",
    "for i in range(2000) :\n",
    "    createR = \"CREATE (\"+typeRev+str(revisions[\"rev_id\"][i])+\":\"+typeRev\n",
    "    rev_id =\" {rev_id: \"+str(revisions[\"rev_id\"][i])\n",
    "    # comment = \", comment:\"+str(revisions[\"comment\"][i])\n",
    "    year = \", year:\"+str(revisions[\"year\"][i])\n",
    "    logged_in = \", logged_in:\"+str(revisions[\"logged_in\"][i])\n",
    "    ns = \", ns: '\"+str(revisions[\"ns\"][i])\n",
    "    sample = \"', sample: '\"+str(revisions[\"sample\"][i])\n",
    "    split = \"', split: '\"+str(revisions[\"split\"][i])\n",
    "    attributes = rev_id + year + logged_in + ns + sample + split\n",
    "    createR += attributes + \"'})\\n\"\n",
    "    graph.run(createR)\n",
    "    \n",
    "typeWorker = \"Worker\"\n",
    "typeRev = \"Revision\"\n",
    "createT = \"\"\n",
    "#for i in range(10) :\n",
    "#for i in range(len(attacks)) : \n",
    "for i in range(10000) : \n",
    "        isQuotingAttack = str(int(attacks[\"quoting_attack\"][i]))\n",
    "        isRecipientAttack = str(int(attacks[\"recipient_attack\"][i]))\n",
    "        isThirdPartyAttack = str(int(attacks[\"third_party_attack\"][i]))\n",
    "        isOtherAttack = str(int(attacks[\"other_attack\"][i]))\n",
    "\n",
    "        createA = \"\\n\"+ \"MATCH (w:\"+typeWorker+\"),(rev:\"+typeRev+\")\"\n",
    "        createA += \"\\n\"+\"WHERE w.worker_id = \"+str(attacks[\"worker_id\"][i]) +\" AND rev.rev_id = \"+str(attacks[\"rev_id\"][i])\n",
    "        createA += \"\\n\"+\"CREATE (w)-[:ATTACKS_IN {\"\n",
    "        quoting_attack = \"quoting_attack: \" + isQuotingAttack\n",
    "        recipient_attack = \", recipient_attack: \"+ isRecipientAttack\n",
    "        third_party_attack = \", third_party_attack: \" + isThirdPartyAttack\n",
    "        other_attack = \", other_attack: \" + isOtherAttack\n",
    "        rev = \"}]->(rev)\"\n",
    "        attributes = quoting_attack + recipient_attack + third_party_attack + other_attack\n",
    "        createA += attributes \n",
    "        createA += rev + \"\\n\"\n",
    "        graph.run(createA)"
   ]
  },
  {
   "cell_type": "markdown",
   "metadata": {
    "collapsed": false
   },
   "source": [
    "## Requéter la base Neo4j\n"
   ]
  },
  {
   "cell_type": "code",
   "execution_count": 11,
   "metadata": {
    "collapsed": false
   },
   "outputs": [
    {
     "data": {
      "text/plain": [
       "[{u'NB_WORKER': 2190}]"
      ]
     },
     "execution_count": 11,
     "metadata": {},
     "output_type": "execute_result"
    }
   ],
   "source": [
    "# Nombre d'utilisateurs\n",
    "graph.run('''\n",
    "MATCH (w:Worker)\n",
    "RETURN COUNT(w) as NB_WORKER\n",
    "''').data()"
   ]
  },
  {
   "cell_type": "code",
   "execution_count": 12,
   "metadata": {
    "collapsed": false
   },
   "outputs": [
    {
     "data": {
      "text/plain": [
       "[{u'w': (b336160:Worker {age_group:\"18-30\",education:\"hs\",english_first_language:0,gender:\"male\",worker_id:0})},\n",
       " {u'w': (de35e4a:Worker {age_group:\"30-45\",education:\"hs\",english_first_language:0,gender:\"male\",worker_id:4})},\n",
       " {u'w': (ec4f4e1:Worker {age_group:\"18-30\",education:\"bachelors\",english_first_language:0,gender:\"male\",worker_id:5})}]"
      ]
     },
     "execution_count": 12,
     "metadata": {},
     "output_type": "execute_result"
    }
   ],
   "source": [
    "# Les 3 premiers workers\n",
    "graph.run('''\n",
    "MATCH (w:Worker)\n",
    "RETURN w \n",
    "ORDER BY w.worker_id\n",
    "LIMIT 3\n",
    "''').data()"
   ]
  },
  {
   "cell_type": "code",
   "execution_count": 13,
   "metadata": {
    "collapsed": false
   },
   "outputs": [
    {
     "data": {
      "text/plain": [
       "[{u'NB_REVISION': 2000}]"
      ]
     },
     "execution_count": 13,
     "metadata": {},
     "output_type": "execute_result"
    }
   ],
   "source": [
    "# Nombre de commentaires\n",
    "graph.run('''\n",
    "MATCH (rev:Revision)\n",
    "RETURN COUNT(rev) as NB_REVISION\n",
    "''').data()"
   ]
  },
  {
   "cell_type": "code",
   "execution_count": 14,
   "metadata": {
    "collapsed": false
   },
   "outputs": [
    {
     "data": {
      "text/plain": [
       "[{u'rev': (face807:Revision {logged_in:true,ns:\"article\",rev_id:249432,sample:\"random\",split:\"train\",year:2001})},\n",
       " {u'rev': (d23481f:Revision {logged_in:true,ns:\"article\",rev_id:268558,sample:\"random\",split:\"train\",year:2001})},\n",
       " {u'rev': (a11d460:Revision {logged_in:true,ns:\"article\",rev_id:252031,sample:\"random\",split:\"train\",year:2001})},\n",
       " {u'rev': (beb83e6:Revision {logged_in:true,ns:\"article\",rev_id:290598,sample:\"random\",split:\"dev\",year:2001})},\n",
       " {u'rev': (cb2fa2c:Revision {logged_in:true,ns:\"article\",rev_id:276906,sample:\"random\",split:\"train\",year:2001})}]"
      ]
     },
     "execution_count": 14,
     "metadata": {},
     "output_type": "execute_result"
    }
   ],
   "source": [
    "# Les 5 plus anciens commentaires\n",
    "graph.run('''\n",
    "MATCH (rev:Revision)\n",
    "RETURN rev \n",
    "ORDER BY rev.year\n",
    "LIMIT 5\n",
    "''').data()"
   ]
  },
  {
   "cell_type": "code",
   "execution_count": 16,
   "metadata": {
    "collapsed": false
   },
   "outputs": [
    {
     "data": {
      "text/plain": [
       "[{u'REL': 6414}]"
      ]
     },
     "execution_count": 16,
     "metadata": {},
     "output_type": "execute_result"
    }
   ],
   "source": [
    "# Nombre d'attaques chargées dans la base Neo4j\n",
    "graph.run('''\n",
    "MATCH ()-[r:ATTACKS_IN]->() \n",
    "RETURN COUNT(r) as REL\n",
    "''').data()"
   ]
  },
  {
   "cell_type": "code",
   "execution_count": 17,
   "metadata": {
    "collapsed": false
   },
   "outputs": [
    {
     "data": {
      "text/plain": [
       "[{u'r': (a172dbb)-[:ATTACKS_IN {other_attack:0,quoting_attack:1,recipient_attack:0,third_party_attack:0}]->(e6aae8f),\n",
       "  u'w.worker_id': 150},\n",
       " {u'r': (c2d296a)-[:ATTACKS_IN {other_attack:0,quoting_attack:1,recipient_attack:0,third_party_attack:0}]->(bf1e584),\n",
       "  u'w.worker_id': 282},\n",
       " {u'r': (c17313d)-[:ATTACKS_IN {other_attack:0,quoting_attack:1,recipient_attack:0,third_party_attack:0}]->(ca91ebe),\n",
       "  u'w.worker_id': 306},\n",
       " {u'r': (c17313d)-[:ATTACKS_IN {other_attack:0,quoting_attack:1,recipient_attack:0,third_party_attack:0}]->(aa05aaa),\n",
       "  u'w.worker_id': 306},\n",
       " {u'r': (e10fd2d)-[:ATTACKS_IN {other_attack:0,quoting_attack:1,recipient_attack:0,third_party_attack:0}]->(e6aae8f),\n",
       "  u'w.worker_id': 341},\n",
       " {u'r': (d7b6187)-[:ATTACKS_IN {other_attack:0,quoting_attack:1,recipient_attack:0,third_party_attack:0}]->(a8c15eb),\n",
       "  u'w.worker_id': 476},\n",
       " {u'r': (e5e3bc1)-[:ATTACKS_IN {other_attack:0,quoting_attack:1,recipient_attack:0,third_party_attack:0}]->(eae07bc),\n",
       "  u'w.worker_id': 490},\n",
       " {u'r': (be105a9)-[:ATTACKS_IN {other_attack:0,quoting_attack:1,recipient_attack:0,third_party_attack:0}]->(a0b83a9),\n",
       "  u'w.worker_id': 605},\n",
       " {u'r': (be105a9)-[:ATTACKS_IN {other_attack:0,quoting_attack:1,recipient_attack:0,third_party_attack:0}]->(e8f66b8),\n",
       "  u'w.worker_id': 605},\n",
       " {u'r': (be105a9)-[:ATTACKS_IN {other_attack:0,quoting_attack:1,recipient_attack:0,third_party_attack:0}]->(d5fe093),\n",
       "  u'w.worker_id': 605}]"
      ]
     },
     "execution_count": 17,
     "metadata": {},
     "output_type": "execute_result"
    }
   ],
   "source": [
    "# La liste des quoting_attacks\n",
    "graph.run('''\n",
    "MATCH (w)-[r:ATTACKS_IN]->() \n",
    "WHERE r.quoting_attack=1\n",
    "RETURN r, w.worker_id\n",
    "ORDER BY w.worker_id\n",
    "LIMIT 10\n",
    "''').data()"
   ]
  },
  {
   "cell_type": "code",
   "execution_count": 18,
   "metadata": {
    "collapsed": false
   },
   "outputs": [
    {
     "data": {
      "text/plain": [
       "[{u'w.worker_id': 614}, {u'w.worker_id': 1622}]"
      ]
     },
     "execution_count": 18,
     "metadata": {},
     "output_type": "execute_result"
    }
   ],
   "source": [
    "# La liste des utilisateurs ayant réalisé une quoting_attack en 2002\n",
    "graph.run('''\n",
    "MATCH (w)-[r:ATTACKS_IN]->(rev) \n",
    "WHERE r.quoting_attack=1 AND rev.year=2002\n",
    "RETURN w.worker_id\n",
    "ORDER BY w.worker_id\n",
    "LIMIT 10\n",
    "''').data()"
   ]
  },
  {
   "cell_type": "code",
   "execution_count": 19,
   "metadata": {
    "collapsed": false
   },
   "outputs": [
    {
     "data": {
      "text/plain": [
       "[{u'YEAR_WITH_COMMENT': 2004},\n",
       " {u'YEAR_WITH_COMMENT': 2003},\n",
       " {u'YEAR_WITH_COMMENT': 2002}]"
      ]
     },
     "execution_count": 19,
     "metadata": {},
     "output_type": "execute_result"
    }
   ],
   "source": [
    "# les années pour lesquelles le Worker 5 est associé à un commentaire\n",
    "graph.run('''\n",
    "MATCH (w {worker_id:5})-->(rev) \n",
    "RETURN  DISTINCT rev.year as YEAR_WITH_COMMENT\n",
    "''').data()\n",
    "\n"
   ]
  },
  {
   "cell_type": "code",
   "execution_count": 20,
   "metadata": {
    "collapsed": false
   },
   "outputs": [
    {
     "data": {
      "text/plain": [
       "[{u'NB_REV': 17, u'w.worker_id': 609},\n",
       " {u'NB_REV': 16, u'w.worker_id': 569},\n",
       " {u'NB_REV': 16, u'w.worker_id': 820},\n",
       " {u'NB_REV': 16, u'w.worker_id': 383},\n",
       " {u'NB_REV': 15, u'w.worker_id': 115},\n",
       " {u'NB_REV': 15, u'w.worker_id': 10},\n",
       " {u'NB_REV': 15, u'w.worker_id': 1936},\n",
       " {u'NB_REV': 15, u'w.worker_id': 11},\n",
       " {u'NB_REV': 15, u'w.worker_id': 69},\n",
       " {u'NB_REV': 15, u'w.worker_id': 970}]"
      ]
     },
     "execution_count": 20,
     "metadata": {},
     "output_type": "execute_result"
    }
   ],
   "source": [
    "# Les utilisateurs associés à plusieurs attaques\n",
    "graph.run('''\n",
    "MATCH (w)-[r:ATTACKS_IN]->(rev: Revision) \n",
    "WITH COUNT(DISTINCT(rev.rev_id)) as NB_REV, w\n",
    "RETURN w.worker_id, NB_REV \n",
    "ORDER BY NB_REV DESC\n",
    "LIMIT 10\n",
    "''').data()"
   ]
  },
  {
   "cell_type": "code",
   "execution_count": 21,
   "metadata": {
    "collapsed": false
   },
   "outputs": [
    {
     "data": {
      "text/plain": [
       "[{u'EDU': u'bachelors', u'WORKER_ID': 10},\n",
       " {u'EDU': u'professional', u'WORKER_ID': 12},\n",
       " {u'EDU': u'professional', u'WORKER_ID': 12},\n",
       " {u'EDU': u'professional', u'WORKER_ID': 12},\n",
       " {u'EDU': u'professional', u'WORKER_ID': 12},\n",
       " {u'EDU': u'masters', u'WORKER_ID': 24},\n",
       " {u'EDU': u'professional', u'WORKER_ID': 26},\n",
       " {u'EDU': u'bachelors', u'WORKER_ID': 30},\n",
       " {u'EDU': u'bachelors', u'WORKER_ID': 30},\n",
       " {u'EDU': u'professional', u'WORKER_ID': 44}]"
      ]
     },
     "execution_count": 21,
     "metadata": {},
     "output_type": "execute_result"
    }
   ],
   "source": [
    "# Quelle niveau scolaire des attaquants ?\n",
    "graph.run('''\n",
    "MATCH (w)-[r:ATTACKS_IN]->(rev: Revision) \n",
    "WHERE r.other_attack = 1 OR r.quoting_attack=1 OR r.recipient_attack=1 OR r.third_party_attack=1\n",
    "RETURN w.worker_id as WORKER_ID, w.education as EDU\n",
    "ORDER BY WORKER_ID \n",
    "LIMIT 10\n",
    "''').data()"
   ]
  },
  {
   "cell_type": "code",
   "execution_count": 22,
   "metadata": {
    "collapsed": false
   },
   "outputs": [
    {
     "data": {
      "text/plain": [
       "[{u'EDU': u'bachelors', u'NB_OCCURENCES': 153},\n",
       " {u'EDU': u'hs', u'NB_OCCURENCES': 99},\n",
       " {u'EDU': u'masters', u'NB_OCCURENCES': 70},\n",
       " {u'EDU': u'professional', u'NB_OCCURENCES': 46},\n",
       " {u'EDU': u'some', u'NB_OCCURENCES': 13},\n",
       " {u'EDU': u'doctorate', u'NB_OCCURENCES': 1}]"
      ]
     },
     "execution_count": 22,
     "metadata": {},
     "output_type": "execute_result"
    }
   ],
   "source": [
    "# Et avec des stats\n",
    "graph.run('''\n",
    "MATCH (w)-[r:ATTACKS_IN]->(rev: Revision) \n",
    "WHERE r.other_attack = 1 OR r.quoting_attack=1 OR r.recipient_attack=1 OR r.third_party_attack=1\n",
    "RETURN w.education AS EDU, count(w.education) AS NB_OCCURENCES\n",
    "ORDER BY NB_OCCURENCES DESC\n",
    "LIMIT 10\n",
    "''').data()"
   ]
  },
  {
   "cell_type": "code",
   "execution_count": 35,
   "metadata": {
    "collapsed": false
   },
   "outputs": [
    {
     "data": {
      "text/plain": [
       "[{u'EDU': u'bachelors', u'NB_EDU': 153}]"
      ]
     },
     "execution_count": 35,
     "metadata": {},
     "output_type": "execute_result"
    }
   ],
   "source": [
    "graph.run('''\n",
    "MATCH (w)-[r:ATTACKS_IN]->(rev: Revision) \n",
    "WHERE r.other_attack = 1 OR r.quoting_attack=1 OR r.recipient_attack=1 OR r.third_party_attack=1\n",
    "RETURN w.education AS EDU, count(w.education) AS NB_EDU\n",
    "ORDER BY NB_EDU DESC\n",
    "LIMIT 1\n",
    "''').data()"
   ]
  },
  {
   "cell_type": "code",
   "execution_count": 34,
   "metadata": {
    "collapsed": false
   },
   "outputs": [
    {
     "data": {
      "text/plain": [
       "[{u'GENDER': u'male', u'NB_GENDER': 225}]"
      ]
     },
     "execution_count": 34,
     "metadata": {},
     "output_type": "execute_result"
    }
   ],
   "source": [
    "graph.run('''\n",
    "MATCH (w)-[r:ATTACKS_IN]->(rev: Revision) \n",
    "WHERE r.other_attack = 1 OR r.quoting_attack=1 OR r.recipient_attack=1 OR r.third_party_attack=1\n",
    "RETURN w.gender AS GENDER, count(w.gender) AS NB_GENDER\n",
    "ORDER BY NB_GENDER DESC\n",
    "LIMIT 1\n",
    "''').data()"
   ]
  },
  {
   "cell_type": "code",
   "execution_count": 36,
   "metadata": {
    "collapsed": false
   },
   "outputs": [
    {
     "data": {
      "text/plain": [
       "[{u'EFL': 0, u'NB_EFL': 309}]"
      ]
     },
     "execution_count": 36,
     "metadata": {},
     "output_type": "execute_result"
    }
   ],
   "source": [
    "graph.run('''\n",
    "MATCH (w)-[r:ATTACKS_IN]->(rev: Revision) \n",
    "WHERE r.other_attack = 1 OR r.quoting_attack=1 OR r.recipient_attack=1 OR r.third_party_attack=1\n",
    "RETURN w.english_first_language AS EFL, count(w.english_first_language) AS NB_EFL\n",
    "ORDER BY NB_EFL DESC\n",
    "LIMIT 1\n",
    "''').data()"
   ]
  },
  {
   "cell_type": "code",
   "execution_count": 37,
   "metadata": {
    "collapsed": false
   },
   "outputs": [
    {
     "data": {
      "text/plain": [
       "[{u'AGE': u'30-45', u'NB_AGE': 163}]"
      ]
     },
     "execution_count": 37,
     "metadata": {},
     "output_type": "execute_result"
    }
   ],
   "source": [
    "graph.run('''\n",
    "MATCH (w)-[r:ATTACKS_IN]->(rev: Revision) \n",
    "WHERE r.other_attack = 1 OR r.quoting_attack=1 OR r.recipient_attack=1 OR r.third_party_attack=1\n",
    "RETURN w.age_group AS AGE, count(w.age_group) AS NB_AGE\n",
    "ORDER BY NB_AGE DESC\n",
    "LIMIT 1\n",
    "''').data()"
   ]
  },
  {
   "cell_type": "code",
   "execution_count": 27,
   "metadata": {
    "collapsed": false
   },
   "outputs": [
    {
     "data": {
      "text/plain": [
       "[{u'w.worker_id': 3341},\n",
       " {u'w.worker_id': 449},\n",
       " {u'w.worker_id': 2145},\n",
       " {u'w.worker_id': 3593},\n",
       " {u'w.worker_id': 979},\n",
       " {u'w.worker_id': 616},\n",
       " {u'w.worker_id': 1622},\n",
       " {u'w.worker_id': 306},\n",
       " {u'w.worker_id': 3784},\n",
       " {u'w.worker_id': 445},\n",
       " {u'w.worker_id': 46},\n",
       " {u'w.worker_id': 671},\n",
       " {u'w.worker_id': 1738},\n",
       " {u'w.worker_id': 1921},\n",
       " {u'w.worker_id': 227},\n",
       " {u'w.worker_id': 324},\n",
       " {u'w.worker_id': 2399},\n",
       " {u'w.worker_id': 1995},\n",
       " {u'w.worker_id': 605},\n",
       " {u'w.worker_id': 3931},\n",
       " {u'w.worker_id': 2918},\n",
       " {u'w.worker_id': 476},\n",
       " {u'w.worker_id': 1338},\n",
       " {u'w.worker_id': 1830},\n",
       " {u'w.worker_id': 1497},\n",
       " {u'w.worker_id': 614},\n",
       " {u'w.worker_id': 661},\n",
       " {u'w.worker_id': 1532},\n",
       " {u'w.worker_id': 189},\n",
       " {u'w.worker_id': 672},\n",
       " {u'w.worker_id': 58},\n",
       " {u'w.worker_id': 101},\n",
       " {u'w.worker_id': 1967},\n",
       " {u'w.worker_id': 2679},\n",
       " {u'w.worker_id': 3684},\n",
       " {u'w.worker_id': 2042},\n",
       " {u'w.worker_id': 3553},\n",
       " {u'w.worker_id': 893},\n",
       " {u'w.worker_id': 1298},\n",
       " {u'w.worker_id': 2408},\n",
       " {u'w.worker_id': 1489},\n",
       " {u'w.worker_id': 2315},\n",
       " {u'w.worker_id': 356},\n",
       " {u'w.worker_id': 189},\n",
       " {u'w.worker_id': 2705},\n",
       " {u'w.worker_id': 1253},\n",
       " {u'w.worker_id': 2052},\n",
       " {u'w.worker_id': 2453},\n",
       " {u'w.worker_id': 1967},\n",
       " {u'w.worker_id': 614},\n",
       " {u'w.worker_id': 1042},\n",
       " {u'w.worker_id': 2522},\n",
       " {u'w.worker_id': 1001},\n",
       " {u'w.worker_id': 306},\n",
       " {u'w.worker_id': 2533},\n",
       " {u'w.worker_id': 164},\n",
       " {u'w.worker_id': 405},\n",
       " {u'w.worker_id': 2447},\n",
       " {u'w.worker_id': 1956},\n",
       " {u'w.worker_id': 2447},\n",
       " {u'w.worker_id': 1120},\n",
       " {u'w.worker_id': 1806},\n",
       " {u'w.worker_id': 1375},\n",
       " {u'w.worker_id': 3054},\n",
       " {u'w.worker_id': 248},\n",
       " {u'w.worker_id': 1124},\n",
       " {u'w.worker_id': 266},\n",
       " {u'w.worker_id': 614},\n",
       " {u'w.worker_id': 136},\n",
       " {u'w.worker_id': 2571},\n",
       " {u'w.worker_id': 3768},\n",
       " {u'w.worker_id': 341},\n",
       " {u'w.worker_id': 2447},\n",
       " {u'w.worker_id': 1647},\n",
       " {u'w.worker_id': 1533},\n",
       " {u'w.worker_id': 291},\n",
       " {u'w.worker_id': 3517},\n",
       " {u'w.worker_id': 2105},\n",
       " {u'w.worker_id': 104},\n",
       " {u'w.worker_id': 1048},\n",
       " {u'w.worker_id': 291},\n",
       " {u'w.worker_id': 2847},\n",
       " {u'w.worker_id': 1956},\n",
       " {u'w.worker_id': 82},\n",
       " {u'w.worker_id': 3484},\n",
       " {u'w.worker_id': 3525},\n",
       " {u'w.worker_id': 3791},\n",
       " {u'w.worker_id': 605},\n",
       " {u'w.worker_id': 1527},\n",
       " {u'w.worker_id': 3000},\n",
       " {u'w.worker_id': 2336},\n",
       " {u'w.worker_id': 3012},\n",
       " {u'w.worker_id': 1917},\n",
       " {u'w.worker_id': 2205},\n",
       " {u'w.worker_id': 919},\n",
       " {u'w.worker_id': 490},\n",
       " {u'w.worker_id': 437},\n",
       " {u'w.worker_id': 1475},\n",
       " {u'w.worker_id': 117},\n",
       " {u'w.worker_id': 123},\n",
       " {u'w.worker_id': 2546},\n",
       " {u'w.worker_id': 885},\n",
       " {u'w.worker_id': 1133},\n",
       " {u'w.worker_id': 322},\n",
       " {u'w.worker_id': 661},\n",
       " {u'w.worker_id': 206},\n",
       " {u'w.worker_id': 3787},\n",
       " {u'w.worker_id': 1266},\n",
       " {u'w.worker_id': 82},\n",
       " {u'w.worker_id': 1597},\n",
       " {u'w.worker_id': 719},\n",
       " {u'w.worker_id': 1160},\n",
       " {u'w.worker_id': 3525},\n",
       " {u'w.worker_id': 356},\n",
       " {u'w.worker_id': 885},\n",
       " {u'w.worker_id': 1931},\n",
       " {u'w.worker_id': 1080},\n",
       " {u'w.worker_id': 746},\n",
       " {u'w.worker_id': 1505},\n",
       " {u'w.worker_id': 190},\n",
       " {u'w.worker_id': 1133},\n",
       " {u'w.worker_id': 1260},\n",
       " {u'w.worker_id': 938},\n",
       " {u'w.worker_id': 647},\n",
       " {u'w.worker_id': 2330},\n",
       " {u'w.worker_id': 759},\n",
       " {u'w.worker_id': 324},\n",
       " {u'w.worker_id': 485},\n",
       " {u'w.worker_id': 795},\n",
       " {u'w.worker_id': 2950},\n",
       " {u'w.worker_id': 2876},\n",
       " {u'w.worker_id': 921},\n",
       " {u'w.worker_id': 256},\n",
       " {u'w.worker_id': 749},\n",
       " {u'w.worker_id': 1067},\n",
       " {u'w.worker_id': 1338},\n",
       " {u'w.worker_id': 1368},\n",
       " {u'w.worker_id': 241},\n",
       " {u'w.worker_id': 774},\n",
       " {u'w.worker_id': 486},\n",
       " {u'w.worker_id': 1305},\n",
       " {u'w.worker_id': 46},\n",
       " {u'w.worker_id': 434},\n",
       " {u'w.worker_id': 1637},\n",
       " {u'w.worker_id': 3310},\n",
       " {u'w.worker_id': 3028},\n",
       " {u'w.worker_id': 1821},\n",
       " {u'w.worker_id': 2706},\n",
       " {u'w.worker_id': 486},\n",
       " {u'w.worker_id': 282},\n",
       " {u'w.worker_id': 476},\n",
       " {u'w.worker_id': 402},\n",
       " {u'w.worker_id': 2820},\n",
       " {u'w.worker_id': 2453},\n",
       " {u'w.worker_id': 810},\n",
       " {u'w.worker_id': 653},\n",
       " {u'w.worker_id': 241},\n",
       " {u'w.worker_id': 189},\n",
       " {u'w.worker_id': 3630},\n",
       " {u'w.worker_id': 507},\n",
       " {u'w.worker_id': 2693},\n",
       " {u'w.worker_id': 1057},\n",
       " {u'w.worker_id': 10},\n",
       " {u'w.worker_id': 871},\n",
       " {u'w.worker_id': 507},\n",
       " {u'w.worker_id': 387},\n",
       " {u'w.worker_id': 1956},\n",
       " {u'w.worker_id': 1693},\n",
       " {u'w.worker_id': 3429},\n",
       " {u'w.worker_id': 3486},\n",
       " {u'w.worker_id': 3509},\n",
       " {u'w.worker_id': 89},\n",
       " {u'w.worker_id': 569},\n",
       " {u'w.worker_id': 769},\n",
       " {u'w.worker_id': 49},\n",
       " {u'w.worker_id': 316},\n",
       " {u'w.worker_id': 1364},\n",
       " {u'w.worker_id': 1887},\n",
       " {u'w.worker_id': 675},\n",
       " {u'w.worker_id': 2374},\n",
       " {u'w.worker_id': 1553},\n",
       " {u'w.worker_id': 538},\n",
       " {u'w.worker_id': 2640},\n",
       " {u'w.worker_id': 3027},\n",
       " {u'w.worker_id': 3345},\n",
       " {u'w.worker_id': 361},\n",
       " {u'w.worker_id': 3038},\n",
       " {u'w.worker_id': 1797},\n",
       " {u'w.worker_id': 3754},\n",
       " {u'w.worker_id': 1227},\n",
       " {u'w.worker_id': 3173},\n",
       " {u'w.worker_id': 1392},\n",
       " {u'w.worker_id': 2150},\n",
       " {u'w.worker_id': 1669},\n",
       " {u'w.worker_id': 494},\n",
       " {u'w.worker_id': 437},\n",
       " {u'w.worker_id': 1171},\n",
       " {u'w.worker_id': 1208},\n",
       " {u'w.worker_id': 3415},\n",
       " {u'w.worker_id': 997},\n",
       " {u'w.worker_id': 712},\n",
       " {u'w.worker_id': 285},\n",
       " {u'w.worker_id': 1526},\n",
       " {u'w.worker_id': 2693},\n",
       " {u'w.worker_id': 2131},\n",
       " {u'w.worker_id': 1177},\n",
       " {u'w.worker_id': 1169},\n",
       " {u'w.worker_id': 1506},\n",
       " {u'w.worker_id': 705},\n",
       " {u'w.worker_id': 214},\n",
       " {u'w.worker_id': 261},\n",
       " {u'w.worker_id': 641},\n",
       " {u'w.worker_id': 680},\n",
       " {u'w.worker_id': 1295},\n",
       " {u'w.worker_id': 1589},\n",
       " {u'w.worker_id': 67},\n",
       " {u'w.worker_id': 1101},\n",
       " {u'w.worker_id': 3875},\n",
       " {u'w.worker_id': 308},\n",
       " {u'w.worker_id': 616},\n",
       " {u'w.worker_id': 969},\n",
       " {u'w.worker_id': 1171},\n",
       " {u'w.worker_id': 2139},\n",
       " {u'w.worker_id': 3095},\n",
       " {u'w.worker_id': 614},\n",
       " {u'w.worker_id': 386},\n",
       " {u'w.worker_id': 3310},\n",
       " {u'w.worker_id': 86},\n",
       " {u'w.worker_id': 3791},\n",
       " {u'w.worker_id': 1235},\n",
       " {u'w.worker_id': 3256},\n",
       " {u'w.worker_id': 782},\n",
       " {u'w.worker_id': 1486},\n",
       " {u'w.worker_id': 1506},\n",
       " {u'w.worker_id': 1511},\n",
       " {u'w.worker_id': 2416},\n",
       " {u'w.worker_id': 454},\n",
       " {u'w.worker_id': 477},\n",
       " {u'w.worker_id': 548},\n",
       " {u'w.worker_id': 273},\n",
       " {u'w.worker_id': 2277},\n",
       " {u'w.worker_id': 1856},\n",
       " {u'w.worker_id': 1815},\n",
       " {u'w.worker_id': 295},\n",
       " {u'w.worker_id': 24},\n",
       " {u'w.worker_id': 1394},\n",
       " {u'w.worker_id': 1226},\n",
       " {u'w.worker_id': 176},\n",
       " {u'w.worker_id': 316},\n",
       " {u'w.worker_id': 240},\n",
       " {u'w.worker_id': 150},\n",
       " {u'w.worker_id': 341},\n",
       " {u'w.worker_id': 123},\n",
       " {u'w.worker_id': 490},\n",
       " {u'w.worker_id': 605},\n",
       " {u'w.worker_id': 44},\n",
       " {u'w.worker_id': 414},\n",
       " {u'w.worker_id': 746},\n",
       " {u'w.worker_id': 1516},\n",
       " {u'w.worker_id': 1475},\n",
       " {u'w.worker_id': 104},\n",
       " {u'w.worker_id': 2623},\n",
       " {u'w.worker_id': 1704},\n",
       " {u'w.worker_id': 1832},\n",
       " {u'w.worker_id': 397},\n",
       " {u'w.worker_id': 3784},\n",
       " {u'w.worker_id': 1837},\n",
       " {u'w.worker_id': 3159},\n",
       " {u'w.worker_id': 1141},\n",
       " {u'w.worker_id': 2725},\n",
       " {u'w.worker_id': 1172},\n",
       " {u'w.worker_id': 260},\n",
       " {u'w.worker_id': 1624},\n",
       " {u'w.worker_id': 957},\n",
       " {u'w.worker_id': 281},\n",
       " {u'w.worker_id': 238},\n",
       " {u'w.worker_id': 1393},\n",
       " {u'w.worker_id': 603},\n",
       " {u'w.worker_id': 2768},\n",
       " {u'w.worker_id': 1291},\n",
       " {u'w.worker_id': 393},\n",
       " {u'w.worker_id': 500},\n",
       " {u'w.worker_id': 807},\n",
       " {u'w.worker_id': 322},\n",
       " {u'w.worker_id': 3641},\n",
       " {u'w.worker_id': 3422},\n",
       " {u'w.worker_id': 1506},\n",
       " {u'w.worker_id': 1683}]"
      ]
     },
     "execution_count": 27,
     "metadata": {},
     "output_type": "execute_result"
    }
   ],
   "source": [
    "# Le profil type du méchant\n",
    "graph.run('''\n",
    "MATCH (w:Worker)-[r:ATTACKS_IN]->(rev: Revision)\n",
    "WHERE w.gender = \"male\" AND w.english_first_language = 0 AND w.age_group = \"30-45\" AND w.education = \"bachelors\" \n",
    "AND r.other_attack = 1 OR r.quoting_attack=1 OR r.recipient_attack=1 OR r.third_party_attack=1\n",
    "RETURN w.worker_id\n",
    "''').data()"
   ]
  },
  {
   "cell_type": "code",
   "execution_count": null,
   "metadata": {
    "collapsed": true
   },
   "outputs": [],
   "source": []
  }
 ],
 "metadata": {
  "kernelspec": {
   "display_name": "Python 2",
   "language": "python",
   "name": "python2"
  },
  "language_info": {
   "codemirror_mode": {
    "name": "ipython",
    "version": 2
   },
   "file_extension": ".py",
   "mimetype": "text/x-python",
   "name": "python",
   "nbconvert_exporter": "python",
   "pygments_lexer": "ipython2",
   "version": "2.7.13"
  }
 },
 "nbformat": 4,
 "nbformat_minor": 2
}
